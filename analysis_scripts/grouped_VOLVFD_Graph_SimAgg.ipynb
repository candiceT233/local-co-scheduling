{
 "cells": [
  {
   "cell_type": "code",
   "execution_count": 172,
   "metadata": {},
   "outputs": [],
   "source": [
    "import plotly.graph_objects as go\n",
    "import pandas as pd\n",
    "\n",
    "import matplotlib.pyplot as plt\n",
    "import networkx as nx\n",
    "\n",
    "# reading input log file\n",
    "from statistics import mode\n",
    "import copy\n",
    "import math\n",
    "import sys\n",
    "import traceback\n",
    "from csv import excel\n",
    "from collections import Counter\n",
    "from scipy import stats\n",
    "\n",
    "IMAGE_PATH='../sankey_diagram/group_graph'\n",
    "GROUP_CNT = 5\n",
    "PADDING = 2\n",
    "POINT_CLOUD_DURATION = 1538\n",
    "THRESHOLD = 2\n",
    "\n",
    "OPACITY = 0.6\n",
    "\n",
    "# color names : https://www.w3schools.com/colors/colors_names.asp\n",
    "COLOR_MAP = {\"task\": \"Red\", # read\n",
    "            \"vol\": \"Gold\", # yellow\n",
    "            \"cm\": \"Gold\",\n",
    "            \"pc\": \"Magenta\",\n",
    "            \"contact_map\": \"Tomato\",\n",
    "            \"point_cloud\": \"OrangeRed\",\n",
    "            \"addr\": \"LimeGreen\", # green\n",
    "            # \"addr\": \"SkyBlue\", # blue\n",
    "            # \"logical_addr\": \"SkyBlue\", #light blue\n",
    "            # \"logical_addr_vfd\": \"PowderBlue\", # slightly different light lue\n",
    "            \"file\": \"MediumBlue\", # blue\n",
    "            \"none\": \"grey\",\n",
    "            }\n",
    "\n",
    "# color names: https://www.w3schools.com/colors/colors_names.asp\n",
    "# EDGE_COLOR_MAP = {\"create\": \"rgba(128, 128, 128, 0.7)\", # grey\n",
    "#             \"get\": \"rgba(128, 128, 128, 0.7)\", #grey\n",
    "#             \"open\": \"rgba(128, 128, 128, 0.7)\", # grey\n",
    "#             \"close\": \"rgba(128, 128, 128, 0.7)\", # grey\n",
    "#             \"none\": \"rgba(128, 128, 128, 0.7)\", # grey\n",
    "#             \"read\": \"rgba(221, 120, 221,0.7)\", # light megenta\n",
    "#             \"write\": \"rgba(147, 112, 219, 0.7)\", # light purple\n",
    "#             }\n",
    "\n",
    "EDGE_COLOR_RGBA = {\n",
    "    'none' : {'r':180, 'g':180, 'b':180}, #grey for open/close/meta\n",
    "    'read' : {'r':150, 'g':190, 'b':220},\n",
    "    'write' : {'r':150, 'g':190, 'b':220},\n",
    "    # 'read' : {'r':220, 'g':220, 'b':220},\n",
    "    # 'write' : {'r':140, 'g':210, 'b':220},\n",
    "}\n",
    "\n",
    "NODE_LABEL=False\n"
   ]
  },
  {
   "attachments": {},
   "cell_type": "markdown",
   "metadata": {},
   "source": [
    "## Add time for group when duration is collected\n",
    "\n",
    "1. Use the first appeared node node for time stamp / or least of time --> set _x position with first time\n",
    "2. Calculate duration directly in dataframe\n",
    "3. Sum duration to get edge time elaps, remove POINT_CLOUD_DURATION \n",
    "4. calculate BW from access size and time,\n",
    "5. distribute color range, with large BW deep color, and small BW light color\n",
    "\n",
    "### Current\n",
    "1. Use the first appeared node node for time stamp / or least of time --> set _x position with first time\n",
    "2. Record the last appeared node time stamp / or largest of time\n",
    "3. calculate BW from access size and time, / \n",
    "4. distribute color range, with large BW deep color, and small BW light color \\"
   ]
  },
  {
   "cell_type": "code",
   "execution_count": 173,
   "metadata": {},
   "outputs": [],
   "source": [
    "# data related methods\n",
    "def humansize(nbytes):\n",
    "    if nbytes != 0:\n",
    "        suffixes = ['B', 'KB', 'MB', 'GB', 'TB', 'PB']\n",
    "        i = 0\n",
    "        while nbytes >= 1000 and i < len(suffixes)-1:\n",
    "            nbytes /= 1000.\n",
    "            i += 1\n",
    "        f = ('%.2f' % nbytes).rstrip('0').rstrip('.')\n",
    "\n",
    "        return '%s %s' % (f, suffixes[i])\n",
    "    else:\n",
    "        return 0\n",
    "\n",
    "def humanbw(nbytes):\n",
    "    if nbytes != 0:\n",
    "        suffixes = ['B/s', 'KB/s', 'MB/s', 'GB/s', 'TB/s', 'PB/s']\n",
    "        i = 0\n",
    "        while nbytes >= 1000 and i < len(suffixes)-1:\n",
    "            nbytes /= 1000.\n",
    "            i += 1\n",
    "        f = ('%.2f' % nbytes).rstrip('0').rstrip('.')\n",
    "        return '%s %s' % (f, suffixes[i])\n",
    "    else:\n",
    "        return 0\n",
    "\n",
    "def check_empty(df,p=True):\n",
    "    nan_df = df[df.isna().any(axis=1)].copy()\n",
    "    if not nan_df.empty:\n",
    "        if p:\n",
    "            print(f\"NaN rows: {nan_df}\") # check any nan\n",
    "        return list(nan_df.index)\n",
    "    \n",
    "    null_df = df[df.isnull().any(axis=1)].copy()\n",
    "    if not null_df.empty:\n",
    "        if p:\n",
    "            print(f\"NULL rows: {null_df}\") # check any null\n",
    "        return list(null_df.index)\n",
    "    \n",
    "def print_list_diff(list1, list2):\n",
    "    if list1 == list2:\n",
    "        print(\"same lists\")\n",
    "    else:\n",
    "        print(\"different lists\\nindex:\\t[list1]\\t[list2]\")\n",
    "        for index, (first, second) in enumerate(zip(list1, list2)):\n",
    "            if first != second:\n",
    "                # print(index, first, second)\n",
    "                print(f\"{index}:\\t{first}]\\t[{second}]\")\n",
    "\n",
    "def df_to_csv(df,file_name,suffix=''):\n",
    "    # df.hash_id=df.hash_id.astype('category').cat.codes\n",
    "    # out_csv=file_name.replace('prov-vfd-','')\n",
    "    out_csv=file_name.replace('.csv',f'{suffix}.csv')\n",
    "    df.to_csv(out_csv,index=False)\n",
    "    \n",
    "def read_data(filename, dset=''):\n",
    "    if '.parquet' in filename:\n",
    "        df = pd.read_parquet(filename,engine='pyarrow')\n",
    "    if'.csv' in filename:\n",
    "        df = pd.read_csv(filename,index_col=False)\n",
    "    \n",
    "    if len(dset) > 0:\n",
    "        df = df[df['dset_name'] == dset]\n",
    "        \n",
    "    return df\n",
    "\n",
    "def get_min_max_loc(G):\n",
    "    ret_dict = {}\n",
    "    attr_dict = nx.get_node_attributes(G,'pos')\n",
    "    min_x = min(attr_dict.values())[0]\n",
    "    max_x = max(attr_dict.values())[0]\n",
    "    for k,v in attr_dict.items():\n",
    "        if v[0] == min_x:\n",
    "            ret_dict['min'] = { k:v }\n",
    "        if v[0] == max_x:\n",
    "            ret_dict['max'] = { k:v }\n",
    "    return ret_dict"
   ]
  },
  {
   "cell_type": "code",
   "execution_count": 174,
   "metadata": {},
   "outputs": [],
   "source": [
    "# networkx related methods\n",
    "\n",
    "\n",
    "\n",
    "def rm_name_tags(name, tags):\n",
    "    for t in tags:\n",
    "        name = str(name).replace(f\"{t}-\",\"\")\n",
    "        name = str(name).replace(\"vol-\",\"\")\n",
    "        name = str(name).replace(\"contact_map\",\"cm\")\n",
    "        name = str(name).replace(\"point_cloud\",\"pc\")\n",
    "    return name\n",
    "\n",
    "def draw_graph(G,color_map=COLOR_MAP, rm_tags=['']):\n",
    "    pos=nx.get_node_attributes(G,'pos')\n",
    "    names = nx.get_node_attributes(G,'name')\n",
    "\n",
    "    node_colors = [] \n",
    "    # set node colors\n",
    "    for name in names.values():\n",
    "        _n = rm_name_tags(name, rm_tags)\n",
    "        node_colors.append(color_map[_n])\n",
    "        \n",
    "    # set node labels\n",
    "    labels = {}\n",
    "    for node in names.keys():\n",
    "        _n = rm_name_tags(node, rm_tags)\n",
    "        labels[node] = _n\n",
    "\n",
    "    plt.figure(figsize=(10, 5)) #figsize=(40, 10)\n",
    "    \n",
    "    bbox = dict(alpha=0.6, fc=\"black\", ec=\"white\", boxstyle=\"square\", color='white') #fc=\"red\", , lw=3\n",
    "        \n",
    "    nx.draw_networkx_nodes(G, pos=pos, node_color=node_colors)\n",
    "    nx.draw_networkx_labels(G, pos=pos, labels= labels, bbox=bbox, horizontalalignment='left', font_color='white')\n",
    "    nx.draw_networkx_edges(G, pos=pos, edgelist=G.edges)\n",
    "    # for edge in G.edges(data='access_cnt'):\n",
    "    #     nx.draw_networkx_edges(G, pos=pos, edgelist=[edge], width=edge[2], )\n",
    "    \n",
    "    plt.axis(\"off\")\n",
    "    plt.margins(x=0.1)\n",
    "    # plt.tight_layout()\n",
    "    plt.subplots_adjust(left=0, bottom=0, right=1, top=1, wspace=0, hspace=0)\n",
    "\n",
    "    out_tag = '-'.join(rm_tags)\n",
    "    plt.savefig(f\"{IMAGE_PATH}/networkx-grouped-{out_tag}.png\") #different name\n",
    "    \n",
    "    plt.show()\n"
   ]
  },
  {
   "cell_type": "code",
   "execution_count": 175,
   "metadata": {},
   "outputs": [],
   "source": [
    "'''\n",
    "Index(['data_label_vol', 'object_idx_vol', 'dset_name', 'access_size_vol',\n",
    "       'logical_addr_vol', 'op_type_vol', 'operation_vol', 'n_elements',\n",
    "       'dimension_cnt', 'dimensions', 'file_intent', 'layout', 'time(us)_vol',\n",
    "       'io_idx_vol', 'logical_addr_map', 'data_label_vfd', 'object_idx_vfd',\n",
    "       'access_size_vfd', 'logical_addr_vfd', 'next_addr', 'op_type_vfd',\n",
    "       'file_name', 'time(us)_vfd', 'operation_vfd', 'io_idx_vfd'],\n",
    "      dtype='object')\n",
    "      '''\n",
    "\n",
    "def create_split_tags(df, gc,x_pos):\n",
    "    #  create tags for the user-defined groups\n",
    "    \n",
    "    # split vol groups\n",
    "    dsets = list(set(df['dset_name']))\n",
    "    vol_group_map = {}\n",
    "    vol_maxd = df.groupby('dset_name')['object_idx_vol'].max().to_dict()\n",
    "    \n",
    "    rank = 0\n",
    "    \n",
    "    for ds in dsets:\n",
    "        gdset_order = x_pos #+PADDING\n",
    "        maxval = int(vol_maxd[ds])\n",
    "        step = math.ceil(maxval/gc)\n",
    "        if step == 0:\n",
    "            step = 1\n",
    "            vol_group_range = []\n",
    "        else:\n",
    "            vol_group_range = list(range(0,maxval,step))\n",
    "            vol_group_range.pop(0)\n",
    "        \n",
    "        if maxval not in vol_group_range:\n",
    "            vol_group_range.append(maxval+1)\n",
    "            \n",
    "        vol_group_map[ds] = {}\n",
    "        # add metadata (first-appeared) rank and ranges\n",
    "        vol_group_map[ds][f'{ds}-[-1,0)'] = {}\n",
    "        vol_group_map[ds][f'{ds}-[-1,0)']['range'] = (-1,0)\n",
    "        vol_group_map[ds][f'{ds}-[-1,0)']['rank'] = rank #0\n",
    "        rank+=1\n",
    "        vol_group_map[ds][f'{ds}-[-1,0)']['gdset_order'] = gdset_order #0\n",
    "        gdset_order+=1\n",
    "        \n",
    "        prev = 0\n",
    "        for index, bnd in enumerate(vol_group_range):\n",
    "            if index+1 == len(vol_group_range) and index !=0:\n",
    "                group_name = f'{ds}-[{prev},{bnd-1})'\n",
    "            else:\n",
    "                group_name = f'{ds}-[{prev},{bnd})'\n",
    "            vol_group_map[ds][group_name] = {}\n",
    "            vol_group_map[ds][group_name]['range'] = (prev, bnd)\n",
    "            vol_group_map[ds][group_name]['rank'] = rank\n",
    "            rank+=1\n",
    "            vol_group_map[ds][group_name]['gdset_order'] = gdset_order\n",
    "            gdset_order+=1\n",
    "            prev = bnd\n",
    "            \n",
    "    return vol_group_map\n",
    "\n",
    "def split_consecutive(l):\n",
    "    # setl = set(l)\n",
    "    prev = l[0]\n",
    "    rls = []\n",
    "    rl = [prev]\n",
    "\n",
    "    for n in l:\n",
    "        if abs(n - prev) > THRESHOLD:            \n",
    "            rl.append(prev)\n",
    "            tmp_rl = copy.deepcopy(rl)\n",
    "            tmp_rl = list(set(tmp_rl))\n",
    "            unique_list = True\n",
    "            for l in rls: \n",
    "                if tmp_rl == l: unique_list = False\n",
    "            if unique_list:\n",
    "                rls.append(tmp_rl)\n",
    "            rl = []\n",
    "        else:\n",
    "            rl.append(prev)\n",
    "        prev = n\n",
    "    # len(l) == len(setl) and setl == set(range(min(l), max(l)+1))\n",
    "    rl.append(prev)\n",
    "    tmp_rl = copy.deepcopy(rl)\n",
    "    tmp_rl = list(set(tmp_rl))\n",
    "    unique_list = True\n",
    "    for l in rls: \n",
    "        if tmp_rl == l: unique_list = False\n",
    "    if unique_list:\n",
    "        rls.append(tmp_rl)\n",
    "\n",
    "    return rls\n",
    "\n",
    "def is_contiguous(l):\n",
    "    # setl = set(l)\n",
    "    # return len(l) == len(setl) and setl == set(range(min(l), max(l)+1))\n",
    "    contiguous = True\n",
    "    prev = l[0]\n",
    "    for n in l:\n",
    "        if abs(n - prev) > THRESHOLD:\n",
    "            contiguous = False\n",
    "    return contiguous\n",
    "\n",
    "\n",
    "def get_vol_group_addr(x):\n",
    "\n",
    "    min_addr = int(x['logical_addr_vfd'].min())\n",
    "    max_addr = int(x['logical_addr_vfd'].max())\n",
    "\n",
    "    if min_addr == 0:\n",
    "        addr_list = list(x['logical_addr_vfd'])\n",
    "        if is_contiguous(list(x['io_idx_vol'])) == False:\n",
    "            # print(x)\n",
    "            # print(f\"addr_list notcont = {addr_list}\")\n",
    "            # print(f\"addr_list = {addr_list}\")\n",
    "            _addr_list = [i for i in addr_list if i != max_addr]\n",
    "            # print(f\"addr_list-- = {addr_list}\")\n",
    "        \n",
    "            # if _addr_list:\n",
    "            second_max = max(_addr_list)\n",
    "            return {f'{x.name}' : [min_addr, second_max],\n",
    "                    f'{x.name}-1' : [max_addr]}\n",
    "        else:\n",
    "            # print(f\"addr_list contig = {addr_list}\")\n",
    "            return {f'{x.name}' : [min_addr, max_addr]}\n",
    "    else:\n",
    "        # if min_addr == 0:\n",
    "        #     print(list(x['logical_addr_vfd']))\n",
    "        return {f'{x.name}' : [min_addr, max_addr]}\n",
    "\n",
    "\n",
    "    \n",
    "def get_vfd_group_rank(x):\n",
    "    rank = int(x['io_idx_vfd'].min())\n",
    "    return rank\n",
    "\n",
    "def map_split_tags(df,gc=GROUP_CNT, x_pos=0):\n",
    "    # map user-selected groups tags to vol accesses\n",
    "    vol_rmap = create_split_tags(df,gc,x_pos) #, vfd_rmap \n",
    "    # g: group, y: y-position, o: order\n",
    "    vol_glist = []\n",
    "    vol_y_list = []\n",
    "    vol_olist = []\n",
    "\n",
    "    for idx, row in df.iterrows():\n",
    "        ds = row['dset_name']\n",
    "        curr_idx = row['object_idx_vol']\n",
    "        for k,v in vol_rmap[ds].items():\n",
    "            if curr_idx >= v['range'][0] and curr_idx < v['range'][1]:\n",
    "                vol_glist.append(k)\n",
    "                vol_y_list.append(v['rank'])\n",
    "                vol_olist.append(v['gdset_order'])\n",
    "    \n",
    "    df['group_vol'] = vol_glist\n",
    "    df['group_y_vol'] = vol_y_list\n",
    "    df['gdset_order'] = vol_olist\n",
    "\n",
    "    # \n",
    "    vol_vfd_dlist = df.groupby('group_vol').apply(get_vol_group_addr).to_list()\n",
    "    vol_vfd_dict = {}\n",
    "    more_meta_label = {}\n",
    "    for d in vol_vfd_dlist:\n",
    "        vol_vfd_dict.update(d)\n",
    "        for k,v in d.items():\n",
    "            if len(v) == 1:\n",
    "                more_meta_label[v[0]] = k\n",
    "    # convert address to string\n",
    "    for vol_label, addr in vol_vfd_dict.items():\n",
    "        vol_vfd_dict[vol_label] = f'{addr}'\n",
    "    \n",
    "    df['group_vfd'] = df['group_vol'].map(vol_vfd_dict)\n",
    "    df.replace({\"group_vfd\":vol_vfd_dict})\n",
    "    for addr, vfd_label in more_meta_label.items():\n",
    "        df.loc[df['logical_addr_vfd'] == addr, 'group_vfd'] = f'{[addr]}'\n",
    "    \n",
    "    print(vol_vfd_dict)\n",
    "\n",
    "    vfd_y_dlist = df.groupby('group_vfd').apply(get_vfd_group_rank).to_dict()\n",
    "    vfd_y_map = {key: rank for rank, key in enumerate(sorted(vfd_y_dlist, key=lambda x:x[1], reverse=False), 1)}\n",
    "    df['group_y_vfd'] = df['group_vfd'].map(vfd_y_map)\n",
    "    print(vfd_y_map)\n",
    "\n",
    "    # pd.set_option('display.max_rows', None)\n",
    "    # print(df.head(10))\n",
    "    return df\n",
    "    "
   ]
  },
  {
   "cell_type": "code",
   "execution_count": 176,
   "metadata": {},
   "outputs": [],
   "source": [
    "from re import X\n",
    "\n",
    "\n",
    "def get_asize(x,gtag):\n",
    "    _sizes = list(set(x[f'access_size_{gtag}']))\n",
    "    # return 1st should be same as the rest\n",
    "    # vol access size is 0 for meta, use 1 for dummy\n",
    "    # size = 1\n",
    "    if len(_sizes) > 0:\n",
    "        if _sizes[0] != 0:\n",
    "            return _sizes[0]\n",
    "    return 0\n",
    "\n",
    "def get_edge_attributes(x,sname,tag,time_dict,reversed=False):\n",
    "    attr_dict = {}\n",
    "    gtag = tag.split('-')[-1]\n",
    "    if gtag == 'addr': gtag = 'vfd'\n",
    "    \n",
    "    node_name = f'{tag}-{x.name}'\n",
    "    # print(f\"node_name = {node_name}\")\n",
    "    # print(f\"time_dict = {time_dict}\")\n",
    "    time_elaps = time_dict[x.name][1] - time_dict[x.name][0]\n",
    "    \n",
    "    edge = (sname,node_name)\n",
    "    if reversed: edge = (node_name,sname)\n",
    "    \n",
    "    attr_dict[edge] = {}\n",
    "    # get access_size and cnt\n",
    "    # access_size unique to io_idx\n",
    "    tmp_dict = x.groupby(f'io_idx_{gtag}').apply(get_asize, gtag=gtag).to_dict()\n",
    "    all_acc_size = []\n",
    "    for k,v in tmp_dict.items():\n",
    "        if v: all_acc_size.append(v)\n",
    "\n",
    "    # print(all_acc_size)\n",
    "    access_size = sum(all_acc_size)\n",
    "    attr_dict[edge]['access_size'] = access_size\n",
    "    if time_elaps == 0:\n",
    "        time_elaps = POINT_CLOUD_DURATION # TODO: collect duration to remove thsi\n",
    "    attr_dict[edge]['bandwidth'] = access_size/(time_elaps/1000000)\n",
    "\n",
    "    # access_cnt unique to io_idx\n",
    "    attr_dict[edge]['access_cnt'] = x.groupby(f'io_idx_{gtag}').ngroups\n",
    "\n",
    "    # get operation of group\n",
    "    try:\n",
    "        op = mode(list(x[f'operation_vfd']))\n",
    "        # if op == 'open':\n",
    "        #     print(x)\n",
    "    except:\n",
    "        op = list(x[f'operation_vfd'])[0]\n",
    "        # print(Counter(x[f'operation_vfd']))\n",
    "        \n",
    "    attr_dict[edge]['operation'] =  op #only 1\n",
    "    return attr_dict\n",
    "\n",
    "def get_node_x_pos(x,tag):\n",
    "    x_start = min(x[f'time(us)_{tag}'])  #+PADDING\n",
    "    x_end = max(x[f'time(us)_{tag}']) #+PADDING\n",
    "    # node = x.name\n",
    "    return (x_start, x_end)\n",
    "\n",
    "def rank_node_x(node_pos_dict,x_pos=0):\n",
    "    # rank x with all time values\\\n",
    "    new_dict = {}\n",
    "    all_time = []\n",
    "    for t in node_pos_dict.values():\n",
    "        all_time.append(t[0])\n",
    "        all_time.append(t[1])\n",
    "    time_rank = stats.rankdata(all_time,method='dense')\n",
    "    time_rank = [x+x_pos for x in time_rank]\n",
    "    time_rank_map = dict(zip(all_time,time_rank))\n",
    "    # print(time_rank_map)\n",
    "\n",
    "    for k,v in node_pos_dict.items():\n",
    "        x_start = time_rank_map[v[0]]\n",
    "        x_end = time_rank_map[v[1]]\n",
    "        new_dict[k] = (x_start, x_end)\n",
    "    \n",
    "    return new_dict\n",
    "\n",
    "def add_edges_one2many(G,df,c1,c2, x_pos=0, tags=['','']):\n",
    "    # in the case of task to vol or file to addr\n",
    "    _x = x_pos\n",
    "    gtag = c2.split('_')[-1] # tags[1].split('-')[-1]\n",
    "    \n",
    "    # add first node\n",
    "    sname = f'{tags[0]}-{c1}'\n",
    "    G.add_node(sname, pos=(_x,0), name=tags[0])\n",
    "\n",
    "    # get x positions for group-nodes\n",
    "    node_time_dict = df.groupby(c2).apply(get_node_x_pos, tag=gtag)\n",
    "    node_time_dict = node_time_dict.to_dict()\n",
    "    node_x_dict = rank_node_x(node_time_dict,x_pos)\n",
    "    # add many nodes and edges\n",
    "    tags_y_dict = dict(zip(df[c2],df[f'group_y_{gtag}']))\n",
    "    gdset_order_dict = dict(zip(df[c2],df['gdset_order']))\n",
    "    edges = []\n",
    "    for k,v in tags_y_dict.items():\n",
    "        # k=group_vol, v=group_y_vol\n",
    "        node_name = f'{tags[1]}-{k}'\n",
    "        _x = node_x_dict[k][1] + PADDING # use the end time\n",
    "        # print(f\"{k} = {node_x_dict[k]}\")\n",
    "        time_elaps_us = node_time_dict[k][1] - node_time_dict[k][0]\n",
    "        G.add_node(node_name, pos=(_x,v), name=tags[1], \n",
    "            time_elaps_us=time_elaps_us, \n",
    "            group=gdset_order_dict[k])\n",
    "\n",
    "    attr_dict = df.groupby(c2).apply(get_edge_attributes, \n",
    "        sname=sname, tag=tags[1],\n",
    "        time_dict=node_time_dict).to_dict()\n",
    "        \n",
    "    attr_dict = {k: v for d in attr_dict.values() for k, v in d.items()}\n",
    "    # add edges:\n",
    "    G.add_edges_from(list(attr_dict.keys()))\n",
    "    nx.set_edge_attributes(G,attr_dict)\n",
    "\n",
    "def add_edges_many2one(G,df,c1,c2, x_pos=0, tags=['','']):\n",
    "    # in the case of addr to file for vol to task\n",
    "    _x = x_pos\n",
    "    gtag = c1.split('_')[-1] #tags[0].split('-')[-1]\n",
    "    # if gtag == 'addr': gtag = 'vfd'\n",
    "\n",
    "    # get x positions for group-nodes\n",
    "    node_time_dict = df.groupby(c1).apply(get_node_x_pos, tag=gtag)\n",
    "    node_time_dict = node_time_dict.to_dict()\n",
    "    node_x_dict = rank_node_x(node_time_dict,x_pos)\n",
    "    # print(node_x_dict)\n",
    "\n",
    "    # add many nodes and edges\n",
    "    tags_y_dict = dict(zip(df[c1],df[f'group_y_{gtag}']))\n",
    "    gdset_order_dict = dict(zip(df[c1],df['gdset_order']))\n",
    "    for k,v in tags_y_dict.items():\n",
    "        # k=group_vol, v=group_y_vol\n",
    "        node_name = f'{tags[0]}-{k}'\n",
    "        _x = node_x_dict[k][1] #use the end time\n",
    "        time_elaps_us = node_time_dict[k][1] - node_time_dict[k][0]\n",
    "        G.add_node(node_name, pos=(_x,v), name=tags[0], \n",
    "            time_elaps_us=node_time_dict, \n",
    "            group=gdset_order_dict[k])\n",
    "    \n",
    "    _x = max(list(node_x_dict.values()), key = lambda t: t[1])[1] # ordered by end time\n",
    "    # add last node\n",
    "    sname = f'{tags[1]}-{c2}'\n",
    "    G.add_node(sname, pos=(_x + PADDING*4,0), name=tags[1])\n",
    "\n",
    "    attr_dict = df.groupby(c1).apply(get_edge_attributes, \n",
    "        sname=sname, tag=tags[0], \n",
    "        time_dict=node_time_dict, reversed=True).to_dict()\n",
    "\n",
    "    attr_dict = {k: v for d in attr_dict.values() for k, v in d.items()}\n",
    "    # add edges:\n",
    "    G.add_edges_from(list(attr_dict.keys()))\n",
    "    nx.set_edge_attributes(G,attr_dict)\n",
    "\n",
    "def sec_group(x,sec_c,tags,time_dict):\n",
    "    sname = f'{tags[0]}-{x.name}'\n",
    "    # tmp_dict = x.groupby(sec_c).apply(get_edge_attributes, sname =sname, tag=tags[0], reversed=True).to_dict()\n",
    "    tmp_dict = x.groupby(sec_c).apply(get_edge_attributes, \n",
    "        sname =sname, tag=tags[1],\n",
    "        time_dict=time_dict).to_dict()\n",
    "    # print(tmp_dict)\n",
    "    return tmp_dict\n",
    "\n",
    "def add_edges_many2many(G,df,c1,c2, tags=['','']):\n",
    "    # in the case of mapping between vol and vfd\n",
    "    # usually c1-group_vol, c2-group_vfd\n",
    "    # _x = x_pos\n",
    "    # _y = 0\n",
    "    gtag = c2.split('_')[-1]\n",
    "\n",
    "    node_time_dict = df.groupby(c2).apply(get_node_x_pos, tag=gtag)\n",
    "    node_time_dict = node_time_dict.to_dict()\n",
    "    # add edges\n",
    "    attr_list = df.groupby(c1).apply(sec_group, sec_c=c2, tags=tags, time_dict=node_time_dict).to_list()\n",
    "    attr_dict = {}\n",
    "    for part_dict in attr_list:\n",
    "        tmp_list = list(part_dict.values())\n",
    "        for d in tmp_list:\n",
    "            attr_dict.update(d)\n",
    "\n",
    "    G.add_edges_from(list(attr_dict.keys()))\n",
    "    nx.set_edge_attributes(G,attr_dict)\n"
   ]
  },
  {
   "cell_type": "code",
   "execution_count": 177,
   "metadata": {},
   "outputs": [
    {
     "name": "stdout",
     "output_type": "stream",
     "text": [
      "Index(['data_label_vol', 'object_idx_vol', 'dset_name', 'access_size_vol',\n",
      "       'op_type_vol', 'logical_addr', 'operation_vol', 'n_elements',\n",
      "       'dimension_cnt', 'dimensions', 'file_intent', 'layout', 'time(us)_vol',\n",
      "       'io_idx_vol', 'logical_addr_map', 'data_label_vfd', 'object_idx_vfd',\n",
      "       'access_size_vfd', 'op_type_vfd', 'logical_addr_vfd', 'file_name',\n",
      "       'time(us)_vfd', 'operation_vfd', 'io_idx_vfd'],\n",
      "      dtype='object')\n",
      "{'contact_map-[-1,0)': '[0, 1072]', 'contact_map-[-1,0)-1': '[37261376]', 'contact_map-[0,200)': '[1400, 7392752]', 'contact_map-[200,400)': '[7430280, 14841376]', 'contact_map-[400,600)': '[14878248, 22287656]', 'contact_map-[600,800)': '[22325224, 29737768]', 'contact_map-[800,1000)': '[29774984, 37224016]', 'point_cloud-[-1,0)': '[0, 1072]', 'point_cloud-[-1,0)-1': '[37261376]', 'point_cloud-[0,1)': '[37261648, 37261648]'}\n",
      "{'[0, 1072]': 1, '[1400, 7392752]': 2, '[14878248, 22287656]': 3, '[22325224, 29737768]': 4, '[29774984, 37224016]': 5, '[37261376]': 6, '[37261648, 37261648]': 7, '[7430280, 14841376]': 8}\n"
     ]
    },
    {
     "data": {
      "image/png": "[encoded data removed]",
      "text/plain": [
       "<Figure size 1000x500 with 1 Axes>"
      ]
     },
     "metadata": {},
     "output_type": "display_data"
    }
   ],
   "source": [
    "fsim='../sankey_diagram/dataframes/prov-vfd-sim-merged.csv'\n",
    "\n",
    "df_sim_merged = read_data(fsim)\n",
    "\n",
    "print(df_sim_merged.columns)\n",
    "\n",
    "df_sim_merged = map_split_tags(df_sim_merged,GROUP_CNT)\n",
    "\n",
    "G_SIM = nx.DiGraph()\n",
    "\n",
    "add_edges_one2many(G_SIM,df_sim_merged, 'sim_emulator', 'group_vol', x_pos=0, tags=['task','sim-vol'])\n",
    "x_pos = max(nx.get_node_attributes(G_SIM,'pos').values())[0] +1\n",
    "add_edges_many2one(G_SIM,df_sim_merged, 'group_vfd', 'residue.h5', x_pos=x_pos, tags=['sim-addr','file'])\n",
    "add_edges_many2many(G_SIM,df_sim_merged, 'group_vol', 'group_vfd', tags=['sim-vol','sim-addr'])\n",
    "\n",
    "# print(get_min_max_loc(G_SIM))\n",
    "# print(nx.get_node_attributes(G_SIM,'time_elaps_us'))\n",
    "# print(nx.get_node_attributes(G_SIM,'group'))\n",
    "\n",
    "draw_graph(G_SIM,COLOR_MAP,rm_tags=['sim'])\n"
   ]
  },
  {
   "cell_type": "code",
   "execution_count": 178,
   "metadata": {},
   "outputs": [
    {
     "name": "stdout",
     "output_type": "stream",
     "text": [
      "{'contact_map-[-1,0)': '[0, 800]', 'contact_map-[-1,0)-1': '[1072]', 'contact_map-[0,200)': '[1400, 7396848]', 'contact_map-[200,400)': '[7430280, 14845472]', 'contact_map-[400,600)': '[14878248, 22291752]', 'contact_map-[600,800)': '[22325224, 29741864]', 'contact_map-[800,1000)': '[29774984, 37228112]', 'point_cloud-[-1,0)': '[0, 1072]', 'point_cloud-[-1,0)-1': '[37261376]', 'point_cloud-[0,1)': '[37261648, 37261648]'}\n",
      "{'[0, 1072]': 1, '[0, 800]': 2, '[1072]': 3, '[1400, 7396848]': 4, '[14878248, 22291752]': 5, '[22325224, 29741864]': 6, '[29774984, 37228112]': 7, '[37261376]': 8, '[37261648, 37261648]': 9, '[7430280, 14845472]': 10}\n",
      "Index(['data_label_vol', 'object_idx_vol', 'dset_name', 'access_size_vol',\n",
      "       'op_type_vol', 'logical_addr_vol', 'operation_vol', 'n_elements',\n",
      "       'dimension_cnt', 'dimensions', 'file_intent', 'layout', 'time(us)_vol',\n",
      "       'io_idx_vol', 'logical_addr_map', 'data_label_vfd', 'object_idx_vfd',\n",
      "       'access_size_vfd', 'op_type_vfd', 'next_addr', 'logical_addr_vfd',\n",
      "       'file_name', 'time(us)_vfd', 'operation_vfd', 'io_idx_vfd', 'group_vol',\n",
      "       'group_y_vol', 'gdset_order', 'group_vfd', 'group_y_vfd'],\n",
      "      dtype='object')\n",
      "{'file-residue.h5': (40, 0), 'agg_r-vol-contact_map-[-1,0)': (54, 0), 'agg_r-vol-contact_map-[0,200)': (45, 1), 'agg_r-vol-contact_map-[200,400)': (47, 2), 'agg_r-vol-contact_map-[400,600)': (49, 3), 'agg_r-vol-contact_map-[600,800)': (51, 4), 'agg_r-vol-contact_map-[800,1000)': (53, 5), 'agg_r-vol-point_cloud-[-1,0)': (57, 6), 'agg_r-vol-point_cloud-[0,1)': (56, 7), 'agg_r-addr-[0, 800]': (61, 2), 'agg_r-addr-[1072]': (73, 3), 'agg_r-addr-[1400, 7396848]': (63, 4), 'agg_r-addr-[7430280, 14845472]': (65, 10), 'agg_r-addr-[14878248, 22291752]': (67, 5), 'agg_r-addr-[22325224, 29741864]': (69, 6), 'agg_r-addr-[29774984, 37228112]': (71, 7), 'agg_r-addr-[0, 1072]': (76, 1), 'agg_r-addr-[37261648, 37261648]': (75, 9), 'agg_r-addr-[37261376]': (74, 8), 'task-aggregator': (84, 0)}\n",
      "['file-residue.h5', 'agg_r-vol-contact_map-[-1,0)', 'agg_r-vol-contact_map-[0,200)', 'agg_r-vol-contact_map-[200,400)', 'agg_r-vol-contact_map-[400,600)', 'agg_r-vol-contact_map-[600,800)', 'agg_r-vol-contact_map-[800,1000)', 'agg_r-vol-point_cloud-[-1,0)', 'agg_r-vol-point_cloud-[0,1)', 'agg_r-addr-[0, 800]', 'agg_r-addr-[1072]', 'agg_r-addr-[1400, 7396848]', 'agg_r-addr-[7430280, 14845472]', 'agg_r-addr-[14878248, 22291752]', 'agg_r-addr-[22325224, 29741864]', 'agg_r-addr-[29774984, 37228112]', 'agg_r-addr-[0, 1072]', 'agg_r-addr-[37261648, 37261648]', 'agg_r-addr-[37261376]', 'task-aggregator']\n"
     ]
    },
    {
     "data": {
      "image/png": "[encoded data removed]",
      "text/plain": [
       "<Figure size 1000x500 with 1 Axes>"
      ]
     },
     "metadata": {},
     "output_type": "display_data"
    }
   ],
   "source": [
    "fagg_read='../sankey_diagram/dataframes/prov-vfd-agg-read-merged.csv'\n",
    "\n",
    "df_agg_read_merged = read_data(fagg_read)\n",
    "\n",
    "x_pos = max(nx.get_node_attributes(G_SIM,'pos').values())[0]\n",
    "df_agg_read_merged = map_split_tags(df_agg_read_merged,GROUP_CNT,x_pos)\n",
    "print(df_agg_read_merged.columns)\n",
    "\n",
    "G_AGG_R = nx.DiGraph()\n",
    "\n",
    "add_edges_one2many(G_AGG_R,df_agg_read_merged, 'residue.h5', 'group_vol', x_pos=x_pos, tags=['file','agg_r-vol'])\n",
    "# add_edges_many2many(G_AGG_R,df_agg_read_merged, 'group_vol', 'group_vfd', x_pos=x_pos, tags=['agg_r-vol','agg_r-addr'])\n",
    "x_pos = max(nx.get_node_attributes(G_AGG_R,'pos').values())[0] +1\n",
    "add_edges_many2one(G_AGG_R,df_agg_read_merged, 'group_vfd', 'aggregator', x_pos=x_pos, tags=['agg_r-addr','task'])\n",
    "\n",
    "add_edges_many2many(G_AGG_R,df_agg_read_merged, 'group_vol', 'group_vfd', tags=['agg_r-vol','agg_r-addr'])\n",
    "\n",
    "# x_pos = max(nx.get_node_attributes(G_AGG_R,'pos').values())[0] + PADDING\n",
    "# add_edges_many2many(G_AGG_R,df_agg_read_merged, 'group_vfd', 'group_vol', x_pos=x_pos, tags=['agg_r-addr','agg_r-vol'])\n",
    "\n",
    "\n",
    "\n",
    "print(nx.get_node_attributes(G_AGG_R,'pos'))\n",
    "print(G_AGG_R.nodes)\n",
    "\n",
    "draw_graph(G_AGG_R,COLOR_MAP, rm_tags=['agg_r'])"
   ]
  },
  {
   "cell_type": "code",
   "execution_count": 179,
   "metadata": {},
   "outputs": [
    {
     "name": "stdout",
     "output_type": "stream",
     "text": [
      "{'contact_map-[-1,0)': '[0, 195]', 'contact_map-[-1,0)-1': '[463]', 'contact_map-[0,200)': '[491, 26827037]', 'contact_map-[200,400)': '[7413371, 34280461]', 'contact_map-[400,600)': '[14861339, 37262337]', 'contact_map-[600,800)': '[22317597, 37265537]', 'contact_map-[800,1000)': '[29770557, 37268737]', 'point_cloud-[-1,0)': '[0, 37260149]', 'point_cloud-[-1,0)-1': '[37268753]', 'point_cloud-[0,1)': '[37268781, 39674399]'}\n",
      "{'[0, 195]': 1, '[0, 37260149]': 2, '[14861339, 37262337]': 3, '[22317597, 37265537]': 4, '[29770557, 37268737]': 5, '[37268753]': 6, '[37268781, 39674399]': 7, '[463]': 8, '[491, 26827037]': 9, '[7413371, 34280461]': 10}\n",
      "Index(['data_label_vol', 'object_idx_vol', 'dset_name', 'access_size_vol',\n",
      "       'logical_addr_vol', 'op_type_vol', 'operation_vol', 'n_elements',\n",
      "       'dimension_cnt', 'dimensions', 'file_intent', 'layout', 'time(us)_vol',\n",
      "       'io_idx_vol', 'logical_addr_map', 'data_label_vfd', 'object_idx_vfd',\n",
      "       'access_size_vfd', 'logical_addr_vfd', 'next_addr', 'op_type_vfd',\n",
      "       'file_name', 'time(us)_vfd', 'operation_vfd', 'io_idx_vfd', 'group_vol',\n",
      "       'group_y_vol', 'gdset_order', 'group_vfd', 'group_y_vfd'],\n",
      "      dtype='object')\n"
     ]
    },
    {
     "data": {
      "image/png": "[encoded data removed]",
      "text/plain": [
       "<Figure size 1000x500 with 1 Axes>"
      ]
     },
     "metadata": {},
     "output_type": "display_data"
    }
   ],
   "source": [
    "fagg_write='../sankey_diagram/dataframes/prov-vfd-agg-write-merged.csv'\n",
    "\n",
    "df_agg_write_merged = read_data(fagg_write)\n",
    "# print(list(df_agg_write_merged['logical_addr_vfd']))\n",
    "x_pos = max(nx.get_node_attributes(G_AGG_R,'pos').values())[0]\n",
    "df_agg_write_merged = map_split_tags(df_agg_write_merged,GROUP_CNT,x_pos)\n",
    "\n",
    "print(df_agg_write_merged.columns)\n",
    "\n",
    "G_AGG_W = nx.DiGraph()\n",
    "add_edges_one2many(G_AGG_W,df_agg_write_merged, 'aggregator', 'group_vol', x_pos=x_pos, tags=['task','agg_w-vol'])\n",
    "x_pos = max(nx.get_node_attributes(G_AGG_W,'pos').values())[0] +1\n",
    "add_edges_many2one(G_AGG_W,df_agg_write_merged, 'group_vfd', 'aggregate.h5', x_pos=x_pos, tags=['agg_w-addr','file'])\n",
    "add_edges_many2many(G_AGG_W,df_agg_write_merged, 'group_vol', 'group_vfd', tags=['agg_w-vol','agg_w-addr'])\n",
    "\n",
    "draw_graph(G_AGG_W,COLOR_MAP,rm_tags=['agg_w'])\n"
   ]
  },
  {
   "cell_type": "code",
   "execution_count": 180,
   "metadata": {},
   "outputs": [],
   "source": [
    "F1 = nx.compose(G_SIM,G_AGG_R)\n",
    "draw_graph(F1,COLOR_MAP,rm_tags=['sim','agg_r'])\n",
    "\n",
    "F2 = nx.compose(F1, G_AGG_W)\n",
    "draw_graph(F2,COLOR_MAP,rm_tags=['sim','agg_r','agg_w'])"
   ]
  },
  {
   "cell_type": "code",
   "execution_count": null,
   "metadata": {},
   "outputs": [],
   "source": [
    "# Sankey related codes\n",
    "def get_xy_position(G):\n",
    "    pos_dict = nx.get_node_attributes(G,'pos')\n",
    "\n",
    "    x_dict = {}\n",
    "    y_dict = {}\n",
    "    for n, pos in pos_dict.items():\n",
    "        x_dict[n] = pos[0]\n",
    "        y_dict[n] = pos[1]\n",
    "    \n",
    "    # shift x position to start from 0\n",
    "    x_base= min(x_dict.values())\n",
    "    x_dict = {k: v-x_base for k, v in x_dict.items()}\n",
    "    \n",
    "    # shift y position to start from 0\n",
    "    y_base= min(y_dict.values())\n",
    "    y_dict = {k: v-y_base for k, v in y_dict.items()}\n",
    "\n",
    "    # normalize x and y position\n",
    "    xf=1.0/(max(x_dict.values()))\n",
    "    x_pos = {k: v*xf for k, v in x_dict.items() }\n",
    "    \n",
    "    yf=1.0/max(y_dict.values())\n",
    "    y_pos = {k: v*yf for k, v in y_dict.items() }\n",
    "    \n",
    "    \n",
    "    return x_pos, y_pos\n",
    "\n",
    "def get_nodes_for_sankey(G, rm_tags=[],label_on=True):\n",
    "    node_dict_ref = {}\n",
    "    node_dict_for_sankey = {'label': [], 'color':[], 'x':[], 'y':[] }\n",
    "    x_pos, y_pos = get_xy_position(G)\n",
    "    \n",
    "    for idx, (node_name, attr) in enumerate(G.nodes(data=True)):\n",
    "        # node_type = 'file' if node_name[-4:] == 'residue_100.h5' else 'task'\n",
    "        # print(f\"{idx}, ({node_name}, {attr})\")\n",
    "        node_type = attr['name']\n",
    "        if node_name in node_dict_ref:\n",
    "            print(node_name, \"==duplicate==\")\n",
    "        node_dict_ref[node_name] = {'idx':idx, 'type':node_type}\n",
    "\n",
    "        #sankey\n",
    "        if label_on :  node_dict_for_sankey['label'].append(rm_name_tags(node_name,rm_tags))\n",
    "        node_label = rm_name_tags(node_name,rm_tags)\n",
    "        for t,c in COLOR_MAP.items():\n",
    "            if t in node_label:\n",
    "                node_color = COLOR_MAP[t]\n",
    "                #COLOR_MAP[rm_name_tags(node_type,rm_tags)]\n",
    "                node_dict_for_sankey['color'].append(node_color)\n",
    "        node_dict_for_sankey['x'].append(x_pos[node_name])\n",
    "        node_dict_for_sankey['y'].append(y_pos[node_name])\n",
    "    return node_dict_for_sankey, node_dict_ref\n",
    "\n",
    "\n",
    "def edge_color_scale(attr_bw, attr_op, bw, op):\n",
    "    range = 100\n",
    "\n",
    "    base_color_dict = {}\n",
    "    if op in EDGE_COLOR_RGBA.keys():\n",
    "        base_color_dict = EDGE_COLOR_RGBA[op]\n",
    "        r = base_color_dict['r']\n",
    "        g = base_color_dict['g']\n",
    "        b = base_color_dict['b']\n",
    "    else:\n",
    "        base_color_dict = EDGE_COLOR_RGBA['none']\n",
    "        r = base_color_dict['r']\n",
    "        g = base_color_dict['g']\n",
    "        b = base_color_dict['b']\n",
    "        color_str = f\"rgba({r}, {g}, {b}, {OPACITY})\"\n",
    "        return color_str\n",
    "\n",
    "    edges = []\n",
    "    for k,v in attr_op.items():\n",
    "        if v == op:\n",
    "            edges.append(k)\n",
    "    # bw_list = list(set(attr_bw.values()))\n",
    "    bw_list = [attr_bw[x] for x in edges]\n",
    "    bw_list.sort()\n",
    "    # print(bw_list)\n",
    "        \n",
    "    color_ranks = stats.rankdata(bw_list,method='dense')\n",
    "    color_ranks = [float(i)/max(color_ranks) for i in color_ranks] # normalize\n",
    "\n",
    "    my_rank = color_ranks[bw_list.index(bw)]\n",
    "\n",
    "    color_change = my_rank *range #(my_rank-1)\n",
    "    op_change = (my_rank/max(color_ranks)) * 0.5 + 0.4\n",
    "    color_str = f\"rgba({r-color_change/1.5}, {g-color_change/1.5}, {b-color_change/1.5}, {op_change})\"\n",
    "\n",
    "    # print(f\"{color_str} rank={my_rank} sqrt={math.sqrt(my_rank)} change={color_change}\")\n",
    "    return color_str\n",
    "\n",
    "def get_links_for_sankey(G, node_dict_ref,edge_attr=['access_cnt','access_size','operation','bandwidth'],rm_tags=[]):\n",
    "    link_dict_for_sankey = {'source':[], 'target':[], 'value':[], 'label': [], 'color': []}\n",
    "    #'hoverinfo': \"all\"\n",
    "    #'line_width':[], # shows strokeWidth of the edges\n",
    "    \n",
    "    attr_cnt = nx.get_edge_attributes(G,edge_attr[0])\n",
    "    attr_size = nx.get_edge_attributes(G,edge_attr[1])\n",
    "    attr_op = nx.get_edge_attributes(G,edge_attr[2])\n",
    "    attr_bw = nx.get_edge_attributes(G,edge_attr[3])\n",
    "    \n",
    "    min_size = min(attr_size.values())\n",
    "    \n",
    "    # print(attr_dict)\n",
    "    for u, v, attr in G.edges(data=True):\n",
    "        # print(u, v, attr)\n",
    "        u_idx = node_dict_ref[u]['idx']\n",
    "        v_idx = node_dict_ref[v]['idx']\n",
    "        link_dict_for_sankey['source'].append(u_idx)\n",
    "        link_dict_for_sankey['target'].append(v_idx)\n",
    "\n",
    "        cnt = attr_cnt[(u,v)]\n",
    "        size = attr_size[(u,v)]\n",
    "        graph_size = size\n",
    "        \n",
    "        if cnt == 0: cnt = 1\n",
    "        if size == 0: graph_size = 1\n",
    "        \n",
    "        op = attr_op[(u,v)]\n",
    "\n",
    "        # get edge color based on bandwidth\n",
    "        link_dict_for_sankey['value'].append(graph_size)\n",
    "        # _str = f\"ave_acc_size: {humansize(size/cnt)} op: {op}\"\n",
    "        bw = attr_bw[(u,v)]\n",
    "        _str = (f\"Access Volume : {humansize(size)} <br />\"\n",
    "            + f\"Access Count : {cnt} <br />\"\n",
    "            + f\"Average Access Size : {humansize(size/cnt)} <br />\"\n",
    "            + f\"Operation : {op}<br />\"\n",
    "            +f\"Bandwidth : {humanbw(bw)}\")\n",
    "        \n",
    "        link_dict_for_sankey['label'].append(_str)\n",
    "\n",
    "        link_dict_for_sankey['color'].append(edge_color_scale(attr_bw, attr_op, bw, op)) # get the last operation\n",
    "        # link_dict_for_sankey['acc_cnt'].append(cnt)\n",
    "        \n",
    "    return link_dict_for_sankey\n",
    "\n",
    "def selected_graph(node_name, G):\n",
    "    # this is not used\n",
    "    selected_G = nx.DiGraph()\n",
    "    search_nodes = [node_name]\n",
    "    while len(search_nodes) > 0:\n",
    "        next_set = []\n",
    "        for n in search_nodes:\n",
    "            for edge in G.edges(n):\n",
    "                val = G.edges[edge]['value']\n",
    "                selected_G.add_edges_from([edge], value=val)\n",
    "                #print(selected_G.nodes)\n",
    "            next_set += [x for x in G.neighbors(n)]\n",
    "        search_nodes = next_set\n",
    "    return selected_G"
   ]
  },
  {
   "cell_type": "code",
   "execution_count": null,
   "metadata": {},
   "outputs": [
    {
     "data": {
      "application/vnd.plotly.v1+json": {
       "config": {
        "plotlyServerURL": "https://plot.ly"
       },
       "data": [
        {
         "link": {
          "color": [
           "rgba(145.23809523809524, 185.23809523809524, 215.23809523809524, 0.4357142857142857)",
           "rgba(102.38095238095238, 142.38095238095238, 172.38095238095238, 0.7571428571428571)",
           "rgba(126.19047619047619, 166.1904761904762, 196.1904761904762, 0.5785714285714286)",
           "rgba(88.0952380952381, 128.0952380952381, 158.0952380952381, 0.8642857142857143)",
           "rgba(121.42857142857143, 161.42857142857144, 191.42857142857144, 0.6142857142857143)",
           "rgba(92.85714285714286, 132.85714285714286, 162.85714285714286, 0.8285714285714285)",
           "rgba(145.23809523809524, 185.23809523809524, 215.23809523809524, 0.4357142857142857)",
           "rgba(83.33333333333333, 123.33333333333333, 153.33333333333331, 0.9)",
           "rgba(140.47619047619048, 180.47619047619048, 210.47619047619048, 0.4714285714285714)",
           "rgba(135.71428571428572, 175.71428571428572, 205.71428571428572, 0.5071428571428571)",
           "rgba(140.47619047619048, 180.47619047619048, 210.47619047619048, 0.4714285714285714)",
           "rgba(135.71428571428572, 175.71428571428572, 205.71428571428572, 0.5071428571428571)",
           "rgba(130.95238095238096, 170.95238095238096, 200.95238095238096, 0.5428571428571429)",
           "rgba(116.66666666666666, 156.66666666666666, 186.66666666666666, 0.65)",
           "rgba(111.9047619047619, 151.9047619047619, 181.9047619047619, 0.6857142857142857)",
           "rgba(107.14285714285714, 147.14285714285714, 177.14285714285714, 0.7214285714285715)",
           "rgba(97.61904761904762, 137.61904761904762, 167.61904761904762, 0.7928571428571429)",
           "rgba(83.33333333333333, 123.33333333333333, 153.33333333333331, 0.9)",
           "rgba(140.47619047619048, 180.47619047619048, 210.47619047619048, 0.4714285714285714)",
           "rgba(135.71428571428572, 175.71428571428572, 205.71428571428572, 0.5071428571428571)",
           "rgba(130.95238095238096, 170.95238095238096, 200.95238095238096, 0.5428571428571429)",
           "rgba(116.66666666666666, 156.66666666666666, 186.66666666666666, 0.65)",
           "rgba(111.9047619047619, 151.9047619047619, 181.9047619047619, 0.6857142857142857)",
           "rgba(107.14285714285714, 147.14285714285714, 177.14285714285714, 0.7214285714285715)",
           "rgba(97.61904761904762, 137.61904761904762, 167.61904761904762, 0.7928571428571429)",
           "rgba(83.33333333333333, 123.33333333333333, 153.33333333333331, 0.9)"
          ],
          "label": [
           "Access Volume : 0 <br />Access Count : 4 <br />Average Access Size : 0 <br />Operation : write<br />Bandwidth : 0",
           "Access Volume : 7.42 MB <br />Access Count : 200 <br />Average Access Size : 37.11 KB <br />Operation : write<br />Bandwidth : 2.41 MB/s",
           "Access Volume : 7.44 MB <br />Access Count : 200 <br />Average Access Size : 37.21 KB <br />Operation : write<br />Bandwidth : 1.87 MB/s",
           "Access Volume : 7.44 MB <br />Access Count : 200 <br />Average Access Size : 37.2 KB <br />Operation : write<br />Bandwidth : 2.51 MB/s",
           "Access Volume : 7.44 MB <br />Access Count : 200 <br />Average Access Size : 37.21 KB <br />Operation : write<br />Bandwidth : 1.89 MB/s",
           "Access Volume : 7.48 MB <br />Access Count : 201 <br />Average Access Size : 37.21 KB <br />Operation : write<br />Bandwidth : 2.48 MB/s",
           "Access Volume : 0 <br />Access Count : 4 <br />Average Access Size : 0 <br />Operation : write<br />Bandwidth : 0",
           "Access Volume : 2.4 MB <br />Access Count : 1 <br />Average Access Size : 2.4 MB <br />Operation : write<br />Bandwidth : 1.56 GB/s",
           "Access Volume : 5.19 KB <br />Access Count : 24 <br />Average Access Size : 216.33 B <br />Operation : write<br />Bandwidth : 292.05 B/s",
           "Access Volume : 272 B <br />Access Count : 1 <br />Average Access Size : 272 B <br />Operation : write<br />Bandwidth : 176.85 KB/s",
           "Access Volume : 5.19 KB <br />Access Count : 24 <br />Average Access Size : 216.33 B <br />Operation : write<br />Bandwidth : 292.05 B/s",
           "Access Volume : 272 B <br />Access Count : 1 <br />Average Access Size : 272 B <br />Operation : write<br />Bandwidth : 176.85 KB/s",
           "Access Volume : 7.46 MB <br />Access Count : 202 <br />Average Access Size : 36.94 KB <br />Operation : write<br />Bandwidth : 440.16 KB/s",
           "Access Volume : 7.45 MB <br />Access Count : 200 <br />Average Access Size : 37.24 KB <br />Operation : write<br />Bandwidth : 2.11 MB/s",
           "Access Volume : 7.45 MB <br />Access Count : 200 <br />Average Access Size : 37.23 KB <br />Operation : write<br />Bandwidth : 2.12 MB/s",
           "Access Volume : 7.45 MB <br />Access Count : 200 <br />Average Access Size : 37.25 KB <br />Operation : write<br />Bandwidth : 2.13 MB/s",
           "Access Volume : 7.49 MB <br />Access Count : 201 <br />Average Access Size : 37.25 KB <br />Operation : write<br />Bandwidth : 2.42 MB/s",
           "Access Volume : 2.4 MB <br />Access Count : 1 <br />Average Access Size : 2.4 MB <br />Operation : write<br />Bandwidth : 1.56 GB/s",
           "Access Volume : 5.19 KB <br />Access Count : 24 <br />Average Access Size : 216.33 B <br />Operation : write<br />Bandwidth : 292.05 B/s",
           "Access Volume : 272 B <br />Access Count : 1 <br />Average Access Size : 272 B <br />Operation : write<br />Bandwidth : 176.85 KB/s",
           "Access Volume : 7.46 MB <br />Access Count : 202 <br />Average Access Size : 36.94 KB <br />Operation : write<br />Bandwidth : 440.16 KB/s",
           "Access Volume : 7.45 MB <br />Access Count : 200 <br />Average Access Size : 37.24 KB <br />Operation : write<br />Bandwidth : 2.11 MB/s",
           "Access Volume : 7.45 MB <br />Access Count : 200 <br />Average Access Size : 37.23 KB <br />Operation : write<br />Bandwidth : 2.12 MB/s",
           "Access Volume : 7.45 MB <br />Access Count : 200 <br />Average Access Size : 37.25 KB <br />Operation : write<br />Bandwidth : 2.13 MB/s",
           "Access Volume : 7.49 MB <br />Access Count : 201 <br />Average Access Size : 37.25 KB <br />Operation : write<br />Bandwidth : 2.42 MB/s",
           "Access Volume : 2.4 MB <br />Access Count : 1 <br />Average Access Size : 2.4 MB <br />Operation : write<br />Bandwidth : 1.56 GB/s"
          ],
          "source": [
           0,
           0,
           0,
           0,
           0,
           0,
           0,
           0,
           1,
           1,
           2,
           2,
           3,
           4,
           5,
           6,
           7,
           8,
           9,
           10,
           11,
           12,
           13,
           14,
           15,
           16
          ],
          "target": [
           1,
           3,
           4,
           5,
           6,
           7,
           2,
           8,
           9,
           10,
           9,
           10,
           11,
           12,
           13,
           14,
           15,
           16,
           17,
           17,
           17,
           17,
           17,
           17,
           17,
           17
          ],
          "value": [
           1,
           7422108,
           7441148,
           7440164,
           7442936,
           7479508,
           1,
           2400000,
           5192,
           272,
           5192,
           272,
           7460880,
           7447968,
           7446976,
           7449760,
           7486392,
           2400000,
           5192,
           272,
           7460880,
           7447968,
           7446976,
           7449760,
           7486392,
           2400000
          ]
         },
         "node": {
          "color": [
           "Red",
           "Gold",
           "Magenta",
           "Gold",
           "Gold",
           "Gold",
           "Gold",
           "Gold",
           "Magenta",
           "LimeGreen",
           "LimeGreen",
           "LimeGreen",
           "LimeGreen",
           "LimeGreen",
           "LimeGreen",
           "LimeGreen",
           "LimeGreen",
           "MediumBlue"
          ],
          "label": [],
          "x": [
           0,
           0.35000000000000003,
           0.42500000000000004,
           0.125,
           0.17500000000000002,
           0.225,
           0.275,
           0.325,
           0.4,
           0.8,
           0.775,
           0.7000000000000001,
           0.55,
           0.6000000000000001,
           0.65,
           0.7250000000000001,
           0.75,
           1
          ],
          "y": [
           0,
           0,
           0.75,
           0.125,
           0.25,
           0.375,
           0.5,
           0.625,
           0.875,
           0.125,
           0.75,
           0.25,
           1,
           0.375,
           0.5,
           0.625,
           0.875,
           0
          ]
         },
         "orientation": "h",
         "type": "sankey"
        }
       ],
       "layout": {
        "autosize": false,
        "height": 200,
        "margin": {
         "b": 40,
         "l": 40,
         "pad": 2,
         "r": 40,
         "t": 10
        },
        "template": {
         "data": {
          "bar": [
           {
            "error_x": {
             "color": "#2a3f5f"
            },
            "error_y": {
             "color": "#2a3f5f"
            },
            "marker": {
             "line": {
              "color": "#E5ECF6",
              "width": 0.5
             },
             "pattern": {
              "fillmode": "overlay",
              "size": 10,
              "solidity": 0.2
             }
            },
            "type": "bar"
           }
          ],
          "barpolar": [
           {
            "marker": {
             "line": {
              "color": "#E5ECF6",
              "width": 0.5
             },
             "pattern": {
              "fillmode": "overlay",
              "size": 10,
              "solidity": 0.2
             }
            },
            "type": "barpolar"
           }
          ],
          "carpet": [
           {
            "aaxis": {
             "endlinecolor": "#2a3f5f",
             "gridcolor": "white",
             "linecolor": "white",
             "minorgridcolor": "white",
             "startlinecolor": "#2a3f5f"
            },
            "baxis": {
             "endlinecolor": "#2a3f5f",
             "gridcolor": "white",
             "linecolor": "white",
             "minorgridcolor": "white",
             "startlinecolor": "#2a3f5f"
            },
            "type": "carpet"
           }
          ],
          "choropleth": [
           {
            "colorbar": {
             "outlinewidth": 0,
             "ticks": ""
            },
            "type": "choropleth"
           }
          ],
          "contour": [
           {
            "colorbar": {
             "outlinewidth": 0,
             "ticks": ""
            },
            "colorscale": [
             [
              0,
              "#0d0887"
             ],
             [
              0.1111111111111111,
              "#46039f"
             ],
             [
              0.2222222222222222,
              "#7201a8"
             ],
             [
              0.3333333333333333,
              "#9c179e"
             ],
             [
              0.4444444444444444,
              "#bd3786"
             ],
             [
              0.5555555555555556,
              "#d8576b"
             ],
             [
              0.6666666666666666,
              "#ed7953"
             ],
             [
              0.7777777777777778,
              "#fb9f3a"
             ],
             [
              0.8888888888888888,
              "#fdca26"
             ],
             [
              1,
              "#f0f921"
             ]
            ],
            "type": "contour"
           }
          ],
          "contourcarpet": [
           {
            "colorbar": {
             "outlinewidth": 0,
             "ticks": ""
            },
            "type": "contourcarpet"
           }
          ],
          "heatmap": [
           {
            "colorbar": {
             "outlinewidth": 0,
             "ticks": ""
            },
            "colorscale": [
             [
              0,
              "#0d0887"
             ],
             [
              0.1111111111111111,
              "#46039f"
             ],
             [
              0.2222222222222222,
              "#7201a8"
             ],
             [
              0.3333333333333333,
              "#9c179e"
             ],
             [
              0.4444444444444444,
              "#bd3786"
             ],
             [
              0.5555555555555556,
              "#d8576b"
             ],
             [
              0.6666666666666666,
              "#ed7953"
             ],
             [
              0.7777777777777778,
              "#fb9f3a"
             ],
             [
              0.8888888888888888,
              "#fdca26"
             ],
             [
              1,
              "#f0f921"
             ]
            ],
            "type": "heatmap"
           }
          ],
          "heatmapgl": [
           {
            "colorbar": {
             "outlinewidth": 0,
             "ticks": ""
            },
            "colorscale": [
             [
              0,
              "#0d0887"
             ],
             [
              0.1111111111111111,
              "#46039f"
             ],
             [
              0.2222222222222222,
              "#7201a8"
             ],
             [
              0.3333333333333333,
              "#9c179e"
             ],
             [
              0.4444444444444444,
              "#bd3786"
             ],
             [
              0.5555555555555556,
              "#d8576b"
             ],
             [
              0.6666666666666666,
              "#ed7953"
             ],
             [
              0.7777777777777778,
              "#fb9f3a"
             ],
             [
              0.8888888888888888,
              "#fdca26"
             ],
             [
              1,
              "#f0f921"
             ]
            ],
            "type": "heatmapgl"
           }
          ],
          "histogram": [
           {
            "marker": {
             "pattern": {
              "fillmode": "overlay",
              "size": 10,
              "solidity": 0.2
             }
            },
            "type": "histogram"
           }
          ],
          "histogram2d": [
           {
            "colorbar": {
             "outlinewidth": 0,
             "ticks": ""
            },
            "colorscale": [
             [
              0,
              "#0d0887"
             ],
             [
              0.1111111111111111,
              "#46039f"
             ],
             [
              0.2222222222222222,
              "#7201a8"
             ],
             [
              0.3333333333333333,
              "#9c179e"
             ],
             [
              0.4444444444444444,
              "#bd3786"
             ],
             [
              0.5555555555555556,
              "#d8576b"
             ],
             [
              0.6666666666666666,
              "#ed7953"
             ],
             [
              0.7777777777777778,
              "#fb9f3a"
             ],
             [
              0.8888888888888888,
              "#fdca26"
             ],
             [
              1,
              "#f0f921"
             ]
            ],
            "type": "histogram2d"
           }
          ],
          "histogram2dcontour": [
           {
            "colorbar": {
             "outlinewidth": 0,
             "ticks": ""
            },
            "colorscale": [
             [
              0,
              "#0d0887"
             ],
             [
              0.1111111111111111,
              "#46039f"
             ],
             [
              0.2222222222222222,
              "#7201a8"
             ],
             [
              0.3333333333333333,
              "#9c179e"
             ],
             [
              0.4444444444444444,
              "#bd3786"
             ],
             [
              0.5555555555555556,
              "#d8576b"
             ],
             [
              0.6666666666666666,
              "#ed7953"
             ],
             [
              0.7777777777777778,
              "#fb9f3a"
             ],
             [
              0.8888888888888888,
              "#fdca26"
             ],
             [
              1,
              "#f0f921"
             ]
            ],
            "type": "histogram2dcontour"
           }
          ],
          "mesh3d": [
           {
            "colorbar": {
             "outlinewidth": 0,
             "ticks": ""
            },
            "type": "mesh3d"
           }
          ],
          "parcoords": [
           {
            "line": {
             "colorbar": {
              "outlinewidth": 0,
              "ticks": ""
             }
            },
            "type": "parcoords"
           }
          ],
          "pie": [
           {
            "automargin": true,
            "type": "pie"
           }
          ],
          "scatter": [
           {
            "fillpattern": {
             "fillmode": "overlay",
             "size": 10,
             "solidity": 0.2
            },
            "type": "scatter"
           }
          ],
          "scatter3d": [
           {
            "line": {
             "colorbar": {
              "outlinewidth": 0,
              "ticks": ""
             }
            },
            "marker": {
             "colorbar": {
              "outlinewidth": 0,
              "ticks": ""
             }
            },
            "type": "scatter3d"
           }
          ],
          "scattercarpet": [
           {
            "marker": {
             "colorbar": {
              "outlinewidth": 0,
              "ticks": ""
             }
            },
            "type": "scattercarpet"
           }
          ],
          "scattergeo": [
           {
            "marker": {
             "colorbar": {
              "outlinewidth": 0,
              "ticks": ""
             }
            },
            "type": "scattergeo"
           }
          ],
          "scattergl": [
           {
            "marker": {
             "colorbar": {
              "outlinewidth": 0,
              "ticks": ""
             }
            },
            "type": "scattergl"
           }
          ],
          "scattermapbox": [
           {
            "marker": {
             "colorbar": {
              "outlinewidth": 0,
              "ticks": ""
             }
            },
            "type": "scattermapbox"
           }
          ],
          "scatterpolar": [
           {
            "marker": {
             "colorbar": {
              "outlinewidth": 0,
              "ticks": ""
             }
            },
            "type": "scatterpolar"
           }
          ],
          "scatterpolargl": [
           {
            "marker": {
             "colorbar": {
              "outlinewidth": 0,
              "ticks": ""
             }
            },
            "type": "scatterpolargl"
           }
          ],
          "scatterternary": [
           {
            "marker": {
             "colorbar": {
              "outlinewidth": 0,
              "ticks": ""
             }
            },
            "type": "scatterternary"
           }
          ],
          "surface": [
           {
            "colorbar": {
             "outlinewidth": 0,
             "ticks": ""
            },
            "colorscale": [
             [
              0,
              "#0d0887"
             ],
             [
              0.1111111111111111,
              "#46039f"
             ],
             [
              0.2222222222222222,
              "#7201a8"
             ],
             [
              0.3333333333333333,
              "#9c179e"
             ],
             [
              0.4444444444444444,
              "#bd3786"
             ],
             [
              0.5555555555555556,
              "#d8576b"
             ],
             [
              0.6666666666666666,
              "#ed7953"
             ],
             [
              0.7777777777777778,
              "#fb9f3a"
             ],
             [
              0.8888888888888888,
              "#fdca26"
             ],
             [
              1,
              "#f0f921"
             ]
            ],
            "type": "surface"
           }
          ],
          "table": [
           {
            "cells": {
             "fill": {
              "color": "#EBF0F8"
             },
             "line": {
              "color": "white"
             }
            },
            "header": {
             "fill": {
              "color": "#C8D4E3"
             },
             "line": {
              "color": "white"
             }
            },
            "type": "table"
           }
          ]
         },
         "layout": {
          "annotationdefaults": {
           "arrowcolor": "#2a3f5f",
           "arrowhead": 0,
           "arrowwidth": 1
          },
          "autotypenumbers": "strict",
          "coloraxis": {
           "colorbar": {
            "outlinewidth": 0,
            "ticks": ""
           }
          },
          "colorscale": {
           "diverging": [
            [
             0,
             "#8e0152"
            ],
            [
             0.1,
             "#c51b7d"
            ],
            [
             0.2,
             "#de77ae"
            ],
            [
             0.3,
             "#f1b6da"
            ],
            [
             0.4,
             "#fde0ef"
            ],
            [
             0.5,
             "#f7f7f7"
            ],
            [
             0.6,
             "#e6f5d0"
            ],
            [
             0.7,
             "#b8e186"
            ],
            [
             0.8,
             "#7fbc41"
            ],
            [
             0.9,
             "#4d9221"
            ],
            [
             1,
             "#276419"
            ]
           ],
           "sequential": [
            [
             0,
             "#0d0887"
            ],
            [
             0.1111111111111111,
             "#46039f"
            ],
            [
             0.2222222222222222,
             "#7201a8"
            ],
            [
             0.3333333333333333,
             "#9c179e"
            ],
            [
             0.4444444444444444,
             "#bd3786"
            ],
            [
             0.5555555555555556,
             "#d8576b"
            ],
            [
             0.6666666666666666,
             "#ed7953"
            ],
            [
             0.7777777777777778,
             "#fb9f3a"
            ],
            [
             0.8888888888888888,
             "#fdca26"
            ],
            [
             1,
             "#f0f921"
            ]
           ],
           "sequentialminus": [
            [
             0,
             "#0d0887"
            ],
            [
             0.1111111111111111,
             "#46039f"
            ],
            [
             0.2222222222222222,
             "#7201a8"
            ],
            [
             0.3333333333333333,
             "#9c179e"
            ],
            [
             0.4444444444444444,
             "#bd3786"
            ],
            [
             0.5555555555555556,
             "#d8576b"
            ],
            [
             0.6666666666666666,
             "#ed7953"
            ],
            [
             0.7777777777777778,
             "#fb9f3a"
            ],
            [
             0.8888888888888888,
             "#fdca26"
            ],
            [
             1,
             "#f0f921"
            ]
           ]
          },
          "colorway": [
           "#636efa",
           "#EF553B",
           "#00cc96",
           "#ab63fa",
           "#FFA15A",
           "#19d3f3",
           "#FF6692",
           "#B6E880",
           "#FF97FF",
           "#FECB52"
          ],
          "font": {
           "color": "#2a3f5f"
          },
          "geo": {
           "bgcolor": "white",
           "lakecolor": "white",
           "landcolor": "#E5ECF6",
           "showlakes": true,
           "showland": true,
           "subunitcolor": "white"
          },
          "hoverlabel": {
           "align": "left"
          },
          "hovermode": "closest",
          "mapbox": {
           "style": "light"
          },
          "paper_bgcolor": "white",
          "plot_bgcolor": "#E5ECF6",
          "polar": {
           "angularaxis": {
            "gridcolor": "white",
            "linecolor": "white",
            "ticks": ""
           },
           "bgcolor": "#E5ECF6",
           "radialaxis": {
            "gridcolor": "white",
            "linecolor": "white",
            "ticks": ""
           }
          },
          "scene": {
           "xaxis": {
            "backgroundcolor": "#E5ECF6",
            "gridcolor": "white",
            "gridwidth": 2,
            "linecolor": "white",
            "showbackground": true,
            "ticks": "",
            "zerolinecolor": "white"
           },
           "yaxis": {
            "backgroundcolor": "#E5ECF6",
            "gridcolor": "white",
            "gridwidth": 2,
            "linecolor": "white",
            "showbackground": true,
            "ticks": "",
            "zerolinecolor": "white"
           },
           "zaxis": {
            "backgroundcolor": "#E5ECF6",
            "gridcolor": "white",
            "gridwidth": 2,
            "linecolor": "white",
            "showbackground": true,
            "ticks": "",
            "zerolinecolor": "white"
           }
          },
          "shapedefaults": {
           "line": {
            "color": "#2a3f5f"
           }
          },
          "ternary": {
           "aaxis": {
            "gridcolor": "white",
            "linecolor": "white",
            "ticks": ""
           },
           "baxis": {
            "gridcolor": "white",
            "linecolor": "white",
            "ticks": ""
           },
           "bgcolor": "#E5ECF6",
           "caxis": {
            "gridcolor": "white",
            "linecolor": "white",
            "ticks": ""
           }
          },
          "title": {
           "x": 0.05
          },
          "xaxis": {
           "automargin": true,
           "gridcolor": "white",
           "linecolor": "white",
           "ticks": "",
           "title": {
            "standoff": 15
           },
           "zerolinecolor": "white",
           "zerolinewidth": 2
          },
          "yaxis": {
           "automargin": true,
           "gridcolor": "white",
           "linecolor": "white",
           "ticks": "",
           "title": {
            "standoff": 15
           },
           "zerolinecolor": "white",
           "zerolinewidth": 2
          }
         }
        },
        "width": 600
       }
      }
     },
     "metadata": {},
     "output_type": "display_data"
    }
   ],
   "source": [
    "sim_nodes, sim_nodes_dict = get_nodes_for_sankey(G_SIM, rm_tags=['sim'], label_on=False)\n",
    "\n",
    "# print(node_ref2)\n",
    "\n",
    "sim_links = get_links_for_sankey(G_SIM, sim_nodes_dict)\n",
    "fig = go.Figure(go.Sankey(\n",
    "            node = sim_nodes,\n",
    "            link = sim_links, orientation='h'))\n",
    "\n",
    "\n",
    "fig.update_layout(\n",
    "    autosize=False,\n",
    "    width=600,\n",
    "    height=200,\n",
    "    margin=dict(\n",
    "        l=40,\n",
    "        r=40,\n",
    "        b=40,\n",
    "        t=10,\n",
    "        pad=2\n",
    "    ),\n",
    ")\n",
    "fig.show()\n",
    "fig.write_html(f\"{IMAGE_PATH}/sankey-grouped-sim-thumbnail-vol-vfd-.html\")"
   ]
  },
  {
   "cell_type": "code",
   "execution_count": null,
   "metadata": {},
   "outputs": [
    {
     "data": {
      "application/vnd.plotly.v1+json": {
       "config": {
        "plotlyServerURL": "https://plot.ly"
       },
       "data": [
        {
         "link": {
          "color": [
           "rgba(145.23809523809524, 185.23809523809524, 215.23809523809524, 0.4357142857142857)",
           "rgba(102.38095238095238, 142.38095238095238, 172.38095238095238, 0.7571428571428571)",
           "rgba(126.19047619047619, 166.1904761904762, 196.1904761904762, 0.5785714285714286)",
           "rgba(88.0952380952381, 128.0952380952381, 158.0952380952381, 0.8642857142857143)",
           "rgba(121.42857142857143, 161.42857142857144, 191.42857142857144, 0.6142857142857143)",
           "rgba(92.85714285714286, 132.85714285714286, 162.85714285714286, 0.8285714285714285)",
           "rgba(145.23809523809524, 185.23809523809524, 215.23809523809524, 0.4357142857142857)",
           "rgba(83.33333333333333, 123.33333333333333, 153.33333333333331, 0.9)",
           "rgba(140.47619047619048, 180.47619047619048, 210.47619047619048, 0.4714285714285714)",
           "rgba(135.71428571428572, 175.71428571428572, 205.71428571428572, 0.5071428571428571)",
           "rgba(140.47619047619048, 180.47619047619048, 210.47619047619048, 0.4714285714285714)",
           "rgba(135.71428571428572, 175.71428571428572, 205.71428571428572, 0.5071428571428571)",
           "rgba(130.95238095238096, 170.95238095238096, 200.95238095238096, 0.5428571428571429)",
           "rgba(116.66666666666666, 156.66666666666666, 186.66666666666666, 0.65)",
           "rgba(111.9047619047619, 151.9047619047619, 181.9047619047619, 0.6857142857142857)",
           "rgba(107.14285714285714, 147.14285714285714, 177.14285714285714, 0.7214285714285715)",
           "rgba(97.61904761904762, 137.61904761904762, 167.61904761904762, 0.7928571428571429)",
           "rgba(83.33333333333333, 123.33333333333333, 153.33333333333331, 0.9)",
           "rgba(140.47619047619048, 180.47619047619048, 210.47619047619048, 0.4714285714285714)",
           "rgba(135.71428571428572, 175.71428571428572, 205.71428571428572, 0.5071428571428571)",
           "rgba(130.95238095238096, 170.95238095238096, 200.95238095238096, 0.5428571428571429)",
           "rgba(116.66666666666666, 156.66666666666666, 186.66666666666666, 0.65)",
           "rgba(111.9047619047619, 151.9047619047619, 181.9047619047619, 0.6857142857142857)",
           "rgba(107.14285714285714, 147.14285714285714, 177.14285714285714, 0.7214285714285715)",
           "rgba(97.61904761904762, 137.61904761904762, 167.61904761904762, 0.7928571428571429)",
           "rgba(83.33333333333333, 123.33333333333333, 153.33333333333331, 0.9)"
          ],
          "label": [
           "Access Volume : 0 <br />Access Count : 4 <br />Average Access Size : 0 <br />Operation : write<br />Bandwidth : 0",
           "Access Volume : 7.42 MB <br />Access Count : 200 <br />Average Access Size : 37.11 KB <br />Operation : write<br />Bandwidth : 2.41 MB/s",
           "Access Volume : 7.44 MB <br />Access Count : 200 <br />Average Access Size : 37.21 KB <br />Operation : write<br />Bandwidth : 1.87 MB/s",
           "Access Volume : 7.44 MB <br />Access Count : 200 <br />Average Access Size : 37.2 KB <br />Operation : write<br />Bandwidth : 2.51 MB/s",
           "Access Volume : 7.44 MB <br />Access Count : 200 <br />Average Access Size : 37.21 KB <br />Operation : write<br />Bandwidth : 1.89 MB/s",
           "Access Volume : 7.48 MB <br />Access Count : 201 <br />Average Access Size : 37.21 KB <br />Operation : write<br />Bandwidth : 2.48 MB/s",
           "Access Volume : 0 <br />Access Count : 4 <br />Average Access Size : 0 <br />Operation : write<br />Bandwidth : 0",
           "Access Volume : 2.4 MB <br />Access Count : 1 <br />Average Access Size : 2.4 MB <br />Operation : write<br />Bandwidth : 1.56 GB/s",
           "Access Volume : 5.19 KB <br />Access Count : 24 <br />Average Access Size : 216.33 B <br />Operation : write<br />Bandwidth : 292.05 B/s",
           "Access Volume : 272 B <br />Access Count : 1 <br />Average Access Size : 272 B <br />Operation : write<br />Bandwidth : 176.85 KB/s",
           "Access Volume : 5.19 KB <br />Access Count : 24 <br />Average Access Size : 216.33 B <br />Operation : write<br />Bandwidth : 292.05 B/s",
           "Access Volume : 272 B <br />Access Count : 1 <br />Average Access Size : 272 B <br />Operation : write<br />Bandwidth : 176.85 KB/s",
           "Access Volume : 7.46 MB <br />Access Count : 202 <br />Average Access Size : 36.94 KB <br />Operation : write<br />Bandwidth : 440.16 KB/s",
           "Access Volume : 7.45 MB <br />Access Count : 200 <br />Average Access Size : 37.24 KB <br />Operation : write<br />Bandwidth : 2.11 MB/s",
           "Access Volume : 7.45 MB <br />Access Count : 200 <br />Average Access Size : 37.23 KB <br />Operation : write<br />Bandwidth : 2.12 MB/s",
           "Access Volume : 7.45 MB <br />Access Count : 200 <br />Average Access Size : 37.25 KB <br />Operation : write<br />Bandwidth : 2.13 MB/s",
           "Access Volume : 7.49 MB <br />Access Count : 201 <br />Average Access Size : 37.25 KB <br />Operation : write<br />Bandwidth : 2.42 MB/s",
           "Access Volume : 2.4 MB <br />Access Count : 1 <br />Average Access Size : 2.4 MB <br />Operation : write<br />Bandwidth : 1.56 GB/s",
           "Access Volume : 5.19 KB <br />Access Count : 24 <br />Average Access Size : 216.33 B <br />Operation : write<br />Bandwidth : 292.05 B/s",
           "Access Volume : 272 B <br />Access Count : 1 <br />Average Access Size : 272 B <br />Operation : write<br />Bandwidth : 176.85 KB/s",
           "Access Volume : 7.46 MB <br />Access Count : 202 <br />Average Access Size : 36.94 KB <br />Operation : write<br />Bandwidth : 440.16 KB/s",
           "Access Volume : 7.45 MB <br />Access Count : 200 <br />Average Access Size : 37.24 KB <br />Operation : write<br />Bandwidth : 2.11 MB/s",
           "Access Volume : 7.45 MB <br />Access Count : 200 <br />Average Access Size : 37.23 KB <br />Operation : write<br />Bandwidth : 2.12 MB/s",
           "Access Volume : 7.45 MB <br />Access Count : 200 <br />Average Access Size : 37.25 KB <br />Operation : write<br />Bandwidth : 2.13 MB/s",
           "Access Volume : 7.49 MB <br />Access Count : 201 <br />Average Access Size : 37.25 KB <br />Operation : write<br />Bandwidth : 2.42 MB/s",
           "Access Volume : 2.4 MB <br />Access Count : 1 <br />Average Access Size : 2.4 MB <br />Operation : write<br />Bandwidth : 1.56 GB/s"
          ],
          "source": [
           0,
           0,
           0,
           0,
           0,
           0,
           0,
           0,
           1,
           1,
           2,
           2,
           3,
           4,
           5,
           6,
           7,
           8,
           9,
           10,
           11,
           12,
           13,
           14,
           15,
           16
          ],
          "target": [
           1,
           3,
           4,
           5,
           6,
           7,
           2,
           8,
           9,
           10,
           9,
           10,
           11,
           12,
           13,
           14,
           15,
           16,
           17,
           17,
           17,
           17,
           17,
           17,
           17,
           17
          ],
          "value": [
           1,
           7422108,
           7441148,
           7440164,
           7442936,
           7479508,
           1,
           2400000,
           5192,
           272,
           5192,
           272,
           7460880,
           7447968,
           7446976,
           7449760,
           7486392,
           2400000,
           5192,
           272,
           7460880,
           7447968,
           7446976,
           7449760,
           7486392,
           2400000
          ]
         },
         "node": {
          "color": [
           "Red",
           "Gold",
           "Magenta",
           "Gold",
           "Gold",
           "Gold",
           "Gold",
           "Gold",
           "Magenta",
           "LimeGreen",
           "LimeGreen",
           "LimeGreen",
           "LimeGreen",
           "LimeGreen",
           "LimeGreen",
           "LimeGreen",
           "LimeGreen",
           "MediumBlue"
          ],
          "label": [
           "task-sim_emulator",
           "cm-[-1,0)",
           "pc-[-1,0)",
           "cm-[0,200)",
           "cm-[200,400)",
           "cm-[400,600)",
           "cm-[600,800)",
           "cm-[800,1000)",
           "pc-[0,1)",
           "addr-[0, 1072]",
           "addr-[37261376]",
           "addr-[1400, 7392752]",
           "addr-[7430280, 14841376]",
           "addr-[14878248, 22287656]",
           "addr-[22325224, 29737768]",
           "addr-[29774984, 37224016]",
           "addr-[37261648, 37261648]",
           "file-residue.h5"
          ],
          "x": [
           0,
           0.35000000000000003,
           0.42500000000000004,
           0.125,
           0.17500000000000002,
           0.225,
           0.275,
           0.325,
           0.4,
           0.8,
           0.775,
           0.7000000000000001,
           0.55,
           0.6000000000000001,
           0.65,
           0.7250000000000001,
           0.75,
           1
          ],
          "y": [
           0,
           0,
           0.75,
           0.125,
           0.25,
           0.375,
           0.5,
           0.625,
           0.875,
           0.125,
           0.75,
           0.25,
           1,
           0.375,
           0.5,
           0.625,
           0.875,
           0
          ]
         },
         "orientation": "h",
         "type": "sankey"
        }
       ],
       "layout": {
        "autosize": false,
        "height": 400,
        "margin": {
         "b": 40,
         "l": 40,
         "pad": 2,
         "r": 40,
         "t": 10
        },
        "template": {
         "data": {
          "bar": [
           {
            "error_x": {
             "color": "#2a3f5f"
            },
            "error_y": {
             "color": "#2a3f5f"
            },
            "marker": {
             "line": {
              "color": "#E5ECF6",
              "width": 0.5
             },
             "pattern": {
              "fillmode": "overlay",
              "size": 10,
              "solidity": 0.2
             }
            },
            "type": "bar"
           }
          ],
          "barpolar": [
           {
            "marker": {
             "line": {
              "color": "#E5ECF6",
              "width": 0.5
             },
             "pattern": {
              "fillmode": "overlay",
              "size": 10,
              "solidity": 0.2
             }
            },
            "type": "barpolar"
           }
          ],
          "carpet": [
           {
            "aaxis": {
             "endlinecolor": "#2a3f5f",
             "gridcolor": "white",
             "linecolor": "white",
             "minorgridcolor": "white",
             "startlinecolor": "#2a3f5f"
            },
            "baxis": {
             "endlinecolor": "#2a3f5f",
             "gridcolor": "white",
             "linecolor": "white",
             "minorgridcolor": "white",
             "startlinecolor": "#2a3f5f"
            },
            "type": "carpet"
           }
          ],
          "choropleth": [
           {
            "colorbar": {
             "outlinewidth": 0,
             "ticks": ""
            },
            "type": "choropleth"
           }
          ],
          "contour": [
           {
            "colorbar": {
             "outlinewidth": 0,
             "ticks": ""
            },
            "colorscale": [
             [
              0,
              "#0d0887"
             ],
             [
              0.1111111111111111,
              "#46039f"
             ],
             [
              0.2222222222222222,
              "#7201a8"
             ],
             [
              0.3333333333333333,
              "#9c179e"
             ],
             [
              0.4444444444444444,
              "#bd3786"
             ],
             [
              0.5555555555555556,
              "#d8576b"
             ],
             [
              0.6666666666666666,
              "#ed7953"
             ],
             [
              0.7777777777777778,
              "#fb9f3a"
             ],
             [
              0.8888888888888888,
              "#fdca26"
             ],
             [
              1,
              "#f0f921"
             ]
            ],
            "type": "contour"
           }
          ],
          "contourcarpet": [
           {
            "colorbar": {
             "outlinewidth": 0,
             "ticks": ""
            },
            "type": "contourcarpet"
           }
          ],
          "heatmap": [
           {
            "colorbar": {
             "outlinewidth": 0,
             "ticks": ""
            },
            "colorscale": [
             [
              0,
              "#0d0887"
             ],
             [
              0.1111111111111111,
              "#46039f"
             ],
             [
              0.2222222222222222,
              "#7201a8"
             ],
             [
              0.3333333333333333,
              "#9c179e"
             ],
             [
              0.4444444444444444,
              "#bd3786"
             ],
             [
              0.5555555555555556,
              "#d8576b"
             ],
             [
              0.6666666666666666,
              "#ed7953"
             ],
             [
              0.7777777777777778,
              "#fb9f3a"
             ],
             [
              0.8888888888888888,
              "#fdca26"
             ],
             [
              1,
              "#f0f921"
             ]
            ],
            "type": "heatmap"
           }
          ],
          "heatmapgl": [
           {
            "colorbar": {
             "outlinewidth": 0,
             "ticks": ""
            },
            "colorscale": [
             [
              0,
              "#0d0887"
             ],
             [
              0.1111111111111111,
              "#46039f"
             ],
             [
              0.2222222222222222,
              "#7201a8"
             ],
             [
              0.3333333333333333,
              "#9c179e"
             ],
             [
              0.4444444444444444,
              "#bd3786"
             ],
             [
              0.5555555555555556,
              "#d8576b"
             ],
             [
              0.6666666666666666,
              "#ed7953"
             ],
             [
              0.7777777777777778,
              "#fb9f3a"
             ],
             [
              0.8888888888888888,
              "#fdca26"
             ],
             [
              1,
              "#f0f921"
             ]
            ],
            "type": "heatmapgl"
           }
          ],
          "histogram": [
           {
            "marker": {
             "pattern": {
              "fillmode": "overlay",
              "size": 10,
              "solidity": 0.2
             }
            },
            "type": "histogram"
           }
          ],
          "histogram2d": [
           {
            "colorbar": {
             "outlinewidth": 0,
             "ticks": ""
            },
            "colorscale": [
             [
              0,
              "#0d0887"
             ],
             [
              0.1111111111111111,
              "#46039f"
             ],
             [
              0.2222222222222222,
              "#7201a8"
             ],
             [
              0.3333333333333333,
              "#9c179e"
             ],
             [
              0.4444444444444444,
              "#bd3786"
             ],
             [
              0.5555555555555556,
              "#d8576b"
             ],
             [
              0.6666666666666666,
              "#ed7953"
             ],
             [
              0.7777777777777778,
              "#fb9f3a"
             ],
             [
              0.8888888888888888,
              "#fdca26"
             ],
             [
              1,
              "#f0f921"
             ]
            ],
            "type": "histogram2d"
           }
          ],
          "histogram2dcontour": [
           {
            "colorbar": {
             "outlinewidth": 0,
             "ticks": ""
            },
            "colorscale": [
             [
              0,
              "#0d0887"
             ],
             [
              0.1111111111111111,
              "#46039f"
             ],
             [
              0.2222222222222222,
              "#7201a8"
             ],
             [
              0.3333333333333333,
              "#9c179e"
             ],
             [
              0.4444444444444444,
              "#bd3786"
             ],
             [
              0.5555555555555556,
              "#d8576b"
             ],
             [
              0.6666666666666666,
              "#ed7953"
             ],
             [
              0.7777777777777778,
              "#fb9f3a"
             ],
             [
              0.8888888888888888,
              "#fdca26"
             ],
             [
              1,
              "#f0f921"
             ]
            ],
            "type": "histogram2dcontour"
           }
          ],
          "mesh3d": [
           {
            "colorbar": {
             "outlinewidth": 0,
             "ticks": ""
            },
            "type": "mesh3d"
           }
          ],
          "parcoords": [
           {
            "line": {
             "colorbar": {
              "outlinewidth": 0,
              "ticks": ""
             }
            },
            "type": "parcoords"
           }
          ],
          "pie": [
           {
            "automargin": true,
            "type": "pie"
           }
          ],
          "scatter": [
           {
            "fillpattern": {
             "fillmode": "overlay",
             "size": 10,
             "solidity": 0.2
            },
            "type": "scatter"
           }
          ],
          "scatter3d": [
           {
            "line": {
             "colorbar": {
              "outlinewidth": 0,
              "ticks": ""
             }
            },
            "marker": {
             "colorbar": {
              "outlinewidth": 0,
              "ticks": ""
             }
            },
            "type": "scatter3d"
           }
          ],
          "scattercarpet": [
           {
            "marker": {
             "colorbar": {
              "outlinewidth": 0,
              "ticks": ""
             }
            },
            "type": "scattercarpet"
           }
          ],
          "scattergeo": [
           {
            "marker": {
             "colorbar": {
              "outlinewidth": 0,
              "ticks": ""
             }
            },
            "type": "scattergeo"
           }
          ],
          "scattergl": [
           {
            "marker": {
             "colorbar": {
              "outlinewidth": 0,
              "ticks": ""
             }
            },
            "type": "scattergl"
           }
          ],
          "scattermapbox": [
           {
            "marker": {
             "colorbar": {
              "outlinewidth": 0,
              "ticks": ""
             }
            },
            "type": "scattermapbox"
           }
          ],
          "scatterpolar": [
           {
            "marker": {
             "colorbar": {
              "outlinewidth": 0,
              "ticks": ""
             }
            },
            "type": "scatterpolar"
           }
          ],
          "scatterpolargl": [
           {
            "marker": {
             "colorbar": {
              "outlinewidth": 0,
              "ticks": ""
             }
            },
            "type": "scatterpolargl"
           }
          ],
          "scatterternary": [
           {
            "marker": {
             "colorbar": {
              "outlinewidth": 0,
              "ticks": ""
             }
            },
            "type": "scatterternary"
           }
          ],
          "surface": [
           {
            "colorbar": {
             "outlinewidth": 0,
             "ticks": ""
            },
            "colorscale": [
             [
              0,
              "#0d0887"
             ],
             [
              0.1111111111111111,
              "#46039f"
             ],
             [
              0.2222222222222222,
              "#7201a8"
             ],
             [
              0.3333333333333333,
              "#9c179e"
             ],
             [
              0.4444444444444444,
              "#bd3786"
             ],
             [
              0.5555555555555556,
              "#d8576b"
             ],
             [
              0.6666666666666666,
              "#ed7953"
             ],
             [
              0.7777777777777778,
              "#fb9f3a"
             ],
             [
              0.8888888888888888,
              "#fdca26"
             ],
             [
              1,
              "#f0f921"
             ]
            ],
            "type": "surface"
           }
          ],
          "table": [
           {
            "cells": {
             "fill": {
              "color": "#EBF0F8"
             },
             "line": {
              "color": "white"
             }
            },
            "header": {
             "fill": {
              "color": "#C8D4E3"
             },
             "line": {
              "color": "white"
             }
            },
            "type": "table"
           }
          ]
         },
         "layout": {
          "annotationdefaults": {
           "arrowcolor": "#2a3f5f",
           "arrowhead": 0,
           "arrowwidth": 1
          },
          "autotypenumbers": "strict",
          "coloraxis": {
           "colorbar": {
            "outlinewidth": 0,
            "ticks": ""
           }
          },
          "colorscale": {
           "diverging": [
            [
             0,
             "#8e0152"
            ],
            [
             0.1,
             "#c51b7d"
            ],
            [
             0.2,
             "#de77ae"
            ],
            [
             0.3,
             "#f1b6da"
            ],
            [
             0.4,
             "#fde0ef"
            ],
            [
             0.5,
             "#f7f7f7"
            ],
            [
             0.6,
             "#e6f5d0"
            ],
            [
             0.7,
             "#b8e186"
            ],
            [
             0.8,
             "#7fbc41"
            ],
            [
             0.9,
             "#4d9221"
            ],
            [
             1,
             "#276419"
            ]
           ],
           "sequential": [
            [
             0,
             "#0d0887"
            ],
            [
             0.1111111111111111,
             "#46039f"
            ],
            [
             0.2222222222222222,
             "#7201a8"
            ],
            [
             0.3333333333333333,
             "#9c179e"
            ],
            [
             0.4444444444444444,
             "#bd3786"
            ],
            [
             0.5555555555555556,
             "#d8576b"
            ],
            [
             0.6666666666666666,
             "#ed7953"
            ],
            [
             0.7777777777777778,
             "#fb9f3a"
            ],
            [
             0.8888888888888888,
             "#fdca26"
            ],
            [
             1,
             "#f0f921"
            ]
           ],
           "sequentialminus": [
            [
             0,
             "#0d0887"
            ],
            [
             0.1111111111111111,
             "#46039f"
            ],
            [
             0.2222222222222222,
             "#7201a8"
            ],
            [
             0.3333333333333333,
             "#9c179e"
            ],
            [
             0.4444444444444444,
             "#bd3786"
            ],
            [
             0.5555555555555556,
             "#d8576b"
            ],
            [
             0.6666666666666666,
             "#ed7953"
            ],
            [
             0.7777777777777778,
             "#fb9f3a"
            ],
            [
             0.8888888888888888,
             "#fdca26"
            ],
            [
             1,
             "#f0f921"
            ]
           ]
          },
          "colorway": [
           "#636efa",
           "#EF553B",
           "#00cc96",
           "#ab63fa",
           "#FFA15A",
           "#19d3f3",
           "#FF6692",
           "#B6E880",
           "#FF97FF",
           "#FECB52"
          ],
          "font": {
           "color": "#2a3f5f"
          },
          "geo": {
           "bgcolor": "white",
           "lakecolor": "white",
           "landcolor": "#E5ECF6",
           "showlakes": true,
           "showland": true,
           "subunitcolor": "white"
          },
          "hoverlabel": {
           "align": "left"
          },
          "hovermode": "closest",
          "mapbox": {
           "style": "light"
          },
          "paper_bgcolor": "white",
          "plot_bgcolor": "#E5ECF6",
          "polar": {
           "angularaxis": {
            "gridcolor": "white",
            "linecolor": "white",
            "ticks": ""
           },
           "bgcolor": "#E5ECF6",
           "radialaxis": {
            "gridcolor": "white",
            "linecolor": "white",
            "ticks": ""
           }
          },
          "scene": {
           "xaxis": {
            "backgroundcolor": "#E5ECF6",
            "gridcolor": "white",
            "gridwidth": 2,
            "linecolor": "white",
            "showbackground": true,
            "ticks": "",
            "zerolinecolor": "white"
           },
           "yaxis": {
            "backgroundcolor": "#E5ECF6",
            "gridcolor": "white",
            "gridwidth": 2,
            "linecolor": "white",
            "showbackground": true,
            "ticks": "",
            "zerolinecolor": "white"
           },
           "zaxis": {
            "backgroundcolor": "#E5ECF6",
            "gridcolor": "white",
            "gridwidth": 2,
            "linecolor": "white",
            "showbackground": true,
            "ticks": "",
            "zerolinecolor": "white"
           }
          },
          "shapedefaults": {
           "line": {
            "color": "#2a3f5f"
           }
          },
          "ternary": {
           "aaxis": {
            "gridcolor": "white",
            "linecolor": "white",
            "ticks": ""
           },
           "baxis": {
            "gridcolor": "white",
            "linecolor": "white",
            "ticks": ""
           },
           "bgcolor": "#E5ECF6",
           "caxis": {
            "gridcolor": "white",
            "linecolor": "white",
            "ticks": ""
           }
          },
          "title": {
           "x": 0.05
          },
          "xaxis": {
           "automargin": true,
           "gridcolor": "white",
           "linecolor": "white",
           "ticks": "",
           "title": {
            "standoff": 15
           },
           "zerolinecolor": "white",
           "zerolinewidth": 2
          },
          "yaxis": {
           "automargin": true,
           "gridcolor": "white",
           "linecolor": "white",
           "ticks": "",
           "title": {
            "standoff": 15
           },
           "zerolinecolor": "white",
           "zerolinewidth": 2
          }
         }
        },
        "width": 1000
       }
      }
     },
     "metadata": {},
     "output_type": "display_data"
    }
   ],
   "source": [
    "sim_nodes, sim_nodes_dict = get_nodes_for_sankey(G_SIM, rm_tags=['sim'])\n",
    "\n",
    "# print(node_ref2)\n",
    "\n",
    "sim_links = get_links_for_sankey(G_SIM, sim_nodes_dict)\n",
    "fig = go.Figure(go.Sankey(\n",
    "            node = sim_nodes,\n",
    "            link = sim_links, orientation='h'))\n",
    "\n",
    "\n",
    "fig.update_layout(\n",
    "    autosize=False,\n",
    "    width=1000,\n",
    "    height=400,\n",
    "    margin=dict(\n",
    "        l=40,\n",
    "        r=40,\n",
    "        b=40,\n",
    "        t=10,\n",
    "        pad=2\n",
    "    ),\n",
    ")\n",
    "fig.show()\n",
    "fig.write_html(f\"{IMAGE_PATH}/sankey-grouped-sim-vol-vfd-.html\")"
   ]
  },
  {
   "cell_type": "code",
   "execution_count": null,
   "metadata": {},
   "outputs": [
    {
     "name": "stdout",
     "output_type": "stream",
     "text": [
      "{'file-residue.h5': (40, 0), 'agg_r-vol-contact_map-[-1,0)': (54, 0), 'agg_r-vol-contact_map-[0,200)': (45, 1), 'agg_r-vol-contact_map-[200,400)': (47, 2), 'agg_r-vol-contact_map-[400,600)': (49, 3), 'agg_r-vol-contact_map-[600,800)': (51, 4), 'agg_r-vol-contact_map-[800,1000)': (53, 5), 'agg_r-vol-point_cloud-[-1,0)': (57, 6), 'agg_r-vol-point_cloud-[0,1)': (56, 7), 'agg_r-addr-[0, 800]': (61, 2), 'agg_r-addr-[1072]': (73, 3), 'agg_r-addr-[1400, 7396848]': (63, 4), 'agg_r-addr-[7430280, 14845472]': (65, 10), 'agg_r-addr-[14878248, 22291752]': (67, 5), 'agg_r-addr-[22325224, 29741864]': (69, 6), 'agg_r-addr-[29774984, 37228112]': (71, 7), 'agg_r-addr-[0, 1072]': (76, 1), 'agg_r-addr-[37261648, 37261648]': (75, 9), 'agg_r-addr-[37261376]': (74, 8), 'task-aggregator': (84, 0)}\n"
     ]
    },
    {
     "data": {
      "application/vnd.plotly.v1+json": {
       "config": {
        "plotlyServerURL": "https://plot.ly"
       },
       "data": [
        {
         "link": {
          "color": [
           "rgba(146.07843137254903, 186.07843137254903, 216.07843137254903, 0.4294117647058824)",
           "rgba(91.1764705882353, 131.1764705882353, 161.1764705882353, 0.8411764705882353)",
           "rgba(106.86274509803923, 146.86274509803923, 176.86274509803923, 0.723529411764706)",
           "rgba(102.94117647058823, 142.94117647058823, 172.94117647058823, 0.7529411764705882)",
           "rgba(118.62745098039215, 158.62745098039215, 188.62745098039215, 0.6352941176470588)",
           "rgba(95.09803921568627, 135.09803921568627, 165.09803921568627, 0.8117647058823529)",
           "rgba(146.07843137254903, 186.07843137254903, 216.07843137254903, 0.4294117647058824)",
           "rgba(83.33333333333333, 123.33333333333333, 153.33333333333331, 0.9)",
           "rgba(130.39215686274508, 170.39215686274508, 200.39215686274508, 0.5470588235294118)",
           "rgba(142.15686274509804, 182.15686274509804, 212.15686274509804, 0.45882352941176474)",
           "rgba(87.25490196078431, 127.25490196078431, 157.2549019607843, 0.8705882352941177)",
           "rgba(114.70588235294117, 154.70588235294116, 184.70588235294116, 0.6647058823529413)",
           "rgba(110.7843137254902, 150.7843137254902, 180.7843137254902, 0.6941176470588235)",
           "rgba(122.54901960784314, 162.54901960784315, 192.54901960784315, 0.6058823529411765)",
           "rgba(99.01960784313727, 139.01960784313727, 169.01960784313727, 0.7823529411764706)",
           "rgba(134.31372549019608, 174.31372549019608, 204.31372549019608, 0.5176470588235295)",
           "rgba(142.15686274509804, 182.15686274509804, 212.15686274509804, 0.45882352941176474)",
           "rgba(126.47058823529412, 166.47058823529412, 196.47058823529412, 0.5764705882352942)",
           "rgba(83.33333333333333, 123.33333333333333, 153.33333333333331, 0.9)",
           "rgba(130.39215686274508, 170.39215686274508, 200.39215686274508, 0.5470588235294118)",
           "rgba(138.23529411764707, 178.23529411764707, 208.23529411764707, 0.4882352941176471)",
           "rgba(87.25490196078431, 127.25490196078431, 157.2549019607843, 0.8705882352941177)",
           "rgba(114.70588235294117, 154.70588235294116, 184.70588235294116, 0.6647058823529413)",
           "rgba(110.7843137254902, 150.7843137254902, 180.7843137254902, 0.6941176470588235)",
           "rgba(122.54901960784314, 162.54901960784315, 192.54901960784315, 0.6058823529411765)",
           "rgba(99.01960784313727, 139.01960784313727, 169.01960784313727, 0.7823529411764706)",
           "rgba(134.31372549019608, 174.31372549019608, 204.31372549019608, 0.5176470588235295)",
           "rgba(83.33333333333333, 123.33333333333333, 153.33333333333331, 0.9)",
           "rgba(126.47058823529412, 166.47058823529412, 196.47058823529412, 0.5764705882352942)"
          ],
          "label": [
           "Access Volume : 0 <br />Access Count : 3 <br />Average Access Size : 0 <br />Operation : read<br />Bandwidth : 0",
           "Access Volume : 7.42 MB <br />Access Count : 200 <br />Average Access Size : 37.11 KB <br />Operation : read<br />Bandwidth : 11.12 MB/s",
           "Access Volume : 7.44 MB <br />Access Count : 200 <br />Average Access Size : 37.21 KB <br />Operation : read<br />Bandwidth : 10.68 MB/s",
           "Access Volume : 7.44 MB <br />Access Count : 200 <br />Average Access Size : 37.2 KB <br />Operation : read<br />Bandwidth : 10.69 MB/s",
           "Access Volume : 7.44 MB <br />Access Count : 200 <br />Average Access Size : 37.21 KB <br />Operation : read<br />Bandwidth : 10.43 MB/s",
           "Access Volume : 7.48 MB <br />Access Count : 201 <br />Average Access Size : 37.21 KB <br />Operation : read<br />Bandwidth : 10.78 MB/s",
           "Access Volume : 0 <br />Access Count : 3 <br />Average Access Size : 0 <br />Operation : read<br />Bandwidth : 0",
           "Access Volume : 2.4 MB <br />Access Count : 1 <br />Average Access Size : 2.4 MB <br />Operation : read<br />Bandwidth : 1.56 GB/s",
           "Access Volume : 2.18 KB <br />Access Count : 8 <br />Average Access Size : 273 B <br />Operation : read<br />Bandwidth : 46.58 KB/s",
           "Access Volume : 328 B <br />Access Count : 1 <br />Average Access Size : 328 B <br />Operation : read<br />Bandwidth : 93.56 B/s",
           "Access Volume : 7.43 MB <br />Access Count : 399 <br />Average Access Size : 18.62 KB <br />Operation : read<br />Bandwidth : 11.19 MB/s",
           "Access Volume : 7.45 MB <br />Access Count : 400 <br />Average Access Size : 18.62 KB <br />Operation : read<br />Bandwidth : 10.67 MB/s",
           "Access Volume : 7.45 MB <br />Access Count : 400 <br />Average Access Size : 18.62 KB <br />Operation : read<br />Bandwidth : 10.68 MB/s",
           "Access Volume : 7.45 MB <br />Access Count : 400 <br />Average Access Size : 18.62 KB <br />Operation : read<br />Bandwidth : 10.41 MB/s",
           "Access Volume : 7.49 MB <br />Access Count : 402 <br />Average Access Size : 18.62 KB <br />Operation : read<br />Bandwidth : 10.76 MB/s",
           "Access Volume : 1.57 KB <br />Access Count : 4 <br />Average Access Size : 392 B <br />Operation : read<br />Bandwidth : 32.85 KB/s",
           "Access Volume : 328 B <br />Access Count : 1 <br />Average Access Size : 328 B <br />Operation : read<br />Bandwidth : 93.56 B/s",
           "Access Volume : 512 B <br />Access Count : 1 <br />Average Access Size : 512 B <br />Operation : read<br />Bandwidth : 332.9 KB/s",
           "Access Volume : 2.4 MB <br />Access Count : 1 <br />Average Access Size : 2.4 MB <br />Operation : read<br />Bandwidth : 1.56 GB/s",
           "Access Volume : 2.18 KB <br />Access Count : 8 <br />Average Access Size : 273 B <br />Operation : read<br />Bandwidth : 46.58 KB/s",
           "Access Volume : 656 B <br />Access Count : 2 <br />Average Access Size : 328 B <br />Operation : read<br />Bandwidth : 187.13 B/s",
           "Access Volume : 7.43 MB <br />Access Count : 399 <br />Average Access Size : 18.62 KB <br />Operation : read<br />Bandwidth : 11.19 MB/s",
           "Access Volume : 7.45 MB <br />Access Count : 400 <br />Average Access Size : 18.62 KB <br />Operation : read<br />Bandwidth : 10.67 MB/s",
           "Access Volume : 7.45 MB <br />Access Count : 400 <br />Average Access Size : 18.62 KB <br />Operation : read<br />Bandwidth : 10.68 MB/s",
           "Access Volume : 7.45 MB <br />Access Count : 400 <br />Average Access Size : 18.62 KB <br />Operation : read<br />Bandwidth : 10.41 MB/s",
           "Access Volume : 7.49 MB <br />Access Count : 402 <br />Average Access Size : 18.62 KB <br />Operation : read<br />Bandwidth : 10.76 MB/s",
           "Access Volume : 1.57 KB <br />Access Count : 4 <br />Average Access Size : 392 B <br />Operation : read<br />Bandwidth : 32.85 KB/s",
           "Access Volume : 2.4 MB <br />Access Count : 1 <br />Average Access Size : 2.4 MB <br />Operation : read<br />Bandwidth : 1.56 GB/s",
           "Access Volume : 512 B <br />Access Count : 1 <br />Average Access Size : 512 B <br />Operation : read<br />Bandwidth : 332.9 KB/s"
          ],
          "source": [
           0,
           0,
           0,
           0,
           0,
           0,
           0,
           0,
           1,
           1,
           2,
           3,
           4,
           5,
           6,
           7,
           7,
           7,
           8,
           9,
           10,
           11,
           12,
           13,
           14,
           15,
           16,
           17,
           18
          ],
          "target": [
           1,
           2,
           3,
           4,
           5,
           6,
           7,
           8,
           9,
           10,
           11,
           12,
           13,
           14,
           15,
           16,
           10,
           18,
           17,
           19,
           19,
           19,
           19,
           19,
           19,
           19,
           19,
           19,
           19
          ],
          "value": [
           1,
           7422108,
           7441148,
           7440164,
           7442936,
           7479508,
           1,
           2400000,
           2184,
           328,
           7428880,
           7447968,
           7446976,
           7449760,
           7486392,
           1568,
           328,
           512,
           2400000,
           2184,
           656,
           7428880,
           7447968,
           7446976,
           7449760,
           7486392,
           1568,
           2400000,
           512
          ]
         },
         "node": {
          "color": [
           "MediumBlue",
           "Gold",
           "Gold",
           "Gold",
           "Gold",
           "Gold",
           "Gold",
           "Magenta",
           "Magenta",
           "LimeGreen",
           "LimeGreen",
           "LimeGreen",
           "LimeGreen",
           "LimeGreen",
           "LimeGreen",
           "LimeGreen",
           "LimeGreen",
           "LimeGreen",
           "LimeGreen",
           "Red"
          ],
          "label": [
           "file-residue.h5",
           "cm-[-1,0)",
           "cm-[0,200)",
           "cm-[200,400)",
           "cm-[400,600)",
           "cm-[600,800)",
           "cm-[800,1000)",
           "pc-[-1,0)",
           "pc-[0,1)",
           "addr-[0, 800]",
           "addr-[1072]",
           "addr-[1400, 7396848]",
           "addr-[7430280, 14845472]",
           "addr-[14878248, 22291752]",
           "addr-[22325224, 29741864]",
           "addr-[29774984, 37228112]",
           "addr-[0, 1072]",
           "addr-[37261648, 37261648]",
           "addr-[37261376]",
           "task-aggregator"
          ],
          "x": [
           0,
           0.3181818181818182,
           0.11363636363636365,
           0.1590909090909091,
           0.20454545454545456,
           0.25,
           0.29545454545454547,
           0.38636363636363635,
           0.36363636363636365,
           0.4772727272727273,
           0.75,
           0.5227272727272727,
           0.5681818181818182,
           0.6136363636363636,
           0.6590909090909091,
           0.7045454545454546,
           0.8181818181818182,
           0.7954545454545455,
           0.7727272727272727,
           1
          ],
          "y": [
           0,
           0,
           0.1,
           0.2,
           0.30000000000000004,
           0.4,
           0.5,
           0.6000000000000001,
           0.7000000000000001,
           0.2,
           0.30000000000000004,
           0.4,
           1,
           0.5,
           0.6000000000000001,
           0.7000000000000001,
           0.1,
           0.9,
           0.8,
           0
          ]
         },
         "orientation": "h",
         "type": "sankey"
        }
       ],
       "layout": {
        "autosize": false,
        "height": 400,
        "margin": {
         "b": 40,
         "l": 40,
         "pad": 2,
         "r": 40,
         "t": 10
        },
        "template": {
         "data": {
          "bar": [
           {
            "error_x": {
             "color": "#2a3f5f"
            },
            "error_y": {
             "color": "#2a3f5f"
            },
            "marker": {
             "line": {
              "color": "#E5ECF6",
              "width": 0.5
             },
             "pattern": {
              "fillmode": "overlay",
              "size": 10,
              "solidity": 0.2
             }
            },
            "type": "bar"
           }
          ],
          "barpolar": [
           {
            "marker": {
             "line": {
              "color": "#E5ECF6",
              "width": 0.5
             },
             "pattern": {
              "fillmode": "overlay",
              "size": 10,
              "solidity": 0.2
             }
            },
            "type": "barpolar"
           }
          ],
          "carpet": [
           {
            "aaxis": {
             "endlinecolor": "#2a3f5f",
             "gridcolor": "white",
             "linecolor": "white",
             "minorgridcolor": "white",
             "startlinecolor": "#2a3f5f"
            },
            "baxis": {
             "endlinecolor": "#2a3f5f",
             "gridcolor": "white",
             "linecolor": "white",
             "minorgridcolor": "white",
             "startlinecolor": "#2a3f5f"
            },
            "type": "carpet"
           }
          ],
          "choropleth": [
           {
            "colorbar": {
             "outlinewidth": 0,
             "ticks": ""
            },
            "type": "choropleth"
           }
          ],
          "contour": [
           {
            "colorbar": {
             "outlinewidth": 0,
             "ticks": ""
            },
            "colorscale": [
             [
              0,
              "#0d0887"
             ],
             [
              0.1111111111111111,
              "#46039f"
             ],
             [
              0.2222222222222222,
              "#7201a8"
             ],
             [
              0.3333333333333333,
              "#9c179e"
             ],
             [
              0.4444444444444444,
              "#bd3786"
             ],
             [
              0.5555555555555556,
              "#d8576b"
             ],
             [
              0.6666666666666666,
              "#ed7953"
             ],
             [
              0.7777777777777778,
              "#fb9f3a"
             ],
             [
              0.8888888888888888,
              "#fdca26"
             ],
             [
              1,
              "#f0f921"
             ]
            ],
            "type": "contour"
           }
          ],
          "contourcarpet": [
           {
            "colorbar": {
             "outlinewidth": 0,
             "ticks": ""
            },
            "type": "contourcarpet"
           }
          ],
          "heatmap": [
           {
            "colorbar": {
             "outlinewidth": 0,
             "ticks": ""
            },
            "colorscale": [
             [
              0,
              "#0d0887"
             ],
             [
              0.1111111111111111,
              "#46039f"
             ],
             [
              0.2222222222222222,
              "#7201a8"
             ],
             [
              0.3333333333333333,
              "#9c179e"
             ],
             [
              0.4444444444444444,
              "#bd3786"
             ],
             [
              0.5555555555555556,
              "#d8576b"
             ],
             [
              0.6666666666666666,
              "#ed7953"
             ],
             [
              0.7777777777777778,
              "#fb9f3a"
             ],
             [
              0.8888888888888888,
              "#fdca26"
             ],
             [
              1,
              "#f0f921"
             ]
            ],
            "type": "heatmap"
           }
          ],
          "heatmapgl": [
           {
            "colorbar": {
             "outlinewidth": 0,
             "ticks": ""
            },
            "colorscale": [
             [
              0,
              "#0d0887"
             ],
             [
              0.1111111111111111,
              "#46039f"
             ],
             [
              0.2222222222222222,
              "#7201a8"
             ],
             [
              0.3333333333333333,
              "#9c179e"
             ],
             [
              0.4444444444444444,
              "#bd3786"
             ],
             [
              0.5555555555555556,
              "#d8576b"
             ],
             [
              0.6666666666666666,
              "#ed7953"
             ],
             [
              0.7777777777777778,
              "#fb9f3a"
             ],
             [
              0.8888888888888888,
              "#fdca26"
             ],
             [
              1,
              "#f0f921"
             ]
            ],
            "type": "heatmapgl"
           }
          ],
          "histogram": [
           {
            "marker": {
             "pattern": {
              "fillmode": "overlay",
              "size": 10,
              "solidity": 0.2
             }
            },
            "type": "histogram"
           }
          ],
          "histogram2d": [
           {
            "colorbar": {
             "outlinewidth": 0,
             "ticks": ""
            },
            "colorscale": [
             [
              0,
              "#0d0887"
             ],
             [
              0.1111111111111111,
              "#46039f"
             ],
             [
              0.2222222222222222,
              "#7201a8"
             ],
             [
              0.3333333333333333,
              "#9c179e"
             ],
             [
              0.4444444444444444,
              "#bd3786"
             ],
             [
              0.5555555555555556,
              "#d8576b"
             ],
             [
              0.6666666666666666,
              "#ed7953"
             ],
             [
              0.7777777777777778,
              "#fb9f3a"
             ],
             [
              0.8888888888888888,
              "#fdca26"
             ],
             [
              1,
              "#f0f921"
             ]
            ],
            "type": "histogram2d"
           }
          ],
          "histogram2dcontour": [
           {
            "colorbar": {
             "outlinewidth": 0,
             "ticks": ""
            },
            "colorscale": [
             [
              0,
              "#0d0887"
             ],
             [
              0.1111111111111111,
              "#46039f"
             ],
             [
              0.2222222222222222,
              "#7201a8"
             ],
             [
              0.3333333333333333,
              "#9c179e"
             ],
             [
              0.4444444444444444,
              "#bd3786"
             ],
             [
              0.5555555555555556,
              "#d8576b"
             ],
             [
              0.6666666666666666,
              "#ed7953"
             ],
             [
              0.7777777777777778,
              "#fb9f3a"
             ],
             [
              0.8888888888888888,
              "#fdca26"
             ],
             [
              1,
              "#f0f921"
             ]
            ],
            "type": "histogram2dcontour"
           }
          ],
          "mesh3d": [
           {
            "colorbar": {
             "outlinewidth": 0,
             "ticks": ""
            },
            "type": "mesh3d"
           }
          ],
          "parcoords": [
           {
            "line": {
             "colorbar": {
              "outlinewidth": 0,
              "ticks": ""
             }
            },
            "type": "parcoords"
           }
          ],
          "pie": [
           {
            "automargin": true,
            "type": "pie"
           }
          ],
          "scatter": [
           {
            "fillpattern": {
             "fillmode": "overlay",
             "size": 10,
             "solidity": 0.2
            },
            "type": "scatter"
           }
          ],
          "scatter3d": [
           {
            "line": {
             "colorbar": {
              "outlinewidth": 0,
              "ticks": ""
             }
            },
            "marker": {
             "colorbar": {
              "outlinewidth": 0,
              "ticks": ""
             }
            },
            "type": "scatter3d"
           }
          ],
          "scattercarpet": [
           {
            "marker": {
             "colorbar": {
              "outlinewidth": 0,
              "ticks": ""
             }
            },
            "type": "scattercarpet"
           }
          ],
          "scattergeo": [
           {
            "marker": {
             "colorbar": {
              "outlinewidth": 0,
              "ticks": ""
             }
            },
            "type": "scattergeo"
           }
          ],
          "scattergl": [
           {
            "marker": {
             "colorbar": {
              "outlinewidth": 0,
              "ticks": ""
             }
            },
            "type": "scattergl"
           }
          ],
          "scattermapbox": [
           {
            "marker": {
             "colorbar": {
              "outlinewidth": 0,
              "ticks": ""
             }
            },
            "type": "scattermapbox"
           }
          ],
          "scatterpolar": [
           {
            "marker": {
             "colorbar": {
              "outlinewidth": 0,
              "ticks": ""
             }
            },
            "type": "scatterpolar"
           }
          ],
          "scatterpolargl": [
           {
            "marker": {
             "colorbar": {
              "outlinewidth": 0,
              "ticks": ""
             }
            },
            "type": "scatterpolargl"
           }
          ],
          "scatterternary": [
           {
            "marker": {
             "colorbar": {
              "outlinewidth": 0,
              "ticks": ""
             }
            },
            "type": "scatterternary"
           }
          ],
          "surface": [
           {
            "colorbar": {
             "outlinewidth": 0,
             "ticks": ""
            },
            "colorscale": [
             [
              0,
              "#0d0887"
             ],
             [
              0.1111111111111111,
              "#46039f"
             ],
             [
              0.2222222222222222,
              "#7201a8"
             ],
             [
              0.3333333333333333,
              "#9c179e"
             ],
             [
              0.4444444444444444,
              "#bd3786"
             ],
             [
              0.5555555555555556,
              "#d8576b"
             ],
             [
              0.6666666666666666,
              "#ed7953"
             ],
             [
              0.7777777777777778,
              "#fb9f3a"
             ],
             [
              0.8888888888888888,
              "#fdca26"
             ],
             [
              1,
              "#f0f921"
             ]
            ],
            "type": "surface"
           }
          ],
          "table": [
           {
            "cells": {
             "fill": {
              "color": "#EBF0F8"
             },
             "line": {
              "color": "white"
             }
            },
            "header": {
             "fill": {
              "color": "#C8D4E3"
             },
             "line": {
              "color": "white"
             }
            },
            "type": "table"
           }
          ]
         },
         "layout": {
          "annotationdefaults": {
           "arrowcolor": "#2a3f5f",
           "arrowhead": 0,
           "arrowwidth": 1
          },
          "autotypenumbers": "strict",
          "coloraxis": {
           "colorbar": {
            "outlinewidth": 0,
            "ticks": ""
           }
          },
          "colorscale": {
           "diverging": [
            [
             0,
             "#8e0152"
            ],
            [
             0.1,
             "#c51b7d"
            ],
            [
             0.2,
             "#de77ae"
            ],
            [
             0.3,
             "#f1b6da"
            ],
            [
             0.4,
             "#fde0ef"
            ],
            [
             0.5,
             "#f7f7f7"
            ],
            [
             0.6,
             "#e6f5d0"
            ],
            [
             0.7,
             "#b8e186"
            ],
            [
             0.8,
             "#7fbc41"
            ],
            [
             0.9,
             "#4d9221"
            ],
            [
             1,
             "#276419"
            ]
           ],
           "sequential": [
            [
             0,
             "#0d0887"
            ],
            [
             0.1111111111111111,
             "#46039f"
            ],
            [
             0.2222222222222222,
             "#7201a8"
            ],
            [
             0.3333333333333333,
             "#9c179e"
            ],
            [
             0.4444444444444444,
             "#bd3786"
            ],
            [
             0.5555555555555556,
             "#d8576b"
            ],
            [
             0.6666666666666666,
             "#ed7953"
            ],
            [
             0.7777777777777778,
             "#fb9f3a"
            ],
            [
             0.8888888888888888,
             "#fdca26"
            ],
            [
             1,
             "#f0f921"
            ]
           ],
           "sequentialminus": [
            [
             0,
             "#0d0887"
            ],
            [
             0.1111111111111111,
             "#46039f"
            ],
            [
             0.2222222222222222,
             "#7201a8"
            ],
            [
             0.3333333333333333,
             "#9c179e"
            ],
            [
             0.4444444444444444,
             "#bd3786"
            ],
            [
             0.5555555555555556,
             "#d8576b"
            ],
            [
             0.6666666666666666,
             "#ed7953"
            ],
            [
             0.7777777777777778,
             "#fb9f3a"
            ],
            [
             0.8888888888888888,
             "#fdca26"
            ],
            [
             1,
             "#f0f921"
            ]
           ]
          },
          "colorway": [
           "#636efa",
           "#EF553B",
           "#00cc96",
           "#ab63fa",
           "#FFA15A",
           "#19d3f3",
           "#FF6692",
           "#B6E880",
           "#FF97FF",
           "#FECB52"
          ],
          "font": {
           "color": "#2a3f5f"
          },
          "geo": {
           "bgcolor": "white",
           "lakecolor": "white",
           "landcolor": "#E5ECF6",
           "showlakes": true,
           "showland": true,
           "subunitcolor": "white"
          },
          "hoverlabel": {
           "align": "left"
          },
          "hovermode": "closest",
          "mapbox": {
           "style": "light"
          },
          "paper_bgcolor": "white",
          "plot_bgcolor": "#E5ECF6",
          "polar": {
           "angularaxis": {
            "gridcolor": "white",
            "linecolor": "white",
            "ticks": ""
           },
           "bgcolor": "#E5ECF6",
           "radialaxis": {
            "gridcolor": "white",
            "linecolor": "white",
            "ticks": ""
           }
          },
          "scene": {
           "xaxis": {
            "backgroundcolor": "#E5ECF6",
            "gridcolor": "white",
            "gridwidth": 2,
            "linecolor": "white",
            "showbackground": true,
            "ticks": "",
            "zerolinecolor": "white"
           },
           "yaxis": {
            "backgroundcolor": "#E5ECF6",
            "gridcolor": "white",
            "gridwidth": 2,
            "linecolor": "white",
            "showbackground": true,
            "ticks": "",
            "zerolinecolor": "white"
           },
           "zaxis": {
            "backgroundcolor": "#E5ECF6",
            "gridcolor": "white",
            "gridwidth": 2,
            "linecolor": "white",
            "showbackground": true,
            "ticks": "",
            "zerolinecolor": "white"
           }
          },
          "shapedefaults": {
           "line": {
            "color": "#2a3f5f"
           }
          },
          "ternary": {
           "aaxis": {
            "gridcolor": "white",
            "linecolor": "white",
            "ticks": ""
           },
           "baxis": {
            "gridcolor": "white",
            "linecolor": "white",
            "ticks": ""
           },
           "bgcolor": "#E5ECF6",
           "caxis": {
            "gridcolor": "white",
            "linecolor": "white",
            "ticks": ""
           }
          },
          "title": {
           "x": 0.05
          },
          "xaxis": {
           "automargin": true,
           "gridcolor": "white",
           "linecolor": "white",
           "ticks": "",
           "title": {
            "standoff": 15
           },
           "zerolinecolor": "white",
           "zerolinewidth": 2
          },
          "yaxis": {
           "automargin": true,
           "gridcolor": "white",
           "linecolor": "white",
           "ticks": "",
           "title": {
            "standoff": 15
           },
           "zerolinecolor": "white",
           "zerolinewidth": 2
          }
         }
        },
        "width": 1000
       }
      }
     },
     "metadata": {},
     "output_type": "display_data"
    }
   ],
   "source": [
    "\n",
    "agg_r_nodes, agg_r_nodes_dict = get_nodes_for_sankey(G_AGG_R, rm_tags=['agg_r'])\n",
    "\n",
    "print(nx.get_node_attributes(G_AGG_R,'pos'))\n",
    "# print(node_ref2)\n",
    "\n",
    "agg_r_links = get_links_for_sankey(G_AGG_R, agg_r_nodes_dict)\n",
    "fig = go.Figure(go.Sankey(\n",
    "            node = agg_r_nodes,\n",
    "            link = agg_r_links, orientation='h'))\n",
    "\n",
    "fig.update_layout(\n",
    "    autosize=False,\n",
    "    width=1000,\n",
    "    height=400,\n",
    "    margin=dict(\n",
    "        l=40,\n",
    "        r=40,\n",
    "        b=40,\n",
    "        t=10,\n",
    "        pad=2\n",
    "    ),\n",
    ")\n",
    "fig.show()\n",
    "fig.write_html(f\"{IMAGE_PATH}/sankey-grouped-agg_r-vol-vfd-.html\")"
   ]
  },
  {
   "cell_type": "code",
   "execution_count": null,
   "metadata": {},
   "outputs": [
    {
     "data": {
      "application/vnd.plotly.v1+json": {
       "config": {
        "plotlyServerURL": "https://plot.ly"
       },
       "data": [
        {
         "link": {
          "color": [
           "rgba(145.83333333333334, 185.83333333333334, 215.83333333333334, 0.43125)",
           "rgba(87.5, 127.5, 157.5, 0.86875)",
           "rgba(91.66666666666666, 131.66666666666666, 161.66666666666666, 0.8375)",
           "rgba(95.83333333333334, 135.83333333333334, 165.83333333333334, 0.80625)",
           "rgba(104.16666666666666, 144.16666666666666, 174.16666666666666, 0.74375)",
           "rgba(100.0, 140.0, 170.0, 0.775)",
           "rgba(145.83333333333334, 185.83333333333334, 215.83333333333334, 0.43125)",
           "rgba(83.33333333333333, 123.33333333333333, 153.33333333333331, 0.9)",
           "rgba(141.66666666666666, 181.66666666666666, 211.66666666666666, 0.4625)",
           "rgba(133.33333333333334, 173.33333333333334, 203.33333333333334, 0.525)",
           "rgba(108.33333333333334, 148.33333333333334, 178.33333333333334, 0.7125)",
           "rgba(116.66666666666666, 156.66666666666666, 186.66666666666666, 0.65)",
           "rgba(120.83333333333333, 160.83333333333334, 190.83333333333334, 0.61875)",
           "rgba(112.5, 152.5, 182.5, 0.68125)",
           "rgba(125.0, 165.0, 195.0, 0.5875)",
           "rgba(137.5, 177.5, 207.5, 0.49375)",
           "rgba(133.33333333333334, 173.33333333333334, 203.33333333333334, 0.525)",
           "rgba(129.16666666666666, 169.16666666666666, 199.16666666666666, 0.55625)",
           "rgba(141.66666666666666, 181.66666666666666, 211.66666666666666, 0.4625)",
           "rgba(108.33333333333334, 148.33333333333334, 178.33333333333334, 0.7125)",
           "rgba(116.66666666666666, 156.66666666666666, 186.66666666666666, 0.65)",
           "rgba(120.83333333333333, 160.83333333333334, 190.83333333333334, 0.61875)",
           "rgba(112.5, 152.5, 182.5, 0.68125)",
           "rgba(125.0, 165.0, 195.0, 0.5875)",
           "rgba(137.5, 177.5, 207.5, 0.49375)",
           "rgba(133.33333333333334, 173.33333333333334, 203.33333333333334, 0.525)",
           "rgba(129.16666666666666, 169.16666666666666, 199.16666666666666, 0.55625)",
           "rgba(133.33333333333334, 173.33333333333334, 203.33333333333334, 0.525)"
          ],
          "label": [
           "Access Volume : 0 <br />Access Count : 3 <br />Average Access Size : 0 <br />Operation : write<br />Bandwidth : 0",
           "Access Volume : 7.42 MB <br />Access Count : 200 <br />Average Access Size : 37.11 KB <br />Operation : write<br />Bandwidth : 5.64 MB/s",
           "Access Volume : 7.44 MB <br />Access Count : 200 <br />Average Access Size : 37.21 KB <br />Operation : write<br />Bandwidth : 4.46 MB/s",
           "Access Volume : 7.44 MB <br />Access Count : 200 <br />Average Access Size : 37.2 KB <br />Operation : write<br />Bandwidth : 4.06 MB/s",
           "Access Volume : 7.44 MB <br />Access Count : 200 <br />Average Access Size : 37.21 KB <br />Operation : write<br />Bandwidth : 2.37 MB/s",
           "Access Volume : 7.48 MB <br />Access Count : 201 <br />Average Access Size : 37.21 KB <br />Operation : write<br />Bandwidth : 2.68 MB/s",
           "Access Volume : 0 <br />Access Count : 3 <br />Average Access Size : 0 <br />Operation : write<br />Bandwidth : 0",
           "Access Volume : 2.4 MB <br />Access Count : 1 <br />Average Access Size : 2.4 MB <br />Operation : write<br />Bandwidth : 1.56 GB/s",
           "Access Volume : 562 B <br />Access Count : 4 <br />Average Access Size : 140.5 B <br />Operation : write<br />Bandwidth : 25.2 B/s",
           "Access Volume : 28 B <br />Access Count : 1 <br />Average Access Size : 28 B <br />Operation : write<br />Bandwidth : 18.21 KB/s",
           "Access Volume : 7.42 MB <br />Access Count : 398 <br />Average Access Size : 18.63 KB <br />Operation : write<br />Bandwidth : 1.14 MB/s",
           "Access Volume : 7.45 MB <br />Access Count : 400 <br />Average Access Size : 18.63 KB <br />Operation : write<br />Bandwidth : 912.66 KB/s",
           "Access Volume : 7.45 MB <br />Access Count : 400 <br />Average Access Size : 18.63 KB <br />Operation : write<br />Bandwidth : 856.42 KB/s",
           "Access Volume : 7.45 MB <br />Access Count : 400 <br />Average Access Size : 18.63 KB <br />Operation : write<br />Bandwidth : 928.42 KB/s",
           "Access Volume : 7.49 MB <br />Access Count : 401 <br />Average Access Size : 18.68 KB <br />Operation : write<br />Bandwidth : 530 KB/s",
           "Access Volume : 876 B <br />Access Count : 5 <br />Average Access Size : 175.2 B <br />Operation : write<br />Bandwidth : 74.18 B/s",
           "Access Volume : 28 B <br />Access Count : 1 <br />Average Access Size : 28 B <br />Operation : write<br />Bandwidth : 18.21 KB/s",
           "Access Volume : 2.4 MB <br />Access Count : 1000 <br />Average Access Size : 2.4 KB <br />Operation : write<br />Bandwidth : 328.73 KB/s",
           "Access Volume : 562 B <br />Access Count : 4 <br />Average Access Size : 140.5 B <br />Operation : write<br />Bandwidth : 25.2 B/s",
           "Access Volume : 7.42 MB <br />Access Count : 398 <br />Average Access Size : 18.63 KB <br />Operation : write<br />Bandwidth : 1.14 MB/s",
           "Access Volume : 7.45 MB <br />Access Count : 400 <br />Average Access Size : 18.63 KB <br />Operation : write<br />Bandwidth : 912.66 KB/s",
           "Access Volume : 7.45 MB <br />Access Count : 400 <br />Average Access Size : 18.63 KB <br />Operation : write<br />Bandwidth : 856.42 KB/s",
           "Access Volume : 7.45 MB <br />Access Count : 400 <br />Average Access Size : 18.63 KB <br />Operation : write<br />Bandwidth : 928.42 KB/s",
           "Access Volume : 7.49 MB <br />Access Count : 401 <br />Average Access Size : 18.68 KB <br />Operation : write<br />Bandwidth : 530 KB/s",
           "Access Volume : 876 B <br />Access Count : 5 <br />Average Access Size : 175.2 B <br />Operation : write<br />Bandwidth : 74.18 B/s",
           "Access Volume : 28 B <br />Access Count : 1 <br />Average Access Size : 28 B <br />Operation : write<br />Bandwidth : 18.21 KB/s",
           "Access Volume : 2.4 MB <br />Access Count : 1000 <br />Average Access Size : 2.4 KB <br />Operation : write<br />Bandwidth : 328.73 KB/s",
           "Access Volume : 28 B <br />Access Count : 1 <br />Average Access Size : 28 B <br />Operation : write<br />Bandwidth : 18.21 KB/s"
          ],
          "source": [
           0,
           0,
           0,
           0,
           0,
           0,
           0,
           0,
           1,
           1,
           2,
           3,
           4,
           5,
           6,
           7,
           7,
           8,
           9,
           10,
           11,
           12,
           13,
           14,
           15,
           16,
           17,
           18
          ],
          "target": [
           1,
           2,
           3,
           4,
           5,
           6,
           7,
           8,
           9,
           16,
           10,
           11,
           12,
           13,
           14,
           15,
           18,
           17,
           19,
           19,
           19,
           19,
           19,
           19,
           19,
           19,
           19,
           19
          ],
          "value": [
           1,
           7422108,
           7441148,
           7440164,
           7442936,
           7479508,
           1,
           2400000,
           562,
           28,
           7416064,
           7451168,
           7450176,
           7452960,
           7489592,
           876,
           28,
           2400000,
           562,
           7416064,
           7451168,
           7450176,
           7452960,
           7489592,
           876,
           28,
           2400000,
           28
          ]
         },
         "node": {
          "color": [
           "Red",
           "Gold",
           "Gold",
           "Gold",
           "Gold",
           "Gold",
           "Gold",
           "Magenta",
           "Magenta",
           "LimeGreen",
           "LimeGreen",
           "LimeGreen",
           "LimeGreen",
           "LimeGreen",
           "LimeGreen",
           "LimeGreen",
           "LimeGreen",
           "LimeGreen",
           "LimeGreen",
           "MediumBlue"
          ],
          "label": [
           "task-aggregator",
           "cm-[-1,0)",
           "cm-[0,200)",
           "cm-[200,400)",
           "cm-[400,600)",
           "cm-[600,800)",
           "cm-[800,1000)",
           "pc-[-1,0)",
           "pc-[0,1)",
           "addr-[0, 195]",
           "addr-[491, 26827037]",
           "addr-[7413371, 34280461]",
           "addr-[14861339, 37262337]",
           "addr-[22317597, 37265537]",
           "addr-[29770557, 37268737]",
           "addr-[0, 37260149]",
           "addr-[463]",
           "addr-[37268781, 39674399]",
           "addr-[37268753]",
           "file-aggregate.h5"
          ],
          "x": [
           0,
           0.34090909090909094,
           0.11363636363636365,
           0.1590909090909091,
           0.20454545454545456,
           0.25,
           0.29545454545454547,
           0.38636363636363635,
           0.36363636363636365,
           0.7272727272727273,
           0.5454545454545454,
           0.5909090909090909,
           0.6363636363636364,
           0.6590909090909091,
           0.7727272727272727,
           0.8181818181818182,
           0.75,
           0.7045454545454546,
           0.7954545454545455,
           1
          ],
          "y": [
           0,
           0,
           0.1,
           0.2,
           0.30000000000000004,
           0.4,
           0.5,
           0.6000000000000001,
           0.7000000000000001,
           0.1,
           0.9,
           1,
           0.30000000000000004,
           0.4,
           0.5,
           0.2,
           0.8,
           0.7000000000000001,
           0.6000000000000001,
           0
          ]
         },
         "orientation": "h",
         "type": "sankey"
        }
       ],
       "layout": {
        "autosize": false,
        "height": 400,
        "margin": {
         "b": 40,
         "l": 40,
         "pad": 2,
         "r": 40,
         "t": 10
        },
        "template": {
         "data": {
          "bar": [
           {
            "error_x": {
             "color": "#2a3f5f"
            },
            "error_y": {
             "color": "#2a3f5f"
            },
            "marker": {
             "line": {
              "color": "#E5ECF6",
              "width": 0.5
             },
             "pattern": {
              "fillmode": "overlay",
              "size": 10,
              "solidity": 0.2
             }
            },
            "type": "bar"
           }
          ],
          "barpolar": [
           {
            "marker": {
             "line": {
              "color": "#E5ECF6",
              "width": 0.5
             },
             "pattern": {
              "fillmode": "overlay",
              "size": 10,
              "solidity": 0.2
             }
            },
            "type": "barpolar"
           }
          ],
          "carpet": [
           {
            "aaxis": {
             "endlinecolor": "#2a3f5f",
             "gridcolor": "white",
             "linecolor": "white",
             "minorgridcolor": "white",
             "startlinecolor": "#2a3f5f"
            },
            "baxis": {
             "endlinecolor": "#2a3f5f",
             "gridcolor": "white",
             "linecolor": "white",
             "minorgridcolor": "white",
             "startlinecolor": "#2a3f5f"
            },
            "type": "carpet"
           }
          ],
          "choropleth": [
           {
            "colorbar": {
             "outlinewidth": 0,
             "ticks": ""
            },
            "type": "choropleth"
           }
          ],
          "contour": [
           {
            "colorbar": {
             "outlinewidth": 0,
             "ticks": ""
            },
            "colorscale": [
             [
              0,
              "#0d0887"
             ],
             [
              0.1111111111111111,
              "#46039f"
             ],
             [
              0.2222222222222222,
              "#7201a8"
             ],
             [
              0.3333333333333333,
              "#9c179e"
             ],
             [
              0.4444444444444444,
              "#bd3786"
             ],
             [
              0.5555555555555556,
              "#d8576b"
             ],
             [
              0.6666666666666666,
              "#ed7953"
             ],
             [
              0.7777777777777778,
              "#fb9f3a"
             ],
             [
              0.8888888888888888,
              "#fdca26"
             ],
             [
              1,
              "#f0f921"
             ]
            ],
            "type": "contour"
           }
          ],
          "contourcarpet": [
           {
            "colorbar": {
             "outlinewidth": 0,
             "ticks": ""
            },
            "type": "contourcarpet"
           }
          ],
          "heatmap": [
           {
            "colorbar": {
             "outlinewidth": 0,
             "ticks": ""
            },
            "colorscale": [
             [
              0,
              "#0d0887"
             ],
             [
              0.1111111111111111,
              "#46039f"
             ],
             [
              0.2222222222222222,
              "#7201a8"
             ],
             [
              0.3333333333333333,
              "#9c179e"
             ],
             [
              0.4444444444444444,
              "#bd3786"
             ],
             [
              0.5555555555555556,
              "#d8576b"
             ],
             [
              0.6666666666666666,
              "#ed7953"
             ],
             [
              0.7777777777777778,
              "#fb9f3a"
             ],
             [
              0.8888888888888888,
              "#fdca26"
             ],
             [
              1,
              "#f0f921"
             ]
            ],
            "type": "heatmap"
           }
          ],
          "heatmapgl": [
           {
            "colorbar": {
             "outlinewidth": 0,
             "ticks": ""
            },
            "colorscale": [
             [
              0,
              "#0d0887"
             ],
             [
              0.1111111111111111,
              "#46039f"
             ],
             [
              0.2222222222222222,
              "#7201a8"
             ],
             [
              0.3333333333333333,
              "#9c179e"
             ],
             [
              0.4444444444444444,
              "#bd3786"
             ],
             [
              0.5555555555555556,
              "#d8576b"
             ],
             [
              0.6666666666666666,
              "#ed7953"
             ],
             [
              0.7777777777777778,
              "#fb9f3a"
             ],
             [
              0.8888888888888888,
              "#fdca26"
             ],
             [
              1,
              "#f0f921"
             ]
            ],
            "type": "heatmapgl"
           }
          ],
          "histogram": [
           {
            "marker": {
             "pattern": {
              "fillmode": "overlay",
              "size": 10,
              "solidity": 0.2
             }
            },
            "type": "histogram"
           }
          ],
          "histogram2d": [
           {
            "colorbar": {
             "outlinewidth": 0,
             "ticks": ""
            },
            "colorscale": [
             [
              0,
              "#0d0887"
             ],
             [
              0.1111111111111111,
              "#46039f"
             ],
             [
              0.2222222222222222,
              "#7201a8"
             ],
             [
              0.3333333333333333,
              "#9c179e"
             ],
             [
              0.4444444444444444,
              "#bd3786"
             ],
             [
              0.5555555555555556,
              "#d8576b"
             ],
             [
              0.6666666666666666,
              "#ed7953"
             ],
             [
              0.7777777777777778,
              "#fb9f3a"
             ],
             [
              0.8888888888888888,
              "#fdca26"
             ],
             [
              1,
              "#f0f921"
             ]
            ],
            "type": "histogram2d"
           }
          ],
          "histogram2dcontour": [
           {
            "colorbar": {
             "outlinewidth": 0,
             "ticks": ""
            },
            "colorscale": [
             [
              0,
              "#0d0887"
             ],
             [
              0.1111111111111111,
              "#46039f"
             ],
             [
              0.2222222222222222,
              "#7201a8"
             ],
             [
              0.3333333333333333,
              "#9c179e"
             ],
             [
              0.4444444444444444,
              "#bd3786"
             ],
             [
              0.5555555555555556,
              "#d8576b"
             ],
             [
              0.6666666666666666,
              "#ed7953"
             ],
             [
              0.7777777777777778,
              "#fb9f3a"
             ],
             [
              0.8888888888888888,
              "#fdca26"
             ],
             [
              1,
              "#f0f921"
             ]
            ],
            "type": "histogram2dcontour"
           }
          ],
          "mesh3d": [
           {
            "colorbar": {
             "outlinewidth": 0,
             "ticks": ""
            },
            "type": "mesh3d"
           }
          ],
          "parcoords": [
           {
            "line": {
             "colorbar": {
              "outlinewidth": 0,
              "ticks": ""
             }
            },
            "type": "parcoords"
           }
          ],
          "pie": [
           {
            "automargin": true,
            "type": "pie"
           }
          ],
          "scatter": [
           {
            "fillpattern": {
             "fillmode": "overlay",
             "size": 10,
             "solidity": 0.2
            },
            "type": "scatter"
           }
          ],
          "scatter3d": [
           {
            "line": {
             "colorbar": {
              "outlinewidth": 0,
              "ticks": ""
             }
            },
            "marker": {
             "colorbar": {
              "outlinewidth": 0,
              "ticks": ""
             }
            },
            "type": "scatter3d"
           }
          ],
          "scattercarpet": [
           {
            "marker": {
             "colorbar": {
              "outlinewidth": 0,
              "ticks": ""
             }
            },
            "type": "scattercarpet"
           }
          ],
          "scattergeo": [
           {
            "marker": {
             "colorbar": {
              "outlinewidth": 0,
              "ticks": ""
             }
            },
            "type": "scattergeo"
           }
          ],
          "scattergl": [
           {
            "marker": {
             "colorbar": {
              "outlinewidth": 0,
              "ticks": ""
             }
            },
            "type": "scattergl"
           }
          ],
          "scattermapbox": [
           {
            "marker": {
             "colorbar": {
              "outlinewidth": 0,
              "ticks": ""
             }
            },
            "type": "scattermapbox"
           }
          ],
          "scatterpolar": [
           {
            "marker": {
             "colorbar": {
              "outlinewidth": 0,
              "ticks": ""
             }
            },
            "type": "scatterpolar"
           }
          ],
          "scatterpolargl": [
           {
            "marker": {
             "colorbar": {
              "outlinewidth": 0,
              "ticks": ""
             }
            },
            "type": "scatterpolargl"
           }
          ],
          "scatterternary": [
           {
            "marker": {
             "colorbar": {
              "outlinewidth": 0,
              "ticks": ""
             }
            },
            "type": "scatterternary"
           }
          ],
          "surface": [
           {
            "colorbar": {
             "outlinewidth": 0,
             "ticks": ""
            },
            "colorscale": [
             [
              0,
              "#0d0887"
             ],
             [
              0.1111111111111111,
              "#46039f"
             ],
             [
              0.2222222222222222,
              "#7201a8"
             ],
             [
              0.3333333333333333,
              "#9c179e"
             ],
             [
              0.4444444444444444,
              "#bd3786"
             ],
             [
              0.5555555555555556,
              "#d8576b"
             ],
             [
              0.6666666666666666,
              "#ed7953"
             ],
             [
              0.7777777777777778,
              "#fb9f3a"
             ],
             [
              0.8888888888888888,
              "#fdca26"
             ],
             [
              1,
              "#f0f921"
             ]
            ],
            "type": "surface"
           }
          ],
          "table": [
           {
            "cells": {
             "fill": {
              "color": "#EBF0F8"
             },
             "line": {
              "color": "white"
             }
            },
            "header": {
             "fill": {
              "color": "#C8D4E3"
             },
             "line": {
              "color": "white"
             }
            },
            "type": "table"
           }
          ]
         },
         "layout": {
          "annotationdefaults": {
           "arrowcolor": "#2a3f5f",
           "arrowhead": 0,
           "arrowwidth": 1
          },
          "autotypenumbers": "strict",
          "coloraxis": {
           "colorbar": {
            "outlinewidth": 0,
            "ticks": ""
           }
          },
          "colorscale": {
           "diverging": [
            [
             0,
             "#8e0152"
            ],
            [
             0.1,
             "#c51b7d"
            ],
            [
             0.2,
             "#de77ae"
            ],
            [
             0.3,
             "#f1b6da"
            ],
            [
             0.4,
             "#fde0ef"
            ],
            [
             0.5,
             "#f7f7f7"
            ],
            [
             0.6,
             "#e6f5d0"
            ],
            [
             0.7,
             "#b8e186"
            ],
            [
             0.8,
             "#7fbc41"
            ],
            [
             0.9,
             "#4d9221"
            ],
            [
             1,
             "#276419"
            ]
           ],
           "sequential": [
            [
             0,
             "#0d0887"
            ],
            [
             0.1111111111111111,
             "#46039f"
            ],
            [
             0.2222222222222222,
             "#7201a8"
            ],
            [
             0.3333333333333333,
             "#9c179e"
            ],
            [
             0.4444444444444444,
             "#bd3786"
            ],
            [
             0.5555555555555556,
             "#d8576b"
            ],
            [
             0.6666666666666666,
             "#ed7953"
            ],
            [
             0.7777777777777778,
             "#fb9f3a"
            ],
            [
             0.8888888888888888,
             "#fdca26"
            ],
            [
             1,
             "#f0f921"
            ]
           ],
           "sequentialminus": [
            [
             0,
             "#0d0887"
            ],
            [
             0.1111111111111111,
             "#46039f"
            ],
            [
             0.2222222222222222,
             "#7201a8"
            ],
            [
             0.3333333333333333,
             "#9c179e"
            ],
            [
             0.4444444444444444,
             "#bd3786"
            ],
            [
             0.5555555555555556,
             "#d8576b"
            ],
            [
             0.6666666666666666,
             "#ed7953"
            ],
            [
             0.7777777777777778,
             "#fb9f3a"
            ],
            [
             0.8888888888888888,
             "#fdca26"
            ],
            [
             1,
             "#f0f921"
            ]
           ]
          },
          "colorway": [
           "#636efa",
           "#EF553B",
           "#00cc96",
           "#ab63fa",
           "#FFA15A",
           "#19d3f3",
           "#FF6692",
           "#B6E880",
           "#FF97FF",
           "#FECB52"
          ],
          "font": {
           "color": "#2a3f5f"
          },
          "geo": {
           "bgcolor": "white",
           "lakecolor": "white",
           "landcolor": "#E5ECF6",
           "showlakes": true,
           "showland": true,
           "subunitcolor": "white"
          },
          "hoverlabel": {
           "align": "left"
          },
          "hovermode": "closest",
          "mapbox": {
           "style": "light"
          },
          "paper_bgcolor": "white",
          "plot_bgcolor": "#E5ECF6",
          "polar": {
           "angularaxis": {
            "gridcolor": "white",
            "linecolor": "white",
            "ticks": ""
           },
           "bgcolor": "#E5ECF6",
           "radialaxis": {
            "gridcolor": "white",
            "linecolor": "white",
            "ticks": ""
           }
          },
          "scene": {
           "xaxis": {
            "backgroundcolor": "#E5ECF6",
            "gridcolor": "white",
            "gridwidth": 2,
            "linecolor": "white",
            "showbackground": true,
            "ticks": "",
            "zerolinecolor": "white"
           },
           "yaxis": {
            "backgroundcolor": "#E5ECF6",
            "gridcolor": "white",
            "gridwidth": 2,
            "linecolor": "white",
            "showbackground": true,
            "ticks": "",
            "zerolinecolor": "white"
           },
           "zaxis": {
            "backgroundcolor": "#E5ECF6",
            "gridcolor": "white",
            "gridwidth": 2,
            "linecolor": "white",
            "showbackground": true,
            "ticks": "",
            "zerolinecolor": "white"
           }
          },
          "shapedefaults": {
           "line": {
            "color": "#2a3f5f"
           }
          },
          "ternary": {
           "aaxis": {
            "gridcolor": "white",
            "linecolor": "white",
            "ticks": ""
           },
           "baxis": {
            "gridcolor": "white",
            "linecolor": "white",
            "ticks": ""
           },
           "bgcolor": "#E5ECF6",
           "caxis": {
            "gridcolor": "white",
            "linecolor": "white",
            "ticks": ""
           }
          },
          "title": {
           "x": 0.05
          },
          "xaxis": {
           "automargin": true,
           "gridcolor": "white",
           "linecolor": "white",
           "ticks": "",
           "title": {
            "standoff": 15
           },
           "zerolinecolor": "white",
           "zerolinewidth": 2
          },
          "yaxis": {
           "automargin": true,
           "gridcolor": "white",
           "linecolor": "white",
           "ticks": "",
           "title": {
            "standoff": 15
           },
           "zerolinecolor": "white",
           "zerolinewidth": 2
          }
         }
        },
        "width": 1200
       }
      }
     },
     "metadata": {},
     "output_type": "display_data"
    }
   ],
   "source": [
    "agg_w_nodes, agg_w_nodes_dict = get_nodes_for_sankey(G_AGG_W, rm_tags=['agg_w'])\n",
    "\n",
    "# print(node_ref2)\n",
    "\n",
    "agg_w_links = get_links_for_sankey(G_AGG_W, agg_w_nodes_dict)\n",
    "fig = go.Figure(go.Sankey(\n",
    "            node = agg_w_nodes,\n",
    "            link = agg_w_links, orientation='h'))\n",
    "\n",
    "\n",
    "fig.update_layout(\n",
    "    autosize=False,\n",
    "    width=1200,\n",
    "    height=400,\n",
    "    margin=dict(\n",
    "        l=40,\n",
    "        r=40,\n",
    "        b=40,\n",
    "        t=10,\n",
    "        pad=2\n",
    "    ),\n",
    ")\n",
    "\n",
    "fig.show()\n",
    "fig.write_html(f\"{IMAGE_PATH}/sankey-grouped-agg_w-vol-vfd-.html\")"
   ]
  },
  {
   "cell_type": "code",
   "execution_count": null,
   "metadata": {},
   "outputs": [
    {
     "data": {
      "application/vnd.plotly.v1+json": {
       "config": {
        "plotlyServerURL": "https://plot.ly"
       },
       "data": [
        {
         "link": {
          "color": [
           "rgba(146.07843137254903, 186.07843137254903, 216.07843137254903, 0.4294117647058824)",
           "rgba(91.1764705882353, 131.1764705882353, 161.1764705882353, 0.8411764705882353)",
           "rgba(106.86274509803923, 146.86274509803923, 176.86274509803923, 0.723529411764706)",
           "rgba(102.94117647058823, 142.94117647058823, 172.94117647058823, 0.7529411764705882)",
           "rgba(118.62745098039215, 158.62745098039215, 188.62745098039215, 0.6352941176470588)",
           "rgba(95.09803921568627, 135.09803921568627, 165.09803921568627, 0.8117647058823529)",
           "rgba(146.07843137254903, 186.07843137254903, 216.07843137254903, 0.4294117647058824)",
           "rgba(83.33333333333333, 123.33333333333333, 153.33333333333331, 0.9)",
           "rgba(130.39215686274508, 170.39215686274508, 200.39215686274508, 0.5470588235294118)",
           "rgba(142.15686274509804, 182.15686274509804, 212.15686274509804, 0.45882352941176474)",
           "rgba(87.25490196078431, 127.25490196078431, 157.2549019607843, 0.8705882352941177)",
           "rgba(114.70588235294117, 154.70588235294116, 184.70588235294116, 0.6647058823529413)",
           "rgba(110.7843137254902, 150.7843137254902, 180.7843137254902, 0.6941176470588235)",
           "rgba(122.54901960784314, 162.54901960784315, 192.54901960784315, 0.6058823529411765)",
           "rgba(99.01960784313727, 139.01960784313727, 169.01960784313727, 0.7823529411764706)",
           "rgba(134.31372549019608, 174.31372549019608, 204.31372549019608, 0.5176470588235295)",
           "rgba(142.15686274509804, 182.15686274509804, 212.15686274509804, 0.45882352941176474)",
           "rgba(126.47058823529412, 166.47058823529412, 196.47058823529412, 0.5764705882352942)",
           "rgba(83.33333333333333, 123.33333333333333, 153.33333333333331, 0.9)",
           "rgba(130.39215686274508, 170.39215686274508, 200.39215686274508, 0.5470588235294118)",
           "rgba(138.23529411764707, 178.23529411764707, 208.23529411764707, 0.4882352941176471)",
           "rgba(87.25490196078431, 127.25490196078431, 157.2549019607843, 0.8705882352941177)",
           "rgba(114.70588235294117, 154.70588235294116, 184.70588235294116, 0.6647058823529413)",
           "rgba(110.7843137254902, 150.7843137254902, 180.7843137254902, 0.6941176470588235)",
           "rgba(122.54901960784314, 162.54901960784315, 192.54901960784315, 0.6058823529411765)",
           "rgba(99.01960784313727, 139.01960784313727, 169.01960784313727, 0.7823529411764706)",
           "rgba(134.31372549019608, 174.31372549019608, 204.31372549019608, 0.5176470588235295)",
           "rgba(83.33333333333333, 123.33333333333333, 153.33333333333331, 0.9)",
           "rgba(126.47058823529412, 166.47058823529412, 196.47058823529412, 0.5764705882352942)",
           "rgba(145.83333333333334, 185.83333333333334, 215.83333333333334, 0.43125)",
           "rgba(87.5, 127.5, 157.5, 0.86875)",
           "rgba(91.66666666666666, 131.66666666666666, 161.66666666666666, 0.8375)",
           "rgba(95.83333333333334, 135.83333333333334, 165.83333333333334, 0.80625)",
           "rgba(104.16666666666666, 144.16666666666666, 174.16666666666666, 0.74375)",
           "rgba(100.0, 140.0, 170.0, 0.775)",
           "rgba(145.83333333333334, 185.83333333333334, 215.83333333333334, 0.43125)",
           "rgba(83.33333333333333, 123.33333333333333, 153.33333333333331, 0.9)",
           "rgba(141.66666666666666, 181.66666666666666, 211.66666666666666, 0.4625)",
           "rgba(133.33333333333334, 173.33333333333334, 203.33333333333334, 0.525)",
           "rgba(108.33333333333334, 148.33333333333334, 178.33333333333334, 0.7125)",
           "rgba(116.66666666666666, 156.66666666666666, 186.66666666666666, 0.65)",
           "rgba(120.83333333333333, 160.83333333333334, 190.83333333333334, 0.61875)",
           "rgba(112.5, 152.5, 182.5, 0.68125)",
           "rgba(125.0, 165.0, 195.0, 0.5875)",
           "rgba(137.5, 177.5, 207.5, 0.49375)",
           "rgba(133.33333333333334, 173.33333333333334, 203.33333333333334, 0.525)",
           "rgba(129.16666666666666, 169.16666666666666, 199.16666666666666, 0.55625)",
           "rgba(141.66666666666666, 181.66666666666666, 211.66666666666666, 0.4625)",
           "rgba(108.33333333333334, 148.33333333333334, 178.33333333333334, 0.7125)",
           "rgba(116.66666666666666, 156.66666666666666, 186.66666666666666, 0.65)",
           "rgba(120.83333333333333, 160.83333333333334, 190.83333333333334, 0.61875)",
           "rgba(112.5, 152.5, 182.5, 0.68125)",
           "rgba(125.0, 165.0, 195.0, 0.5875)",
           "rgba(137.5, 177.5, 207.5, 0.49375)",
           "rgba(133.33333333333334, 173.33333333333334, 203.33333333333334, 0.525)",
           "rgba(129.16666666666666, 169.16666666666666, 199.16666666666666, 0.55625)",
           "rgba(133.33333333333334, 173.33333333333334, 203.33333333333334, 0.525)"
          ],
          "label": [
           "Access Volume : 0 <br />Access Count : 3 <br />Average Access Size : 0 <br />Operation : read<br />Bandwidth : 0",
           "Access Volume : 7.42 MB <br />Access Count : 200 <br />Average Access Size : 37.11 KB <br />Operation : read<br />Bandwidth : 11.12 MB/s",
           "Access Volume : 7.44 MB <br />Access Count : 200 <br />Average Access Size : 37.21 KB <br />Operation : read<br />Bandwidth : 10.68 MB/s",
           "Access Volume : 7.44 MB <br />Access Count : 200 <br />Average Access Size : 37.2 KB <br />Operation : read<br />Bandwidth : 10.69 MB/s",
           "Access Volume : 7.44 MB <br />Access Count : 200 <br />Average Access Size : 37.21 KB <br />Operation : read<br />Bandwidth : 10.43 MB/s",
           "Access Volume : 7.48 MB <br />Access Count : 201 <br />Average Access Size : 37.21 KB <br />Operation : read<br />Bandwidth : 10.78 MB/s",
           "Access Volume : 0 <br />Access Count : 3 <br />Average Access Size : 0 <br />Operation : read<br />Bandwidth : 0",
           "Access Volume : 2.4 MB <br />Access Count : 1 <br />Average Access Size : 2.4 MB <br />Operation : read<br />Bandwidth : 1.56 GB/s",
           "Access Volume : 2.18 KB <br />Access Count : 8 <br />Average Access Size : 273 B <br />Operation : read<br />Bandwidth : 46.58 KB/s",
           "Access Volume : 328 B <br />Access Count : 1 <br />Average Access Size : 328 B <br />Operation : read<br />Bandwidth : 93.56 B/s",
           "Access Volume : 7.43 MB <br />Access Count : 399 <br />Average Access Size : 18.62 KB <br />Operation : read<br />Bandwidth : 11.19 MB/s",
           "Access Volume : 7.45 MB <br />Access Count : 400 <br />Average Access Size : 18.62 KB <br />Operation : read<br />Bandwidth : 10.67 MB/s",
           "Access Volume : 7.45 MB <br />Access Count : 400 <br />Average Access Size : 18.62 KB <br />Operation : read<br />Bandwidth : 10.68 MB/s",
           "Access Volume : 7.45 MB <br />Access Count : 400 <br />Average Access Size : 18.62 KB <br />Operation : read<br />Bandwidth : 10.41 MB/s",
           "Access Volume : 7.49 MB <br />Access Count : 402 <br />Average Access Size : 18.62 KB <br />Operation : read<br />Bandwidth : 10.76 MB/s",
           "Access Volume : 1.57 KB <br />Access Count : 4 <br />Average Access Size : 392 B <br />Operation : read<br />Bandwidth : 32.85 KB/s",
           "Access Volume : 328 B <br />Access Count : 1 <br />Average Access Size : 328 B <br />Operation : read<br />Bandwidth : 93.56 B/s",
           "Access Volume : 512 B <br />Access Count : 1 <br />Average Access Size : 512 B <br />Operation : read<br />Bandwidth : 332.9 KB/s",
           "Access Volume : 2.4 MB <br />Access Count : 1 <br />Average Access Size : 2.4 MB <br />Operation : read<br />Bandwidth : 1.56 GB/s",
           "Access Volume : 2.18 KB <br />Access Count : 8 <br />Average Access Size : 273 B <br />Operation : read<br />Bandwidth : 46.58 KB/s",
           "Access Volume : 656 B <br />Access Count : 2 <br />Average Access Size : 328 B <br />Operation : read<br />Bandwidth : 187.13 B/s",
           "Access Volume : 7.43 MB <br />Access Count : 399 <br />Average Access Size : 18.62 KB <br />Operation : read<br />Bandwidth : 11.19 MB/s",
           "Access Volume : 7.45 MB <br />Access Count : 400 <br />Average Access Size : 18.62 KB <br />Operation : read<br />Bandwidth : 10.67 MB/s",
           "Access Volume : 7.45 MB <br />Access Count : 400 <br />Average Access Size : 18.62 KB <br />Operation : read<br />Bandwidth : 10.68 MB/s",
           "Access Volume : 7.45 MB <br />Access Count : 400 <br />Average Access Size : 18.62 KB <br />Operation : read<br />Bandwidth : 10.41 MB/s",
           "Access Volume : 7.49 MB <br />Access Count : 402 <br />Average Access Size : 18.62 KB <br />Operation : read<br />Bandwidth : 10.76 MB/s",
           "Access Volume : 1.57 KB <br />Access Count : 4 <br />Average Access Size : 392 B <br />Operation : read<br />Bandwidth : 32.85 KB/s",
           "Access Volume : 2.4 MB <br />Access Count : 1 <br />Average Access Size : 2.4 MB <br />Operation : read<br />Bandwidth : 1.56 GB/s",
           "Access Volume : 512 B <br />Access Count : 1 <br />Average Access Size : 512 B <br />Operation : read<br />Bandwidth : 332.9 KB/s",
           "Access Volume : 0 <br />Access Count : 3 <br />Average Access Size : 0 <br />Operation : write<br />Bandwidth : 0",
           "Access Volume : 7.42 MB <br />Access Count : 200 <br />Average Access Size : 37.11 KB <br />Operation : write<br />Bandwidth : 5.64 MB/s",
           "Access Volume : 7.44 MB <br />Access Count : 200 <br />Average Access Size : 37.21 KB <br />Operation : write<br />Bandwidth : 4.46 MB/s",
           "Access Volume : 7.44 MB <br />Access Count : 200 <br />Average Access Size : 37.2 KB <br />Operation : write<br />Bandwidth : 4.06 MB/s",
           "Access Volume : 7.44 MB <br />Access Count : 200 <br />Average Access Size : 37.21 KB <br />Operation : write<br />Bandwidth : 2.37 MB/s",
           "Access Volume : 7.48 MB <br />Access Count : 201 <br />Average Access Size : 37.21 KB <br />Operation : write<br />Bandwidth : 2.68 MB/s",
           "Access Volume : 0 <br />Access Count : 3 <br />Average Access Size : 0 <br />Operation : write<br />Bandwidth : 0",
           "Access Volume : 2.4 MB <br />Access Count : 1 <br />Average Access Size : 2.4 MB <br />Operation : write<br />Bandwidth : 1.56 GB/s",
           "Access Volume : 562 B <br />Access Count : 4 <br />Average Access Size : 140.5 B <br />Operation : write<br />Bandwidth : 25.2 B/s",
           "Access Volume : 28 B <br />Access Count : 1 <br />Average Access Size : 28 B <br />Operation : write<br />Bandwidth : 18.21 KB/s",
           "Access Volume : 7.42 MB <br />Access Count : 398 <br />Average Access Size : 18.63 KB <br />Operation : write<br />Bandwidth : 1.14 MB/s",
           "Access Volume : 7.45 MB <br />Access Count : 400 <br />Average Access Size : 18.63 KB <br />Operation : write<br />Bandwidth : 912.66 KB/s",
           "Access Volume : 7.45 MB <br />Access Count : 400 <br />Average Access Size : 18.63 KB <br />Operation : write<br />Bandwidth : 856.42 KB/s",
           "Access Volume : 7.45 MB <br />Access Count : 400 <br />Average Access Size : 18.63 KB <br />Operation : write<br />Bandwidth : 928.42 KB/s",
           "Access Volume : 7.49 MB <br />Access Count : 401 <br />Average Access Size : 18.68 KB <br />Operation : write<br />Bandwidth : 530 KB/s",
           "Access Volume : 876 B <br />Access Count : 5 <br />Average Access Size : 175.2 B <br />Operation : write<br />Bandwidth : 74.18 B/s",
           "Access Volume : 28 B <br />Access Count : 1 <br />Average Access Size : 28 B <br />Operation : write<br />Bandwidth : 18.21 KB/s",
           "Access Volume : 2.4 MB <br />Access Count : 1000 <br />Average Access Size : 2.4 KB <br />Operation : write<br />Bandwidth : 328.73 KB/s",
           "Access Volume : 562 B <br />Access Count : 4 <br />Average Access Size : 140.5 B <br />Operation : write<br />Bandwidth : 25.2 B/s",
           "Access Volume : 7.42 MB <br />Access Count : 398 <br />Average Access Size : 18.63 KB <br />Operation : write<br />Bandwidth : 1.14 MB/s",
           "Access Volume : 7.45 MB <br />Access Count : 400 <br />Average Access Size : 18.63 KB <br />Operation : write<br />Bandwidth : 912.66 KB/s",
           "Access Volume : 7.45 MB <br />Access Count : 400 <br />Average Access Size : 18.63 KB <br />Operation : write<br />Bandwidth : 856.42 KB/s",
           "Access Volume : 7.45 MB <br />Access Count : 400 <br />Average Access Size : 18.63 KB <br />Operation : write<br />Bandwidth : 928.42 KB/s",
           "Access Volume : 7.49 MB <br />Access Count : 401 <br />Average Access Size : 18.68 KB <br />Operation : write<br />Bandwidth : 530 KB/s",
           "Access Volume : 876 B <br />Access Count : 5 <br />Average Access Size : 175.2 B <br />Operation : write<br />Bandwidth : 74.18 B/s",
           "Access Volume : 28 B <br />Access Count : 1 <br />Average Access Size : 28 B <br />Operation : write<br />Bandwidth : 18.21 KB/s",
           "Access Volume : 2.4 MB <br />Access Count : 1000 <br />Average Access Size : 2.4 KB <br />Operation : write<br />Bandwidth : 328.73 KB/s",
           "Access Volume : 28 B <br />Access Count : 1 <br />Average Access Size : 28 B <br />Operation : write<br />Bandwidth : 18.21 KB/s"
          ],
          "source": [
           0,
           0,
           0,
           0,
           0,
           0,
           0,
           0,
           1,
           1,
           2,
           3,
           4,
           5,
           6,
           7,
           7,
           7,
           8,
           9,
           10,
           11,
           12,
           13,
           14,
           15,
           16,
           17,
           18,
           19,
           19,
           19,
           19,
           19,
           19,
           19,
           19,
           20,
           20,
           21,
           22,
           23,
           24,
           25,
           26,
           26,
           27,
           28,
           29,
           30,
           31,
           32,
           33,
           34,
           35,
           36,
           37
          ],
          "target": [
           1,
           2,
           3,
           4,
           5,
           6,
           7,
           8,
           9,
           10,
           11,
           12,
           13,
           14,
           15,
           16,
           10,
           18,
           17,
           19,
           19,
           19,
           19,
           19,
           19,
           19,
           19,
           19,
           19,
           20,
           21,
           22,
           23,
           24,
           25,
           26,
           27,
           28,
           35,
           29,
           30,
           31,
           32,
           33,
           34,
           37,
           36,
           38,
           38,
           38,
           38,
           38,
           38,
           38,
           38,
           38,
           38
          ],
          "value": [
           1,
           7422108,
           7441148,
           7440164,
           7442936,
           7479508,
           1,
           2400000,
           2184,
           328,
           7428880,
           7447968,
           7446976,
           7449760,
           7486392,
           1568,
           328,
           512,
           2400000,
           2184,
           656,
           7428880,
           7447968,
           7446976,
           7449760,
           7486392,
           1568,
           2400000,
           512,
           1,
           7422108,
           7441148,
           7440164,
           7442936,
           7479508,
           1,
           2400000,
           562,
           28,
           7416064,
           7451168,
           7450176,
           7452960,
           7489592,
           876,
           28,
           2400000,
           562,
           7416064,
           7451168,
           7450176,
           7452960,
           7489592,
           876,
           28,
           2400000,
           28
          ]
         },
         "node": {
          "color": [
           "MediumBlue",
           "Gold",
           "Gold",
           "Gold",
           "Gold",
           "Gold",
           "Gold",
           "Magenta",
           "Magenta",
           "LimeGreen",
           "LimeGreen",
           "LimeGreen",
           "LimeGreen",
           "LimeGreen",
           "LimeGreen",
           "LimeGreen",
           "LimeGreen",
           "LimeGreen",
           "LimeGreen",
           "Red",
           "Gold",
           "Gold",
           "Gold",
           "Gold",
           "Gold",
           "Gold",
           "Magenta",
           "Magenta",
           "LimeGreen",
           "LimeGreen",
           "LimeGreen",
           "LimeGreen",
           "LimeGreen",
           "LimeGreen",
           "LimeGreen",
           "LimeGreen",
           "LimeGreen",
           "LimeGreen",
           "MediumBlue"
          ],
          "label": [
           "file-residue.h5",
           "cm-[-1,0)",
           "cm-[0,200)",
           "cm-[200,400)",
           "cm-[400,600)",
           "cm-[600,800)",
           "cm-[800,1000)",
           "pc-[-1,0)",
           "pc-[0,1)",
           "addr-[0, 800]",
           "addr-[1072]",
           "addr-[1400, 7396848]",
           "addr-[7430280, 14845472]",
           "addr-[14878248, 22291752]",
           "addr-[22325224, 29741864]",
           "addr-[29774984, 37228112]",
           "addr-[0, 1072]",
           "addr-[37261648, 37261648]",
           "addr-[37261376]",
           "task-aggregator",
           "cm-[-1,0)",
           "cm-[0,200)",
           "cm-[200,400)",
           "cm-[400,600)",
           "cm-[600,800)",
           "cm-[800,1000)",
           "pc-[-1,0)",
           "pc-[0,1)",
           "addr-[0, 195]",
           "addr-[491, 26827037]",
           "addr-[7413371, 34280461]",
           "addr-[14861339, 37262337]",
           "addr-[22317597, 37265537]",
           "addr-[29770557, 37268737]",
           "addr-[0, 37260149]",
           "addr-[463]",
           "addr-[37268781, 39674399]",
           "addr-[37268753]",
           "file-aggregate.h5"
          ],
          "x": [
           0,
           0.1590909090909091,
           0.05681818181818182,
           0.07954545454545454,
           0.10227272727272728,
           0.125,
           0.14772727272727273,
           0.19318181818181818,
           0.18181818181818182,
           0.23863636363636365,
           0.375,
           0.26136363636363635,
           0.2840909090909091,
           0.3068181818181818,
           0.32954545454545453,
           0.3522727272727273,
           0.4090909090909091,
           0.39772727272727276,
           0.38636363636363635,
           0.5,
           0.6704545454545455,
           0.5568181818181819,
           0.5795454545454546,
           0.6022727272727273,
           0.625,
           0.6477272727272727,
           0.6931818181818182,
           0.6818181818181819,
           0.8636363636363636,
           0.7727272727272727,
           0.7954545454545455,
           0.8181818181818182,
           0.8295454545454546,
           0.8863636363636364,
           0.9090909090909092,
           0.875,
           0.8522727272727273,
           0.8977272727272727,
           1
          ],
          "y": [
           0,
           0,
           0.1,
           0.2,
           0.30000000000000004,
           0.4,
           0.5,
           0.6000000000000001,
           0.7000000000000001,
           0.2,
           0.30000000000000004,
           0.4,
           1,
           0.5,
           0.6000000000000001,
           0.7000000000000001,
           0.1,
           0.9,
           0.8,
           0,
           0,
           0.1,
           0.2,
           0.30000000000000004,
           0.4,
           0.5,
           0.6000000000000001,
           0.7000000000000001,
           0.1,
           0.9,
           1,
           0.30000000000000004,
           0.4,
           0.5,
           0.2,
           0.8,
           0.7000000000000001,
           0.6000000000000001,
           0
          ]
         },
         "orientation": "h",
         "type": "sankey"
        }
       ],
       "layout": {
        "autosize": false,
        "height": 400,
        "margin": {
         "b": 40,
         "l": 40,
         "pad": 2,
         "r": 40,
         "t": 40
        },
        "template": {
         "data": {
          "bar": [
           {
            "error_x": {
             "color": "#2a3f5f"
            },
            "error_y": {
             "color": "#2a3f5f"
            },
            "marker": {
             "line": {
              "color": "#E5ECF6",
              "width": 0.5
             },
             "pattern": {
              "fillmode": "overlay",
              "size": 10,
              "solidity": 0.2
             }
            },
            "type": "bar"
           }
          ],
          "barpolar": [
           {
            "marker": {
             "line": {
              "color": "#E5ECF6",
              "width": 0.5
             },
             "pattern": {
              "fillmode": "overlay",
              "size": 10,
              "solidity": 0.2
             }
            },
            "type": "barpolar"
           }
          ],
          "carpet": [
           {
            "aaxis": {
             "endlinecolor": "#2a3f5f",
             "gridcolor": "white",
             "linecolor": "white",
             "minorgridcolor": "white",
             "startlinecolor": "#2a3f5f"
            },
            "baxis": {
             "endlinecolor": "#2a3f5f",
             "gridcolor": "white",
             "linecolor": "white",
             "minorgridcolor": "white",
             "startlinecolor": "#2a3f5f"
            },
            "type": "carpet"
           }
          ],
          "choropleth": [
           {
            "colorbar": {
             "outlinewidth": 0,
             "ticks": ""
            },
            "type": "choropleth"
           }
          ],
          "contour": [
           {
            "colorbar": {
             "outlinewidth": 0,
             "ticks": ""
            },
            "colorscale": [
             [
              0,
              "#0d0887"
             ],
             [
              0.1111111111111111,
              "#46039f"
             ],
             [
              0.2222222222222222,
              "#7201a8"
             ],
             [
              0.3333333333333333,
              "#9c179e"
             ],
             [
              0.4444444444444444,
              "#bd3786"
             ],
             [
              0.5555555555555556,
              "#d8576b"
             ],
             [
              0.6666666666666666,
              "#ed7953"
             ],
             [
              0.7777777777777778,
              "#fb9f3a"
             ],
             [
              0.8888888888888888,
              "#fdca26"
             ],
             [
              1,
              "#f0f921"
             ]
            ],
            "type": "contour"
           }
          ],
          "contourcarpet": [
           {
            "colorbar": {
             "outlinewidth": 0,
             "ticks": ""
            },
            "type": "contourcarpet"
           }
          ],
          "heatmap": [
           {
            "colorbar": {
             "outlinewidth": 0,
             "ticks": ""
            },
            "colorscale": [
             [
              0,
              "#0d0887"
             ],
             [
              0.1111111111111111,
              "#46039f"
             ],
             [
              0.2222222222222222,
              "#7201a8"
             ],
             [
              0.3333333333333333,
              "#9c179e"
             ],
             [
              0.4444444444444444,
              "#bd3786"
             ],
             [
              0.5555555555555556,
              "#d8576b"
             ],
             [
              0.6666666666666666,
              "#ed7953"
             ],
             [
              0.7777777777777778,
              "#fb9f3a"
             ],
             [
              0.8888888888888888,
              "#fdca26"
             ],
             [
              1,
              "#f0f921"
             ]
            ],
            "type": "heatmap"
           }
          ],
          "heatmapgl": [
           {
            "colorbar": {
             "outlinewidth": 0,
             "ticks": ""
            },
            "colorscale": [
             [
              0,
              "#0d0887"
             ],
             [
              0.1111111111111111,
              "#46039f"
             ],
             [
              0.2222222222222222,
              "#7201a8"
             ],
             [
              0.3333333333333333,
              "#9c179e"
             ],
             [
              0.4444444444444444,
              "#bd3786"
             ],
             [
              0.5555555555555556,
              "#d8576b"
             ],
             [
              0.6666666666666666,
              "#ed7953"
             ],
             [
              0.7777777777777778,
              "#fb9f3a"
             ],
             [
              0.8888888888888888,
              "#fdca26"
             ],
             [
              1,
              "#f0f921"
             ]
            ],
            "type": "heatmapgl"
           }
          ],
          "histogram": [
           {
            "marker": {
             "pattern": {
              "fillmode": "overlay",
              "size": 10,
              "solidity": 0.2
             }
            },
            "type": "histogram"
           }
          ],
          "histogram2d": [
           {
            "colorbar": {
             "outlinewidth": 0,
             "ticks": ""
            },
            "colorscale": [
             [
              0,
              "#0d0887"
             ],
             [
              0.1111111111111111,
              "#46039f"
             ],
             [
              0.2222222222222222,
              "#7201a8"
             ],
             [
              0.3333333333333333,
              "#9c179e"
             ],
             [
              0.4444444444444444,
              "#bd3786"
             ],
             [
              0.5555555555555556,
              "#d8576b"
             ],
             [
              0.6666666666666666,
              "#ed7953"
             ],
             [
              0.7777777777777778,
              "#fb9f3a"
             ],
             [
              0.8888888888888888,
              "#fdca26"
             ],
             [
              1,
              "#f0f921"
             ]
            ],
            "type": "histogram2d"
           }
          ],
          "histogram2dcontour": [
           {
            "colorbar": {
             "outlinewidth": 0,
             "ticks": ""
            },
            "colorscale": [
             [
              0,
              "#0d0887"
             ],
             [
              0.1111111111111111,
              "#46039f"
             ],
             [
              0.2222222222222222,
              "#7201a8"
             ],
             [
              0.3333333333333333,
              "#9c179e"
             ],
             [
              0.4444444444444444,
              "#bd3786"
             ],
             [
              0.5555555555555556,
              "#d8576b"
             ],
             [
              0.6666666666666666,
              "#ed7953"
             ],
             [
              0.7777777777777778,
              "#fb9f3a"
             ],
             [
              0.8888888888888888,
              "#fdca26"
             ],
             [
              1,
              "#f0f921"
             ]
            ],
            "type": "histogram2dcontour"
           }
          ],
          "mesh3d": [
           {
            "colorbar": {
             "outlinewidth": 0,
             "ticks": ""
            },
            "type": "mesh3d"
           }
          ],
          "parcoords": [
           {
            "line": {
             "colorbar": {
              "outlinewidth": 0,
              "ticks": ""
             }
            },
            "type": "parcoords"
           }
          ],
          "pie": [
           {
            "automargin": true,
            "type": "pie"
           }
          ],
          "scatter": [
           {
            "fillpattern": {
             "fillmode": "overlay",
             "size": 10,
             "solidity": 0.2
            },
            "type": "scatter"
           }
          ],
          "scatter3d": [
           {
            "line": {
             "colorbar": {
              "outlinewidth": 0,
              "ticks": ""
             }
            },
            "marker": {
             "colorbar": {
              "outlinewidth": 0,
              "ticks": ""
             }
            },
            "type": "scatter3d"
           }
          ],
          "scattercarpet": [
           {
            "marker": {
             "colorbar": {
              "outlinewidth": 0,
              "ticks": ""
             }
            },
            "type": "scattercarpet"
           }
          ],
          "scattergeo": [
           {
            "marker": {
             "colorbar": {
              "outlinewidth": 0,
              "ticks": ""
             }
            },
            "type": "scattergeo"
           }
          ],
          "scattergl": [
           {
            "marker": {
             "colorbar": {
              "outlinewidth": 0,
              "ticks": ""
             }
            },
            "type": "scattergl"
           }
          ],
          "scattermapbox": [
           {
            "marker": {
             "colorbar": {
              "outlinewidth": 0,
              "ticks": ""
             }
            },
            "type": "scattermapbox"
           }
          ],
          "scatterpolar": [
           {
            "marker": {
             "colorbar": {
              "outlinewidth": 0,
              "ticks": ""
             }
            },
            "type": "scatterpolar"
           }
          ],
          "scatterpolargl": [
           {
            "marker": {
             "colorbar": {
              "outlinewidth": 0,
              "ticks": ""
             }
            },
            "type": "scatterpolargl"
           }
          ],
          "scatterternary": [
           {
            "marker": {
             "colorbar": {
              "outlinewidth": 0,
              "ticks": ""
             }
            },
            "type": "scatterternary"
           }
          ],
          "surface": [
           {
            "colorbar": {
             "outlinewidth": 0,
             "ticks": ""
            },
            "colorscale": [
             [
              0,
              "#0d0887"
             ],
             [
              0.1111111111111111,
              "#46039f"
             ],
             [
              0.2222222222222222,
              "#7201a8"
             ],
             [
              0.3333333333333333,
              "#9c179e"
             ],
             [
              0.4444444444444444,
              "#bd3786"
             ],
             [
              0.5555555555555556,
              "#d8576b"
             ],
             [
              0.6666666666666666,
              "#ed7953"
             ],
             [
              0.7777777777777778,
              "#fb9f3a"
             ],
             [
              0.8888888888888888,
              "#fdca26"
             ],
             [
              1,
              "#f0f921"
             ]
            ],
            "type": "surface"
           }
          ],
          "table": [
           {
            "cells": {
             "fill": {
              "color": "#EBF0F8"
             },
             "line": {
              "color": "white"
             }
            },
            "header": {
             "fill": {
              "color": "#C8D4E3"
             },
             "line": {
              "color": "white"
             }
            },
            "type": "table"
           }
          ]
         },
         "layout": {
          "annotationdefaults": {
           "arrowcolor": "#2a3f5f",
           "arrowhead": 0,
           "arrowwidth": 1
          },
          "autotypenumbers": "strict",
          "coloraxis": {
           "colorbar": {
            "outlinewidth": 0,
            "ticks": ""
           }
          },
          "colorscale": {
           "diverging": [
            [
             0,
             "#8e0152"
            ],
            [
             0.1,
             "#c51b7d"
            ],
            [
             0.2,
             "#de77ae"
            ],
            [
             0.3,
             "#f1b6da"
            ],
            [
             0.4,
             "#fde0ef"
            ],
            [
             0.5,
             "#f7f7f7"
            ],
            [
             0.6,
             "#e6f5d0"
            ],
            [
             0.7,
             "#b8e186"
            ],
            [
             0.8,
             "#7fbc41"
            ],
            [
             0.9,
             "#4d9221"
            ],
            [
             1,
             "#276419"
            ]
           ],
           "sequential": [
            [
             0,
             "#0d0887"
            ],
            [
             0.1111111111111111,
             "#46039f"
            ],
            [
             0.2222222222222222,
             "#7201a8"
            ],
            [
             0.3333333333333333,
             "#9c179e"
            ],
            [
             0.4444444444444444,
             "#bd3786"
            ],
            [
             0.5555555555555556,
             "#d8576b"
            ],
            [
             0.6666666666666666,
             "#ed7953"
            ],
            [
             0.7777777777777778,
             "#fb9f3a"
            ],
            [
             0.8888888888888888,
             "#fdca26"
            ],
            [
             1,
             "#f0f921"
            ]
           ],
           "sequentialminus": [
            [
             0,
             "#0d0887"
            ],
            [
             0.1111111111111111,
             "#46039f"
            ],
            [
             0.2222222222222222,
             "#7201a8"
            ],
            [
             0.3333333333333333,
             "#9c179e"
            ],
            [
             0.4444444444444444,
             "#bd3786"
            ],
            [
             0.5555555555555556,
             "#d8576b"
            ],
            [
             0.6666666666666666,
             "#ed7953"
            ],
            [
             0.7777777777777778,
             "#fb9f3a"
            ],
            [
             0.8888888888888888,
             "#fdca26"
            ],
            [
             1,
             "#f0f921"
            ]
           ]
          },
          "colorway": [
           "#636efa",
           "#EF553B",
           "#00cc96",
           "#ab63fa",
           "#FFA15A",
           "#19d3f3",
           "#FF6692",
           "#B6E880",
           "#FF97FF",
           "#FECB52"
          ],
          "font": {
           "color": "#2a3f5f"
          },
          "geo": {
           "bgcolor": "white",
           "lakecolor": "white",
           "landcolor": "#E5ECF6",
           "showlakes": true,
           "showland": true,
           "subunitcolor": "white"
          },
          "hoverlabel": {
           "align": "left"
          },
          "hovermode": "closest",
          "mapbox": {
           "style": "light"
          },
          "paper_bgcolor": "white",
          "plot_bgcolor": "#E5ECF6",
          "polar": {
           "angularaxis": {
            "gridcolor": "white",
            "linecolor": "white",
            "ticks": ""
           },
           "bgcolor": "#E5ECF6",
           "radialaxis": {
            "gridcolor": "white",
            "linecolor": "white",
            "ticks": ""
           }
          },
          "scene": {
           "xaxis": {
            "backgroundcolor": "#E5ECF6",
            "gridcolor": "white",
            "gridwidth": 2,
            "linecolor": "white",
            "showbackground": true,
            "ticks": "",
            "zerolinecolor": "white"
           },
           "yaxis": {
            "backgroundcolor": "#E5ECF6",
            "gridcolor": "white",
            "gridwidth": 2,
            "linecolor": "white",
            "showbackground": true,
            "ticks": "",
            "zerolinecolor": "white"
           },
           "zaxis": {
            "backgroundcolor": "#E5ECF6",
            "gridcolor": "white",
            "gridwidth": 2,
            "linecolor": "white",
            "showbackground": true,
            "ticks": "",
            "zerolinecolor": "white"
           }
          },
          "shapedefaults": {
           "line": {
            "color": "#2a3f5f"
           }
          },
          "ternary": {
           "aaxis": {
            "gridcolor": "white",
            "linecolor": "white",
            "ticks": ""
           },
           "baxis": {
            "gridcolor": "white",
            "linecolor": "white",
            "ticks": ""
           },
           "bgcolor": "#E5ECF6",
           "caxis": {
            "gridcolor": "white",
            "linecolor": "white",
            "ticks": ""
           }
          },
          "title": {
           "x": 0.05
          },
          "xaxis": {
           "automargin": true,
           "gridcolor": "white",
           "linecolor": "white",
           "ticks": "",
           "title": {
            "standoff": 15
           },
           "zerolinecolor": "white",
           "zerolinewidth": 2
          },
          "yaxis": {
           "automargin": true,
           "gridcolor": "white",
           "linecolor": "white",
           "ticks": "",
           "title": {
            "standoff": 15
           },
           "zerolinecolor": "white",
           "zerolinewidth": 2
          }
         }
        },
        "width": 1600
       }
      }
     },
     "metadata": {},
     "output_type": "display_data"
    }
   ],
   "source": [
    "AGG = nx.compose(G_AGG_R, G_AGG_W) \n",
    "\n",
    "agg_nodes, agg_nodes_dict = get_nodes_for_sankey(AGG,rm_tags=['agg_r','agg_w'])\n",
    "\n",
    "agg_links = get_links_for_sankey(AGG, agg_nodes_dict)\n",
    "fig = go.Figure(go.Sankey(\n",
    "            node = agg_nodes,\n",
    "            link = agg_links, orientation='h'))\n",
    "\n",
    "fig.update_layout(\n",
    "    autosize=False,\n",
    "    width=1600,\n",
    "    height=400,\n",
    "    margin=dict(\n",
    "        l=40,\n",
    "        r=40,\n",
    "        b=40,\n",
    "        t=40,\n",
    "        pad=2\n",
    "    ),\n",
    ")\n",
    "fig.show()\n",
    "fig.write_html(f\"{IMAGE_PATH}/sankey-grouped-agg-vol-vfd.html\")"
   ]
  },
  {
   "cell_type": "code",
   "execution_count": null,
   "metadata": {},
   "outputs": [
    {
     "data": {
      "application/vnd.plotly.v1+json": {
       "config": {
        "plotlyServerURL": "https://plot.ly"
       },
       "data": [
        {
         "link": {
          "color": [
           "rgba(147.61904761904762, 187.61904761904762, 217.61904761904762, 0.41785714285714287)",
           "rgba(102.38095238095238, 142.38095238095238, 172.38095238095238, 0.7571428571428571)",
           "rgba(116.66666666666666, 156.66666666666666, 186.66666666666666, 0.65)",
           "rgba(95.23809523809524, 135.23809523809524, 165.23809523809524, 0.8107142857142857)",
           "rgba(114.28571428571428, 154.28571428571428, 184.28571428571428, 0.6678571428571429)",
           "rgba(97.61904761904762, 137.61904761904762, 167.61904761904762, 0.7928571428571429)",
           "rgba(147.61904761904762, 187.61904761904762, 217.61904761904762, 0.41785714285714287)",
           "rgba(83.33333333333333, 123.33333333333333, 153.33333333333331, 0.9)",
           "rgba(140.47619047619048, 180.47619047619048, 210.47619047619048, 0.4714285714285714)",
           "rgba(135.71428571428572, 175.71428571428572, 205.71428571428572, 0.5071428571428571)",
           "rgba(140.47619047619048, 180.47619047619048, 210.47619047619048, 0.4714285714285714)",
           "rgba(135.71428571428572, 175.71428571428572, 205.71428571428572, 0.5071428571428571)",
           "rgba(130.95238095238096, 170.95238095238096, 200.95238095238096, 0.5428571428571429)",
           "rgba(111.9047619047619, 151.9047619047619, 181.9047619047619, 0.6857142857142857)",
           "rgba(109.52380952380952, 149.52380952380952, 179.52380952380952, 0.7035714285714285)",
           "rgba(107.14285714285714, 147.14285714285714, 177.14285714285714, 0.7214285714285715)",
           "rgba(100.0, 140.0, 170.0, 0.775)",
           "rgba(83.33333333333333, 123.33333333333333, 153.33333333333331, 0.9)",
           "rgba(140.47619047619048, 180.47619047619048, 210.47619047619048, 0.4714285714285714)",
           "rgba(135.71428571428572, 175.71428571428572, 205.71428571428572, 0.5071428571428571)",
           "rgba(130.95238095238096, 170.95238095238096, 200.95238095238096, 0.5428571428571429)",
           "rgba(111.9047619047619, 151.9047619047619, 181.9047619047619, 0.6857142857142857)",
           "rgba(109.52380952380952, 149.52380952380952, 179.52380952380952, 0.7035714285714285)",
           "rgba(107.14285714285714, 147.14285714285714, 177.14285714285714, 0.7214285714285715)",
           "rgba(100.0, 140.0, 170.0, 0.775)",
           "rgba(83.33333333333333, 123.33333333333333, 153.33333333333331, 0.9)",
           "rgba(146.07843137254903, 186.07843137254903, 216.07843137254903, 0.4294117647058824)",
           "rgba(91.1764705882353, 131.1764705882353, 161.1764705882353, 0.8411764705882353)",
           "rgba(106.86274509803923, 146.86274509803923, 176.86274509803923, 0.723529411764706)",
           "rgba(102.94117647058823, 142.94117647058823, 172.94117647058823, 0.7529411764705882)",
           "rgba(118.62745098039215, 158.62745098039215, 188.62745098039215, 0.6352941176470588)",
           "rgba(95.09803921568627, 135.09803921568627, 165.09803921568627, 0.8117647058823529)",
           "rgba(146.07843137254903, 186.07843137254903, 216.07843137254903, 0.4294117647058824)",
           "rgba(83.33333333333333, 123.33333333333333, 153.33333333333331, 0.9)",
           "rgba(130.39215686274508, 170.39215686274508, 200.39215686274508, 0.5470588235294118)",
           "rgba(142.15686274509804, 182.15686274509804, 212.15686274509804, 0.45882352941176474)",
           "rgba(87.25490196078431, 127.25490196078431, 157.2549019607843, 0.8705882352941177)",
           "rgba(114.70588235294117, 154.70588235294116, 184.70588235294116, 0.6647058823529413)",
           "rgba(110.7843137254902, 150.7843137254902, 180.7843137254902, 0.6941176470588235)",
           "rgba(122.54901960784314, 162.54901960784315, 192.54901960784315, 0.6058823529411765)",
           "rgba(99.01960784313727, 139.01960784313727, 169.01960784313727, 0.7823529411764706)",
           "rgba(134.31372549019608, 174.31372549019608, 204.31372549019608, 0.5176470588235295)",
           "rgba(142.15686274509804, 182.15686274509804, 212.15686274509804, 0.45882352941176474)",
           "rgba(126.47058823529412, 166.47058823529412, 196.47058823529412, 0.5764705882352942)",
           "rgba(83.33333333333333, 123.33333333333333, 153.33333333333331, 0.9)",
           "rgba(130.39215686274508, 170.39215686274508, 200.39215686274508, 0.5470588235294118)",
           "rgba(138.23529411764707, 178.23529411764707, 208.23529411764707, 0.4882352941176471)",
           "rgba(87.25490196078431, 127.25490196078431, 157.2549019607843, 0.8705882352941177)",
           "rgba(114.70588235294117, 154.70588235294116, 184.70588235294116, 0.6647058823529413)",
           "rgba(110.7843137254902, 150.7843137254902, 180.7843137254902, 0.6941176470588235)",
           "rgba(122.54901960784314, 162.54901960784315, 192.54901960784315, 0.6058823529411765)",
           "rgba(99.01960784313727, 139.01960784313727, 169.01960784313727, 0.7823529411764706)",
           "rgba(134.31372549019608, 174.31372549019608, 204.31372549019608, 0.5176470588235295)",
           "rgba(83.33333333333333, 123.33333333333333, 153.33333333333331, 0.9)",
           "rgba(126.47058823529412, 166.47058823529412, 196.47058823529412, 0.5764705882352942)",
           "rgba(147.61904761904762, 187.61904761904762, 217.61904761904762, 0.41785714285714287)",
           "rgba(85.71428571428571, 125.71428571428571, 155.71428571428572, 0.8821428571428571)",
           "rgba(88.0952380952381, 128.0952380952381, 158.0952380952381, 0.8642857142857143)",
           "rgba(90.47619047619048, 130.47619047619048, 160.47619047619048, 0.8464285714285715)",
           "rgba(104.76190476190476, 144.76190476190476, 174.76190476190476, 0.7392857142857143)",
           "rgba(92.85714285714286, 132.85714285714286, 162.85714285714286, 0.8285714285714285)",
           "rgba(147.61904761904762, 187.61904761904762, 217.61904761904762, 0.41785714285714287)",
           "rgba(83.33333333333333, 123.33333333333333, 153.33333333333331, 0.9)",
           "rgba(145.23809523809524, 185.23809523809524, 215.23809523809524, 0.4357142857142857)",
           "rgba(138.0952380952381, 178.0952380952381, 208.0952380952381, 0.4892857142857143)",
           "rgba(119.04761904761905, 159.04761904761904, 189.04761904761904, 0.6321428571428571)",
           "rgba(123.80952380952381, 163.8095238095238, 193.8095238095238, 0.5964285714285714)",
           "rgba(126.19047619047619, 166.1904761904762, 196.1904761904762, 0.5785714285714286)",
           "rgba(121.42857142857143, 161.42857142857144, 191.42857142857144, 0.6142857142857143)",
           "rgba(128.57142857142856, 168.57142857142856, 198.57142857142856, 0.5607142857142857)",
           "rgba(142.85714285714286, 182.85714285714286, 212.85714285714286, 0.45357142857142857)",
           "rgba(138.0952380952381, 178.0952380952381, 208.0952380952381, 0.4892857142857143)",
           "rgba(133.33333333333334, 173.33333333333334, 203.33333333333334, 0.525)",
           "rgba(145.23809523809524, 185.23809523809524, 215.23809523809524, 0.4357142857142857)",
           "rgba(119.04761904761905, 159.04761904761904, 189.04761904761904, 0.6321428571428571)",
           "rgba(123.80952380952381, 163.8095238095238, 193.8095238095238, 0.5964285714285714)",
           "rgba(126.19047619047619, 166.1904761904762, 196.1904761904762, 0.5785714285714286)",
           "rgba(121.42857142857143, 161.42857142857144, 191.42857142857144, 0.6142857142857143)",
           "rgba(128.57142857142856, 168.57142857142856, 198.57142857142856, 0.5607142857142857)",
           "rgba(142.85714285714286, 182.85714285714286, 212.85714285714286, 0.45357142857142857)",
           "rgba(138.0952380952381, 178.0952380952381, 208.0952380952381, 0.4892857142857143)",
           "rgba(133.33333333333334, 173.33333333333334, 203.33333333333334, 0.525)",
           "rgba(138.0952380952381, 178.0952380952381, 208.0952380952381, 0.4892857142857143)"
          ],
          "label": [
           "Access Volume : 0 <br />Access Count : 4 <br />Average Access Size : 0 <br />Operation : write<br />Bandwidth : 0",
           "Access Volume : 7.42 MB <br />Access Count : 200 <br />Average Access Size : 37.11 KB <br />Operation : write<br />Bandwidth : 2.41 MB/s",
           "Access Volume : 7.44 MB <br />Access Count : 200 <br />Average Access Size : 37.21 KB <br />Operation : write<br />Bandwidth : 1.87 MB/s",
           "Access Volume : 7.44 MB <br />Access Count : 200 <br />Average Access Size : 37.2 KB <br />Operation : write<br />Bandwidth : 2.51 MB/s",
           "Access Volume : 7.44 MB <br />Access Count : 200 <br />Average Access Size : 37.21 KB <br />Operation : write<br />Bandwidth : 1.89 MB/s",
           "Access Volume : 7.48 MB <br />Access Count : 201 <br />Average Access Size : 37.21 KB <br />Operation : write<br />Bandwidth : 2.48 MB/s",
           "Access Volume : 0 <br />Access Count : 4 <br />Average Access Size : 0 <br />Operation : write<br />Bandwidth : 0",
           "Access Volume : 2.4 MB <br />Access Count : 1 <br />Average Access Size : 2.4 MB <br />Operation : write<br />Bandwidth : 1.56 GB/s",
           "Access Volume : 5.19 KB <br />Access Count : 24 <br />Average Access Size : 216.33 B <br />Operation : write<br />Bandwidth : 292.05 B/s",
           "Access Volume : 272 B <br />Access Count : 1 <br />Average Access Size : 272 B <br />Operation : write<br />Bandwidth : 176.85 KB/s",
           "Access Volume : 5.19 KB <br />Access Count : 24 <br />Average Access Size : 216.33 B <br />Operation : write<br />Bandwidth : 292.05 B/s",
           "Access Volume : 272 B <br />Access Count : 1 <br />Average Access Size : 272 B <br />Operation : write<br />Bandwidth : 176.85 KB/s",
           "Access Volume : 7.46 MB <br />Access Count : 202 <br />Average Access Size : 36.94 KB <br />Operation : write<br />Bandwidth : 440.16 KB/s",
           "Access Volume : 7.45 MB <br />Access Count : 200 <br />Average Access Size : 37.24 KB <br />Operation : write<br />Bandwidth : 2.11 MB/s",
           "Access Volume : 7.45 MB <br />Access Count : 200 <br />Average Access Size : 37.23 KB <br />Operation : write<br />Bandwidth : 2.12 MB/s",
           "Access Volume : 7.45 MB <br />Access Count : 200 <br />Average Access Size : 37.25 KB <br />Operation : write<br />Bandwidth : 2.13 MB/s",
           "Access Volume : 7.49 MB <br />Access Count : 201 <br />Average Access Size : 37.25 KB <br />Operation : write<br />Bandwidth : 2.42 MB/s",
           "Access Volume : 2.4 MB <br />Access Count : 1 <br />Average Access Size : 2.4 MB <br />Operation : write<br />Bandwidth : 1.56 GB/s",
           "Access Volume : 5.19 KB <br />Access Count : 24 <br />Average Access Size : 216.33 B <br />Operation : write<br />Bandwidth : 292.05 B/s",
           "Access Volume : 272 B <br />Access Count : 1 <br />Average Access Size : 272 B <br />Operation : write<br />Bandwidth : 176.85 KB/s",
           "Access Volume : 7.46 MB <br />Access Count : 202 <br />Average Access Size : 36.94 KB <br />Operation : write<br />Bandwidth : 440.16 KB/s",
           "Access Volume : 7.45 MB <br />Access Count : 200 <br />Average Access Size : 37.24 KB <br />Operation : write<br />Bandwidth : 2.11 MB/s",
           "Access Volume : 7.45 MB <br />Access Count : 200 <br />Average Access Size : 37.23 KB <br />Operation : write<br />Bandwidth : 2.12 MB/s",
           "Access Volume : 7.45 MB <br />Access Count : 200 <br />Average Access Size : 37.25 KB <br />Operation : write<br />Bandwidth : 2.13 MB/s",
           "Access Volume : 7.49 MB <br />Access Count : 201 <br />Average Access Size : 37.25 KB <br />Operation : write<br />Bandwidth : 2.42 MB/s",
           "Access Volume : 2.4 MB <br />Access Count : 1 <br />Average Access Size : 2.4 MB <br />Operation : write<br />Bandwidth : 1.56 GB/s",
           "Access Volume : 0 <br />Access Count : 3 <br />Average Access Size : 0 <br />Operation : read<br />Bandwidth : 0",
           "Access Volume : 7.42 MB <br />Access Count : 200 <br />Average Access Size : 37.11 KB <br />Operation : read<br />Bandwidth : 11.12 MB/s",
           "Access Volume : 7.44 MB <br />Access Count : 200 <br />Average Access Size : 37.21 KB <br />Operation : read<br />Bandwidth : 10.68 MB/s",
           "Access Volume : 7.44 MB <br />Access Count : 200 <br />Average Access Size : 37.2 KB <br />Operation : read<br />Bandwidth : 10.69 MB/s",
           "Access Volume : 7.44 MB <br />Access Count : 200 <br />Average Access Size : 37.21 KB <br />Operation : read<br />Bandwidth : 10.43 MB/s",
           "Access Volume : 7.48 MB <br />Access Count : 201 <br />Average Access Size : 37.21 KB <br />Operation : read<br />Bandwidth : 10.78 MB/s",
           "Access Volume : 0 <br />Access Count : 3 <br />Average Access Size : 0 <br />Operation : read<br />Bandwidth : 0",
           "Access Volume : 2.4 MB <br />Access Count : 1 <br />Average Access Size : 2.4 MB <br />Operation : read<br />Bandwidth : 1.56 GB/s",
           "Access Volume : 2.18 KB <br />Access Count : 8 <br />Average Access Size : 273 B <br />Operation : read<br />Bandwidth : 46.58 KB/s",
           "Access Volume : 328 B <br />Access Count : 1 <br />Average Access Size : 328 B <br />Operation : read<br />Bandwidth : 93.56 B/s",
           "Access Volume : 7.43 MB <br />Access Count : 399 <br />Average Access Size : 18.62 KB <br />Operation : read<br />Bandwidth : 11.19 MB/s",
           "Access Volume : 7.45 MB <br />Access Count : 400 <br />Average Access Size : 18.62 KB <br />Operation : read<br />Bandwidth : 10.67 MB/s",
           "Access Volume : 7.45 MB <br />Access Count : 400 <br />Average Access Size : 18.62 KB <br />Operation : read<br />Bandwidth : 10.68 MB/s",
           "Access Volume : 7.45 MB <br />Access Count : 400 <br />Average Access Size : 18.62 KB <br />Operation : read<br />Bandwidth : 10.41 MB/s",
           "Access Volume : 7.49 MB <br />Access Count : 402 <br />Average Access Size : 18.62 KB <br />Operation : read<br />Bandwidth : 10.76 MB/s",
           "Access Volume : 1.57 KB <br />Access Count : 4 <br />Average Access Size : 392 B <br />Operation : read<br />Bandwidth : 32.85 KB/s",
           "Access Volume : 328 B <br />Access Count : 1 <br />Average Access Size : 328 B <br />Operation : read<br />Bandwidth : 93.56 B/s",
           "Access Volume : 512 B <br />Access Count : 1 <br />Average Access Size : 512 B <br />Operation : read<br />Bandwidth : 332.9 KB/s",
           "Access Volume : 2.4 MB <br />Access Count : 1 <br />Average Access Size : 2.4 MB <br />Operation : read<br />Bandwidth : 1.56 GB/s",
           "Access Volume : 2.18 KB <br />Access Count : 8 <br />Average Access Size : 273 B <br />Operation : read<br />Bandwidth : 46.58 KB/s",
           "Access Volume : 656 B <br />Access Count : 2 <br />Average Access Size : 328 B <br />Operation : read<br />Bandwidth : 187.13 B/s",
           "Access Volume : 7.43 MB <br />Access Count : 399 <br />Average Access Size : 18.62 KB <br />Operation : read<br />Bandwidth : 11.19 MB/s",
           "Access Volume : 7.45 MB <br />Access Count : 400 <br />Average Access Size : 18.62 KB <br />Operation : read<br />Bandwidth : 10.67 MB/s",
           "Access Volume : 7.45 MB <br />Access Count : 400 <br />Average Access Size : 18.62 KB <br />Operation : read<br />Bandwidth : 10.68 MB/s",
           "Access Volume : 7.45 MB <br />Access Count : 400 <br />Average Access Size : 18.62 KB <br />Operation : read<br />Bandwidth : 10.41 MB/s",
           "Access Volume : 7.49 MB <br />Access Count : 402 <br />Average Access Size : 18.62 KB <br />Operation : read<br />Bandwidth : 10.76 MB/s",
           "Access Volume : 1.57 KB <br />Access Count : 4 <br />Average Access Size : 392 B <br />Operation : read<br />Bandwidth : 32.85 KB/s",
           "Access Volume : 2.4 MB <br />Access Count : 1 <br />Average Access Size : 2.4 MB <br />Operation : read<br />Bandwidth : 1.56 GB/s",
           "Access Volume : 512 B <br />Access Count : 1 <br />Average Access Size : 512 B <br />Operation : read<br />Bandwidth : 332.9 KB/s",
           "Access Volume : 0 <br />Access Count : 3 <br />Average Access Size : 0 <br />Operation : write<br />Bandwidth : 0",
           "Access Volume : 7.42 MB <br />Access Count : 200 <br />Average Access Size : 37.11 KB <br />Operation : write<br />Bandwidth : 5.64 MB/s",
           "Access Volume : 7.44 MB <br />Access Count : 200 <br />Average Access Size : 37.21 KB <br />Operation : write<br />Bandwidth : 4.46 MB/s",
           "Access Volume : 7.44 MB <br />Access Count : 200 <br />Average Access Size : 37.2 KB <br />Operation : write<br />Bandwidth : 4.06 MB/s",
           "Access Volume : 7.44 MB <br />Access Count : 200 <br />Average Access Size : 37.21 KB <br />Operation : write<br />Bandwidth : 2.37 MB/s",
           "Access Volume : 7.48 MB <br />Access Count : 201 <br />Average Access Size : 37.21 KB <br />Operation : write<br />Bandwidth : 2.68 MB/s",
           "Access Volume : 0 <br />Access Count : 3 <br />Average Access Size : 0 <br />Operation : write<br />Bandwidth : 0",
           "Access Volume : 2.4 MB <br />Access Count : 1 <br />Average Access Size : 2.4 MB <br />Operation : write<br />Bandwidth : 1.56 GB/s",
           "Access Volume : 562 B <br />Access Count : 4 <br />Average Access Size : 140.5 B <br />Operation : write<br />Bandwidth : 25.2 B/s",
           "Access Volume : 28 B <br />Access Count : 1 <br />Average Access Size : 28 B <br />Operation : write<br />Bandwidth : 18.21 KB/s",
           "Access Volume : 7.42 MB <br />Access Count : 398 <br />Average Access Size : 18.63 KB <br />Operation : write<br />Bandwidth : 1.14 MB/s",
           "Access Volume : 7.45 MB <br />Access Count : 400 <br />Average Access Size : 18.63 KB <br />Operation : write<br />Bandwidth : 912.66 KB/s",
           "Access Volume : 7.45 MB <br />Access Count : 400 <br />Average Access Size : 18.63 KB <br />Operation : write<br />Bandwidth : 856.42 KB/s",
           "Access Volume : 7.45 MB <br />Access Count : 400 <br />Average Access Size : 18.63 KB <br />Operation : write<br />Bandwidth : 928.42 KB/s",
           "Access Volume : 7.49 MB <br />Access Count : 401 <br />Average Access Size : 18.68 KB <br />Operation : write<br />Bandwidth : 530 KB/s",
           "Access Volume : 876 B <br />Access Count : 5 <br />Average Access Size : 175.2 B <br />Operation : write<br />Bandwidth : 74.18 B/s",
           "Access Volume : 28 B <br />Access Count : 1 <br />Average Access Size : 28 B <br />Operation : write<br />Bandwidth : 18.21 KB/s",
           "Access Volume : 2.4 MB <br />Access Count : 1000 <br />Average Access Size : 2.4 KB <br />Operation : write<br />Bandwidth : 328.73 KB/s",
           "Access Volume : 562 B <br />Access Count : 4 <br />Average Access Size : 140.5 B <br />Operation : write<br />Bandwidth : 25.2 B/s",
           "Access Volume : 7.42 MB <br />Access Count : 398 <br />Average Access Size : 18.63 KB <br />Operation : write<br />Bandwidth : 1.14 MB/s",
           "Access Volume : 7.45 MB <br />Access Count : 400 <br />Average Access Size : 18.63 KB <br />Operation : write<br />Bandwidth : 912.66 KB/s",
           "Access Volume : 7.45 MB <br />Access Count : 400 <br />Average Access Size : 18.63 KB <br />Operation : write<br />Bandwidth : 856.42 KB/s",
           "Access Volume : 7.45 MB <br />Access Count : 400 <br />Average Access Size : 18.63 KB <br />Operation : write<br />Bandwidth : 928.42 KB/s",
           "Access Volume : 7.49 MB <br />Access Count : 401 <br />Average Access Size : 18.68 KB <br />Operation : write<br />Bandwidth : 530 KB/s",
           "Access Volume : 876 B <br />Access Count : 5 <br />Average Access Size : 175.2 B <br />Operation : write<br />Bandwidth : 74.18 B/s",
           "Access Volume : 28 B <br />Access Count : 1 <br />Average Access Size : 28 B <br />Operation : write<br />Bandwidth : 18.21 KB/s",
           "Access Volume : 2.4 MB <br />Access Count : 1000 <br />Average Access Size : 2.4 KB <br />Operation : write<br />Bandwidth : 328.73 KB/s",
           "Access Volume : 28 B <br />Access Count : 1 <br />Average Access Size : 28 B <br />Operation : write<br />Bandwidth : 18.21 KB/s"
          ],
          "source": [
           0,
           0,
           0,
           0,
           0,
           0,
           0,
           0,
           1,
           1,
           2,
           2,
           3,
           4,
           5,
           6,
           7,
           8,
           9,
           10,
           11,
           12,
           13,
           14,
           15,
           16,
           17,
           17,
           17,
           17,
           17,
           17,
           17,
           17,
           18,
           18,
           19,
           20,
           21,
           22,
           23,
           24,
           24,
           24,
           25,
           26,
           27,
           28,
           29,
           30,
           31,
           32,
           33,
           34,
           35,
           36,
           36,
           36,
           36,
           36,
           36,
           36,
           36,
           37,
           37,
           38,
           39,
           40,
           41,
           42,
           43,
           43,
           44,
           45,
           46,
           47,
           48,
           49,
           50,
           51,
           52,
           53,
           54
          ],
          "target": [
           1,
           3,
           4,
           5,
           6,
           7,
           2,
           8,
           9,
           10,
           9,
           10,
           11,
           12,
           13,
           14,
           15,
           16,
           17,
           17,
           17,
           17,
           17,
           17,
           17,
           17,
           18,
           19,
           20,
           21,
           22,
           23,
           24,
           25,
           26,
           27,
           28,
           29,
           30,
           31,
           32,
           33,
           27,
           35,
           34,
           36,
           36,
           36,
           36,
           36,
           36,
           36,
           36,
           36,
           36,
           37,
           38,
           39,
           40,
           41,
           42,
           43,
           44,
           45,
           52,
           46,
           47,
           48,
           49,
           50,
           51,
           54,
           53,
           55,
           55,
           55,
           55,
           55,
           55,
           55,
           55,
           55,
           55
          ],
          "value": [
           1,
           7422108,
           7441148,
           7440164,
           7442936,
           7479508,
           1,
           2400000,
           5192,
           272,
           5192,
           272,
           7460880,
           7447968,
           7446976,
           7449760,
           7486392,
           2400000,
           5192,
           272,
           7460880,
           7447968,
           7446976,
           7449760,
           7486392,
           2400000,
           1,
           7422108,
           7441148,
           7440164,
           7442936,
           7479508,
           1,
           2400000,
           2184,
           328,
           7428880,
           7447968,
           7446976,
           7449760,
           7486392,
           1568,
           328,
           512,
           2400000,
           2184,
           656,
           7428880,
           7447968,
           7446976,
           7449760,
           7486392,
           1568,
           2400000,
           512,
           1,
           7422108,
           7441148,
           7440164,
           7442936,
           7479508,
           1,
           2400000,
           562,
           28,
           7416064,
           7451168,
           7450176,
           7452960,
           7489592,
           876,
           28,
           2400000,
           562,
           7416064,
           7451168,
           7450176,
           7452960,
           7489592,
           876,
           28,
           2400000,
           28
          ]
         },
         "node": {
          "color": [
           "Red",
           "Gold",
           "Magenta",
           "Gold",
           "Gold",
           "Gold",
           "Gold",
           "Gold",
           "Magenta",
           "LimeGreen",
           "LimeGreen",
           "LimeGreen",
           "LimeGreen",
           "LimeGreen",
           "LimeGreen",
           "LimeGreen",
           "LimeGreen",
           "MediumBlue",
           "Gold",
           "Gold",
           "Gold",
           "Gold",
           "Gold",
           "Gold",
           "Magenta",
           "Magenta",
           "LimeGreen",
           "LimeGreen",
           "LimeGreen",
           "LimeGreen",
           "LimeGreen",
           "LimeGreen",
           "LimeGreen",
           "LimeGreen",
           "LimeGreen",
           "LimeGreen",
           "Red",
           "Gold",
           "Gold",
           "Gold",
           "Gold",
           "Gold",
           "Gold",
           "Magenta",
           "Magenta",
           "LimeGreen",
           "LimeGreen",
           "LimeGreen",
           "LimeGreen",
           "LimeGreen",
           "LimeGreen",
           "LimeGreen",
           "LimeGreen",
           "LimeGreen",
           "LimeGreen",
           "MediumBlue"
          ],
          "label": [],
          "x": [
           0,
           0.109375,
           0.1328125,
           0.0390625,
           0.0546875,
           0.0703125,
           0.0859375,
           0.1015625,
           0.125,
           0.25,
           0.2421875,
           0.21875,
           0.171875,
           0.1875,
           0.203125,
           0.2265625,
           0.234375,
           0.3125,
           0.421875,
           0.3515625,
           0.3671875,
           0.3828125,
           0.3984375,
           0.4140625,
           0.4453125,
           0.4375,
           0.4765625,
           0.5703125,
           0.4921875,
           0.5078125,
           0.5234375,
           0.5390625,
           0.5546875,
           0.59375,
           0.5859375,
           0.578125,
           0.65625,
           0.7734375,
           0.6953125,
           0.7109375,
           0.7265625,
           0.7421875,
           0.7578125,
           0.7890625,
           0.78125,
           0.90625,
           0.84375,
           0.859375,
           0.875,
           0.8828125,
           0.921875,
           0.9375,
           0.9140625,
           0.8984375,
           0.9296875,
           1
          ],
          "y": [
           0,
           0,
           0.6000000000000001,
           0.1,
           0.2,
           0.30000000000000004,
           0.4,
           0.5,
           0.7000000000000001,
           0.1,
           0.6000000000000001,
           0.2,
           0.8,
           0.30000000000000004,
           0.4,
           0.5,
           0.7000000000000001,
           0,
           0,
           0.1,
           0.2,
           0.30000000000000004,
           0.4,
           0.5,
           0.6000000000000001,
           0.7000000000000001,
           0.2,
           0.30000000000000004,
           0.4,
           1,
           0.5,
           0.6000000000000001,
           0.7000000000000001,
           0.1,
           0.9,
           0.8,
           0,
           0,
           0.1,
           0.2,
           0.30000000000000004,
           0.4,
           0.5,
           0.6000000000000001,
           0.7000000000000001,
           0.1,
           0.9,
           1,
           0.30000000000000004,
           0.4,
           0.5,
           0.2,
           0.8,
           0.7000000000000001,
           0.6000000000000001,
           0
          ]
         },
         "orientation": "h",
         "type": "sankey"
        }
       ],
       "layout": {
        "autosize": false,
        "height": 400,
        "margin": {
         "b": 40,
         "l": 10,
         "pad": 4,
         "r": 10,
         "t": 10
        },
        "template": {
         "data": {
          "bar": [
           {
            "error_x": {
             "color": "#2a3f5f"
            },
            "error_y": {
             "color": "#2a3f5f"
            },
            "marker": {
             "line": {
              "color": "#E5ECF6",
              "width": 0.5
             },
             "pattern": {
              "fillmode": "overlay",
              "size": 10,
              "solidity": 0.2
             }
            },
            "type": "bar"
           }
          ],
          "barpolar": [
           {
            "marker": {
             "line": {
              "color": "#E5ECF6",
              "width": 0.5
             },
             "pattern": {
              "fillmode": "overlay",
              "size": 10,
              "solidity": 0.2
             }
            },
            "type": "barpolar"
           }
          ],
          "carpet": [
           {
            "aaxis": {
             "endlinecolor": "#2a3f5f",
             "gridcolor": "white",
             "linecolor": "white",
             "minorgridcolor": "white",
             "startlinecolor": "#2a3f5f"
            },
            "baxis": {
             "endlinecolor": "#2a3f5f",
             "gridcolor": "white",
             "linecolor": "white",
             "minorgridcolor": "white",
             "startlinecolor": "#2a3f5f"
            },
            "type": "carpet"
           }
          ],
          "choropleth": [
           {
            "colorbar": {
             "outlinewidth": 0,
             "ticks": ""
            },
            "type": "choropleth"
           }
          ],
          "contour": [
           {
            "colorbar": {
             "outlinewidth": 0,
             "ticks": ""
            },
            "colorscale": [
             [
              0,
              "#0d0887"
             ],
             [
              0.1111111111111111,
              "#46039f"
             ],
             [
              0.2222222222222222,
              "#7201a8"
             ],
             [
              0.3333333333333333,
              "#9c179e"
             ],
             [
              0.4444444444444444,
              "#bd3786"
             ],
             [
              0.5555555555555556,
              "#d8576b"
             ],
             [
              0.6666666666666666,
              "#ed7953"
             ],
             [
              0.7777777777777778,
              "#fb9f3a"
             ],
             [
              0.8888888888888888,
              "#fdca26"
             ],
             [
              1,
              "#f0f921"
             ]
            ],
            "type": "contour"
           }
          ],
          "contourcarpet": [
           {
            "colorbar": {
             "outlinewidth": 0,
             "ticks": ""
            },
            "type": "contourcarpet"
           }
          ],
          "heatmap": [
           {
            "colorbar": {
             "outlinewidth": 0,
             "ticks": ""
            },
            "colorscale": [
             [
              0,
              "#0d0887"
             ],
             [
              0.1111111111111111,
              "#46039f"
             ],
             [
              0.2222222222222222,
              "#7201a8"
             ],
             [
              0.3333333333333333,
              "#9c179e"
             ],
             [
              0.4444444444444444,
              "#bd3786"
             ],
             [
              0.5555555555555556,
              "#d8576b"
             ],
             [
              0.6666666666666666,
              "#ed7953"
             ],
             [
              0.7777777777777778,
              "#fb9f3a"
             ],
             [
              0.8888888888888888,
              "#fdca26"
             ],
             [
              1,
              "#f0f921"
             ]
            ],
            "type": "heatmap"
           }
          ],
          "heatmapgl": [
           {
            "colorbar": {
             "outlinewidth": 0,
             "ticks": ""
            },
            "colorscale": [
             [
              0,
              "#0d0887"
             ],
             [
              0.1111111111111111,
              "#46039f"
             ],
             [
              0.2222222222222222,
              "#7201a8"
             ],
             [
              0.3333333333333333,
              "#9c179e"
             ],
             [
              0.4444444444444444,
              "#bd3786"
             ],
             [
              0.5555555555555556,
              "#d8576b"
             ],
             [
              0.6666666666666666,
              "#ed7953"
             ],
             [
              0.7777777777777778,
              "#fb9f3a"
             ],
             [
              0.8888888888888888,
              "#fdca26"
             ],
             [
              1,
              "#f0f921"
             ]
            ],
            "type": "heatmapgl"
           }
          ],
          "histogram": [
           {
            "marker": {
             "pattern": {
              "fillmode": "overlay",
              "size": 10,
              "solidity": 0.2
             }
            },
            "type": "histogram"
           }
          ],
          "histogram2d": [
           {
            "colorbar": {
             "outlinewidth": 0,
             "ticks": ""
            },
            "colorscale": [
             [
              0,
              "#0d0887"
             ],
             [
              0.1111111111111111,
              "#46039f"
             ],
             [
              0.2222222222222222,
              "#7201a8"
             ],
             [
              0.3333333333333333,
              "#9c179e"
             ],
             [
              0.4444444444444444,
              "#bd3786"
             ],
             [
              0.5555555555555556,
              "#d8576b"
             ],
             [
              0.6666666666666666,
              "#ed7953"
             ],
             [
              0.7777777777777778,
              "#fb9f3a"
             ],
             [
              0.8888888888888888,
              "#fdca26"
             ],
             [
              1,
              "#f0f921"
             ]
            ],
            "type": "histogram2d"
           }
          ],
          "histogram2dcontour": [
           {
            "colorbar": {
             "outlinewidth": 0,
             "ticks": ""
            },
            "colorscale": [
             [
              0,
              "#0d0887"
             ],
             [
              0.1111111111111111,
              "#46039f"
             ],
             [
              0.2222222222222222,
              "#7201a8"
             ],
             [
              0.3333333333333333,
              "#9c179e"
             ],
             [
              0.4444444444444444,
              "#bd3786"
             ],
             [
              0.5555555555555556,
              "#d8576b"
             ],
             [
              0.6666666666666666,
              "#ed7953"
             ],
             [
              0.7777777777777778,
              "#fb9f3a"
             ],
             [
              0.8888888888888888,
              "#fdca26"
             ],
             [
              1,
              "#f0f921"
             ]
            ],
            "type": "histogram2dcontour"
           }
          ],
          "mesh3d": [
           {
            "colorbar": {
             "outlinewidth": 0,
             "ticks": ""
            },
            "type": "mesh3d"
           }
          ],
          "parcoords": [
           {
            "line": {
             "colorbar": {
              "outlinewidth": 0,
              "ticks": ""
             }
            },
            "type": "parcoords"
           }
          ],
          "pie": [
           {
            "automargin": true,
            "type": "pie"
           }
          ],
          "scatter": [
           {
            "fillpattern": {
             "fillmode": "overlay",
             "size": 10,
             "solidity": 0.2
            },
            "type": "scatter"
           }
          ],
          "scatter3d": [
           {
            "line": {
             "colorbar": {
              "outlinewidth": 0,
              "ticks": ""
             }
            },
            "marker": {
             "colorbar": {
              "outlinewidth": 0,
              "ticks": ""
             }
            },
            "type": "scatter3d"
           }
          ],
          "scattercarpet": [
           {
            "marker": {
             "colorbar": {
              "outlinewidth": 0,
              "ticks": ""
             }
            },
            "type": "scattercarpet"
           }
          ],
          "scattergeo": [
           {
            "marker": {
             "colorbar": {
              "outlinewidth": 0,
              "ticks": ""
             }
            },
            "type": "scattergeo"
           }
          ],
          "scattergl": [
           {
            "marker": {
             "colorbar": {
              "outlinewidth": 0,
              "ticks": ""
             }
            },
            "type": "scattergl"
           }
          ],
          "scattermapbox": [
           {
            "marker": {
             "colorbar": {
              "outlinewidth": 0,
              "ticks": ""
             }
            },
            "type": "scattermapbox"
           }
          ],
          "scatterpolar": [
           {
            "marker": {
             "colorbar": {
              "outlinewidth": 0,
              "ticks": ""
             }
            },
            "type": "scatterpolar"
           }
          ],
          "scatterpolargl": [
           {
            "marker": {
             "colorbar": {
              "outlinewidth": 0,
              "ticks": ""
             }
            },
            "type": "scatterpolargl"
           }
          ],
          "scatterternary": [
           {
            "marker": {
             "colorbar": {
              "outlinewidth": 0,
              "ticks": ""
             }
            },
            "type": "scatterternary"
           }
          ],
          "surface": [
           {
            "colorbar": {
             "outlinewidth": 0,
             "ticks": ""
            },
            "colorscale": [
             [
              0,
              "#0d0887"
             ],
             [
              0.1111111111111111,
              "#46039f"
             ],
             [
              0.2222222222222222,
              "#7201a8"
             ],
             [
              0.3333333333333333,
              "#9c179e"
             ],
             [
              0.4444444444444444,
              "#bd3786"
             ],
             [
              0.5555555555555556,
              "#d8576b"
             ],
             [
              0.6666666666666666,
              "#ed7953"
             ],
             [
              0.7777777777777778,
              "#fb9f3a"
             ],
             [
              0.8888888888888888,
              "#fdca26"
             ],
             [
              1,
              "#f0f921"
             ]
            ],
            "type": "surface"
           }
          ],
          "table": [
           {
            "cells": {
             "fill": {
              "color": "#EBF0F8"
             },
             "line": {
              "color": "white"
             }
            },
            "header": {
             "fill": {
              "color": "#C8D4E3"
             },
             "line": {
              "color": "white"
             }
            },
            "type": "table"
           }
          ]
         },
         "layout": {
          "annotationdefaults": {
           "arrowcolor": "#2a3f5f",
           "arrowhead": 0,
           "arrowwidth": 1
          },
          "autotypenumbers": "strict",
          "coloraxis": {
           "colorbar": {
            "outlinewidth": 0,
            "ticks": ""
           }
          },
          "colorscale": {
           "diverging": [
            [
             0,
             "#8e0152"
            ],
            [
             0.1,
             "#c51b7d"
            ],
            [
             0.2,
             "#de77ae"
            ],
            [
             0.3,
             "#f1b6da"
            ],
            [
             0.4,
             "#fde0ef"
            ],
            [
             0.5,
             "#f7f7f7"
            ],
            [
             0.6,
             "#e6f5d0"
            ],
            [
             0.7,
             "#b8e186"
            ],
            [
             0.8,
             "#7fbc41"
            ],
            [
             0.9,
             "#4d9221"
            ],
            [
             1,
             "#276419"
            ]
           ],
           "sequential": [
            [
             0,
             "#0d0887"
            ],
            [
             0.1111111111111111,
             "#46039f"
            ],
            [
             0.2222222222222222,
             "#7201a8"
            ],
            [
             0.3333333333333333,
             "#9c179e"
            ],
            [
             0.4444444444444444,
             "#bd3786"
            ],
            [
             0.5555555555555556,
             "#d8576b"
            ],
            [
             0.6666666666666666,
             "#ed7953"
            ],
            [
             0.7777777777777778,
             "#fb9f3a"
            ],
            [
             0.8888888888888888,
             "#fdca26"
            ],
            [
             1,
             "#f0f921"
            ]
           ],
           "sequentialminus": [
            [
             0,
             "#0d0887"
            ],
            [
             0.1111111111111111,
             "#46039f"
            ],
            [
             0.2222222222222222,
             "#7201a8"
            ],
            [
             0.3333333333333333,
             "#9c179e"
            ],
            [
             0.4444444444444444,
             "#bd3786"
            ],
            [
             0.5555555555555556,
             "#d8576b"
            ],
            [
             0.6666666666666666,
             "#ed7953"
            ],
            [
             0.7777777777777778,
             "#fb9f3a"
            ],
            [
             0.8888888888888888,
             "#fdca26"
            ],
            [
             1,
             "#f0f921"
            ]
           ]
          },
          "colorway": [
           "#636efa",
           "#EF553B",
           "#00cc96",
           "#ab63fa",
           "#FFA15A",
           "#19d3f3",
           "#FF6692",
           "#B6E880",
           "#FF97FF",
           "#FECB52"
          ],
          "font": {
           "color": "#2a3f5f"
          },
          "geo": {
           "bgcolor": "white",
           "lakecolor": "white",
           "landcolor": "#E5ECF6",
           "showlakes": true,
           "showland": true,
           "subunitcolor": "white"
          },
          "hoverlabel": {
           "align": "left"
          },
          "hovermode": "closest",
          "mapbox": {
           "style": "light"
          },
          "paper_bgcolor": "white",
          "plot_bgcolor": "#E5ECF6",
          "polar": {
           "angularaxis": {
            "gridcolor": "white",
            "linecolor": "white",
            "ticks": ""
           },
           "bgcolor": "#E5ECF6",
           "radialaxis": {
            "gridcolor": "white",
            "linecolor": "white",
            "ticks": ""
           }
          },
          "scene": {
           "xaxis": {
            "backgroundcolor": "#E5ECF6",
            "gridcolor": "white",
            "gridwidth": 2,
            "linecolor": "white",
            "showbackground": true,
            "ticks": "",
            "zerolinecolor": "white"
           },
           "yaxis": {
            "backgroundcolor": "#E5ECF6",
            "gridcolor": "white",
            "gridwidth": 2,
            "linecolor": "white",
            "showbackground": true,
            "ticks": "",
            "zerolinecolor": "white"
           },
           "zaxis": {
            "backgroundcolor": "#E5ECF6",
            "gridcolor": "white",
            "gridwidth": 2,
            "linecolor": "white",
            "showbackground": true,
            "ticks": "",
            "zerolinecolor": "white"
           }
          },
          "shapedefaults": {
           "line": {
            "color": "#2a3f5f"
           }
          },
          "ternary": {
           "aaxis": {
            "gridcolor": "white",
            "linecolor": "white",
            "ticks": ""
           },
           "baxis": {
            "gridcolor": "white",
            "linecolor": "white",
            "ticks": ""
           },
           "bgcolor": "#E5ECF6",
           "caxis": {
            "gridcolor": "white",
            "linecolor": "white",
            "ticks": ""
           }
          },
          "title": {
           "x": 0.05
          },
          "xaxis": {
           "automargin": true,
           "gridcolor": "white",
           "linecolor": "white",
           "ticks": "",
           "title": {
            "standoff": 15
           },
           "zerolinecolor": "white",
           "zerolinewidth": 2
          },
          "yaxis": {
           "automargin": true,
           "gridcolor": "white",
           "linecolor": "white",
           "ticks": "",
           "title": {
            "standoff": 15
           },
           "zerolinecolor": "white",
           "zerolinewidth": 2
          }
         }
        },
        "width": 1200
       }
      }
     },
     "metadata": {},
     "output_type": "display_data"
    }
   ],
   "source": [
    "f2_nodes, f2_nodes_dict = get_nodes_for_sankey(F2,rm_tags=['sim','agg_r','agg_w'],label_on=False)\n",
    "\n",
    "# print(node_ref2)\n",
    "\n",
    "f2_links = get_links_for_sankey(F2, f2_nodes_dict)\n",
    "fig = go.Figure(go.Sankey(\n",
    "            node = f2_nodes,\n",
    "            link = f2_links, orientation='h'))\n",
    "\n",
    "fig.update_layout(\n",
    "    autosize=False,\n",
    "    width=1200,\n",
    "    height=400,\n",
    "    margin=dict(\n",
    "        l=10,\n",
    "        r=10,\n",
    "        b=40,\n",
    "        t=10,\n",
    "        pad=4\n",
    "    ),\n",
    ")\n",
    "fig.show()\n",
    "fig.write_html(f\"{IMAGE_PATH}/sankey-grouped-sim_agg-vol-vfd.html\")"
   ]
  },
  {
   "cell_type": "code",
   "execution_count": null,
   "metadata": {},
   "outputs": [],
   "source": []
  }
 ],
 "metadata": {
  "kernelspec": {
   "display_name": "Python 3.10.6 64-bit",
   "language": "python",
   "name": "python3"
  },
  "language_info": {
   "codemirror_mode": {
    "name": "ipython",
    "version": 3
   },
   "file_extension": ".py",
   "mimetype": "text/x-python",
   "name": "python",
   "nbconvert_exporter": "python",
   "pygments_lexer": "ipython3",
   "version": "3.10.6"
  },
  "orig_nbformat": 4,
  "vscode": {
   "interpreter": {
    "hash": "916dbcbb3f70747c44a77c7bcd40155683ae19c65e1c03b4aa3499c5328201f1"
   }
  }
 },
 "nbformat": 4,
 "nbformat_minor": 2
}
