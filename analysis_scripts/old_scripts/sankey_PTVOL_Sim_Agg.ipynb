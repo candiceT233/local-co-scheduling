{
 "cells": [
  {
   "cell_type": "code",
   "execution_count": 69,
   "metadata": {},
   "outputs": [],
   "source": [
    "import plotly.graph_objects as go\n",
    "import pandas as pd\n",
    "\n",
    "# reading input log file\n",
    "import sys\n",
    "from csv import excel\n",
    "\n",
    "path='../tmp_outputs'\n",
    "task_cnt = 8\n",
    "\n",
    "# fsim = f'{path}/hm-sim.f100.n{task_cnt}.r100.log.xlsx'\n",
    "# fagg = f'{path}/hm-agg.f100.n{task_cnt}.r100.log.xlsx'\n",
    "\n",
    "fsim=f'{path}/prov-sim.csv'\n",
    "fagg=f'{path}/prov-agg.csv'"
   ]
  },
  {
   "cell_type": "code",
   "execution_count": 70,
   "metadata": {},
   "outputs": [],
   "source": [
    "def humansize(nbytes):\n",
    "    suffixes = ['B', 'KB', 'MB', 'GB', 'TB', 'PB']\n",
    "    i = 0\n",
    "    while nbytes >= 1000 and i < len(suffixes)-1:\n",
    "        nbytes /= 1000.\n",
    "        i += 1\n",
    "    f = ('%.2f' % nbytes).rstrip('0').rstrip('.')\n",
    "    return '%s %s' % (f, suffixes[i])"
   ]
  },
  {
   "cell_type": "code",
   "execution_count": 71,
   "metadata": {},
   "outputs": [],
   "source": [
    "class SankeyData:\n",
    "    \n",
    "    # From Tazer\n",
    "    df_stat = list()\n",
    "    # Sankey in Plotly, node - vertex, link - edge\n",
    "    nodes = pd.DataFrame(columns=['label', 'color'])\n",
    "    links = pd.DataFrame(columns=['source', 'target', 'value', 'label'])\n",
    "    \n",
    "    color_map = {\"task\": \"red\",\n",
    "                 \"file\": \"blue\",\n",
    "                 \"none\": \"grey\",\n",
    "                }\n",
    "    block_size = 1024 # default block_size\n",
    "    output_suffix = \"hermesvfd-example\"\n",
    "        \n",
    "    def __init__(self):\n",
    "        pass\n",
    "        \n",
    "    def load_stat(self, df_stat, params):\n",
    "        \n",
    "        self.df_stat.append({ \"df\": df_stat,\n",
    "                              \"filename\": params['filename'],\n",
    "                              \"type\": params['type'],\n",
    "                              \"size\": params['size'],\n",
    "                             \"task_name\": params['task_name']\n",
    "                            })\n",
    "\n",
    "        # add a node entry (task)\n",
    "        self.set_taskname(params['task_name'])\n",
    "\n",
    "        # add a node entry (input/output file)\n",
    "        # one filename entry is allowed\n",
    "        if len(self.nodes[self.nodes.label == params['filename']]) == 0:\n",
    "            self.add_node({'label': params['filename'],\n",
    "                           'color': self.color_map['file']})\n",
    "            '''\n",
    "            self.add_node({'label': 'no read',\n",
    "                      'color': self.color_map['none']})\n",
    "            self.add_node({'label': 'no write',\n",
    "                      'color': self.color_map['none']})\n",
    "            '''\n",
    "        \n",
    "    def set_taskname(self, name):\n",
    "        if len(self.nodes[self.nodes.label == name]) == 0:\n",
    "            self.add_node({'label': name,\n",
    "                           'color': self.color_map['task']})\n",
    "    def set_output_suffix(self,suffix):\n",
    "        self.output_suffix = suffix\n",
    "        print(f\"Output Name : sankey-diagram-plotly-{self.output_suffix}.html\")\n",
    "                    \n",
    "    def get_node(self, idx):\n",
    "        return self.nodes[idx]\n",
    "    \n",
    "    def add_node(self, node_dict):\n",
    "        # label, color, customdata, x, y\n",
    "        x = pd.DataFrame([node_dict])\n",
    "        self.nodes = pd.concat([self.nodes, x], ignore_index=True)\n",
    "        new_id = len(self.nodes)\n",
    "        \n",
    "    def get_link(self, name):\n",
    "        return self.link[name]\n",
    "    \n",
    "    def set_links(self):\n",
    "        pass\n",
    "    \n",
    "    def set_block_size(self,size):\n",
    "        self.block_size =  size\n",
    "\n",
    "    def build_links(self, key='block_idx', no_rw=False):\n",
    "\n",
    "        links = []\n",
    "        for v in self.df_stat:\n",
    "            # input (r)\n",
    "            # cnt = v['df'][key].nunique()\n",
    "            cnt = v['size'] # candice added for link size\n",
    "            io_type = v['type']\n",
    "            fname = v['filename']\n",
    "            tname = v['task_name']\n",
    "            fidx = int(self.nodes[self.nodes.label == fname].index.values)\n",
    "            tidx = int(self.nodes[self.nodes.label == tname].index.values)\n",
    "\n",
    "            if io_type == \"read\":\n",
    "                t2f = {'source': fidx,\n",
    "                       'target': tidx,\n",
    "                       'label': f'read (~ {humansize(cnt)})',\n",
    "                       'value': cnt}\n",
    "                if no_rw:\n",
    "                    t2n = {'source': fidx + 1,\n",
    "                           'target': tidx,\n",
    "                           'value': (v['size'] / self.block_size) - cnt}\n",
    "            elif io_type == \"write\":\n",
    "                t2f = {'source': tidx,\n",
    "                       'target': fidx,\n",
    "                       'label': f'write (~ {humansize(cnt)})',\n",
    "                       'value': cnt}\n",
    "                if no_rw:\n",
    "                    t2n = {'source': tidx,\n",
    "                           'target': fidx + 2,\n",
    "                           'value': (v['size'] / self.block_size) - cnt}\n",
    "\n",
    "            links.append(t2f) \n",
    "            links.append(t2n) if no_rw else None\n",
    "\n",
    "        links = pd.DataFrame(links)\n",
    "        self.links = links\n",
    "    \n",
    "    def plot(self):\n",
    "        n = self.nodes[['label','color']].to_dict('list')\n",
    "        l = self.links.to_dict('list')\n",
    "        fig = go.Figure(data=[go.Sankey(\n",
    "            node = n,\n",
    "            link = l)])\n",
    "        fig.show()\n",
    "        fig.write_html(f\"{path}/sankey-diagram-plotly-{self.output_suffix}.html\")\n",
    "\n",
    "    def reset(self):\n",
    "        del(self.df_stat)\n",
    "        del(self.nodes)\n",
    "        del(self.links)    "
   ]
  },
  {
   "cell_type": "code",
   "execution_count": 72,
   "metadata": {},
   "outputs": [],
   "source": [
    "read_columns=['type','Time_Start(ns)','Access_Size','Filename','Filesize','Num_Datasets','Dataset_Name',\n",
    "'Dataset_Offset','Dataset_N_Dimension','Dataset_N_Points','Dataset_Dimension']\n",
    "\n",
    "# loading hermesvfd stat files into pandas dataframe\n",
    "def stat_to_df(fname):\n",
    "\n",
    "    df = pd.read_excel(fname, usecols=read_columns)\n",
    "    df.fillna(\"\")\n",
    "\n",
    "    df['access_idx'] = df.index # just name for placeholder\n",
    "\n",
    "    df['file_name'] = df['file_name'].astype('string')\n",
    "    df['operation'] = df['operation'].astype('string')\n",
    "    df['file_name'] = df['file_name'].fillna(\"\")\n",
    "    df['dset_name'] = df['dset_name'].fillna(\"\")\n",
    "\n",
    "    df['Filesize'] = df['Filesize'].astype('int64')\n",
    "    df['access_size'] = df['access_size'].astype('int64')\n",
    "\n",
    "    df['file_name'].replace(\"molecular_dynamics_runs/stage0000/\",\"\",inplace=True,regex=True)\n",
    "    \n",
    "    return df\n"
   ]
  },
  {
   "cell_type": "code",
   "execution_count": 73,
   "metadata": {},
   "outputs": [],
   "source": [
    "dsets = [\"contact_map\", \"point_cloud\"]\n",
    "io_type = [\"read\", \"write\"]\n",
    "agg_result = \"aggregate.h5\"\n",
    "sim_result = \"residue_100.h5\"\n",
    "\n",
    "def sd_load_file(dfsim, dfagg, sd, task_cnt):\n",
    "    for io in io_type:\n",
    "        for i in range(task_cnt):\n",
    "            taskname = \"task000\" + str(i) + \"/\" + sim_result\n",
    "\n",
    "            # read in sim stats\n",
    "            new_df = dfsim[(dfsim['operation'].str.match(io)) \n",
    "                            & (dfsim['file_name'].str.match(taskname))]\n",
    "            sd.load_stat(new_df, {'filename': f'residue_100_output.h5 ({i})',\n",
    "                            'type': io,\n",
    "                            'size':new_df['access_size'].sum(),\n",
    "                            'task_name': 'sim_emulator.py'})\n",
    "\n",
    "            # read in agg stats\n",
    "            new_df = dfagg[(dfagg['operation'].str.match(io)) \n",
    "                        & (dfagg['file_name'].str.match(taskname))]\n",
    "            sd.load_stat(new_df, {'filename': f'residue_100_output.h5 ({i})',\n",
    "                            'type': io,\n",
    "                            'size':new_df['access_size'].sum(),\n",
    "                            'task_name': 'aggregate.py'})\n",
    "        \n",
    "        new_df = dfagg[(dfagg['operation'].str.match(io)) \n",
    "                        & (dfagg['file_name'].str.contains(agg_result))]\n",
    "        sd.load_stat(new_df, {'filename': f'{agg_result}',\n",
    "                            'type': io,\n",
    "                            'size': new_df['access_size'].sum(),\n",
    "                            'task_name': 'aggregate.py'})"
   ]
  },
  {
   "cell_type": "code",
   "execution_count": 74,
   "metadata": {},
   "outputs": [],
   "source": [
    "\n",
    "# dfsim = stat_to_df(fsim)\n",
    "# dfagg = stat_to_df(fagg)\n",
    "\n",
    "dfsim = pd.read_csv(fsim)\n",
    "dfagg = pd.read_csv(fagg)\n",
    "\n",
    "# print(dfagg.columns)\n"
   ]
  },
  {
   "cell_type": "code",
   "execution_count": 75,
   "metadata": {},
   "outputs": [
    {
     "name": "stdout",
     "output_type": "stream",
     "text": [
      "Output Name : sankey-diagram-plotly-vol-file.html\n"
     ]
    },
    {
     "data": {
      "application/vnd.plotly.v1+json": {
       "config": {
        "plotlyServerURL": "https://plot.ly"
       },
       "data": [
        {
         "link": {
          "label": [
           "read (~ 0 B)",
           "read (~ 2.1 MB)",
           "read (~ 0 B)",
           "read (~ 2.1 MB)",
           "read (~ 0 B)",
           "read (~ 2.1 MB)",
           "read (~ 0 B)",
           "read (~ 2.1 MB)",
           "read (~ 0 B)",
           "read (~ 2.1 MB)",
           "read (~ 0 B)",
           "read (~ 2.1 MB)",
           "read (~ 0 B)",
           "read (~ 2.1 MB)",
           "read (~ 0 B)",
           "read (~ 2.1 MB)",
           "read (~ 0 B)",
           "write (~ 2.1 MB)",
           "write (~ 0 B)",
           "write (~ 2.1 MB)",
           "write (~ 0 B)",
           "write (~ 2.1 MB)",
           "write (~ 0 B)",
           "write (~ 2.1 MB)",
           "write (~ 0 B)",
           "write (~ 2.1 MB)",
           "write (~ 0 B)",
           "write (~ 2.1 MB)",
           "write (~ 0 B)",
           "write (~ 2.1 MB)",
           "write (~ 0 B)",
           "write (~ 2.1 MB)",
           "write (~ 0 B)",
           "write (~ 16.82 MB)"
          ],
          "source": [
           1,
           1,
           3,
           3,
           4,
           4,
           5,
           5,
           6,
           6,
           7,
           7,
           8,
           8,
           9,
           9,
           10,
           0,
           2,
           0,
           2,
           0,
           2,
           0,
           2,
           0,
           2,
           0,
           2,
           0,
           2,
           0,
           2,
           2
          ],
          "target": [
           0,
           2,
           0,
           2,
           0,
           2,
           0,
           2,
           0,
           2,
           0,
           2,
           0,
           2,
           0,
           2,
           2,
           1,
           1,
           3,
           3,
           4,
           4,
           5,
           5,
           6,
           6,
           7,
           7,
           8,
           8,
           9,
           9,
           10
          ],
          "value": [
           0,
           2103964,
           0,
           2103084,
           0,
           2102240,
           0,
           2103960,
           0,
           2102316,
           0,
           2103952,
           0,
           2102704,
           0,
           2101864,
           0,
           2103964,
           0,
           2103084,
           0,
           2102240,
           0,
           2103960,
           0,
           2102316,
           0,
           2103952,
           0,
           2102704,
           0,
           2101864,
           0,
           16824084
          ]
         },
         "node": {
          "color": [
           "red",
           "blue",
           "red",
           "blue",
           "blue",
           "blue",
           "blue",
           "blue",
           "blue",
           "blue",
           "blue"
          ],
          "label": [
           "sim_emulator.py",
           "residue_100_output.h5 (0)",
           "aggregate.py",
           "residue_100_output.h5 (1)",
           "residue_100_output.h5 (2)",
           "residue_100_output.h5 (3)",
           "residue_100_output.h5 (4)",
           "residue_100_output.h5 (5)",
           "residue_100_output.h5 (6)",
           "residue_100_output.h5 (7)",
           "aggregate.h5"
          ]
         },
         "type": "sankey"
        }
       ],
       "layout": {
        "template": {
         "data": {
          "bar": [
           {
            "error_x": {
             "color": "#2a3f5f"
            },
            "error_y": {
             "color": "#2a3f5f"
            },
            "marker": {
             "line": {
              "color": "#E5ECF6",
              "width": 0.5
             },
             "pattern": {
              "fillmode": "overlay",
              "size": 10,
              "solidity": 0.2
             }
            },
            "type": "bar"
           }
          ],
          "barpolar": [
           {
            "marker": {
             "line": {
              "color": "#E5ECF6",
              "width": 0.5
             },
             "pattern": {
              "fillmode": "overlay",
              "size": 10,
              "solidity": 0.2
             }
            },
            "type": "barpolar"
           }
          ],
          "carpet": [
           {
            "aaxis": {
             "endlinecolor": "#2a3f5f",
             "gridcolor": "white",
             "linecolor": "white",
             "minorgridcolor": "white",
             "startlinecolor": "#2a3f5f"
            },
            "baxis": {
             "endlinecolor": "#2a3f5f",
             "gridcolor": "white",
             "linecolor": "white",
             "minorgridcolor": "white",
             "startlinecolor": "#2a3f5f"
            },
            "type": "carpet"
           }
          ],
          "choropleth": [
           {
            "colorbar": {
             "outlinewidth": 0,
             "ticks": ""
            },
            "type": "choropleth"
           }
          ],
          "contour": [
           {
            "colorbar": {
             "outlinewidth": 0,
             "ticks": ""
            },
            "colorscale": [
             [
              0,
              "#0d0887"
             ],
             [
              0.1111111111111111,
              "#46039f"
             ],
             [
              0.2222222222222222,
              "#7201a8"
             ],
             [
              0.3333333333333333,
              "#9c179e"
             ],
             [
              0.4444444444444444,
              "#bd3786"
             ],
             [
              0.5555555555555556,
              "#d8576b"
             ],
             [
              0.6666666666666666,
              "#ed7953"
             ],
             [
              0.7777777777777778,
              "#fb9f3a"
             ],
             [
              0.8888888888888888,
              "#fdca26"
             ],
             [
              1,
              "#f0f921"
             ]
            ],
            "type": "contour"
           }
          ],
          "contourcarpet": [
           {
            "colorbar": {
             "outlinewidth": 0,
             "ticks": ""
            },
            "type": "contourcarpet"
           }
          ],
          "heatmap": [
           {
            "colorbar": {
             "outlinewidth": 0,
             "ticks": ""
            },
            "colorscale": [
             [
              0,
              "#0d0887"
             ],
             [
              0.1111111111111111,
              "#46039f"
             ],
             [
              0.2222222222222222,
              "#7201a8"
             ],
             [
              0.3333333333333333,
              "#9c179e"
             ],
             [
              0.4444444444444444,
              "#bd3786"
             ],
             [
              0.5555555555555556,
              "#d8576b"
             ],
             [
              0.6666666666666666,
              "#ed7953"
             ],
             [
              0.7777777777777778,
              "#fb9f3a"
             ],
             [
              0.8888888888888888,
              "#fdca26"
             ],
             [
              1,
              "#f0f921"
             ]
            ],
            "type": "heatmap"
           }
          ],
          "heatmapgl": [
           {
            "colorbar": {
             "outlinewidth": 0,
             "ticks": ""
            },
            "colorscale": [
             [
              0,
              "#0d0887"
             ],
             [
              0.1111111111111111,
              "#46039f"
             ],
             [
              0.2222222222222222,
              "#7201a8"
             ],
             [
              0.3333333333333333,
              "#9c179e"
             ],
             [
              0.4444444444444444,
              "#bd3786"
             ],
             [
              0.5555555555555556,
              "#d8576b"
             ],
             [
              0.6666666666666666,
              "#ed7953"
             ],
             [
              0.7777777777777778,
              "#fb9f3a"
             ],
             [
              0.8888888888888888,
              "#fdca26"
             ],
             [
              1,
              "#f0f921"
             ]
            ],
            "type": "heatmapgl"
           }
          ],
          "histogram": [
           {
            "marker": {
             "pattern": {
              "fillmode": "overlay",
              "size": 10,
              "solidity": 0.2
             }
            },
            "type": "histogram"
           }
          ],
          "histogram2d": [
           {
            "colorbar": {
             "outlinewidth": 0,
             "ticks": ""
            },
            "colorscale": [
             [
              0,
              "#0d0887"
             ],
             [
              0.1111111111111111,
              "#46039f"
             ],
             [
              0.2222222222222222,
              "#7201a8"
             ],
             [
              0.3333333333333333,
              "#9c179e"
             ],
             [
              0.4444444444444444,
              "#bd3786"
             ],
             [
              0.5555555555555556,
              "#d8576b"
             ],
             [
              0.6666666666666666,
              "#ed7953"
             ],
             [
              0.7777777777777778,
              "#fb9f3a"
             ],
             [
              0.8888888888888888,
              "#fdca26"
             ],
             [
              1,
              "#f0f921"
             ]
            ],
            "type": "histogram2d"
           }
          ],
          "histogram2dcontour": [
           {
            "colorbar": {
             "outlinewidth": 0,
             "ticks": ""
            },
            "colorscale": [
             [
              0,
              "#0d0887"
             ],
             [
              0.1111111111111111,
              "#46039f"
             ],
             [
              0.2222222222222222,
              "#7201a8"
             ],
             [
              0.3333333333333333,
              "#9c179e"
             ],
             [
              0.4444444444444444,
              "#bd3786"
             ],
             [
              0.5555555555555556,
              "#d8576b"
             ],
             [
              0.6666666666666666,
              "#ed7953"
             ],
             [
              0.7777777777777778,
              "#fb9f3a"
             ],
             [
              0.8888888888888888,
              "#fdca26"
             ],
             [
              1,
              "#f0f921"
             ]
            ],
            "type": "histogram2dcontour"
           }
          ],
          "mesh3d": [
           {
            "colorbar": {
             "outlinewidth": 0,
             "ticks": ""
            },
            "type": "mesh3d"
           }
          ],
          "parcoords": [
           {
            "line": {
             "colorbar": {
              "outlinewidth": 0,
              "ticks": ""
             }
            },
            "type": "parcoords"
           }
          ],
          "pie": [
           {
            "automargin": true,
            "type": "pie"
           }
          ],
          "scatter": [
           {
            "fillpattern": {
             "fillmode": "overlay",
             "size": 10,
             "solidity": 0.2
            },
            "type": "scatter"
           }
          ],
          "scatter3d": [
           {
            "line": {
             "colorbar": {
              "outlinewidth": 0,
              "ticks": ""
             }
            },
            "marker": {
             "colorbar": {
              "outlinewidth": 0,
              "ticks": ""
             }
            },
            "type": "scatter3d"
           }
          ],
          "scattercarpet": [
           {
            "marker": {
             "colorbar": {
              "outlinewidth": 0,
              "ticks": ""
             }
            },
            "type": "scattercarpet"
           }
          ],
          "scattergeo": [
           {
            "marker": {
             "colorbar": {
              "outlinewidth": 0,
              "ticks": ""
             }
            },
            "type": "scattergeo"
           }
          ],
          "scattergl": [
           {
            "marker": {
             "colorbar": {
              "outlinewidth": 0,
              "ticks": ""
             }
            },
            "type": "scattergl"
           }
          ],
          "scattermapbox": [
           {
            "marker": {
             "colorbar": {
              "outlinewidth": 0,
              "ticks": ""
             }
            },
            "type": "scattermapbox"
           }
          ],
          "scatterpolar": [
           {
            "marker": {
             "colorbar": {
              "outlinewidth": 0,
              "ticks": ""
             }
            },
            "type": "scatterpolar"
           }
          ],
          "scatterpolargl": [
           {
            "marker": {
             "colorbar": {
              "outlinewidth": 0,
              "ticks": ""
             }
            },
            "type": "scatterpolargl"
           }
          ],
          "scatterternary": [
           {
            "marker": {
             "colorbar": {
              "outlinewidth": 0,
              "ticks": ""
             }
            },
            "type": "scatterternary"
           }
          ],
          "surface": [
           {
            "colorbar": {
             "outlinewidth": 0,
             "ticks": ""
            },
            "colorscale": [
             [
              0,
              "#0d0887"
             ],
             [
              0.1111111111111111,
              "#46039f"
             ],
             [
              0.2222222222222222,
              "#7201a8"
             ],
             [
              0.3333333333333333,
              "#9c179e"
             ],
             [
              0.4444444444444444,
              "#bd3786"
             ],
             [
              0.5555555555555556,
              "#d8576b"
             ],
             [
              0.6666666666666666,
              "#ed7953"
             ],
             [
              0.7777777777777778,
              "#fb9f3a"
             ],
             [
              0.8888888888888888,
              "#fdca26"
             ],
             [
              1,
              "#f0f921"
             ]
            ],
            "type": "surface"
           }
          ],
          "table": [
           {
            "cells": {
             "fill": {
              "color": "#EBF0F8"
             },
             "line": {
              "color": "white"
             }
            },
            "header": {
             "fill": {
              "color": "#C8D4E3"
             },
             "line": {
              "color": "white"
             }
            },
            "type": "table"
           }
          ]
         },
         "layout": {
          "annotationdefaults": {
           "arrowcolor": "#2a3f5f",
           "arrowhead": 0,
           "arrowwidth": 1
          },
          "autotypenumbers": "strict",
          "coloraxis": {
           "colorbar": {
            "outlinewidth": 0,
            "ticks": ""
           }
          },
          "colorscale": {
           "diverging": [
            [
             0,
             "#8e0152"
            ],
            [
             0.1,
             "#c51b7d"
            ],
            [
             0.2,
             "#de77ae"
            ],
            [
             0.3,
             "#f1b6da"
            ],
            [
             0.4,
             "#fde0ef"
            ],
            [
             0.5,
             "#f7f7f7"
            ],
            [
             0.6,
             "#e6f5d0"
            ],
            [
             0.7,
             "#b8e186"
            ],
            [
             0.8,
             "#7fbc41"
            ],
            [
             0.9,
             "#4d9221"
            ],
            [
             1,
             "#276419"
            ]
           ],
           "sequential": [
            [
             0,
             "#0d0887"
            ],
            [
             0.1111111111111111,
             "#46039f"
            ],
            [
             0.2222222222222222,
             "#7201a8"
            ],
            [
             0.3333333333333333,
             "#9c179e"
            ],
            [
             0.4444444444444444,
             "#bd3786"
            ],
            [
             0.5555555555555556,
             "#d8576b"
            ],
            [
             0.6666666666666666,
             "#ed7953"
            ],
            [
             0.7777777777777778,
             "#fb9f3a"
            ],
            [
             0.8888888888888888,
             "#fdca26"
            ],
            [
             1,
             "#f0f921"
            ]
           ],
           "sequentialminus": [
            [
             0,
             "#0d0887"
            ],
            [
             0.1111111111111111,
             "#46039f"
            ],
            [
             0.2222222222222222,
             "#7201a8"
            ],
            [
             0.3333333333333333,
             "#9c179e"
            ],
            [
             0.4444444444444444,
             "#bd3786"
            ],
            [
             0.5555555555555556,
             "#d8576b"
            ],
            [
             0.6666666666666666,
             "#ed7953"
            ],
            [
             0.7777777777777778,
             "#fb9f3a"
            ],
            [
             0.8888888888888888,
             "#fdca26"
            ],
            [
             1,
             "#f0f921"
            ]
           ]
          },
          "colorway": [
           "#636efa",
           "#EF553B",
           "#00cc96",
           "#ab63fa",
           "#FFA15A",
           "#19d3f3",
           "#FF6692",
           "#B6E880",
           "#FF97FF",
           "#FECB52"
          ],
          "font": {
           "color": "#2a3f5f"
          },
          "geo": {
           "bgcolor": "white",
           "lakecolor": "white",
           "landcolor": "#E5ECF6",
           "showlakes": true,
           "showland": true,
           "subunitcolor": "white"
          },
          "hoverlabel": {
           "align": "left"
          },
          "hovermode": "closest",
          "mapbox": {
           "style": "light"
          },
          "paper_bgcolor": "white",
          "plot_bgcolor": "#E5ECF6",
          "polar": {
           "angularaxis": {
            "gridcolor": "white",
            "linecolor": "white",
            "ticks": ""
           },
           "bgcolor": "#E5ECF6",
           "radialaxis": {
            "gridcolor": "white",
            "linecolor": "white",
            "ticks": ""
           }
          },
          "scene": {
           "xaxis": {
            "backgroundcolor": "#E5ECF6",
            "gridcolor": "white",
            "gridwidth": 2,
            "linecolor": "white",
            "showbackground": true,
            "ticks": "",
            "zerolinecolor": "white"
           },
           "yaxis": {
            "backgroundcolor": "#E5ECF6",
            "gridcolor": "white",
            "gridwidth": 2,
            "linecolor": "white",
            "showbackground": true,
            "ticks": "",
            "zerolinecolor": "white"
           },
           "zaxis": {
            "backgroundcolor": "#E5ECF6",
            "gridcolor": "white",
            "gridwidth": 2,
            "linecolor": "white",
            "showbackground": true,
            "ticks": "",
            "zerolinecolor": "white"
           }
          },
          "shapedefaults": {
           "line": {
            "color": "#2a3f5f"
           }
          },
          "ternary": {
           "aaxis": {
            "gridcolor": "white",
            "linecolor": "white",
            "ticks": ""
           },
           "baxis": {
            "gridcolor": "white",
            "linecolor": "white",
            "ticks": ""
           },
           "bgcolor": "#E5ECF6",
           "caxis": {
            "gridcolor": "white",
            "linecolor": "white",
            "ticks": ""
           }
          },
          "title": {
           "x": 0.05
          },
          "xaxis": {
           "automargin": true,
           "gridcolor": "white",
           "linecolor": "white",
           "ticks": "",
           "title": {
            "standoff": 15
           },
           "zerolinecolor": "white",
           "zerolinewidth": 2
          },
          "yaxis": {
           "automargin": true,
           "gridcolor": "white",
           "linecolor": "white",
           "ticks": "",
           "title": {
            "standoff": 15
           },
           "zerolinecolor": "white",
           "zerolinewidth": 2
          }
         }
        }
       }
      },
      "text/html": [
       "<div>                            <div id=\"872507bc-0e75-43d2-8456-dadabcd00413\" class=\"plotly-graph-div\" style=\"height:525px; width:100%;\"></div>            <script type=\"text/javascript\">                require([\"plotly\"], function(Plotly) {                    window.PLOTLYENV=window.PLOTLYENV || {};                                    if (document.getElementById(\"872507bc-0e75-43d2-8456-dadabcd00413\")) {                    Plotly.newPlot(                        \"872507bc-0e75-43d2-8456-dadabcd00413\",                        [{\"link\":{\"label\":[\"read (~ 0 B)\",\"read (~ 2.1 MB)\",\"read (~ 0 B)\",\"read (~ 2.1 MB)\",\"read (~ 0 B)\",\"read (~ 2.1 MB)\",\"read (~ 0 B)\",\"read (~ 2.1 MB)\",\"read (~ 0 B)\",\"read (~ 2.1 MB)\",\"read (~ 0 B)\",\"read (~ 2.1 MB)\",\"read (~ 0 B)\",\"read (~ 2.1 MB)\",\"read (~ 0 B)\",\"read (~ 2.1 MB)\",\"read (~ 0 B)\",\"write (~ 2.1 MB)\",\"write (~ 0 B)\",\"write (~ 2.1 MB)\",\"write (~ 0 B)\",\"write (~ 2.1 MB)\",\"write (~ 0 B)\",\"write (~ 2.1 MB)\",\"write (~ 0 B)\",\"write (~ 2.1 MB)\",\"write (~ 0 B)\",\"write (~ 2.1 MB)\",\"write (~ 0 B)\",\"write (~ 2.1 MB)\",\"write (~ 0 B)\",\"write (~ 2.1 MB)\",\"write (~ 0 B)\",\"write (~ 16.82 MB)\"],\"source\":[1,1,3,3,4,4,5,5,6,6,7,7,8,8,9,9,10,0,2,0,2,0,2,0,2,0,2,0,2,0,2,0,2,2],\"target\":[0,2,0,2,0,2,0,2,0,2,0,2,0,2,0,2,2,1,1,3,3,4,4,5,5,6,6,7,7,8,8,9,9,10],\"value\":[0,2103964,0,2103084,0,2102240,0,2103960,0,2102316,0,2103952,0,2102704,0,2101864,0,2103964,0,2103084,0,2102240,0,2103960,0,2102316,0,2103952,0,2102704,0,2101864,0,16824084]},\"node\":{\"color\":[\"red\",\"blue\",\"red\",\"blue\",\"blue\",\"blue\",\"blue\",\"blue\",\"blue\",\"blue\",\"blue\"],\"label\":[\"sim_emulator.py\",\"residue_100_output.h5 (0)\",\"aggregate.py\",\"residue_100_output.h5 (1)\",\"residue_100_output.h5 (2)\",\"residue_100_output.h5 (3)\",\"residue_100_output.h5 (4)\",\"residue_100_output.h5 (5)\",\"residue_100_output.h5 (6)\",\"residue_100_output.h5 (7)\",\"aggregate.h5\"]},\"type\":\"sankey\"}],                        {\"template\":{\"data\":{\"histogram2dcontour\":[{\"type\":\"histogram2dcontour\",\"colorbar\":{\"outlinewidth\":0,\"ticks\":\"\"},\"colorscale\":[[0.0,\"#0d0887\"],[0.1111111111111111,\"#46039f\"],[0.2222222222222222,\"#7201a8\"],[0.3333333333333333,\"#9c179e\"],[0.4444444444444444,\"#bd3786\"],[0.5555555555555556,\"#d8576b\"],[0.6666666666666666,\"#ed7953\"],[0.7777777777777778,\"#fb9f3a\"],[0.8888888888888888,\"#fdca26\"],[1.0,\"#f0f921\"]]}],\"choropleth\":[{\"type\":\"choropleth\",\"colorbar\":{\"outlinewidth\":0,\"ticks\":\"\"}}],\"histogram2d\":[{\"type\":\"histogram2d\",\"colorbar\":{\"outlinewidth\":0,\"ticks\":\"\"},\"colorscale\":[[0.0,\"#0d0887\"],[0.1111111111111111,\"#46039f\"],[0.2222222222222222,\"#7201a8\"],[0.3333333333333333,\"#9c179e\"],[0.4444444444444444,\"#bd3786\"],[0.5555555555555556,\"#d8576b\"],[0.6666666666666666,\"#ed7953\"],[0.7777777777777778,\"#fb9f3a\"],[0.8888888888888888,\"#fdca26\"],[1.0,\"#f0f921\"]]}],\"heatmap\":[{\"type\":\"heatmap\",\"colorbar\":{\"outlinewidth\":0,\"ticks\":\"\"},\"colorscale\":[[0.0,\"#0d0887\"],[0.1111111111111111,\"#46039f\"],[0.2222222222222222,\"#7201a8\"],[0.3333333333333333,\"#9c179e\"],[0.4444444444444444,\"#bd3786\"],[0.5555555555555556,\"#d8576b\"],[0.6666666666666666,\"#ed7953\"],[0.7777777777777778,\"#fb9f3a\"],[0.8888888888888888,\"#fdca26\"],[1.0,\"#f0f921\"]]}],\"heatmapgl\":[{\"type\":\"heatmapgl\",\"colorbar\":{\"outlinewidth\":0,\"ticks\":\"\"},\"colorscale\":[[0.0,\"#0d0887\"],[0.1111111111111111,\"#46039f\"],[0.2222222222222222,\"#7201a8\"],[0.3333333333333333,\"#9c179e\"],[0.4444444444444444,\"#bd3786\"],[0.5555555555555556,\"#d8576b\"],[0.6666666666666666,\"#ed7953\"],[0.7777777777777778,\"#fb9f3a\"],[0.8888888888888888,\"#fdca26\"],[1.0,\"#f0f921\"]]}],\"contourcarpet\":[{\"type\":\"contourcarpet\",\"colorbar\":{\"outlinewidth\":0,\"ticks\":\"\"}}],\"contour\":[{\"type\":\"contour\",\"colorbar\":{\"outlinewidth\":0,\"ticks\":\"\"},\"colorscale\":[[0.0,\"#0d0887\"],[0.1111111111111111,\"#46039f\"],[0.2222222222222222,\"#7201a8\"],[0.3333333333333333,\"#9c179e\"],[0.4444444444444444,\"#bd3786\"],[0.5555555555555556,\"#d8576b\"],[0.6666666666666666,\"#ed7953\"],[0.7777777777777778,\"#fb9f3a\"],[0.8888888888888888,\"#fdca26\"],[1.0,\"#f0f921\"]]}],\"surface\":[{\"type\":\"surface\",\"colorbar\":{\"outlinewidth\":0,\"ticks\":\"\"},\"colorscale\":[[0.0,\"#0d0887\"],[0.1111111111111111,\"#46039f\"],[0.2222222222222222,\"#7201a8\"],[0.3333333333333333,\"#9c179e\"],[0.4444444444444444,\"#bd3786\"],[0.5555555555555556,\"#d8576b\"],[0.6666666666666666,\"#ed7953\"],[0.7777777777777778,\"#fb9f3a\"],[0.8888888888888888,\"#fdca26\"],[1.0,\"#f0f921\"]]}],\"mesh3d\":[{\"type\":\"mesh3d\",\"colorbar\":{\"outlinewidth\":0,\"ticks\":\"\"}}],\"scatter\":[{\"fillpattern\":{\"fillmode\":\"overlay\",\"size\":10,\"solidity\":0.2},\"type\":\"scatter\"}],\"parcoords\":[{\"type\":\"parcoords\",\"line\":{\"colorbar\":{\"outlinewidth\":0,\"ticks\":\"\"}}}],\"scatterpolargl\":[{\"type\":\"scatterpolargl\",\"marker\":{\"colorbar\":{\"outlinewidth\":0,\"ticks\":\"\"}}}],\"bar\":[{\"error_x\":{\"color\":\"#2a3f5f\"},\"error_y\":{\"color\":\"#2a3f5f\"},\"marker\":{\"line\":{\"color\":\"#E5ECF6\",\"width\":0.5},\"pattern\":{\"fillmode\":\"overlay\",\"size\":10,\"solidity\":0.2}},\"type\":\"bar\"}],\"scattergeo\":[{\"type\":\"scattergeo\",\"marker\":{\"colorbar\":{\"outlinewidth\":0,\"ticks\":\"\"}}}],\"scatterpolar\":[{\"type\":\"scatterpolar\",\"marker\":{\"colorbar\":{\"outlinewidth\":0,\"ticks\":\"\"}}}],\"histogram\":[{\"marker\":{\"pattern\":{\"fillmode\":\"overlay\",\"size\":10,\"solidity\":0.2}},\"type\":\"histogram\"}],\"scattergl\":[{\"type\":\"scattergl\",\"marker\":{\"colorbar\":{\"outlinewidth\":0,\"ticks\":\"\"}}}],\"scatter3d\":[{\"type\":\"scatter3d\",\"line\":{\"colorbar\":{\"outlinewidth\":0,\"ticks\":\"\"}},\"marker\":{\"colorbar\":{\"outlinewidth\":0,\"ticks\":\"\"}}}],\"scattermapbox\":[{\"type\":\"scattermapbox\",\"marker\":{\"colorbar\":{\"outlinewidth\":0,\"ticks\":\"\"}}}],\"scatterternary\":[{\"type\":\"scatterternary\",\"marker\":{\"colorbar\":{\"outlinewidth\":0,\"ticks\":\"\"}}}],\"scattercarpet\":[{\"type\":\"scattercarpet\",\"marker\":{\"colorbar\":{\"outlinewidth\":0,\"ticks\":\"\"}}}],\"carpet\":[{\"aaxis\":{\"endlinecolor\":\"#2a3f5f\",\"gridcolor\":\"white\",\"linecolor\":\"white\",\"minorgridcolor\":\"white\",\"startlinecolor\":\"#2a3f5f\"},\"baxis\":{\"endlinecolor\":\"#2a3f5f\",\"gridcolor\":\"white\",\"linecolor\":\"white\",\"minorgridcolor\":\"white\",\"startlinecolor\":\"#2a3f5f\"},\"type\":\"carpet\"}],\"table\":[{\"cells\":{\"fill\":{\"color\":\"#EBF0F8\"},\"line\":{\"color\":\"white\"}},\"header\":{\"fill\":{\"color\":\"#C8D4E3\"},\"line\":{\"color\":\"white\"}},\"type\":\"table\"}],\"barpolar\":[{\"marker\":{\"line\":{\"color\":\"#E5ECF6\",\"width\":0.5},\"pattern\":{\"fillmode\":\"overlay\",\"size\":10,\"solidity\":0.2}},\"type\":\"barpolar\"}],\"pie\":[{\"automargin\":true,\"type\":\"pie\"}]},\"layout\":{\"autotypenumbers\":\"strict\",\"colorway\":[\"#636efa\",\"#EF553B\",\"#00cc96\",\"#ab63fa\",\"#FFA15A\",\"#19d3f3\",\"#FF6692\",\"#B6E880\",\"#FF97FF\",\"#FECB52\"],\"font\":{\"color\":\"#2a3f5f\"},\"hovermode\":\"closest\",\"hoverlabel\":{\"align\":\"left\"},\"paper_bgcolor\":\"white\",\"plot_bgcolor\":\"#E5ECF6\",\"polar\":{\"bgcolor\":\"#E5ECF6\",\"angularaxis\":{\"gridcolor\":\"white\",\"linecolor\":\"white\",\"ticks\":\"\"},\"radialaxis\":{\"gridcolor\":\"white\",\"linecolor\":\"white\",\"ticks\":\"\"}},\"ternary\":{\"bgcolor\":\"#E5ECF6\",\"aaxis\":{\"gridcolor\":\"white\",\"linecolor\":\"white\",\"ticks\":\"\"},\"baxis\":{\"gridcolor\":\"white\",\"linecolor\":\"white\",\"ticks\":\"\"},\"caxis\":{\"gridcolor\":\"white\",\"linecolor\":\"white\",\"ticks\":\"\"}},\"coloraxis\":{\"colorbar\":{\"outlinewidth\":0,\"ticks\":\"\"}},\"colorscale\":{\"sequential\":[[0.0,\"#0d0887\"],[0.1111111111111111,\"#46039f\"],[0.2222222222222222,\"#7201a8\"],[0.3333333333333333,\"#9c179e\"],[0.4444444444444444,\"#bd3786\"],[0.5555555555555556,\"#d8576b\"],[0.6666666666666666,\"#ed7953\"],[0.7777777777777778,\"#fb9f3a\"],[0.8888888888888888,\"#fdca26\"],[1.0,\"#f0f921\"]],\"sequentialminus\":[[0.0,\"#0d0887\"],[0.1111111111111111,\"#46039f\"],[0.2222222222222222,\"#7201a8\"],[0.3333333333333333,\"#9c179e\"],[0.4444444444444444,\"#bd3786\"],[0.5555555555555556,\"#d8576b\"],[0.6666666666666666,\"#ed7953\"],[0.7777777777777778,\"#fb9f3a\"],[0.8888888888888888,\"#fdca26\"],[1.0,\"#f0f921\"]],\"diverging\":[[0,\"#8e0152\"],[0.1,\"#c51b7d\"],[0.2,\"#de77ae\"],[0.3,\"#f1b6da\"],[0.4,\"#fde0ef\"],[0.5,\"#f7f7f7\"],[0.6,\"#e6f5d0\"],[0.7,\"#b8e186\"],[0.8,\"#7fbc41\"],[0.9,\"#4d9221\"],[1,\"#276419\"]]},\"xaxis\":{\"gridcolor\":\"white\",\"linecolor\":\"white\",\"ticks\":\"\",\"title\":{\"standoff\":15},\"zerolinecolor\":\"white\",\"automargin\":true,\"zerolinewidth\":2},\"yaxis\":{\"gridcolor\":\"white\",\"linecolor\":\"white\",\"ticks\":\"\",\"title\":{\"standoff\":15},\"zerolinecolor\":\"white\",\"automargin\":true,\"zerolinewidth\":2},\"scene\":{\"xaxis\":{\"backgroundcolor\":\"#E5ECF6\",\"gridcolor\":\"white\",\"linecolor\":\"white\",\"showbackground\":true,\"ticks\":\"\",\"zerolinecolor\":\"white\",\"gridwidth\":2},\"yaxis\":{\"backgroundcolor\":\"#E5ECF6\",\"gridcolor\":\"white\",\"linecolor\":\"white\",\"showbackground\":true,\"ticks\":\"\",\"zerolinecolor\":\"white\",\"gridwidth\":2},\"zaxis\":{\"backgroundcolor\":\"#E5ECF6\",\"gridcolor\":\"white\",\"linecolor\":\"white\",\"showbackground\":true,\"ticks\":\"\",\"zerolinecolor\":\"white\",\"gridwidth\":2}},\"shapedefaults\":{\"line\":{\"color\":\"#2a3f5f\"}},\"annotationdefaults\":{\"arrowcolor\":\"#2a3f5f\",\"arrowhead\":0,\"arrowwidth\":1},\"geo\":{\"bgcolor\":\"white\",\"landcolor\":\"#E5ECF6\",\"subunitcolor\":\"white\",\"showland\":true,\"showlakes\":true,\"lakecolor\":\"white\"},\"title\":{\"x\":0.05},\"mapbox\":{\"style\":\"light\"}}}},                        {\"responsive\": true}                    ).then(function(){\n",
       "                            \n",
       "var gd = document.getElementById('872507bc-0e75-43d2-8456-dadabcd00413');\n",
       "var x = new MutationObserver(function (mutations, observer) {{\n",
       "        var display = window.getComputedStyle(gd).display;\n",
       "        if (!display || display === 'none') {{\n",
       "            console.log([gd, 'removed!']);\n",
       "            Plotly.purge(gd);\n",
       "            observer.disconnect();\n",
       "        }}\n",
       "}});\n",
       "\n",
       "// Listen for the removal of the full notebook cells\n",
       "var notebookContainer = gd.closest('#notebook-container');\n",
       "if (notebookContainer) {{\n",
       "    x.observe(notebookContainer, {childList: true});\n",
       "}}\n",
       "\n",
       "// Listen for the clearing of the current output cell\n",
       "var outputEl = gd.closest('.output');\n",
       "if (outputEl) {{\n",
       "    x.observe(outputEl, {childList: true});\n",
       "}}\n",
       "\n",
       "                        })                };                });            </script>        </div>"
      ]
     },
     "metadata": {},
     "output_type": "display_data"
    }
   ],
   "source": [
    "sd = SankeyData()\n",
    "\n",
    "# sd_load_dset(dfsim,dfagg,sd,task_cnt)\n",
    "sd_load_file(dfsim,dfagg,sd,task_cnt)\n",
    "\n",
    "sd.set_block_size(65536)\n",
    "sd.build_links(key='access_idx')\n",
    "\n",
    "sd.set_output_suffix(\"vol-file\")\n",
    "sd.plot()"
   ]
  },
  {
   "cell_type": "code",
   "execution_count": 32,
   "metadata": {},
   "outputs": [
    {
     "data": {
      "text/html": [
       "<div>\n",
       "<style scoped>\n",
       "    .dataframe tbody tr th:only-of-type {\n",
       "        vertical-align: middle;\n",
       "    }\n",
       "\n",
       "    .dataframe tbody tr th {\n",
       "        vertical-align: top;\n",
       "    }\n",
       "\n",
       "    .dataframe thead th {\n",
       "        text-align: right;\n",
       "    }\n",
       "</style>\n",
       "<table border=\"1\" class=\"dataframe\">\n",
       "  <thead>\n",
       "    <tr style=\"text-align: right;\">\n",
       "      <th></th>\n",
       "      <th>label</th>\n",
       "      <th>color</th>\n",
       "    </tr>\n",
       "  </thead>\n",
       "  <tbody>\n",
       "    <tr>\n",
       "      <th>0</th>\n",
       "      <td>sim_emulator.py</td>\n",
       "      <td>red</td>\n",
       "    </tr>\n",
       "    <tr>\n",
       "      <th>1</th>\n",
       "      <td>residue_100_output.h5 (0)</td>\n",
       "      <td>blue</td>\n",
       "    </tr>\n",
       "    <tr>\n",
       "      <th>2</th>\n",
       "      <td>aggregate.py</td>\n",
       "      <td>red</td>\n",
       "    </tr>\n",
       "    <tr>\n",
       "      <th>3</th>\n",
       "      <td>residue_100_output.h5 (1)</td>\n",
       "      <td>blue</td>\n",
       "    </tr>\n",
       "    <tr>\n",
       "      <th>4</th>\n",
       "      <td>residue_100_output.h5 (2)</td>\n",
       "      <td>blue</td>\n",
       "    </tr>\n",
       "    <tr>\n",
       "      <th>5</th>\n",
       "      <td>residue_100_output.h5 (3)</td>\n",
       "      <td>blue</td>\n",
       "    </tr>\n",
       "    <tr>\n",
       "      <th>6</th>\n",
       "      <td>residue_100_output.h5 (4)</td>\n",
       "      <td>blue</td>\n",
       "    </tr>\n",
       "    <tr>\n",
       "      <th>7</th>\n",
       "      <td>residue_100_output.h5 (5)</td>\n",
       "      <td>blue</td>\n",
       "    </tr>\n",
       "    <tr>\n",
       "      <th>8</th>\n",
       "      <td>residue_100_output.h5 (6)</td>\n",
       "      <td>blue</td>\n",
       "    </tr>\n",
       "    <tr>\n",
       "      <th>9</th>\n",
       "      <td>residue_100_output.h5 (7)</td>\n",
       "      <td>blue</td>\n",
       "    </tr>\n",
       "    <tr>\n",
       "      <th>10</th>\n",
       "      <td>aggregate.h5</td>\n",
       "      <td>blue</td>\n",
       "    </tr>\n",
       "  </tbody>\n",
       "</table>\n",
       "</div>"
      ],
      "text/plain": [
       "                        label color\n",
       "0             sim_emulator.py   red\n",
       "1   residue_100_output.h5 (0)  blue\n",
       "2                aggregate.py   red\n",
       "3   residue_100_output.h5 (1)  blue\n",
       "4   residue_100_output.h5 (2)  blue\n",
       "5   residue_100_output.h5 (3)  blue\n",
       "6   residue_100_output.h5 (4)  blue\n",
       "7   residue_100_output.h5 (5)  blue\n",
       "8   residue_100_output.h5 (6)  blue\n",
       "9   residue_100_output.h5 (7)  blue\n",
       "10               aggregate.h5  blue"
      ]
     },
     "execution_count": 32,
     "metadata": {},
     "output_type": "execute_result"
    }
   ],
   "source": [
    "sd.nodes"
   ]
  },
  {
   "cell_type": "code",
   "execution_count": 33,
   "metadata": {},
   "outputs": [
    {
     "data": {
      "text/html": [
       "<div>\n",
       "<style scoped>\n",
       "    .dataframe tbody tr th:only-of-type {\n",
       "        vertical-align: middle;\n",
       "    }\n",
       "\n",
       "    .dataframe tbody tr th {\n",
       "        vertical-align: top;\n",
       "    }\n",
       "\n",
       "    .dataframe thead th {\n",
       "        text-align: right;\n",
       "    }\n",
       "</style>\n",
       "<table border=\"1\" class=\"dataframe\">\n",
       "  <thead>\n",
       "    <tr style=\"text-align: right;\">\n",
       "      <th></th>\n",
       "      <th>source</th>\n",
       "      <th>target</th>\n",
       "      <th>label</th>\n",
       "      <th>value</th>\n",
       "    </tr>\n",
       "  </thead>\n",
       "  <tbody>\n",
       "    <tr>\n",
       "      <th>0</th>\n",
       "      <td>1</td>\n",
       "      <td>0</td>\n",
       "      <td>read (approx 1.86 MB)</td>\n",
       "      <td>1861900</td>\n",
       "    </tr>\n",
       "    <tr>\n",
       "      <th>1</th>\n",
       "      <td>1</td>\n",
       "      <td>2</td>\n",
       "      <td>read (approx 0 B)</td>\n",
       "      <td>0</td>\n",
       "    </tr>\n",
       "    <tr>\n",
       "      <th>2</th>\n",
       "      <td>3</td>\n",
       "      <td>0</td>\n",
       "      <td>read (approx 1.86 MB)</td>\n",
       "      <td>1859616</td>\n",
       "    </tr>\n",
       "    <tr>\n",
       "      <th>3</th>\n",
       "      <td>3</td>\n",
       "      <td>2</td>\n",
       "      <td>read (approx 0 B)</td>\n",
       "      <td>0</td>\n",
       "    </tr>\n",
       "    <tr>\n",
       "      <th>4</th>\n",
       "      <td>4</td>\n",
       "      <td>0</td>\n",
       "      <td>read (approx 1.86 MB)</td>\n",
       "      <td>1861844</td>\n",
       "    </tr>\n",
       "    <tr>\n",
       "      <th>5</th>\n",
       "      <td>4</td>\n",
       "      <td>2</td>\n",
       "      <td>read (approx 0 B)</td>\n",
       "      <td>0</td>\n",
       "    </tr>\n",
       "    <tr>\n",
       "      <th>6</th>\n",
       "      <td>5</td>\n",
       "      <td>0</td>\n",
       "      <td>read (approx 1.86 MB)</td>\n",
       "      <td>1860216</td>\n",
       "    </tr>\n",
       "    <tr>\n",
       "      <th>7</th>\n",
       "      <td>5</td>\n",
       "      <td>2</td>\n",
       "      <td>read (approx 0 B)</td>\n",
       "      <td>0</td>\n",
       "    </tr>\n",
       "    <tr>\n",
       "      <th>8</th>\n",
       "      <td>6</td>\n",
       "      <td>0</td>\n",
       "      <td>read (approx 1.86 MB)</td>\n",
       "      <td>1861208</td>\n",
       "    </tr>\n",
       "    <tr>\n",
       "      <th>9</th>\n",
       "      <td>6</td>\n",
       "      <td>2</td>\n",
       "      <td>read (approx 0 B)</td>\n",
       "      <td>0</td>\n",
       "    </tr>\n",
       "    <tr>\n",
       "      <th>10</th>\n",
       "      <td>7</td>\n",
       "      <td>0</td>\n",
       "      <td>read (approx 1.86 MB)</td>\n",
       "      <td>1858984</td>\n",
       "    </tr>\n",
       "    <tr>\n",
       "      <th>11</th>\n",
       "      <td>7</td>\n",
       "      <td>2</td>\n",
       "      <td>read (approx 0 B)</td>\n",
       "      <td>0</td>\n",
       "    </tr>\n",
       "    <tr>\n",
       "      <th>12</th>\n",
       "      <td>8</td>\n",
       "      <td>0</td>\n",
       "      <td>read (approx 1.86 MB)</td>\n",
       "      <td>1860192</td>\n",
       "    </tr>\n",
       "    <tr>\n",
       "      <th>13</th>\n",
       "      <td>8</td>\n",
       "      <td>2</td>\n",
       "      <td>read (approx 0 B)</td>\n",
       "      <td>0</td>\n",
       "    </tr>\n",
       "    <tr>\n",
       "      <th>14</th>\n",
       "      <td>9</td>\n",
       "      <td>0</td>\n",
       "      <td>read (approx 1.86 MB)</td>\n",
       "      <td>1860688</td>\n",
       "    </tr>\n",
       "    <tr>\n",
       "      <th>15</th>\n",
       "      <td>9</td>\n",
       "      <td>2</td>\n",
       "      <td>read (approx 0 B)</td>\n",
       "      <td>0</td>\n",
       "    </tr>\n",
       "    <tr>\n",
       "      <th>16</th>\n",
       "      <td>10</td>\n",
       "      <td>2</td>\n",
       "      <td>read (approx 14.88 MB)</td>\n",
       "      <td>14884648</td>\n",
       "    </tr>\n",
       "    <tr>\n",
       "      <th>17</th>\n",
       "      <td>0</td>\n",
       "      <td>1</td>\n",
       "      <td>write (approx 0 B)</td>\n",
       "      <td>0</td>\n",
       "    </tr>\n",
       "    <tr>\n",
       "      <th>18</th>\n",
       "      <td>2</td>\n",
       "      <td>1</td>\n",
       "      <td>write (approx 1.86 MB)</td>\n",
       "      <td>1861900</td>\n",
       "    </tr>\n",
       "    <tr>\n",
       "      <th>19</th>\n",
       "      <td>0</td>\n",
       "      <td>3</td>\n",
       "      <td>write (approx 0 B)</td>\n",
       "      <td>0</td>\n",
       "    </tr>\n",
       "    <tr>\n",
       "      <th>20</th>\n",
       "      <td>2</td>\n",
       "      <td>3</td>\n",
       "      <td>write (approx 1.86 MB)</td>\n",
       "      <td>1859616</td>\n",
       "    </tr>\n",
       "    <tr>\n",
       "      <th>21</th>\n",
       "      <td>0</td>\n",
       "      <td>4</td>\n",
       "      <td>write (approx 0 B)</td>\n",
       "      <td>0</td>\n",
       "    </tr>\n",
       "    <tr>\n",
       "      <th>22</th>\n",
       "      <td>2</td>\n",
       "      <td>4</td>\n",
       "      <td>write (approx 1.86 MB)</td>\n",
       "      <td>1861844</td>\n",
       "    </tr>\n",
       "    <tr>\n",
       "      <th>23</th>\n",
       "      <td>0</td>\n",
       "      <td>5</td>\n",
       "      <td>write (approx 0 B)</td>\n",
       "      <td>0</td>\n",
       "    </tr>\n",
       "    <tr>\n",
       "      <th>24</th>\n",
       "      <td>2</td>\n",
       "      <td>5</td>\n",
       "      <td>write (approx 1.86 MB)</td>\n",
       "      <td>1860216</td>\n",
       "    </tr>\n",
       "    <tr>\n",
       "      <th>25</th>\n",
       "      <td>0</td>\n",
       "      <td>6</td>\n",
       "      <td>write (approx 0 B)</td>\n",
       "      <td>0</td>\n",
       "    </tr>\n",
       "    <tr>\n",
       "      <th>26</th>\n",
       "      <td>2</td>\n",
       "      <td>6</td>\n",
       "      <td>write (approx 1.86 MB)</td>\n",
       "      <td>1861208</td>\n",
       "    </tr>\n",
       "    <tr>\n",
       "      <th>27</th>\n",
       "      <td>0</td>\n",
       "      <td>7</td>\n",
       "      <td>write (approx 0 B)</td>\n",
       "      <td>0</td>\n",
       "    </tr>\n",
       "    <tr>\n",
       "      <th>28</th>\n",
       "      <td>2</td>\n",
       "      <td>7</td>\n",
       "      <td>write (approx 1.86 MB)</td>\n",
       "      <td>1858984</td>\n",
       "    </tr>\n",
       "    <tr>\n",
       "      <th>29</th>\n",
       "      <td>0</td>\n",
       "      <td>8</td>\n",
       "      <td>write (approx 0 B)</td>\n",
       "      <td>0</td>\n",
       "    </tr>\n",
       "    <tr>\n",
       "      <th>30</th>\n",
       "      <td>2</td>\n",
       "      <td>8</td>\n",
       "      <td>write (approx 1.86 MB)</td>\n",
       "      <td>1860192</td>\n",
       "    </tr>\n",
       "    <tr>\n",
       "      <th>31</th>\n",
       "      <td>0</td>\n",
       "      <td>9</td>\n",
       "      <td>write (approx 0 B)</td>\n",
       "      <td>0</td>\n",
       "    </tr>\n",
       "    <tr>\n",
       "      <th>32</th>\n",
       "      <td>2</td>\n",
       "      <td>9</td>\n",
       "      <td>write (approx 1.86 MB)</td>\n",
       "      <td>1860688</td>\n",
       "    </tr>\n",
       "    <tr>\n",
       "      <th>33</th>\n",
       "      <td>2</td>\n",
       "      <td>10</td>\n",
       "      <td>write (approx 0 B)</td>\n",
       "      <td>0</td>\n",
       "    </tr>\n",
       "  </tbody>\n",
       "</table>\n",
       "</div>"
      ],
      "text/plain": [
       "    source  target                   label     value\n",
       "0        1       0   read (approx 1.86 MB)   1861900\n",
       "1        1       2       read (approx 0 B)         0\n",
       "2        3       0   read (approx 1.86 MB)   1859616\n",
       "3        3       2       read (approx 0 B)         0\n",
       "4        4       0   read (approx 1.86 MB)   1861844\n",
       "5        4       2       read (approx 0 B)         0\n",
       "6        5       0   read (approx 1.86 MB)   1860216\n",
       "7        5       2       read (approx 0 B)         0\n",
       "8        6       0   read (approx 1.86 MB)   1861208\n",
       "9        6       2       read (approx 0 B)         0\n",
       "10       7       0   read (approx 1.86 MB)   1858984\n",
       "11       7       2       read (approx 0 B)         0\n",
       "12       8       0   read (approx 1.86 MB)   1860192\n",
       "13       8       2       read (approx 0 B)         0\n",
       "14       9       0   read (approx 1.86 MB)   1860688\n",
       "15       9       2       read (approx 0 B)         0\n",
       "16      10       2  read (approx 14.88 MB)  14884648\n",
       "17       0       1      write (approx 0 B)         0\n",
       "18       2       1  write (approx 1.86 MB)   1861900\n",
       "19       0       3      write (approx 0 B)         0\n",
       "20       2       3  write (approx 1.86 MB)   1859616\n",
       "21       0       4      write (approx 0 B)         0\n",
       "22       2       4  write (approx 1.86 MB)   1861844\n",
       "23       0       5      write (approx 0 B)         0\n",
       "24       2       5  write (approx 1.86 MB)   1860216\n",
       "25       0       6      write (approx 0 B)         0\n",
       "26       2       6  write (approx 1.86 MB)   1861208\n",
       "27       0       7      write (approx 0 B)         0\n",
       "28       2       7  write (approx 1.86 MB)   1858984\n",
       "29       0       8      write (approx 0 B)         0\n",
       "30       2       8  write (approx 1.86 MB)   1860192\n",
       "31       0       9      write (approx 0 B)         0\n",
       "32       2       9  write (approx 1.86 MB)   1860688\n",
       "33       2      10      write (approx 0 B)         0"
      ]
     },
     "execution_count": 33,
     "metadata": {},
     "output_type": "execute_result"
    }
   ],
   "source": [
    "sd.links"
   ]
  },
  {
   "cell_type": "code",
   "execution_count": null,
   "metadata": {},
   "outputs": [],
   "source": []
  }
 ],
 "metadata": {
  "kernelspec": {
   "display_name": "Python 3.7.11 64-bit",
   "language": "python",
   "name": "python3"
  },
  "language_info": {
   "codemirror_mode": {
    "name": "ipython",
    "version": 3
   },
   "file_extension": ".py",
   "mimetype": "text/x-python",
   "name": "python",
   "nbconvert_exporter": "python",
   "pygments_lexer": "ipython3",
   "version": "3.7.11"
  },
  "orig_nbformat": 4,
  "vscode": {
   "interpreter": {
    "hash": "6b91b7dd4d8a7b6a913637a2227eb724977af8647a7e6e9f1d2538a8f2b15605"
   }
  }
 },
 "nbformat": 4,
 "nbformat_minor": 2
}
