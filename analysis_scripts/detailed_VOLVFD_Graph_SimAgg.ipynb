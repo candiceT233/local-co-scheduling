{
 "cells": [
  {
   "cell_type": "code",
   "execution_count": 1,
   "metadata": {},
   "outputs": [
    {
     "data": {
      "text/plain": [
       "\"Index(['data_label_vol', 'object_idx_vol', 'dset_name', 'access_size_vol',\\n       'logical_addr_vol', 'op_type_vol', 'operation_vol', 'n_elements',\\n       'dimension_cnt', 'dimensions', 'file_intent', 'layout', 'time(us)_vol',\\n       'io_idx_vol', 'logical_addr_map', 'data_label_vfd', 'object_idx_vfd',\\n       'access_size_vfd', 'logical_addr_vfd', 'next_addr', 'op_type_vfd',\\n       'file_name', 'time(us)_vfd', 'operation_vfd', 'io_idx_vfd'],\\n      dtype='object')\""
      ]
     },
     "execution_count": 1,
     "metadata": {},
     "output_type": "execute_result"
    }
   ],
   "source": [
    "import plotly.graph_objects as go\n",
    "import pandas as pd\n",
    "\n",
    "import matplotlib.pyplot as plt\n",
    "import networkx as nx\n",
    "\n",
    "# reading input log file\n",
    "import math\n",
    "import sys\n",
    "import traceback\n",
    "from csv import excel\n",
    "from collections import Counter\n",
    "from scipy import stats\n",
    "\n",
    "image_path='../save_outputs/vol-vfd/detail'\n",
    "nshow=20\n",
    "step=1\n",
    "padding=nshow\n",
    "\n",
    "data_filter = {\n",
    "    'datasets': [{'dset_name':'contact_map'},\n",
    "    {'dset_name':'point_cloud'},\n",
    "     ],\n",
    "}\n",
    "\n",
    "\"\"\"Index(['data_label_vol', 'object_idx_vol', 'dset_name', 'access_size_vol',\n",
    "       'logical_addr_vol', 'op_type_vol', 'operation_vol', 'n_elements',\n",
    "       'dimension_cnt', 'dimensions', 'file_intent', 'layout', 'time(us)_vol',\n",
    "       'io_idx_vol', 'logical_addr_map', 'data_label_vfd', 'object_idx_vfd',\n",
    "       'access_size_vfd', 'logical_addr_vfd', 'next_addr', 'op_type_vfd',\n",
    "       'file_name', 'time(us)_vfd', 'operation_vfd', 'io_idx_vfd'],\n",
    "      dtype='object')\"\"\""
   ]
  },
  {
   "cell_type": "code",
   "execution_count": 2,
   "metadata": {},
   "outputs": [],
   "source": [
    "# data related methods\n",
    "def humansize(nbytes):\n",
    "    suffixes = ['B', 'KB', 'MB', 'GB', 'TB', 'PB']\n",
    "    i = 0\n",
    "    while nbytes >= 1000 and i < len(suffixes)-1:\n",
    "        nbytes /= 1000.\n",
    "        i += 1\n",
    "    f = ('%.2f' % nbytes).rstrip('0').rstrip('.')\n",
    "    return '%s %s' % (f, suffixes[i])\n",
    "\n",
    "def check_empty(df,p=True):\n",
    "    nan_df = df[df.isna().any(axis=1)].copy()\n",
    "    if not nan_df.empty:\n",
    "        if p:\n",
    "            print(f\"NaN rows: {nan_df}\") # check any nan\n",
    "        return list(nan_df.index)\n",
    "    \n",
    "    null_df = df[df.isnull().any(axis=1)].copy()\n",
    "    if not null_df.empty:\n",
    "        if p:\n",
    "            print(f\"NULL rows: {null_df}\") # check any null\n",
    "        return list(null_df.index)\n",
    "    \n",
    "def print_list_diff(list1, list2):\n",
    "    if list1 == list2:\n",
    "        print(\"same lists\")\n",
    "    else:\n",
    "        print(\"different lists\\nindex:\\t[list1]\\t[list2]\")\n",
    "        for index, (first, second) in enumerate(zip(list1, list2)):\n",
    "            if first != second:\n",
    "                # print(index, first, second)\n",
    "                print(f\"{index}:\\t{first}]\\t[{second}]\")\n",
    "\n",
    "def df_to_csv(df,file_name,suffix=''):\n",
    "    # df.hash_id=df.hash_id.astype('category').cat.codes\n",
    "    # out_csv=file_name.replace('prov-vfd-','')\n",
    "    out_csv=file_name.replace('.csv',f'{suffix}.csv')\n",
    "    df.to_csv(out_csv,index=False)\n",
    "    \n",
    "def read_data(filename, dset=''):\n",
    "    if '.parquet' in filename:\n",
    "        df = pd.read_parquet(filename,engine='pyarrow')\n",
    "    if'.csv' in filename:\n",
    "        df = pd.read_csv(filename,index_col=False)\n",
    "    \n",
    "    if len(dset) > 0:\n",
    "        df = df[df['dset_name'] == dset]\n",
    "        \n",
    "    return df\n",
    "\n",
    "def get_min_max_loc(G):\n",
    "    ret_dict = {}\n",
    "    attr_dict = nx.get_node_attributes(G,'pos')\n",
    "    min_x = min(attr_dict.values())[0]\n",
    "    max_x = max(attr_dict.values())[0]\n",
    "    for k,v in attr_dict.items():\n",
    "        if v[0] == min_x:\n",
    "            ret_dict['min'] = { k:v }\n",
    "        if v[0] == max_x:\n",
    "            ret_dict['max'] = { k:v }\n",
    "    return ret_dict"
   ]
  },
  {
   "cell_type": "code",
   "execution_count": 3,
   "metadata": {},
   "outputs": [],
   "source": [
    "# networkx related methods\n",
    "# color names : https://www.w3schools.com/colors/colors_names.asp\n",
    "COLOR_MAP = {\"task\": \"FireBrick\", # read\n",
    "            \"vol\": \"Salmon\", #orange\n",
    "            \"contact_map\": \"Tomato\", \n",
    "            \"point_cloud\": \"OrangeRed\", \n",
    "            \"addr\": \"SkyBlue\", # blue\n",
    "            # \"logical_addr\": \"SkyBlue\", #light blue\n",
    "            # \"logical_addr_vfd\": \"PowderBlue\", # slightly different light lue\n",
    "            \"file\": \"RoyalBlue\", # darker blue\n",
    "            \"none\": \"grey\",\n",
    "            }\n",
    "\n",
    "def rm_name_tags(name, tags):\n",
    "    for t in tags:\n",
    "        name = str(name).replace(f\"{t}-\",\"\")\n",
    "        name = str(name).replace(\"vol-\",\"\")\n",
    "        name = str(name).replace(\"contact_map\",\"cm\")\n",
    "        name = str(name).replace(\"point_cloud\",\"pc\")\n",
    "    return name\n",
    "\n",
    "def draw_graph(G,color_map=COLOR_MAP, rm_tags=['']):\n",
    "    pos=nx.get_node_attributes(G,'pos')\n",
    "    names = nx.get_node_attributes(G,'name')\n",
    "\n",
    "    node_colors = [] \n",
    "    # set node colors\n",
    "    for name in names.values():\n",
    "        _n = rm_name_tags(name, rm_tags)\n",
    "        node_colors.append(color_map[_n])\n",
    "        \n",
    "    # set node labels\n",
    "    labels = {}\n",
    "    for node in names.keys():\n",
    "        _n = rm_name_tags(node, rm_tags)\n",
    "        labels[node] = _n\n",
    "\n",
    "    plt.figure(figsize=(25, 10)) #figsize=(40, 10)\n",
    "    # plt.figure(figsize=(50, 50))\n",
    "    \n",
    "    bbox = dict(alpha=0.6, fc=\"black\", ec=\"white\", boxstyle=\"square\", color='white') #fc=\"red\", , lw=3\n",
    "        \n",
    "    nx.draw_networkx_nodes(G, pos=pos, node_color=node_colors)\n",
    "    nx.draw_networkx_labels(G, pos=pos, labels= labels, bbox=bbox, horizontalalignment='left', font_color='white')\n",
    "    \n",
    "    # for edge in G.edges(data='access_cnt'):\n",
    "    #     nx.draw_networkx_edges(G, pos=pos, edgelist=[edge], width=edge[2], )\n",
    "    nx.draw_networkx_edges(G, pos=pos, edgelist=G.edges)\n",
    "    \n",
    "    plt.axis(\"off\")\n",
    "    plt.margins(x=0.1)\n",
    "    \n",
    "    out_tag = '-'.join(rm_tags)\n",
    "    plt.savefig(f\"{image_path}/networkx-sampled-{out_tag}.png\")\n",
    "    \n",
    "    plt.show()\n",
    "    \n",
    "\n",
    "def add_attr_dic_edges(G, edges, io_idx, ops, asize):\n",
    "    attr_dict = {}\n",
    "    edge_cnt = {}\n",
    "\n",
    "    # print(edges)\n",
    "\n",
    "    for i, e in enumerate(edges):\n",
    "        if e in edge_cnt.keys():\n",
    "            if edge_cnt[e]['io_idx'] != io_idx[i]:\n",
    "                edge_cnt[e]['cnt'] +=1\n",
    "        else:\n",
    "            edge_cnt[e] = {}\n",
    "            edge_cnt[e]['cnt'] = 1\n",
    "            edge_cnt[e]['io_idx'] = io_idx[i]\n",
    "    \n",
    "    # print(edge_cnt)\n",
    "    pos = nx.get_node_attributes(G,'pos')\n",
    "\n",
    "    for i, e in enumerate(edges):\n",
    "        try:\n",
    "            attr_dict[e] = {'access_cnt': edge_cnt[e]['cnt'], 'access_size': asize[i], 'operation': ops[i]} # 'time': times[i]\n",
    "            # # update node x-axis\n",
    "            # node = e[1]\n",
    "            # node_y = pos[node][1]\n",
    "            # G.add_node(node,pos=(times[i],node_y))\n",
    "\n",
    "        except:\n",
    "            print(f\"i={i} edge={e}\")\n",
    "            # print(asize)\n",
    "            # print(ops)\n",
    "            traceback.print_exc()\n",
    "            # break\n",
    "    # print(pos)\n",
    "\n",
    "    G.add_edges_from(edges)\n",
    "    nx.set_edge_attributes(G,attr_dict)\n",
    "\n",
    "def add_nodes_edges(G, l1, l2, ops, io_idx, times=[], acc_s=[], x_pos=0, tags=['','']):\n",
    "    #column1, column2, io_idx, access_size\n",
    "    _x = x_pos\n",
    "    _y = -1\n",
    "\n",
    "    count = 0\n",
    "    prev_node = -1\n",
    "    prev_time = -1\n",
    "    l1t = []\n",
    "    if len(l1) == 1:\n",
    "        l1t.append(f\"{tags[0]}-{l1[0]}\")\n",
    "    else:\n",
    "        for i,node in enumerate(l1):\n",
    "            if node == prev_node:\n",
    "                tmp = f\"{tags[0]}-{node}:({prev_time})\" #times[0][i]\n",
    "            else:\n",
    "                prev_time = times[0][i]\n",
    "                tmp = f\"{tags[0]}-{node}:({prev_time})\" #times[0][i]\n",
    "            l1t.append(tmp)\n",
    "            prev_node = node\n",
    "        \n",
    "    l2t = []\n",
    "    if len(l2) == 1:\n",
    "        l2t.append(f\"{tags[1]}-{l2[0]}\")\n",
    "    else:\n",
    "        for i,node in enumerate(l2):\n",
    "            if node == prev_node:\n",
    "                tmp = f\"{tags[1]}-{node}:({prev_time})\" \n",
    "            else:\n",
    "                prev_time = times[1][i]\n",
    "                tmp = f\"{tags[1]}-{node}:({prev_time})\" \n",
    "            l2t.append(tmp)\n",
    "            prev_node = node\n",
    "    \n",
    "    for i, l in enumerate([l1t, l2t]):\n",
    "        _addr_pos = []\n",
    "        if 'addr' in tags[i]:\n",
    "            if i == 0:\n",
    "                org_vals = l1\n",
    "            else:\n",
    "                org_vals = l2 \n",
    "            _addr_pos = stats.rankdata(org_vals,method='dense')\n",
    "            _addr_pos = [x*step for x in _addr_pos]\n",
    "    \n",
    "        for j,n in enumerate(l):\n",
    "            \n",
    "            if(G.has_node(n) == False):\n",
    "                _y+=1\n",
    "\n",
    "                if len(_addr_pos) > 0:\n",
    "                    G.add_node(n,pos=(times[i][j],_addr_pos[j]),name=tags[i])\n",
    "                else:\n",
    "                    if len(l) == 1:\n",
    "                        G.add_node(n, pos=(_x,_y), name=tags[i])\n",
    "                    else:\n",
    "                        G.add_node(n, pos=(times[i][j],_y), name=tags[i])\n",
    "        _x+=step\n",
    "        \n",
    "    if len(l1t) == 1:\n",
    "        l1t = l1t * len(l2t)\n",
    "    if len(l2t) == 1:\n",
    "        l2t = l2t * len(l1t)\n",
    "    if len(acc_s) == 0:\n",
    "        acc_s = [1] * len(l1t)\n",
    "    \n",
    "    add_attr_dic_edges(G, list(zip(l1t, l2t)), io_idx, ops, acc_s)\n",
    "\n",
    "    # update node location if it is task/file at the end\n",
    "    if  tags[-1] == 'task' or tags[-1] == 'file':\n",
    "        try:\n",
    "            node = l2t[0] #f\"{l2t[0]}-{times[0]}\"\n",
    "            node_pos = nx.get_node_attributes(G,'pos')[node]\n",
    "            # print(f\"lastnode - {node} : {node_pos}\")\n",
    "            new_x = max(nx.get_node_attributes(G,'pos').values())[0] + padding\n",
    "            old_y = node_pos[1]\n",
    "            G.add_node(node,pos=(new_x,old_y))\n",
    "        except:\n",
    "            print(node)"
   ]
  },
  {
   "cell_type": "code",
   "execution_count": 4,
   "metadata": {},
   "outputs": [
    {
     "name": "stdout",
     "output_type": "stream",
     "text": [
      "Index(['data_label_vol', 'object_idx_vol', 'dset_name', 'access_size_vol',\n",
      "       'op_type_vol', 'logical_addr', 'operation_vol', 'n_elements',\n",
      "       'dimension_cnt', 'dimensions', 'file_intent', 'layout', 'time(us)_vol',\n",
      "       'io_idx_vol', 'logical_addr_map', 'data_label_vfd', 'object_idx_vfd',\n",
      "       'access_size_vfd', 'op_type_vfd', 'logical_addr_vfd', 'file_name',\n",
      "       'time(us)_vfd', 'operation_vfd', 'io_idx_vfd'],\n",
      "      dtype='object')\n",
      "[22]\n",
      "{'min': {'task-sim': (0, 0)}, 'max': {'file-residue.h5': (44, 0)}}\n"
     ]
    },
    {
     "data": {
      "image/png": "[encoded data removed]",
      "text/plain": [
       "<Figure size 2500x1000 with 1 Axes>"
      ]
     },
     "metadata": {},
     "output_type": "display_data"
    }
   ],
   "source": [
    "fsim='../save_outputs/vol-vfd/prov-vfd-sim-merged.csv'\n",
    "df_sim_merged = read_data(fsim)\n",
    "print(df_sim_merged.columns)\n",
    "\n",
    "# df_sim = pd.concat([df_sim_merged.head(nshow*8),df_sim_merged.tail(nshow)])\n",
    "df_sim = df_sim_merged[df_sim_merged.dset_name == 'point_cloud']\n",
    "df_sim = df_sim[df_sim.op_type_vfd != 'meta']\n",
    "# df_sim = df_sim_merged\n",
    "\n",
    "# convert time to rank\n",
    "vol_time = stats.rankdata(df_sim['time(us)_vol'],method='dense') #df_sim_merged['time(us)_vol'].min()\n",
    "vol_time = [x+padding for x in vol_time]\n",
    "# vol_time = [x*step for x in vol_time]\n",
    "max_left = max(vol_time)\n",
    "vfd_time = stats.rankdata(df_sim['time(us)_vfd'],method='dense')\n",
    "vfd_time = [x + (max_left) for x in vfd_time]\n",
    "# vfd_time = [x*step for x in vfd_time]\n",
    "print(vfd_time)\n",
    "min_right = 0\n",
    "min_right = min(vfd_time)\n",
    "# print(f\"max_left = {max_left} min_right = {min_right}\")\n",
    "\n",
    "G_SIM = nx.DiGraph()\n",
    "\n",
    "x_pos = 0\n",
    "add_nodes_edges(G_SIM, ['sim'], list(df_sim['data_label_vol']), \n",
    "                    list(df_sim['operation_vol']), \n",
    "                    list(df_sim['io_idx_vol']),\n",
    "                    [[x_pos],vol_time], \n",
    "                    acc_s=list(df_sim['access_size_vol']),\n",
    "                    x_pos=x_pos, tags=['task','sim-vol'])\n",
    "\n",
    "x_pos = max(nx.get_node_attributes(G_SIM,'pos').values())[0] + 1\n",
    "# print(get_min_max_loc(G_SIM))\n",
    "add_nodes_edges(G_SIM, list(df_sim['data_label_vol']), list(df_sim['logical_addr_vfd']), \n",
    "                    list(df_sim['operation_vol']), \n",
    "                    list(df_sim['io_idx_vol']),\n",
    "                    [vol_time,vfd_time], \n",
    "                    acc_s=list(df_sim['access_size_vfd']),\n",
    "                    x_pos=x_pos, tags=['sim-vol','sim-addr'])\n",
    "\n",
    "\n",
    "x_pos = max(nx.get_node_attributes(G_SIM,'pos').values())[0] + 1\n",
    "x_time = max(vol_time) +1\n",
    "# print(get_min_max_loc(G_SIM))\n",
    "add_nodes_edges(G_SIM, list(df_sim['logical_addr_vfd']), ['residue.h5'], \n",
    "                    list(df_sim['operation_vol']), \n",
    "                    list(df_sim['io_idx_vfd']),\n",
    "                    [vfd_time, [x_time]], \n",
    "                    acc_s=list(df_sim['access_size_vfd']),\n",
    "                    x_pos=x_pos, tags=['sim-addr','file'])\n",
    "\n",
    "# print(nx.get_edge_attributes(G_SIM,'access_cnt'))\n",
    "# print(nx.get_edge_attributes(G_SIM,'operation'))\n",
    "# print(nx.get_edge_attributes(G_SIM,'time'))\n",
    "# print(nx.get_node_attributes(G_SIM,'pos'))\n",
    "print(get_min_max_loc(G_SIM))\n",
    "\n",
    "\n",
    "# TODO: find and add more attributes for task and file nodes\n",
    "# task_attr = {'task-sim_emulator': {'file_intent':df_sim_merged['file_intent'].iloc[0]}}\n",
    "# nx.set_node_attributes(G_SIM,task_attr)\n",
    "# # attr for edges ['operation']\n",
    "# # attr for dset nodes ['layout', 'dset_name', 'n_elements', 'dimension_cnt', 'dimensions', ]\n",
    "\n",
    "draw_graph(G_SIM,COLOR_MAP,rm_tags=['sim'])"
   ]
  },
  {
   "cell_type": "code",
   "execution_count": 5,
   "metadata": {},
   "outputs": [
    {
     "name": "stdout",
     "output_type": "stream",
     "text": [
      "Index(['data_label_vol', 'object_idx_vol', 'dset_name', 'access_size_vol',\n",
      "       'op_type_vol', 'logical_addr_vol', 'operation_vol', 'n_elements',\n",
      "       'dimension_cnt', 'dimensions', 'file_intent', 'layout', 'time(us)_vol',\n",
      "       'io_idx_vol', 'logical_addr_map', 'data_label_vfd', 'object_idx_vfd',\n",
      "       'access_size_vfd', 'op_type_vfd', 'next_addr', 'logical_addr_vfd',\n",
      "       'file_name', 'time(us)_vfd', 'operation_vfd', 'io_idx_vfd'],\n",
      "      dtype='object')\n",
      "prev_node = {'file-residue.h5': (44, 0)}\n",
      "x_pos = 44\n",
      "x_time = 22\n",
      "max_left = 65 min_right = 66\n",
      "{'min': {'file-residue.h5': (44, 0)}, 'max': {'task-aggregator': (89, 0)}}\n"
     ]
    },
    {
     "data": {
      "image/png": "[encoded data removed]",
      "text/plain": [
       "<Figure size 2500x1000 with 1 Axes>"
      ]
     },
     "metadata": {},
     "output_type": "display_data"
    }
   ],
   "source": [
    "fagg_read='../save_outputs/vol-vfd/prov-vfd-agg-read-merged.csv'\n",
    "\n",
    "df_agg_read_merged = read_data(fagg_read)\n",
    "print(df_agg_read_merged.columns)\n",
    "# print(df_agg_read_merged[df_agg_read_merged.operation_vol == 'open' ])\n",
    "\n",
    "# df_agg_read = pd.concat([df_agg_read_merged.head(nshow*8),df_agg_read_merged.tail(nshow)])\n",
    "df_agg_read = df_agg_read_merged[df_agg_read_merged.dset_name == 'point_cloud']\n",
    "df_agg_read = df_agg_read[df_agg_read.op_type_vfd != 'meta']\n",
    "\n",
    "\n",
    "# 'data_label_vol', 'data_label_vfd', 'logical_addr_vfd'\n",
    "prev_node = get_min_max_loc(G_SIM)['max']\n",
    "x_pos = list(prev_node.values())[0][0] #+ padding\n",
    "# x_time = int(list(prev_node.keys())[0].split(':')[-1].replace('(','').replace(')',''))\n",
    "print(f\"prev_node = {prev_node}\")\n",
    "print(f\"x_pos = {x_pos}\")\n",
    "print(f\"x_time = {x_time}\")\n",
    "\n",
    "# convert time to rank\n",
    "vfd_time = stats.rankdata(df_agg_read['time(us)_vfd'],method='dense')\n",
    "vfd_time = [x+x_pos+padding for x in vfd_time]\n",
    "# vfd_time = [x*step for x in vfd_time]\n",
    "max_left = max(vfd_time)\n",
    "vol_time = stats.rankdata(df_agg_read['time(us)_vol'],method='dense') #df_sim_merged['time(us)_vol'].min()\n",
    "vol_time = [x + (max_left) for x in vol_time]\n",
    "min_right = min(vol_time)\n",
    "print(f\"max_left = {max_left} min_right = {min_right}\")\n",
    "# df_agg_read['time(us)_vol'] += (max_left + x_pos)\n",
    "\n",
    "G_AGG_R = nx.DiGraph()\n",
    "\n",
    "\n",
    "add_nodes_edges(G_AGG_R, ['residue.h5'], list(df_agg_read['logical_addr_vfd']), \n",
    "                    list(df_agg_read['operation_vol']), \n",
    "                    list(df_agg_read['io_idx_vfd']),\n",
    "                    [[0],vfd_time], \n",
    "                    acc_s=list(df_agg_read['access_size_vfd']),\n",
    "                    x_pos=x_pos, tags=['file','agg_r-addr'])\n",
    "# x_pos+=1\n",
    "try:\n",
    "    x_pos = max(nx.get_node_attributes(G_AGG_R,'pos').values())[0]+ 1\n",
    "except:\n",
    "    print(nx.get_node_attributes(G_AGG_R,'pos').values())\n",
    "\n",
    "add_nodes_edges(G_AGG_R, list(df_agg_read['logical_addr_vfd']), list(df_agg_read['data_label_vol']), \n",
    "                    list(df_agg_read['operation_vol']), \n",
    "                    list(df_agg_read['io_idx_vol']),\n",
    "                    [vfd_time,vol_time], \n",
    "                    acc_s=list(df_agg_read['access_size_vfd']),\n",
    "                    x_pos=x_pos, tags=['agg_r-addr','agg_r-vol'])\n",
    "\n",
    "# x_pos+=1\n",
    "x_pos = max(nx.get_node_attributes(G_AGG_R,'pos').values())[0] + 1\n",
    "x_time = max(vol_time) +1\n",
    "add_nodes_edges(G_AGG_R, list(df_agg_read['data_label_vol']), ['aggregator'], \n",
    "                    list(df_agg_read['operation_vol']), \n",
    "                    list(df_agg_read['io_idx_vol']),\n",
    "                    [vol_time, [0]], \n",
    "                    acc_s=list(df_agg_read['access_size_vol']),\n",
    "                    x_pos=x_pos, tags=['agg_r-vol','task'])\n",
    "\n",
    "# print(nx.get_edge_attributes(G_AGG_R,'operation'))\n",
    "# print(nx.get_node_attributes(G_AGG_R,'pos'))\n",
    "print(get_min_max_loc(G_AGG_R))\n",
    "\n",
    "draw_graph(G_AGG_R,COLOR_MAP, rm_tags=['agg_r'])"
   ]
  },
  {
   "cell_type": "code",
   "execution_count": 6,
   "metadata": {},
   "outputs": [],
   "source": [
    "F1 = nx.compose(G_SIM,G_AGG_R)\n",
    "# draw_graph(F1,COLOR_MAP,rm_tags=['sim','agg_r'])\n"
   ]
  },
  {
   "cell_type": "code",
   "execution_count": 7,
   "metadata": {},
   "outputs": [
    {
     "name": "stdout",
     "output_type": "stream",
     "text": [
      "Index(['data_label_vol', 'object_idx_vol', 'dset_name', 'access_size_vol',\n",
      "       'logical_addr_vol', 'op_type_vol', 'operation_vol', 'n_elements',\n",
      "       'dimension_cnt', 'dimensions', 'file_intent', 'layout', 'time(us)_vol',\n",
      "       'io_idx_vol', 'logical_addr_map', 'data_label_vfd', 'object_idx_vfd',\n",
      "       'access_size_vfd', 'logical_addr_vfd', 'next_addr', 'op_type_vfd',\n",
      "       'file_name', 'time(us)_vfd', 'operation_vfd', 'io_idx_vfd'],\n",
      "      dtype='object')\n",
      "prev node : {'task-aggregator': (89, 0)}\n",
      "{'min': {'task-aggregator': (89, 0)}, 'max': {'file-aggregate.h5': (122, 1)}}\n"
     ]
    },
    {
     "data": {
      "image/png": "[encoded data removed]",
      "text/plain": [
       "<Figure size 2500x1000 with 1 Axes>"
      ]
     },
     "metadata": {},
     "output_type": "display_data"
    }
   ],
   "source": [
    "fagg_write='../save_outputs/vol-vfd/prov-vfd-agg-write-merged.csv'\n",
    "\n",
    "df_agg_write_merged = read_data(fagg_write)\n",
    "\n",
    "print(df_agg_write_merged.columns)\n",
    "\n",
    "# df_agg_write = pd.concat([df_agg_write_merged.head(nshow*8),df_agg_write_merged.tail(nshow)])\n",
    "df_agg_write = df_agg_write_merged[df_agg_write_merged.dset_name == 'point_cloud']\n",
    "# df_agg_write = df_agg_write_merged[df_agg_write_merged.op_type_vol != 'meta']\n",
    "\n",
    "# 'data_label_vol', 'data_label_vfd', 'logical_addr'\n",
    "# x_pos = max(nx.get_node_attributes(G_AGG_R,'pos').values())[0] #+ padding*4\n",
    "prev_node = get_min_max_loc(G_AGG_R)['max']\n",
    "x_pos = list(prev_node.values())[0][0] #+ padding\n",
    "# x_time = int(list(prev_node.keys())[0].split(':')[-1].replace('(','').replace(')',''))\n",
    "print(f\"prev node : {prev_node}\")\n",
    "\n",
    "# convert time to rank\n",
    "vol_time = stats.rankdata(df_agg_write['time(us)_vol'],method='dense') #df_sim_merged['time(us)_vol'].min()\n",
    "vol_time = [x+x_pos for x in vol_time]\n",
    "# vol_time = [x*step for x in vol_time]\n",
    "max_left = max(vol_time)\n",
    "vfd_time = stats.rankdata(df_agg_write['time(us)_vfd'],method='dense')\n",
    "vfd_time = [x + (max_left) for x in vfd_time]\n",
    "# vfd_time = [x*step for x in vfd_time]\n",
    "\n",
    "G_AGG_W = nx.DiGraph()\n",
    "\n",
    "add_nodes_edges(G_AGG_W, ['aggregator'], list(df_agg_write['data_label_vol']), \n",
    "                    list(df_agg_write['operation_vol']), \n",
    "                    list(df_agg_write['io_idx_vol']),\n",
    "                    [[0], vol_time], \n",
    "                    acc_s=list(df_agg_write['access_size_vol']),\n",
    "                    x_pos=x_pos, tags=['task','agg_w-vol'])\n",
    "# x_pos+=1\n",
    "x_pos = max(nx.get_node_attributes(G_AGG_W,'pos').values())[0] + 1\n",
    "add_nodes_edges(G_AGG_W, list(df_agg_write['data_label_vol']), list(df_agg_write['logical_addr_vfd']), \n",
    "                    list(df_agg_write['operation_vol']), \n",
    "                    list(df_agg_write['io_idx_vfd']),\n",
    "                    [vol_time,vfd_time], \n",
    "                    acc_s=list(df_agg_write['access_size_vfd']),\n",
    "                    x_pos=x_pos, tags=['agg_w-vol','agg_w-addr'])\n",
    "# x_pos+=1\n",
    "x_pos = max(nx.get_node_attributes(G_AGG_W,'pos').values())[0] + 1\n",
    "x_time = max(vol_time) +1\n",
    "add_nodes_edges(G_AGG_W, list(df_agg_write['logical_addr_vfd']), ['aggregate.h5'], \n",
    "                    list(df_agg_write['operation_vol']), \n",
    "                    list(df_agg_write['io_idx_vfd']),\n",
    "                    [vfd_time, [0]], \n",
    "                    acc_s=list(df_agg_write['access_size_vfd']),\n",
    "                    x_pos=x_pos, tags=['agg_w-addr','file'])\n",
    "\n",
    "print(get_min_max_loc(G_AGG_W))\n",
    "\n",
    "# for e in G_AGG_W.edges:\n",
    "#     print(e)\n",
    "\n",
    "draw_graph(G_AGG_W,COLOR_MAP,rm_tags=['agg_w'])"
   ]
  },
  {
   "cell_type": "code",
   "execution_count": 8,
   "metadata": {},
   "outputs": [],
   "source": [
    "F2 = nx.compose(F1, G_AGG_W)\n",
    "# # print(nx.get_node_attributes(F2,'pos'))\n",
    "# draw_graph(F2,COLOR_MAP,rm_tags=['sim','agg_r','agg_w'])\n"
   ]
  },
  {
   "cell_type": "code",
   "execution_count": null,
   "metadata": {},
   "outputs": [],
   "source": []
  },
  {
   "cell_type": "code",
   "execution_count": 9,
   "metadata": {},
   "outputs": [],
   "source": [
    "# Sankey related codes\n",
    "EDGE_COLOR_MAP = {\"create\": \"rgba(128, 128, 128, 0.7)\", # grey\n",
    "            \"get\": \"rgba(128, 128, 128, 0.7)\", #grey\n",
    "            \"open\": \"rgba(128, 128, 128, 0.7)\", # grey\n",
    "            \"close\": \"rgba(128, 128, 128, 0.7)\", # grey\n",
    "            \"none\": \"rgba(128, 128, 128, 0.7)\", # grey\n",
    "            \"read\": \"rgba(221, 160, 221,0.7)\", # light megenta\n",
    "            \"write\": \"rgba(147, 112, 219, 0.7)\", # light purple\n",
    "            }\n",
    "\n",
    "def get_xy_position(G):\n",
    "    pos_dict = nx.get_node_attributes(G,'pos')\n",
    "\n",
    "    x_dict = {}\n",
    "    x_pos = []\n",
    "    y_dict = {}\n",
    "    for n, pos in pos_dict.items():\n",
    "        x_dict[n] = pos[0]\n",
    "        y_dict[n] = pos[1]\n",
    "\n",
    "    # print(x_dict)\n",
    "    # print(y_pos)\n",
    "\n",
    "    xf= 1.0/max(x_dict.values())\n",
    "    x_pos = {k: v*xf for k, v in x_dict.items() }\n",
    "\n",
    "    \n",
    "    yf=1.0/max(y_dict.values())\n",
    "    y_pos = {k: v*yf for k, v in y_dict.items() }\n",
    "\n",
    "    # print(x_pos)\n",
    "    # print(y_pos)\n",
    "    \n",
    "    return x_pos, y_pos\n",
    "\n",
    "def get_links_for_sankey(G, node_dict_ref,edge_attr=['access_cnt','access_size','operation'],rm_tags=[]):\n",
    "\n",
    "    link_dict_for_sankey = dict(\n",
    "        source = [],\n",
    "        target = [],\n",
    "        value = [],\n",
    "        label = [],\n",
    "        color = [],\n",
    "        customdata = [],\n",
    "    )\n",
    "\n",
    "    acc_cnt = nx.get_edge_attributes(G,edge_attr[0])\n",
    "    attr_size = nx.get_edge_attributes(G,edge_attr[1])\n",
    "    attr_op = nx.get_edge_attributes(G,edge_attr[2])\n",
    "    \n",
    "    # print(attr_dict)\n",
    "    for u, v, attr in G.edges(data=True):\n",
    "        # print(u, v, attr)\n",
    "        u_idx = node_dict_ref[u]['idx']\n",
    "        v_idx = node_dict_ref[v]['idx']\n",
    "        link_dict_for_sankey['source'].append(u_idx)\n",
    "        link_dict_for_sankey['target'].append(v_idx)\n",
    "        link_dict_for_sankey['color'].append(EDGE_COLOR_MAP[attr_op[(u,v)]])\n",
    "        # link_dict_for_sankey['value'].append(attr['weight])\n",
    "        \n",
    "        cnt = acc_cnt[(u,v)]\n",
    "        size = attr_size[(u,v)]\n",
    "        if size == 0:\n",
    "            size = 1\n",
    "        link_dict_for_sankey['value'].append(size)\n",
    "        _str = (f\"Access Volume : {humansize(size)} <br />\"\n",
    "        f\"Average Count : {cnt} <br />\"\n",
    "        f\"Average Access Size : {humansize(size/cnt)} <br />\")\n",
    "\n",
    "        link_dict_for_sankey['label'].append(_str)\n",
    "        link_dict_for_sankey['customdata'].append(cnt)\n",
    "        # link_dict_for_sankey['acc_cnt'].append(cnt)\n",
    "        \n",
    "    return link_dict_for_sankey\n",
    "\n",
    "def selected_graph(node_name, G):\n",
    "    # this is not used\n",
    "    selected_G = nx.DiGraph()\n",
    "    search_nodes = [node_name]\n",
    "    while len(search_nodes) > 0:\n",
    "        next_set = []\n",
    "        for n in search_nodes:\n",
    "            for edge in G.edges(n):\n",
    "                val = G.edges[edge]['value']\n",
    "                selected_G.add_edges_from([edge], value=val)\n",
    "                #print(selected_G.nodes)\n",
    "            next_set += [x for x in G.neighbors(n)]\n",
    "        search_nodes = next_set\n",
    "    return selected_G\n",
    "\n",
    "def get_nodes_for_sankey(G, rm_tags=[], thick=20, groups=[[0,0]]):\n",
    "    node_dict_for_sankey = dict(\n",
    "        label = [],\n",
    "        color = [],\n",
    "        x = [],\n",
    "        y = [],\n",
    "        # groups = groups,\n",
    "        customdata = [],\n",
    "        thickness = 20, #default=20\n",
    "        pad = 10,\n",
    "    )\n",
    "    # 'line' : {'width':[]}, \n",
    "\n",
    "    node_dict_ref = {}\n",
    "    col_idx = 0\n",
    "\n",
    "    x_pos, y_pos = get_xy_position(G)\n",
    "    pos_dict = nx.get_node_attributes(G,'pos')\n",
    "\n",
    "\n",
    "    acc_size = nx.get_edge_attributes(G,'access_size')\n",
    "    \n",
    "    for idx, (node_name, attr) in enumerate(G.nodes(data=True)):\n",
    "        # node_type = 'file' if node_name[-4:] == 'residue_100.h5' else 'task'\n",
    "        # print(f\"{idx}, ({node_name}, {attr})\")\n",
    "        node_type = attr['name']\n",
    "        if node_name in node_dict_ref:\n",
    "            print(node_name, \"==duplicate==\")\n",
    "        node_dict_ref[node_name] = {'idx':idx, 'type':node_type}\n",
    "\n",
    "        #sankey\n",
    "        node_dict_for_sankey['label'].append(rm_name_tags(node_name,rm_tags))\n",
    "        node_dict_for_sankey['color'].append(COLOR_MAP[rm_name_tags(node_type,rm_tags)])\n",
    "        node_dict_for_sankey['x'].append(x_pos[node_name])\n",
    "        node_dict_for_sankey['y'].append(y_pos[node_name])\n",
    "        node_dict_for_sankey['customdata'].append(node_name.split('-')[0])\n",
    "        # x = pos_dict[node_name][0]\n",
    "        # y = pos_dict[node_name][1]\n",
    "        # node_dict_for_sankey['groups'].append(0)\n",
    "\n",
    "        \n",
    "    return node_dict_for_sankey, node_dict_ref"
   ]
  },
  {
   "cell_type": "code",
   "execution_count": 10,
   "metadata": {},
   "outputs": [
    {
     "data": {
      "application/vnd.plotly.v1+json": {
       "config": {
        "plotlyServerURL": "https://plot.ly"
       },
       "data": [
        {
         "arrangement": "freeform",
         "domain": {
          "column": 0,
          "row": 0
         },
         "link": {
          "color": [
           "rgba(147, 112, 219, 0.7)",
           "rgba(147, 112, 219, 0.7)",
           "rgba(147, 112, 219, 0.7)"
          ],
          "customdata": [
           1,
           1,
           1
          ],
          "label": [
           "Access Volume : 2.4 MB <br />Average Count : 1 <br />Average Access Size : 2.4 MB <br />",
           "Access Volume : 2.4 MB <br />Average Count : 1 <br />Average Access Size : 2.4 MB <br />",
           "Access Volume : 2.4 MB <br />Average Count : 1 <br />Average Access Size : 2.4 MB <br />"
          ],
          "source": [
           0,
           1,
           2
          ],
          "target": [
           1,
           2,
           3
          ],
          "value": [
           2400000,
           2400000,
           2400000
          ]
         },
         "node": {
          "color": [
           "FireBrick",
           "Salmon",
           "SkyBlue",
           "RoyalBlue"
          ],
          "customdata": [
           "task",
           "sim",
           "sim",
           "file"
          ],
          "label": [
           "task-sim",
           "data-pc-0",
           "addr-37261648",
           "file-residue.h5"
          ],
          "pad": 10,
          "thickness": 20,
          "x": [
           0,
           0.022727272727272728,
           0.5,
           1
          ],
          "y": [
           0,
           1,
           1,
           0
          ]
         },
         "orientation": "h",
         "type": "sankey"
        }
       ],
       "layout": {
        "template": {
         "data": {
          "bar": [
           {
            "error_x": {
             "color": "#2a3f5f"
            },
            "error_y": {
             "color": "#2a3f5f"
            },
            "marker": {
             "line": {
              "color": "#E5ECF6",
              "width": 0.5
             },
             "pattern": {
              "fillmode": "overlay",
              "size": 10,
              "solidity": 0.2
             }
            },
            "type": "bar"
           }
          ],
          "barpolar": [
           {
            "marker": {
             "line": {
              "color": "#E5ECF6",
              "width": 0.5
             },
             "pattern": {
              "fillmode": "overlay",
              "size": 10,
              "solidity": 0.2
             }
            },
            "type": "barpolar"
           }
          ],
          "carpet": [
           {
            "aaxis": {
             "endlinecolor": "#2a3f5f",
             "gridcolor": "white",
             "linecolor": "white",
             "minorgridcolor": "white",
             "startlinecolor": "#2a3f5f"
            },
            "baxis": {
             "endlinecolor": "#2a3f5f",
             "gridcolor": "white",
             "linecolor": "white",
             "minorgridcolor": "white",
             "startlinecolor": "#2a3f5f"
            },
            "type": "carpet"
           }
          ],
          "choropleth": [
           {
            "colorbar": {
             "outlinewidth": 0,
             "ticks": ""
            },
            "type": "choropleth"
           }
          ],
          "contour": [
           {
            "colorbar": {
             "outlinewidth": 0,
             "ticks": ""
            },
            "colorscale": [
             [
              0,
              "#0d0887"
             ],
             [
              0.1111111111111111,
              "#46039f"
             ],
             [
              0.2222222222222222,
              "#7201a8"
             ],
             [
              0.3333333333333333,
              "#9c179e"
             ],
             [
              0.4444444444444444,
              "#bd3786"
             ],
             [
              0.5555555555555556,
              "#d8576b"
             ],
             [
              0.6666666666666666,
              "#ed7953"
             ],
             [
              0.7777777777777778,
              "#fb9f3a"
             ],
             [
              0.8888888888888888,
              "#fdca26"
             ],
             [
              1,
              "#f0f921"
             ]
            ],
            "type": "contour"
           }
          ],
          "contourcarpet": [
           {
            "colorbar": {
             "outlinewidth": 0,
             "ticks": ""
            },
            "type": "contourcarpet"
           }
          ],
          "heatmap": [
           {
            "colorbar": {
             "outlinewidth": 0,
             "ticks": ""
            },
            "colorscale": [
             [
              0,
              "#0d0887"
             ],
             [
              0.1111111111111111,
              "#46039f"
             ],
             [
              0.2222222222222222,
              "#7201a8"
             ],
             [
              0.3333333333333333,
              "#9c179e"
             ],
             [
              0.4444444444444444,
              "#bd3786"
             ],
             [
              0.5555555555555556,
              "#d8576b"
             ],
             [
              0.6666666666666666,
              "#ed7953"
             ],
             [
              0.7777777777777778,
              "#fb9f3a"
             ],
             [
              0.8888888888888888,
              "#fdca26"
             ],
             [
              1,
              "#f0f921"
             ]
            ],
            "type": "heatmap"
           }
          ],
          "heatmapgl": [
           {
            "colorbar": {
             "outlinewidth": 0,
             "ticks": ""
            },
            "colorscale": [
             [
              0,
              "#0d0887"
             ],
             [
              0.1111111111111111,
              "#46039f"
             ],
             [
              0.2222222222222222,
              "#7201a8"
             ],
             [
              0.3333333333333333,
              "#9c179e"
             ],
             [
              0.4444444444444444,
              "#bd3786"
             ],
             [
              0.5555555555555556,
              "#d8576b"
             ],
             [
              0.6666666666666666,
              "#ed7953"
             ],
             [
              0.7777777777777778,
              "#fb9f3a"
             ],
             [
              0.8888888888888888,
              "#fdca26"
             ],
             [
              1,
              "#f0f921"
             ]
            ],
            "type": "heatmapgl"
           }
          ],
          "histogram": [
           {
            "marker": {
             "pattern": {
              "fillmode": "overlay",
              "size": 10,
              "solidity": 0.2
             }
            },
            "type": "histogram"
           }
          ],
          "histogram2d": [
           {
            "colorbar": {
             "outlinewidth": 0,
             "ticks": ""
            },
            "colorscale": [
             [
              0,
              "#0d0887"
             ],
             [
              0.1111111111111111,
              "#46039f"
             ],
             [
              0.2222222222222222,
              "#7201a8"
             ],
             [
              0.3333333333333333,
              "#9c179e"
             ],
             [
              0.4444444444444444,
              "#bd3786"
             ],
             [
              0.5555555555555556,
              "#d8576b"
             ],
             [
              0.6666666666666666,
              "#ed7953"
             ],
             [
              0.7777777777777778,
              "#fb9f3a"
             ],
             [
              0.8888888888888888,
              "#fdca26"
             ],
             [
              1,
              "#f0f921"
             ]
            ],
            "type": "histogram2d"
           }
          ],
          "histogram2dcontour": [
           {
            "colorbar": {
             "outlinewidth": 0,
             "ticks": ""
            },
            "colorscale": [
             [
              0,
              "#0d0887"
             ],
             [
              0.1111111111111111,
              "#46039f"
             ],
             [
              0.2222222222222222,
              "#7201a8"
             ],
             [
              0.3333333333333333,
              "#9c179e"
             ],
             [
              0.4444444444444444,
              "#bd3786"
             ],
             [
              0.5555555555555556,
              "#d8576b"
             ],
             [
              0.6666666666666666,
              "#ed7953"
             ],
             [
              0.7777777777777778,
              "#fb9f3a"
             ],
             [
              0.8888888888888888,
              "#fdca26"
             ],
             [
              1,
              "#f0f921"
             ]
            ],
            "type": "histogram2dcontour"
           }
          ],
          "mesh3d": [
           {
            "colorbar": {
             "outlinewidth": 0,
             "ticks": ""
            },
            "type": "mesh3d"
           }
          ],
          "parcoords": [
           {
            "line": {
             "colorbar": {
              "outlinewidth": 0,
              "ticks": ""
             }
            },
            "type": "parcoords"
           }
          ],
          "pie": [
           {
            "automargin": true,
            "type": "pie"
           }
          ],
          "scatter": [
           {
            "fillpattern": {
             "fillmode": "overlay",
             "size": 10,
             "solidity": 0.2
            },
            "type": "scatter"
           }
          ],
          "scatter3d": [
           {
            "line": {
             "colorbar": {
              "outlinewidth": 0,
              "ticks": ""
             }
            },
            "marker": {
             "colorbar": {
              "outlinewidth": 0,
              "ticks": ""
             }
            },
            "type": "scatter3d"
           }
          ],
          "scattercarpet": [
           {
            "marker": {
             "colorbar": {
              "outlinewidth": 0,
              "ticks": ""
             }
            },
            "type": "scattercarpet"
           }
          ],
          "scattergeo": [
           {
            "marker": {
             "colorbar": {
              "outlinewidth": 0,
              "ticks": ""
             }
            },
            "type": "scattergeo"
           }
          ],
          "scattergl": [
           {
            "marker": {
             "colorbar": {
              "outlinewidth": 0,
              "ticks": ""
             }
            },
            "type": "scattergl"
           }
          ],
          "scattermapbox": [
           {
            "marker": {
             "colorbar": {
              "outlinewidth": 0,
              "ticks": ""
             }
            },
            "type": "scattermapbox"
           }
          ],
          "scatterpolar": [
           {
            "marker": {
             "colorbar": {
              "outlinewidth": 0,
              "ticks": ""
             }
            },
            "type": "scatterpolar"
           }
          ],
          "scatterpolargl": [
           {
            "marker": {
             "colorbar": {
              "outlinewidth": 0,
              "ticks": ""
             }
            },
            "type": "scatterpolargl"
           }
          ],
          "scatterternary": [
           {
            "marker": {
             "colorbar": {
              "outlinewidth": 0,
              "ticks": ""
             }
            },
            "type": "scatterternary"
           }
          ],
          "surface": [
           {
            "colorbar": {
             "outlinewidth": 0,
             "ticks": ""
            },
            "colorscale": [
             [
              0,
              "#0d0887"
             ],
             [
              0.1111111111111111,
              "#46039f"
             ],
             [
              0.2222222222222222,
              "#7201a8"
             ],
             [
              0.3333333333333333,
              "#9c179e"
             ],
             [
              0.4444444444444444,
              "#bd3786"
             ],
             [
              0.5555555555555556,
              "#d8576b"
             ],
             [
              0.6666666666666666,
              "#ed7953"
             ],
             [
              0.7777777777777778,
              "#fb9f3a"
             ],
             [
              0.8888888888888888,
              "#fdca26"
             ],
             [
              1,
              "#f0f921"
             ]
            ],
            "type": "surface"
           }
          ],
          "table": [
           {
            "cells": {
             "fill": {
              "color": "#EBF0F8"
             },
             "line": {
              "color": "white"
             }
            },
            "header": {
             "fill": {
              "color": "#C8D4E3"
             },
             "line": {
              "color": "white"
             }
            },
            "type": "table"
           }
          ]
         },
         "layout": {
          "annotationdefaults": {
           "arrowcolor": "#2a3f5f",
           "arrowhead": 0,
           "arrowwidth": 1
          },
          "autotypenumbers": "strict",
          "coloraxis": {
           "colorbar": {
            "outlinewidth": 0,
            "ticks": ""
           }
          },
          "colorscale": {
           "diverging": [
            [
             0,
             "#8e0152"
            ],
            [
             0.1,
             "#c51b7d"
            ],
            [
             0.2,
             "#de77ae"
            ],
            [
             0.3,
             "#f1b6da"
            ],
            [
             0.4,
             "#fde0ef"
            ],
            [
             0.5,
             "#f7f7f7"
            ],
            [
             0.6,
             "#e6f5d0"
            ],
            [
             0.7,
             "#b8e186"
            ],
            [
             0.8,
             "#7fbc41"
            ],
            [
             0.9,
             "#4d9221"
            ],
            [
             1,
             "#276419"
            ]
           ],
           "sequential": [
            [
             0,
             "#0d0887"
            ],
            [
             0.1111111111111111,
             "#46039f"
            ],
            [
             0.2222222222222222,
             "#7201a8"
            ],
            [
             0.3333333333333333,
             "#9c179e"
            ],
            [
             0.4444444444444444,
             "#bd3786"
            ],
            [
             0.5555555555555556,
             "#d8576b"
            ],
            [
             0.6666666666666666,
             "#ed7953"
            ],
            [
             0.7777777777777778,
             "#fb9f3a"
            ],
            [
             0.8888888888888888,
             "#fdca26"
            ],
            [
             1,
             "#f0f921"
            ]
           ],
           "sequentialminus": [
            [
             0,
             "#0d0887"
            ],
            [
             0.1111111111111111,
             "#46039f"
            ],
            [
             0.2222222222222222,
             "#7201a8"
            ],
            [
             0.3333333333333333,
             "#9c179e"
            ],
            [
             0.4444444444444444,
             "#bd3786"
            ],
            [
             0.5555555555555556,
             "#d8576b"
            ],
            [
             0.6666666666666666,
             "#ed7953"
            ],
            [
             0.7777777777777778,
             "#fb9f3a"
            ],
            [
             0.8888888888888888,
             "#fdca26"
            ],
            [
             1,
             "#f0f921"
            ]
           ]
          },
          "colorway": [
           "#636efa",
           "#EF553B",
           "#00cc96",
           "#ab63fa",
           "#FFA15A",
           "#19d3f3",
           "#FF6692",
           "#B6E880",
           "#FF97FF",
           "#FECB52"
          ],
          "font": {
           "color": "#2a3f5f"
          },
          "geo": {
           "bgcolor": "white",
           "lakecolor": "white",
           "landcolor": "#E5ECF6",
           "showlakes": true,
           "showland": true,
           "subunitcolor": "white"
          },
          "hoverlabel": {
           "align": "left"
          },
          "hovermode": "closest",
          "mapbox": {
           "style": "light"
          },
          "paper_bgcolor": "white",
          "plot_bgcolor": "#E5ECF6",
          "polar": {
           "angularaxis": {
            "gridcolor": "white",
            "linecolor": "white",
            "ticks": ""
           },
           "bgcolor": "#E5ECF6",
           "radialaxis": {
            "gridcolor": "white",
            "linecolor": "white",
            "ticks": ""
           }
          },
          "scene": {
           "xaxis": {
            "backgroundcolor": "#E5ECF6",
            "gridcolor": "white",
            "gridwidth": 2,
            "linecolor": "white",
            "showbackground": true,
            "ticks": "",
            "zerolinecolor": "white"
           },
           "yaxis": {
            "backgroundcolor": "#E5ECF6",
            "gridcolor": "white",
            "gridwidth": 2,
            "linecolor": "white",
            "showbackground": true,
            "ticks": "",
            "zerolinecolor": "white"
           },
           "zaxis": {
            "backgroundcolor": "#E5ECF6",
            "gridcolor": "white",
            "gridwidth": 2,
            "linecolor": "white",
            "showbackground": true,
            "ticks": "",
            "zerolinecolor": "white"
           }
          },
          "shapedefaults": {
           "line": {
            "color": "#2a3f5f"
           }
          },
          "ternary": {
           "aaxis": {
            "gridcolor": "white",
            "linecolor": "white",
            "ticks": ""
           },
           "baxis": {
            "gridcolor": "white",
            "linecolor": "white",
            "ticks": ""
           },
           "bgcolor": "#E5ECF6",
           "caxis": {
            "gridcolor": "white",
            "linecolor": "white",
            "ticks": ""
           }
          },
          "title": {
           "x": 0.05
          },
          "xaxis": {
           "automargin": true,
           "gridcolor": "white",
           "linecolor": "white",
           "ticks": "",
           "title": {
            "standoff": 15
           },
           "zerolinecolor": "white",
           "zerolinewidth": 2
          },
          "yaxis": {
           "automargin": true,
           "gridcolor": "white",
           "linecolor": "white",
           "ticks": "",
           "title": {
            "standoff": 15
           },
           "zerolinecolor": "white",
           "zerolinewidth": 2
          }
         }
        }
       }
      }
     },
     "metadata": {},
     "output_type": "display_data"
    }
   ],
   "source": [
    "sim_nodes, sim_nodes_dict = get_nodes_for_sankey(G_SIM, rm_tags=['sim'])\n",
    "\n",
    "# print(node_ref2)\n",
    "sim_links = get_links_for_sankey(G_SIM, sim_nodes_dict)\n",
    "\n",
    "sim_sankey = go.Sankey(\n",
    "            node = sim_nodes,\n",
    "            link = sim_links, \n",
    "            orientation='h',\n",
    "            domain=dict(\n",
    "              row=0,\n",
    "              column=0,),\n",
    "            arrangement = \"freeform\",\n",
    "            )\n",
    "\n",
    "layout =  go.Layout(\n",
    "    title = \"Basic Sankey Diagram\",\n",
    "    bargap = 1,\n",
    "    barmode = 'stack',\n",
    "    font = dict(\n",
    "      size = 10\n",
    "    )\n",
    ")\n",
    "fig = go.Figure(sim_sankey)\n",
    "fig.show()\n",
    "fig.write_html(f\"{image_path}/sankey-sampled-sim_w-vol-vfd-.html\")"
   ]
  },
  {
   "cell_type": "code",
   "execution_count": 11,
   "metadata": {},
   "outputs": [],
   "source": [
    "# agg_r_nodes, agg_r_nodes_dict = get_nodes_for_sankey(G_AGG_R,rm_tags=['agg_r'])\n",
    "\n",
    "# # print(node_ref2)\n",
    "\n",
    "# agg_r_links = get_links_for_sankey(G_AGG_R, agg_r_nodes_dict)\n",
    "# fig = go.Figure(go.Sankey(\n",
    "#             node = agg_r_nodes,\n",
    "#             link = agg_r_links, orientation='h'))\n",
    "# fig.show()\n",
    "# fig.write_html(f\"{image_path}/sankey-agg_r-vol-vfd.html\")"
   ]
  },
  {
   "cell_type": "code",
   "execution_count": 12,
   "metadata": {},
   "outputs": [
    {
     "name": "stdout",
     "output_type": "stream",
     "text": [
      "DiGraph with 16 nodes and 19 edges\n",
      "{'min': {'file-residue.h5': (44, 0)}, 'max': {'file-aggregate.h5': (122, 1)}}\n"
     ]
    },
    {
     "data": {
      "application/vnd.plotly.v1+json": {
       "config": {
        "plotlyServerURL": "https://plot.ly"
       },
       "data": [
        {
         "arrangement": "freeform",
         "link": {
          "color": [
           "rgba(221, 160, 221,0.7)",
           "rgba(221, 160, 221,0.7)",
           "rgba(221, 160, 221,0.7)",
           "rgba(147, 112, 219, 0.7)",
           "rgba(128, 128, 128, 0.7)",
           "rgba(128, 128, 128, 0.7)",
           "rgba(128, 128, 128, 0.7)",
           "rgba(147, 112, 219, 0.7)",
           "rgba(128, 128, 128, 0.7)",
           "rgba(128, 128, 128, 0.7)",
           "rgba(128, 128, 128, 0.7)",
           "rgba(128, 128, 128, 0.7)",
           "rgba(128, 128, 128, 0.7)",
           "rgba(128, 128, 128, 0.7)",
           "rgba(128, 128, 128, 0.7)",
           "rgba(128, 128, 128, 0.7)",
           "rgba(128, 128, 128, 0.7)",
           "rgba(128, 128, 128, 0.7)",
           "rgba(147, 112, 219, 0.7)"
          ],
          "customdata": [
           1,
           1,
           1,
           1,
           1,
           1,
           1,
           1,
           1,
           1,
           1,
           2,
           1,
           1,
           1,
           1,
           2,
           1,
           1
          ],
          "label": [
           "Access Volume : 2.4 MB <br />Average Count : 1 <br />Average Access Size : 2.4 MB <br />",
           "Access Volume : 2.4 MB <br />Average Count : 1 <br />Average Access Size : 2.4 MB <br />",
           "Access Volume : 2.4 MB <br />Average Count : 1 <br />Average Access Size : 2.4 MB <br />",
           "Access Volume : 2.4 MB <br />Average Count : 1 <br />Average Access Size : 2.4 MB <br />",
           "Access Volume : 1 B <br />Average Count : 1 <br />Average Access Size : 1 B <br />",
           "Access Volume : 1 B <br />Average Count : 1 <br />Average Access Size : 1 B <br />",
           "Access Volume : 1 B <br />Average Count : 1 <br />Average Access Size : 1 B <br />",
           "Access Volume : 1 B <br />Average Count : 1 <br />Average Access Size : 1 B <br />",
           "Access Volume : 512 B <br />Average Count : 1 <br />Average Access Size : 512 B <br />",
           "Access Volume : 268 B <br />Average Count : 1 <br />Average Access Size : 268 B <br />",
           "Access Volume : 28 B <br />Average Count : 1 <br />Average Access Size : 28 B <br />",
           "Access Volume : 48 B <br />Average Count : 2 <br />Average Access Size : 24 B <br />",
           "Access Volume : 1 B <br />Average Count : 1 <br />Average Access Size : 1 B <br />",
           "Access Volume : 512 B <br />Average Count : 1 <br />Average Access Size : 512 B <br />",
           "Access Volume : 268 B <br />Average Count : 1 <br />Average Access Size : 268 B <br />",
           "Access Volume : 28 B <br />Average Count : 1 <br />Average Access Size : 28 B <br />",
           "Access Volume : 48 B <br />Average Count : 2 <br />Average Access Size : 24 B <br />",
           "Access Volume : 1 B <br />Average Count : 1 <br />Average Access Size : 1 B <br />",
           "Access Volume : 1 B <br />Average Count : 1 <br />Average Access Size : 1 B <br />"
          ],
          "source": [
           0,
           1,
           2,
           3,
           3,
           3,
           3,
           4,
           5,
           6,
           6,
           7,
           7,
           9,
           10,
           11,
           12,
           13,
           14
          ],
          "target": [
           1,
           2,
           3,
           4,
           5,
           6,
           7,
           8,
           9,
           10,
           11,
           12,
           13,
           15,
           15,
           15,
           15,
           15,
           15
          ],
          "value": [
           2400000,
           2400000,
           2400000,
           2400000,
           1,
           1,
           1,
           1,
           512,
           268,
           28,
           48,
           1,
           512,
           268,
           28,
           48,
           1,
           1
          ]
         },
         "node": {
          "color": [
           "RoyalBlue",
           "SkyBlue",
           "Salmon",
           "FireBrick",
           "Salmon",
           "Salmon",
           "Salmon",
           "Salmon",
           "SkyBlue",
           "SkyBlue",
           "SkyBlue",
           "SkyBlue",
           "SkyBlue",
           "SkyBlue",
           "SkyBlue",
           "RoyalBlue"
          ],
          "customdata": [
           "file",
           "agg_r",
           "agg_r",
           "task",
           "agg_w",
           "agg_w",
           "agg_w",
           "agg_w",
           "agg_w",
           "agg_w",
           "agg_w",
           "agg_w",
           "agg_w",
           "agg_w",
           "agg_w",
           "file"
          ],
          "label": [
           "file-residue.h5",
           "addr-37261648",
           "data-pc-0",
           "task-aggregator",
           "data-pc-0:(91)",
           "meta-pc-3:(90)",
           "meta-pc-5:(92)",
           "meta-pc-6:(93)",
           "addr--1:(94)",
           "addr-48:(95)",
           "addr-37260149:(96)",
           "addr-37268753:(97)",
           "addr-0:(98)",
           "addr--1:(100)",
           "addr--1:(-1)",
           "file-aggregate.h5"
          ],
          "pad": 10,
          "thickness": 20,
          "x": [
           0.060240963855421686,
           0.3132530120481928,
           0.3373493975903615,
           0.6024096385542169,
           0.6265060240963856,
           0.6144578313253012,
           0.6385542168674699,
           0.6506024096385542,
           0.6626506024096386,
           0.674698795180723,
           0.6867469879518072,
           0.6987951807228916,
           0.710843373493976,
           0.7349397590361446,
           0.6626506024096386,
           1
          ],
          "y": [
           0,
           0.2,
           0,
           0,
           0.2,
           0.4,
           0.6000000000000001,
           0.8,
           0.2,
           0.6000000000000001,
           0.8,
           1,
           0.4,
           0.2,
           0.2,
           0.2
          ]
         },
         "orientation": "h",
         "type": "sankey"
        }
       ],
       "layout": {
        "bargap": 1,
        "barmode": "stack",
        "font": {
         "size": 10
        },
        "template": {
         "data": {
          "bar": [
           {
            "error_x": {
             "color": "#2a3f5f"
            },
            "error_y": {
             "color": "#2a3f5f"
            },
            "marker": {
             "line": {
              "color": "#E5ECF6",
              "width": 0.5
             },
             "pattern": {
              "fillmode": "overlay",
              "size": 10,
              "solidity": 0.2
             }
            },
            "type": "bar"
           }
          ],
          "barpolar": [
           {
            "marker": {
             "line": {
              "color": "#E5ECF6",
              "width": 0.5
             },
             "pattern": {
              "fillmode": "overlay",
              "size": 10,
              "solidity": 0.2
             }
            },
            "type": "barpolar"
           }
          ],
          "carpet": [
           {
            "aaxis": {
             "endlinecolor": "#2a3f5f",
             "gridcolor": "white",
             "linecolor": "white",
             "minorgridcolor": "white",
             "startlinecolor": "#2a3f5f"
            },
            "baxis": {
             "endlinecolor": "#2a3f5f",
             "gridcolor": "white",
             "linecolor": "white",
             "minorgridcolor": "white",
             "startlinecolor": "#2a3f5f"
            },
            "type": "carpet"
           }
          ],
          "choropleth": [
           {
            "colorbar": {
             "outlinewidth": 0,
             "ticks": ""
            },
            "type": "choropleth"
           }
          ],
          "contour": [
           {
            "colorbar": {
             "outlinewidth": 0,
             "ticks": ""
            },
            "colorscale": [
             [
              0,
              "#0d0887"
             ],
             [
              0.1111111111111111,
              "#46039f"
             ],
             [
              0.2222222222222222,
              "#7201a8"
             ],
             [
              0.3333333333333333,
              "#9c179e"
             ],
             [
              0.4444444444444444,
              "#bd3786"
             ],
             [
              0.5555555555555556,
              "#d8576b"
             ],
             [
              0.6666666666666666,
              "#ed7953"
             ],
             [
              0.7777777777777778,
              "#fb9f3a"
             ],
             [
              0.8888888888888888,
              "#fdca26"
             ],
             [
              1,
              "#f0f921"
             ]
            ],
            "type": "contour"
           }
          ],
          "contourcarpet": [
           {
            "colorbar": {
             "outlinewidth": 0,
             "ticks": ""
            },
            "type": "contourcarpet"
           }
          ],
          "heatmap": [
           {
            "colorbar": {
             "outlinewidth": 0,
             "ticks": ""
            },
            "colorscale": [
             [
              0,
              "#0d0887"
             ],
             [
              0.1111111111111111,
              "#46039f"
             ],
             [
              0.2222222222222222,
              "#7201a8"
             ],
             [
              0.3333333333333333,
              "#9c179e"
             ],
             [
              0.4444444444444444,
              "#bd3786"
             ],
             [
              0.5555555555555556,
              "#d8576b"
             ],
             [
              0.6666666666666666,
              "#ed7953"
             ],
             [
              0.7777777777777778,
              "#fb9f3a"
             ],
             [
              0.8888888888888888,
              "#fdca26"
             ],
             [
              1,
              "#f0f921"
             ]
            ],
            "type": "heatmap"
           }
          ],
          "heatmapgl": [
           {
            "colorbar": {
             "outlinewidth": 0,
             "ticks": ""
            },
            "colorscale": [
             [
              0,
              "#0d0887"
             ],
             [
              0.1111111111111111,
              "#46039f"
             ],
             [
              0.2222222222222222,
              "#7201a8"
             ],
             [
              0.3333333333333333,
              "#9c179e"
             ],
             [
              0.4444444444444444,
              "#bd3786"
             ],
             [
              0.5555555555555556,
              "#d8576b"
             ],
             [
              0.6666666666666666,
              "#ed7953"
             ],
             [
              0.7777777777777778,
              "#fb9f3a"
             ],
             [
              0.8888888888888888,
              "#fdca26"
             ],
             [
              1,
              "#f0f921"
             ]
            ],
            "type": "heatmapgl"
           }
          ],
          "histogram": [
           {
            "marker": {
             "pattern": {
              "fillmode": "overlay",
              "size": 10,
              "solidity": 0.2
             }
            },
            "type": "histogram"
           }
          ],
          "histogram2d": [
           {
            "colorbar": {
             "outlinewidth": 0,
             "ticks": ""
            },
            "colorscale": [
             [
              0,
              "#0d0887"
             ],
             [
              0.1111111111111111,
              "#46039f"
             ],
             [
              0.2222222222222222,
              "#7201a8"
             ],
             [
              0.3333333333333333,
              "#9c179e"
             ],
             [
              0.4444444444444444,
              "#bd3786"
             ],
             [
              0.5555555555555556,
              "#d8576b"
             ],
             [
              0.6666666666666666,
              "#ed7953"
             ],
             [
              0.7777777777777778,
              "#fb9f3a"
             ],
             [
              0.8888888888888888,
              "#fdca26"
             ],
             [
              1,
              "#f0f921"
             ]
            ],
            "type": "histogram2d"
           }
          ],
          "histogram2dcontour": [
           {
            "colorbar": {
             "outlinewidth": 0,
             "ticks": ""
            },
            "colorscale": [
             [
              0,
              "#0d0887"
             ],
             [
              0.1111111111111111,
              "#46039f"
             ],
             [
              0.2222222222222222,
              "#7201a8"
             ],
             [
              0.3333333333333333,
              "#9c179e"
             ],
             [
              0.4444444444444444,
              "#bd3786"
             ],
             [
              0.5555555555555556,
              "#d8576b"
             ],
             [
              0.6666666666666666,
              "#ed7953"
             ],
             [
              0.7777777777777778,
              "#fb9f3a"
             ],
             [
              0.8888888888888888,
              "#fdca26"
             ],
             [
              1,
              "#f0f921"
             ]
            ],
            "type": "histogram2dcontour"
           }
          ],
          "mesh3d": [
           {
            "colorbar": {
             "outlinewidth": 0,
             "ticks": ""
            },
            "type": "mesh3d"
           }
          ],
          "parcoords": [
           {
            "line": {
             "colorbar": {
              "outlinewidth": 0,
              "ticks": ""
             }
            },
            "type": "parcoords"
           }
          ],
          "pie": [
           {
            "automargin": true,
            "type": "pie"
           }
          ],
          "scatter": [
           {
            "fillpattern": {
             "fillmode": "overlay",
             "size": 10,
             "solidity": 0.2
            },
            "type": "scatter"
           }
          ],
          "scatter3d": [
           {
            "line": {
             "colorbar": {
              "outlinewidth": 0,
              "ticks": ""
             }
            },
            "marker": {
             "colorbar": {
              "outlinewidth": 0,
              "ticks": ""
             }
            },
            "type": "scatter3d"
           }
          ],
          "scattercarpet": [
           {
            "marker": {
             "colorbar": {
              "outlinewidth": 0,
              "ticks": ""
             }
            },
            "type": "scattercarpet"
           }
          ],
          "scattergeo": [
           {
            "marker": {
             "colorbar": {
              "outlinewidth": 0,
              "ticks": ""
             }
            },
            "type": "scattergeo"
           }
          ],
          "scattergl": [
           {
            "marker": {
             "colorbar": {
              "outlinewidth": 0,
              "ticks": ""
             }
            },
            "type": "scattergl"
           }
          ],
          "scattermapbox": [
           {
            "marker": {
             "colorbar": {
              "outlinewidth": 0,
              "ticks": ""
             }
            },
            "type": "scattermapbox"
           }
          ],
          "scatterpolar": [
           {
            "marker": {
             "colorbar": {
              "outlinewidth": 0,
              "ticks": ""
             }
            },
            "type": "scatterpolar"
           }
          ],
          "scatterpolargl": [
           {
            "marker": {
             "colorbar": {
              "outlinewidth": 0,
              "ticks": ""
             }
            },
            "type": "scatterpolargl"
           }
          ],
          "scatterternary": [
           {
            "marker": {
             "colorbar": {
              "outlinewidth": 0,
              "ticks": ""
             }
            },
            "type": "scatterternary"
           }
          ],
          "surface": [
           {
            "colorbar": {
             "outlinewidth": 0,
             "ticks": ""
            },
            "colorscale": [
             [
              0,
              "#0d0887"
             ],
             [
              0.1111111111111111,
              "#46039f"
             ],
             [
              0.2222222222222222,
              "#7201a8"
             ],
             [
              0.3333333333333333,
              "#9c179e"
             ],
             [
              0.4444444444444444,
              "#bd3786"
             ],
             [
              0.5555555555555556,
              "#d8576b"
             ],
             [
              0.6666666666666666,
              "#ed7953"
             ],
             [
              0.7777777777777778,
              "#fb9f3a"
             ],
             [
              0.8888888888888888,
              "#fdca26"
             ],
             [
              1,
              "#f0f921"
             ]
            ],
            "type": "surface"
           }
          ],
          "table": [
           {
            "cells": {
             "fill": {
              "color": "#EBF0F8"
             },
             "line": {
              "color": "white"
             }
            },
            "header": {
             "fill": {
              "color": "#C8D4E3"
             },
             "line": {
              "color": "white"
             }
            },
            "type": "table"
           }
          ]
         },
         "layout": {
          "annotationdefaults": {
           "arrowcolor": "#2a3f5f",
           "arrowhead": 0,
           "arrowwidth": 1
          },
          "autotypenumbers": "strict",
          "coloraxis": {
           "colorbar": {
            "outlinewidth": 0,
            "ticks": ""
           }
          },
          "colorscale": {
           "diverging": [
            [
             0,
             "#8e0152"
            ],
            [
             0.1,
             "#c51b7d"
            ],
            [
             0.2,
             "#de77ae"
            ],
            [
             0.3,
             "#f1b6da"
            ],
            [
             0.4,
             "#fde0ef"
            ],
            [
             0.5,
             "#f7f7f7"
            ],
            [
             0.6,
             "#e6f5d0"
            ],
            [
             0.7,
             "#b8e186"
            ],
            [
             0.8,
             "#7fbc41"
            ],
            [
             0.9,
             "#4d9221"
            ],
            [
             1,
             "#276419"
            ]
           ],
           "sequential": [
            [
             0,
             "#0d0887"
            ],
            [
             0.1111111111111111,
             "#46039f"
            ],
            [
             0.2222222222222222,
             "#7201a8"
            ],
            [
             0.3333333333333333,
             "#9c179e"
            ],
            [
             0.4444444444444444,
             "#bd3786"
            ],
            [
             0.5555555555555556,
             "#d8576b"
            ],
            [
             0.6666666666666666,
             "#ed7953"
            ],
            [
             0.7777777777777778,
             "#fb9f3a"
            ],
            [
             0.8888888888888888,
             "#fdca26"
            ],
            [
             1,
             "#f0f921"
            ]
           ],
           "sequentialminus": [
            [
             0,
             "#0d0887"
            ],
            [
             0.1111111111111111,
             "#46039f"
            ],
            [
             0.2222222222222222,
             "#7201a8"
            ],
            [
             0.3333333333333333,
             "#9c179e"
            ],
            [
             0.4444444444444444,
             "#bd3786"
            ],
            [
             0.5555555555555556,
             "#d8576b"
            ],
            [
             0.6666666666666666,
             "#ed7953"
            ],
            [
             0.7777777777777778,
             "#fb9f3a"
            ],
            [
             0.8888888888888888,
             "#fdca26"
            ],
            [
             1,
             "#f0f921"
            ]
           ]
          },
          "colorway": [
           "#636efa",
           "#EF553B",
           "#00cc96",
           "#ab63fa",
           "#FFA15A",
           "#19d3f3",
           "#FF6692",
           "#B6E880",
           "#FF97FF",
           "#FECB52"
          ],
          "font": {
           "color": "#2a3f5f"
          },
          "geo": {
           "bgcolor": "white",
           "lakecolor": "white",
           "landcolor": "#E5ECF6",
           "showlakes": true,
           "showland": true,
           "subunitcolor": "white"
          },
          "hoverlabel": {
           "align": "left"
          },
          "hovermode": "closest",
          "mapbox": {
           "style": "light"
          },
          "paper_bgcolor": "white",
          "plot_bgcolor": "#E5ECF6",
          "polar": {
           "angularaxis": {
            "gridcolor": "white",
            "linecolor": "white",
            "ticks": ""
           },
           "bgcolor": "#E5ECF6",
           "radialaxis": {
            "gridcolor": "white",
            "linecolor": "white",
            "ticks": ""
           }
          },
          "scene": {
           "xaxis": {
            "backgroundcolor": "#E5ECF6",
            "gridcolor": "white",
            "gridwidth": 2,
            "linecolor": "white",
            "showbackground": true,
            "ticks": "",
            "zerolinecolor": "white"
           },
           "yaxis": {
            "backgroundcolor": "#E5ECF6",
            "gridcolor": "white",
            "gridwidth": 2,
            "linecolor": "white",
            "showbackground": true,
            "ticks": "",
            "zerolinecolor": "white"
           },
           "zaxis": {
            "backgroundcolor": "#E5ECF6",
            "gridcolor": "white",
            "gridwidth": 2,
            "linecolor": "white",
            "showbackground": true,
            "ticks": "",
            "zerolinecolor": "white"
           }
          },
          "shapedefaults": {
           "line": {
            "color": "#2a3f5f"
           }
          },
          "ternary": {
           "aaxis": {
            "gridcolor": "white",
            "linecolor": "white",
            "ticks": ""
           },
           "baxis": {
            "gridcolor": "white",
            "linecolor": "white",
            "ticks": ""
           },
           "bgcolor": "#E5ECF6",
           "caxis": {
            "gridcolor": "white",
            "linecolor": "white",
            "ticks": ""
           }
          },
          "title": {
           "x": 0.05
          },
          "xaxis": {
           "automargin": true,
           "gridcolor": "white",
           "linecolor": "white",
           "ticks": "",
           "title": {
            "standoff": 15
           },
           "zerolinecolor": "white",
           "zerolinewidth": 2
          },
          "yaxis": {
           "automargin": true,
           "gridcolor": "white",
           "linecolor": "white",
           "ticks": "",
           "title": {
            "standoff": 15
           },
           "zerolinecolor": "white",
           "zerolinewidth": 2
          }
         }
        },
        "title": {
         "text": "Basic Sankey Diagram"
        }
       }
      }
     },
     "metadata": {},
     "output_type": "display_data"
    }
   ],
   "source": [
    "AGG = nx.compose(G_AGG_R, G_AGG_W)\n",
    "print(AGG)\n",
    "print(get_min_max_loc(AGG))\n",
    "\n",
    "min = 39\n",
    "pos = nx.get_node_attributes(AGG,'pos')\n",
    "AGG_SHIFT = AGG\n",
    "\n",
    "for n in AGG.nodes:\n",
    "  _x = pos[n][0] - min\n",
    "  _y = pos[n][1]\n",
    "  AGG_SHIFT.add_node(n,pos=(_x,_y))\n",
    "\n",
    "\n",
    "# draw_graph(AGG,COLOR_MAP,rm_tags=['agg_r','agg_w'])\n",
    "\n",
    "agg_nodes, agg_nodes_dict = get_nodes_for_sankey(AGG_SHIFT,rm_tags=['agg_r','agg_w'])\n",
    "\n",
    "agg_links = get_links_for_sankey(AGG_SHIFT, agg_nodes_dict)\n",
    "\n",
    "agg_sankey = go.Sankey(\n",
    "            node = agg_nodes,\n",
    "            link = agg_links, \n",
    "            orientation='h',\n",
    "            # domain=dict(\n",
    "            #   row=1,\n",
    "            #   column=0,),\n",
    "            arrangement = \"freeform\",\n",
    "            )\n",
    "\n",
    "layout =  go.Layout(\n",
    "    title = \"Basic Sankey Diagram\",\n",
    "    bargap = 1,\n",
    "    barmode = 'stack',\n",
    "    font = dict(\n",
    "      size = 10\n",
    "    )\n",
    ")\n",
    "\n",
    "fig = go.Figure(data=agg_sankey, layout=layout)\n",
    "fig.show()\n",
    "fig.write_html(f\"{image_path}/sankey-sampled-agg-vol-vfd.html\")"
   ]
  },
  {
   "cell_type": "code",
   "execution_count": 13,
   "metadata": {},
   "outputs": [],
   "source": [
    "# data = [sim_sankey, agg_sankey] #\n",
    "# layout =  go.Layout(\n",
    "#     title = \"Basic Sankey Diagram\",\n",
    "#     bargap = 1,\n",
    "#     barmode = 'stack',\n",
    "#     grid = dict(\n",
    "#       rows = 2,\n",
    "#       columns = 1\n",
    "#     ),\n",
    "#     margin = dict(\n",
    "#       l=10,\n",
    "#       r=10,\n",
    "#     ),\n",
    "# )\n",
    "\n",
    "# fig = go.Figure(data=data, layout=layout)\n",
    "\n",
    "# fig.show()\n",
    "# fig.write_html(f\"{image_path}/sankey-sampled-sim-agg-subplot.html\")"
   ]
  },
  {
   "cell_type": "code",
   "execution_count": 14,
   "metadata": {},
   "outputs": [
    {
     "data": {
      "application/vnd.plotly.v1+json": {
       "config": {
        "plotlyServerURL": "https://plot.ly"
       },
       "data": [
        {
         "arrangement": "freeform",
         "link": {
          "color": [
           "rgba(147, 112, 219, 0.7)",
           "rgba(147, 112, 219, 0.7)",
           "rgba(147, 112, 219, 0.7)",
           "rgba(221, 160, 221,0.7)",
           "rgba(221, 160, 221,0.7)",
           "rgba(221, 160, 221,0.7)",
           "rgba(147, 112, 219, 0.7)",
           "rgba(128, 128, 128, 0.7)",
           "rgba(128, 128, 128, 0.7)",
           "rgba(128, 128, 128, 0.7)",
           "rgba(147, 112, 219, 0.7)",
           "rgba(128, 128, 128, 0.7)",
           "rgba(128, 128, 128, 0.7)",
           "rgba(128, 128, 128, 0.7)",
           "rgba(128, 128, 128, 0.7)",
           "rgba(128, 128, 128, 0.7)",
           "rgba(128, 128, 128, 0.7)",
           "rgba(128, 128, 128, 0.7)",
           "rgba(128, 128, 128, 0.7)",
           "rgba(128, 128, 128, 0.7)",
           "rgba(128, 128, 128, 0.7)",
           "rgba(147, 112, 219, 0.7)"
          ],
          "customdata": [
           1,
           1,
           1,
           1,
           1,
           1,
           1,
           1,
           1,
           1,
           1,
           1,
           1,
           1,
           2,
           1,
           1,
           1,
           1,
           2,
           1,
           1
          ],
          "label": [
           "Access Volume : 2.4 MB <br />Average Count : 1 <br />Average Access Size : 2.4 MB <br />",
           "Access Volume : 2.4 MB <br />Average Count : 1 <br />Average Access Size : 2.4 MB <br />",
           "Access Volume : 2.4 MB <br />Average Count : 1 <br />Average Access Size : 2.4 MB <br />",
           "Access Volume : 2.4 MB <br />Average Count : 1 <br />Average Access Size : 2.4 MB <br />",
           "Access Volume : 2.4 MB <br />Average Count : 1 <br />Average Access Size : 2.4 MB <br />",
           "Access Volume : 2.4 MB <br />Average Count : 1 <br />Average Access Size : 2.4 MB <br />",
           "Access Volume : 2.4 MB <br />Average Count : 1 <br />Average Access Size : 2.4 MB <br />",
           "Access Volume : 1 B <br />Average Count : 1 <br />Average Access Size : 1 B <br />",
           "Access Volume : 1 B <br />Average Count : 1 <br />Average Access Size : 1 B <br />",
           "Access Volume : 1 B <br />Average Count : 1 <br />Average Access Size : 1 B <br />",
           "Access Volume : 1 B <br />Average Count : 1 <br />Average Access Size : 1 B <br />",
           "Access Volume : 512 B <br />Average Count : 1 <br />Average Access Size : 512 B <br />",
           "Access Volume : 268 B <br />Average Count : 1 <br />Average Access Size : 268 B <br />",
           "Access Volume : 28 B <br />Average Count : 1 <br />Average Access Size : 28 B <br />",
           "Access Volume : 48 B <br />Average Count : 2 <br />Average Access Size : 24 B <br />",
           "Access Volume : 1 B <br />Average Count : 1 <br />Average Access Size : 1 B <br />",
           "Access Volume : 512 B <br />Average Count : 1 <br />Average Access Size : 512 B <br />",
           "Access Volume : 268 B <br />Average Count : 1 <br />Average Access Size : 268 B <br />",
           "Access Volume : 28 B <br />Average Count : 1 <br />Average Access Size : 28 B <br />",
           "Access Volume : 48 B <br />Average Count : 2 <br />Average Access Size : 24 B <br />",
           "Access Volume : 1 B <br />Average Count : 1 <br />Average Access Size : 1 B <br />",
           "Access Volume : 1 B <br />Average Count : 1 <br />Average Access Size : 1 B <br />"
          ],
          "source": [
           0,
           1,
           2,
           3,
           4,
           5,
           6,
           6,
           6,
           6,
           7,
           8,
           9,
           9,
           10,
           10,
           12,
           13,
           14,
           15,
           16,
           17
          ],
          "target": [
           1,
           2,
           3,
           4,
           5,
           6,
           7,
           8,
           9,
           10,
           11,
           12,
           13,
           14,
           15,
           16,
           18,
           18,
           18,
           18,
           18,
           18
          ],
          "value": [
           2400000,
           2400000,
           2400000,
           2400000,
           2400000,
           2400000,
           2400000,
           1,
           1,
           1,
           1,
           512,
           268,
           28,
           48,
           1,
           512,
           268,
           28,
           48,
           1,
           1
          ]
         },
         "node": {
          "color": [
           "FireBrick",
           "Salmon",
           "SkyBlue",
           "RoyalBlue",
           "SkyBlue",
           "Salmon",
           "FireBrick",
           "Salmon",
           "Salmon",
           "Salmon",
           "Salmon",
           "SkyBlue",
           "SkyBlue",
           "SkyBlue",
           "SkyBlue",
           "SkyBlue",
           "SkyBlue",
           "SkyBlue",
           "RoyalBlue"
          ],
          "customdata": [
           "task",
           "sim",
           "sim",
           "file",
           "agg_r",
           "agg_r",
           "task",
           "agg_w",
           "agg_w",
           "agg_w",
           "agg_w",
           "agg_w",
           "agg_w",
           "agg_w",
           "agg_w",
           "agg_w",
           "agg_w",
           "agg_w",
           "file"
          ],
          "label": [
           "task-sim",
           "data-pc-0",
           "addr-37261648",
           "file-residue.h5",
           "addr-37261648",
           "data-pc-0",
           "task-aggregator",
           "data-pc-0:(91)",
           "meta-pc-3:(90)",
           "meta-pc-5:(92)",
           "meta-pc-6:(93)",
           "addr--1:(94)",
           "addr-48:(95)",
           "addr-37260149:(96)",
           "addr-37268753:(97)",
           "addr-0:(98)",
           "addr--1:(100)",
           "addr--1:(-1)",
           "file-aggregate.h5"
          ],
          "pad": 10,
          "thickness": 20,
          "x": [
           0,
           0.00819672131147541,
           0.18032786885245902,
           0.36065573770491804,
           0.5327868852459017,
           0.5491803278688525,
           0.7295081967213115,
           0.7459016393442623,
           0.7377049180327869,
           0.7540983606557378,
           0.7622950819672132,
           0.7704918032786886,
           0.778688524590164,
           0.7868852459016393,
           0.7950819672131147,
           0.8032786885245902,
           0.819672131147541,
           0.7704918032786886,
           1
          ],
          "y": [
           0,
           0.2,
           0.2,
           0,
           0.2,
           0,
           0,
           0.2,
           0.4,
           0.6000000000000001,
           0.8,
           0.2,
           0.6000000000000001,
           0.8,
           1,
           0.4,
           0.2,
           0.2,
           0.2
          ]
         },
         "orientation": "h",
         "type": "sankey"
        }
       ],
       "layout": {
        "template": {
         "data": {
          "bar": [
           {
            "error_x": {
             "color": "#2a3f5f"
            },
            "error_y": {
             "color": "#2a3f5f"
            },
            "marker": {
             "line": {
              "color": "#E5ECF6",
              "width": 0.5
             },
             "pattern": {
              "fillmode": "overlay",
              "size": 10,
              "solidity": 0.2
             }
            },
            "type": "bar"
           }
          ],
          "barpolar": [
           {
            "marker": {
             "line": {
              "color": "#E5ECF6",
              "width": 0.5
             },
             "pattern": {
              "fillmode": "overlay",
              "size": 10,
              "solidity": 0.2
             }
            },
            "type": "barpolar"
           }
          ],
          "carpet": [
           {
            "aaxis": {
             "endlinecolor": "#2a3f5f",
             "gridcolor": "white",
             "linecolor": "white",
             "minorgridcolor": "white",
             "startlinecolor": "#2a3f5f"
            },
            "baxis": {
             "endlinecolor": "#2a3f5f",
             "gridcolor": "white",
             "linecolor": "white",
             "minorgridcolor": "white",
             "startlinecolor": "#2a3f5f"
            },
            "type": "carpet"
           }
          ],
          "choropleth": [
           {
            "colorbar": {
             "outlinewidth": 0,
             "ticks": ""
            },
            "type": "choropleth"
           }
          ],
          "contour": [
           {
            "colorbar": {
             "outlinewidth": 0,
             "ticks": ""
            },
            "colorscale": [
             [
              0,
              "#0d0887"
             ],
             [
              0.1111111111111111,
              "#46039f"
             ],
             [
              0.2222222222222222,
              "#7201a8"
             ],
             [
              0.3333333333333333,
              "#9c179e"
             ],
             [
              0.4444444444444444,
              "#bd3786"
             ],
             [
              0.5555555555555556,
              "#d8576b"
             ],
             [
              0.6666666666666666,
              "#ed7953"
             ],
             [
              0.7777777777777778,
              "#fb9f3a"
             ],
             [
              0.8888888888888888,
              "#fdca26"
             ],
             [
              1,
              "#f0f921"
             ]
            ],
            "type": "contour"
           }
          ],
          "contourcarpet": [
           {
            "colorbar": {
             "outlinewidth": 0,
             "ticks": ""
            },
            "type": "contourcarpet"
           }
          ],
          "heatmap": [
           {
            "colorbar": {
             "outlinewidth": 0,
             "ticks": ""
            },
            "colorscale": [
             [
              0,
              "#0d0887"
             ],
             [
              0.1111111111111111,
              "#46039f"
             ],
             [
              0.2222222222222222,
              "#7201a8"
             ],
             [
              0.3333333333333333,
              "#9c179e"
             ],
             [
              0.4444444444444444,
              "#bd3786"
             ],
             [
              0.5555555555555556,
              "#d8576b"
             ],
             [
              0.6666666666666666,
              "#ed7953"
             ],
             [
              0.7777777777777778,
              "#fb9f3a"
             ],
             [
              0.8888888888888888,
              "#fdca26"
             ],
             [
              1,
              "#f0f921"
             ]
            ],
            "type": "heatmap"
           }
          ],
          "heatmapgl": [
           {
            "colorbar": {
             "outlinewidth": 0,
             "ticks": ""
            },
            "colorscale": [
             [
              0,
              "#0d0887"
             ],
             [
              0.1111111111111111,
              "#46039f"
             ],
             [
              0.2222222222222222,
              "#7201a8"
             ],
             [
              0.3333333333333333,
              "#9c179e"
             ],
             [
              0.4444444444444444,
              "#bd3786"
             ],
             [
              0.5555555555555556,
              "#d8576b"
             ],
             [
              0.6666666666666666,
              "#ed7953"
             ],
             [
              0.7777777777777778,
              "#fb9f3a"
             ],
             [
              0.8888888888888888,
              "#fdca26"
             ],
             [
              1,
              "#f0f921"
             ]
            ],
            "type": "heatmapgl"
           }
          ],
          "histogram": [
           {
            "marker": {
             "pattern": {
              "fillmode": "overlay",
              "size": 10,
              "solidity": 0.2
             }
            },
            "type": "histogram"
           }
          ],
          "histogram2d": [
           {
            "colorbar": {
             "outlinewidth": 0,
             "ticks": ""
            },
            "colorscale": [
             [
              0,
              "#0d0887"
             ],
             [
              0.1111111111111111,
              "#46039f"
             ],
             [
              0.2222222222222222,
              "#7201a8"
             ],
             [
              0.3333333333333333,
              "#9c179e"
             ],
             [
              0.4444444444444444,
              "#bd3786"
             ],
             [
              0.5555555555555556,
              "#d8576b"
             ],
             [
              0.6666666666666666,
              "#ed7953"
             ],
             [
              0.7777777777777778,
              "#fb9f3a"
             ],
             [
              0.8888888888888888,
              "#fdca26"
             ],
             [
              1,
              "#f0f921"
             ]
            ],
            "type": "histogram2d"
           }
          ],
          "histogram2dcontour": [
           {
            "colorbar": {
             "outlinewidth": 0,
             "ticks": ""
            },
            "colorscale": [
             [
              0,
              "#0d0887"
             ],
             [
              0.1111111111111111,
              "#46039f"
             ],
             [
              0.2222222222222222,
              "#7201a8"
             ],
             [
              0.3333333333333333,
              "#9c179e"
             ],
             [
              0.4444444444444444,
              "#bd3786"
             ],
             [
              0.5555555555555556,
              "#d8576b"
             ],
             [
              0.6666666666666666,
              "#ed7953"
             ],
             [
              0.7777777777777778,
              "#fb9f3a"
             ],
             [
              0.8888888888888888,
              "#fdca26"
             ],
             [
              1,
              "#f0f921"
             ]
            ],
            "type": "histogram2dcontour"
           }
          ],
          "mesh3d": [
           {
            "colorbar": {
             "outlinewidth": 0,
             "ticks": ""
            },
            "type": "mesh3d"
           }
          ],
          "parcoords": [
           {
            "line": {
             "colorbar": {
              "outlinewidth": 0,
              "ticks": ""
             }
            },
            "type": "parcoords"
           }
          ],
          "pie": [
           {
            "automargin": true,
            "type": "pie"
           }
          ],
          "scatter": [
           {
            "fillpattern": {
             "fillmode": "overlay",
             "size": 10,
             "solidity": 0.2
            },
            "type": "scatter"
           }
          ],
          "scatter3d": [
           {
            "line": {
             "colorbar": {
              "outlinewidth": 0,
              "ticks": ""
             }
            },
            "marker": {
             "colorbar": {
              "outlinewidth": 0,
              "ticks": ""
             }
            },
            "type": "scatter3d"
           }
          ],
          "scattercarpet": [
           {
            "marker": {
             "colorbar": {
              "outlinewidth": 0,
              "ticks": ""
             }
            },
            "type": "scattercarpet"
           }
          ],
          "scattergeo": [
           {
            "marker": {
             "colorbar": {
              "outlinewidth": 0,
              "ticks": ""
             }
            },
            "type": "scattergeo"
           }
          ],
          "scattergl": [
           {
            "marker": {
             "colorbar": {
              "outlinewidth": 0,
              "ticks": ""
             }
            },
            "type": "scattergl"
           }
          ],
          "scattermapbox": [
           {
            "marker": {
             "colorbar": {
              "outlinewidth": 0,
              "ticks": ""
             }
            },
            "type": "scattermapbox"
           }
          ],
          "scatterpolar": [
           {
            "marker": {
             "colorbar": {
              "outlinewidth": 0,
              "ticks": ""
             }
            },
            "type": "scatterpolar"
           }
          ],
          "scatterpolargl": [
           {
            "marker": {
             "colorbar": {
              "outlinewidth": 0,
              "ticks": ""
             }
            },
            "type": "scatterpolargl"
           }
          ],
          "scatterternary": [
           {
            "marker": {
             "colorbar": {
              "outlinewidth": 0,
              "ticks": ""
             }
            },
            "type": "scatterternary"
           }
          ],
          "surface": [
           {
            "colorbar": {
             "outlinewidth": 0,
             "ticks": ""
            },
            "colorscale": [
             [
              0,
              "#0d0887"
             ],
             [
              0.1111111111111111,
              "#46039f"
             ],
             [
              0.2222222222222222,
              "#7201a8"
             ],
             [
              0.3333333333333333,
              "#9c179e"
             ],
             [
              0.4444444444444444,
              "#bd3786"
             ],
             [
              0.5555555555555556,
              "#d8576b"
             ],
             [
              0.6666666666666666,
              "#ed7953"
             ],
             [
              0.7777777777777778,
              "#fb9f3a"
             ],
             [
              0.8888888888888888,
              "#fdca26"
             ],
             [
              1,
              "#f0f921"
             ]
            ],
            "type": "surface"
           }
          ],
          "table": [
           {
            "cells": {
             "fill": {
              "color": "#EBF0F8"
             },
             "line": {
              "color": "white"
             }
            },
            "header": {
             "fill": {
              "color": "#C8D4E3"
             },
             "line": {
              "color": "white"
             }
            },
            "type": "table"
           }
          ]
         },
         "layout": {
          "annotationdefaults": {
           "arrowcolor": "#2a3f5f",
           "arrowhead": 0,
           "arrowwidth": 1
          },
          "autotypenumbers": "strict",
          "coloraxis": {
           "colorbar": {
            "outlinewidth": 0,
            "ticks": ""
           }
          },
          "colorscale": {
           "diverging": [
            [
             0,
             "#8e0152"
            ],
            [
             0.1,
             "#c51b7d"
            ],
            [
             0.2,
             "#de77ae"
            ],
            [
             0.3,
             "#f1b6da"
            ],
            [
             0.4,
             "#fde0ef"
            ],
            [
             0.5,
             "#f7f7f7"
            ],
            [
             0.6,
             "#e6f5d0"
            ],
            [
             0.7,
             "#b8e186"
            ],
            [
             0.8,
             "#7fbc41"
            ],
            [
             0.9,
             "#4d9221"
            ],
            [
             1,
             "#276419"
            ]
           ],
           "sequential": [
            [
             0,
             "#0d0887"
            ],
            [
             0.1111111111111111,
             "#46039f"
            ],
            [
             0.2222222222222222,
             "#7201a8"
            ],
            [
             0.3333333333333333,
             "#9c179e"
            ],
            [
             0.4444444444444444,
             "#bd3786"
            ],
            [
             0.5555555555555556,
             "#d8576b"
            ],
            [
             0.6666666666666666,
             "#ed7953"
            ],
            [
             0.7777777777777778,
             "#fb9f3a"
            ],
            [
             0.8888888888888888,
             "#fdca26"
            ],
            [
             1,
             "#f0f921"
            ]
           ],
           "sequentialminus": [
            [
             0,
             "#0d0887"
            ],
            [
             0.1111111111111111,
             "#46039f"
            ],
            [
             0.2222222222222222,
             "#7201a8"
            ],
            [
             0.3333333333333333,
             "#9c179e"
            ],
            [
             0.4444444444444444,
             "#bd3786"
            ],
            [
             0.5555555555555556,
             "#d8576b"
            ],
            [
             0.6666666666666666,
             "#ed7953"
            ],
            [
             0.7777777777777778,
             "#fb9f3a"
            ],
            [
             0.8888888888888888,
             "#fdca26"
            ],
            [
             1,
             "#f0f921"
            ]
           ]
          },
          "colorway": [
           "#636efa",
           "#EF553B",
           "#00cc96",
           "#ab63fa",
           "#FFA15A",
           "#19d3f3",
           "#FF6692",
           "#B6E880",
           "#FF97FF",
           "#FECB52"
          ],
          "font": {
           "color": "#2a3f5f"
          },
          "geo": {
           "bgcolor": "white",
           "lakecolor": "white",
           "landcolor": "#E5ECF6",
           "showlakes": true,
           "showland": true,
           "subunitcolor": "white"
          },
          "hoverlabel": {
           "align": "left"
          },
          "hovermode": "closest",
          "mapbox": {
           "style": "light"
          },
          "paper_bgcolor": "white",
          "plot_bgcolor": "#E5ECF6",
          "polar": {
           "angularaxis": {
            "gridcolor": "white",
            "linecolor": "white",
            "ticks": ""
           },
           "bgcolor": "#E5ECF6",
           "radialaxis": {
            "gridcolor": "white",
            "linecolor": "white",
            "ticks": ""
           }
          },
          "scene": {
           "xaxis": {
            "backgroundcolor": "#E5ECF6",
            "gridcolor": "white",
            "gridwidth": 2,
            "linecolor": "white",
            "showbackground": true,
            "ticks": "",
            "zerolinecolor": "white"
           },
           "yaxis": {
            "backgroundcolor": "#E5ECF6",
            "gridcolor": "white",
            "gridwidth": 2,
            "linecolor": "white",
            "showbackground": true,
            "ticks": "",
            "zerolinecolor": "white"
           },
           "zaxis": {
            "backgroundcolor": "#E5ECF6",
            "gridcolor": "white",
            "gridwidth": 2,
            "linecolor": "white",
            "showbackground": true,
            "ticks": "",
            "zerolinecolor": "white"
           }
          },
          "shapedefaults": {
           "line": {
            "color": "#2a3f5f"
           }
          },
          "ternary": {
           "aaxis": {
            "gridcolor": "white",
            "linecolor": "white",
            "ticks": ""
           },
           "baxis": {
            "gridcolor": "white",
            "linecolor": "white",
            "ticks": ""
           },
           "bgcolor": "#E5ECF6",
           "caxis": {
            "gridcolor": "white",
            "linecolor": "white",
            "ticks": ""
           }
          },
          "title": {
           "x": 0.05
          },
          "xaxis": {
           "automargin": true,
           "gridcolor": "white",
           "linecolor": "white",
           "ticks": "",
           "title": {
            "standoff": 15
           },
           "zerolinecolor": "white",
           "zerolinewidth": 2
          },
          "yaxis": {
           "automargin": true,
           "gridcolor": "white",
           "linecolor": "white",
           "ticks": "",
           "title": {
            "standoff": 15
           },
           "zerolinecolor": "white",
           "zerolinewidth": 2
          }
         }
        }
       }
      }
     },
     "metadata": {},
     "output_type": "display_data"
    }
   ],
   "source": [
    "f2_nodes, f2_nodes_dict = get_nodes_for_sankey(F2,rm_tags=['sim','agg_r','agg_w'])\n",
    "# print(node_ref2)\n",
    "f2_links = get_links_for_sankey(F2, f2_nodes_dict)\n",
    "\n",
    "f2_sankey = go.Sankey(\n",
    "            node = f2_nodes,\n",
    "            link = f2_links, \n",
    "            orientation='h',\n",
    "            arrangement = \"freeform\",\n",
    "    )\n",
    "\n",
    "layout =  go.Layout(\n",
    "    title = \"Basic Sankey Diagram\",\n",
    "    margin = dict(\n",
    "      l=10,\n",
    "      r=10,\n",
    "    ),\n",
    "    boxgap = 0.2,\n",
    "    activeselection = dict(\n",
    "      fillcolor = 'green',\n",
    "      opacity = 0.8\n",
    "    ),\n",
    "    \n",
    "    # clickmode = \"event+select\",\n",
    "    activeshape = dict(\n",
    "      fillcolor = 'green',\n",
    "      opacity = 0.8\n",
    "    ),\n",
    "    autosize = True,\n",
    "    \n",
    ")\n",
    "\n",
    "\n",
    "fig = go.Figure(data=f2_sankey, )\n",
    "fig.show()\n",
    "fig.write_html(f\"{image_path}/sankey-sampled-sim_w_agg_r_w-vol-vfd.html\")"
   ]
  },
  {
   "attachments": {},
   "cell_type": "markdown",
   "metadata": {},
   "source": [
    "## TODO: Convert to group below\n",
    "1. create node maps, detailed_node : grouped_node\n",
    "2. replace nodes\n",
    "3. replace edges"
   ]
  },
  {
   "cell_type": "markdown",
   "metadata": {},
   "source": []
  }
 ],
 "metadata": {
  "kernelspec": {
   "display_name": "Python 3.10.6 64-bit",
   "language": "python",
   "name": "python3"
  },
  "language_info": {
   "codemirror_mode": {
    "name": "ipython",
    "version": 3
   },
   "file_extension": ".py",
   "mimetype": "text/x-python",
   "name": "python",
   "nbconvert_exporter": "python",
   "pygments_lexer": "ipython3",
   "version": "3.10.6"
  },
  "orig_nbformat": 4,
  "vscode": {
   "interpreter": {
    "hash": "916dbcbb3f70747c44a77c7bcd40155683ae19c65e1c03b4aa3499c5328201f1"
   }
  }
 },
 "nbformat": 4,
 "nbformat_minor": 2
}
