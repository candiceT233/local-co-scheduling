{
 "cells": [
  {
   "cell_type": "code",
   "execution_count": 105,
   "metadata": {},
   "outputs": [],
   "source": [
    "import plotly.graph_objects as go\n",
    "import pandas as pd\n",
    "\n",
    "# reading input log file\n",
    "import sys\n",
    "from csv import excel\n",
    "\n",
    "path='save_job_log/1352_job_log'\n",
    "task_cnt = 8\n",
    "\n",
    "fsim = f'{path}/hm-sim.f100.n{task_cnt}.r100.log.xlsx'\n",
    "fagg = f'{path}/hm-agg.f100.n{task_cnt}.r100.log.xlsx'"
   ]
  },
  {
   "cell_type": "code",
   "execution_count": 106,
   "metadata": {},
   "outputs": [],
   "source": [
    "def humansize(nbytes):\n",
    "    suffixes = ['B', 'KB', 'MB', 'GB', 'TB', 'PB']\n",
    "    i = 0\n",
    "    while nbytes >= 1000 and i < len(suffixes)-1:\n",
    "        nbytes /= 1000.\n",
    "        i += 1\n",
    "    f = ('%.2f' % nbytes).rstrip('0').rstrip('.')\n",
    "    return '%s %s' % (f, suffixes[i])"
   ]
  },
  {
   "cell_type": "code",
   "execution_count": 107,
   "metadata": {},
   "outputs": [],
   "source": [
    "class SankeyData:\n",
    "    \n",
    "    # From Tazer\n",
    "    df_stat = list()\n",
    "    # Sankey in Plotly, node - vertex, link - edge\n",
    "    nodes = pd.DataFrame(columns=['label', 'color'])\n",
    "    links = pd.DataFrame(columns=['source', 'target', 'value', 'label'])\n",
    "    \n",
    "    color_map = {\"task\": \"red\",\n",
    "                 \"file\": \"blue\",\n",
    "                 \"none\": \"grey\",\n",
    "                }\n",
    "    block_size = 1024 # default block_size\n",
    "    output_suffix = \"hermesvfd-example\"\n",
    "        \n",
    "    def __init__(self):\n",
    "        pass\n",
    "        \n",
    "    def load_stat(self, df_stat, params):\n",
    "        \n",
    "        self.df_stat.append({ \"df\": df_stat,\n",
    "                              \"filename\": params['filename'],\n",
    "                              \"type\": params['type'],\n",
    "                              \"size\": params['size'],\n",
    "                             \"task_name\": params['task_name']\n",
    "                            })\n",
    "\n",
    "        # add a node entry (task)\n",
    "        self.set_taskname(params['task_name'])\n",
    "\n",
    "        # add a node entry (input/output file)\n",
    "        # one filename entry is allowed\n",
    "        if len(self.nodes[self.nodes.label == params['filename']]) == 0:\n",
    "            self.add_node({'label': params['filename'],\n",
    "                           'color': self.color_map['file']})\n",
    "            '''\n",
    "            self.add_node({'label': 'no read',\n",
    "                      'color': self.color_map['none']})\n",
    "            self.add_node({'label': 'no write',\n",
    "                      'color': self.color_map['none']})\n",
    "            '''\n",
    "        \n",
    "    def set_taskname(self, name):\n",
    "        if len(self.nodes[self.nodes.label == name]) == 0:\n",
    "            self.add_node({'label': name,\n",
    "                           'color': self.color_map['task']})\n",
    "    def set_output_suffix(self,suffix):\n",
    "        self.output_suffix = suffix\n",
    "        print(f\"Output Name : sankey-diagram-plotly-{self.output_suffix}.html\")\n",
    "                    \n",
    "    def get_node(self, idx):\n",
    "        return self.nodes[idx]\n",
    "    \n",
    "    def add_node(self, node_dict):\n",
    "        # label, color, customdata, x, y\n",
    "        x = pd.DataFrame([node_dict])\n",
    "        self.nodes = pd.concat([self.nodes, x], ignore_index=True)\n",
    "        new_id = len(self.nodes)\n",
    "        \n",
    "    def get_link(self, name):\n",
    "        return self.link[name]\n",
    "    \n",
    "    def set_links(self):\n",
    "        pass\n",
    "    \n",
    "    def set_block_size(self,size):\n",
    "        self.block_size =  size\n",
    "\n",
    "    def build_links(self, key='block_idx', no_rw=False):\n",
    "\n",
    "        links = []\n",
    "        for v in self.df_stat:\n",
    "            # input (r)\n",
    "            # cnt = v['df'][key].nunique()\n",
    "            cnt = v['size'] # candice added for link size\n",
    "            io_type = v['type']\n",
    "            fname = v['filename']\n",
    "            tname = v['task_name']\n",
    "            fidx = int(self.nodes[self.nodes.label == fname].index.values)\n",
    "            tidx = int(self.nodes[self.nodes.label == tname].index.values)\n",
    "\n",
    "            if io_type == \"read\":\n",
    "                t2f = {'source': fidx,\n",
    "                       'target': tidx,\n",
    "                       'label': f'read (approx {humansize(cnt)})',\n",
    "                       'value': cnt}\n",
    "                if no_rw:\n",
    "                    t2n = {'source': fidx + 1,\n",
    "                           'target': tidx,\n",
    "                           'value': (v['size'] / self.block_size) - cnt}\n",
    "            elif io_type == \"write\":\n",
    "                t2f = {'source': tidx,\n",
    "                       'target': fidx,\n",
    "                       'label': f'write (approx {humansize(cnt)})',\n",
    "                       'value': cnt}\n",
    "                if no_rw:\n",
    "                    t2n = {'source': tidx,\n",
    "                           'target': fidx + 2,\n",
    "                           'value': (v['size'] / self.block_size) - cnt}\n",
    "\n",
    "            links.append(t2f) \n",
    "            links.append(t2n) if no_rw else None\n",
    "\n",
    "        links = pd.DataFrame(links)\n",
    "        self.links = links\n",
    "    \n",
    "    def plot(self):\n",
    "        n = self.nodes[['label','color']].to_dict('list')\n",
    "        l = self.links.to_dict('list')\n",
    "        fig = go.Figure(data=[go.Sankey(\n",
    "            node = n,\n",
    "            link = l)])\n",
    "        fig.show()\n",
    "        fig.write_html(f\"{path}/sankey-diagram-plotly-{self.output_suffix}.html\")\n",
    "\n",
    "    def reset(self):\n",
    "        del(self.df_stat)\n",
    "        del(self.nodes)\n",
    "        del(self.links)    "
   ]
  },
  {
   "cell_type": "code",
   "execution_count": 108,
   "metadata": {},
   "outputs": [],
   "source": [
    "read_columns=['type','Time_Start(ns)','Access_Size','Filename','Filesize','Num_Datasets','Dataset_Name',\n",
    "'Dataset_Offset','Dataset_N_Dimension','Dataset_N_Points','Dataset_Dimension']\n",
    "\n",
    "# loading hermesvfd stat files into pandas dataframe\n",
    "def stat_to_df(fname):\n",
    "\n",
    "    df = pd.read_excel(fname, usecols=read_columns)\n",
    "    df.fillna(\"\")\n",
    "\n",
    "    df['access_idx'] = df.index # just name for placeholder\n",
    "\n",
    "    df['Filename'] = df['Filename'].astype('string')\n",
    "    df['type'] = df['type'].astype('string')\n",
    "    df['Filename'] = df['Filename'].fillna(\"\")\n",
    "    df['Dataset_Name'] = df['Dataset_Name'].fillna(\"\")\n",
    "\n",
    "    df['Filesize'] = df['Filesize'].astype('int64')\n",
    "    df['Access_Size'] = df['Access_Size'].astype('int64')\n",
    "\n",
    "    df['Filename'].replace(\"molecular_dynamics_runs/stage0000/\",\"\",inplace=True,regex=True)\n",
    "    \n",
    "    return df\n"
   ]
  },
  {
   "cell_type": "code",
   "execution_count": 109,
   "metadata": {},
   "outputs": [],
   "source": [
    "dsets = [\"contact_map\", \"point_cloud\"]\n",
    "io_type = [\"read\", \"write\"]\n",
    "agg_result = \"aggregate.h5\"\n",
    "sim_result = \"residue_100.h5\"\n",
    "\n",
    "def sd_load_file_dset(dfsim, dfagg, sd, task_cnt):\n",
    "    for dset in dsets:\n",
    "        for io in io_type:\n",
    "            for i in range(task_cnt):\n",
    "                taskname = \"task000\" + str(i) + \"/\" + sim_result\n",
    "\n",
    "                # read in sim stats\n",
    "                new_df = dfsim[(dfsim['type'].str.match(io)) \n",
    "                                & (dfsim['Filename'].str.match(taskname)) \n",
    "                                & (dfsim['Dataset_Name'].str.contains(dset))]\n",
    "                sd.load_stat(new_df, {'filename': f'residue_100_output.h5 ({i},{dset})',\n",
    "                                'type': io,\n",
    "                                'size':new_df['Access_Size'].sum(),\n",
    "                                'task_name': 'sim_emulator.py'})\n",
    "\n",
    "                # read in agg stats\n",
    "                new_df = dfagg[(dfagg['type'].str.match(io)) \n",
    "                            & (dfagg['Filename'].str.match(taskname)) \n",
    "                            & (dfagg['Dataset_Name'].str.contains(dset))]\n",
    "                # print(f\"DF({io}:{dset}:{fout}:{new_df.shape}):\\n {new_df.head(5)}\\n\\n\")\n",
    "                sd.load_stat(new_df, {'filename': f'residue_100_output.h5 ({i},{dset})',\n",
    "                                'type': io,\n",
    "                                'size':new_df['Access_Size'].sum(),\n",
    "                                'task_name': 'aggregate.py'})\n",
    "            \n",
    "            new_df = dfagg[(dfagg['type'].str.match(io)) \n",
    "                            & (dfagg['Filename'].str.contains(agg_result)) \n",
    "                            & (dfagg['Dataset_Name'].str.contains(dset))]\n",
    "            # print(f\"DF({io}:{dset}:{agg_result}:{new_df.shape}):\\n {new_df.head(5)}\\n\\n\")\n",
    "            sd.load_stat(new_df, {'filename': f'{agg_result} ({dset})',\n",
    "                                'type': io,\n",
    "                                'size': new_df['Access_Size'].sum(),\n",
    "                                'task_name': 'aggregate.py'})\n",
    "\n",
    "def sd_load_file(dfsim, dfagg, sd, task_cnt):\n",
    "    for io in io_type:\n",
    "        for i in range(task_cnt):\n",
    "            taskname = \"task000\" + str(i) + \"/\" + sim_result\n",
    "\n",
    "            # read in sim stats\n",
    "            new_df = dfsim[(dfsim['type'].str.match(io)) \n",
    "                            & (dfsim['Filename'].str.match(taskname))]\n",
    "            sd.load_stat(new_df, {'filename': f'residue_100_output.h5 ({i})',\n",
    "                            'type': io,\n",
    "                            'size':new_df['Access_Size'].sum(),\n",
    "                            'task_name': 'sim_emulator.py'})\n",
    "\n",
    "            # read in agg stats\n",
    "            new_df = dfagg[(dfagg['type'].str.match(io)) \n",
    "                        & (dfagg['Filename'].str.match(taskname))]\n",
    "            sd.load_stat(new_df, {'filename': f'residue_100_output.h5 ({i})',\n",
    "                            'type': io,\n",
    "                            'size':new_df['Access_Size'].sum(),\n",
    "                            'task_name': 'aggregate.py'})\n",
    "        \n",
    "        new_df = dfagg[(dfagg['type'].str.match(io)) \n",
    "                        & (dfagg['Filename'].str.contains(agg_result))]\n",
    "        sd.load_stat(new_df, {'filename': f'{agg_result}',\n",
    "                            'type': io,\n",
    "                            'size': new_df['Access_Size'].sum(),\n",
    "                            'task_name': 'aggregate.py'})\n",
    "\n",
    "\n",
    "def sd_load_dset(dfsim, dfagg, sd,task_cnt):\n",
    "    for dset in dsets:\n",
    "        for io in io_type:\n",
    "            # read in sim stats\n",
    "            new_df = dfsim[(dfsim['type'].str.match(io)) \n",
    "                            & (dfsim['Filename'].str.contains(sim_result)) \n",
    "                            & (dfsim['Dataset_Name'].str.contains(dset))]\n",
    "            sd.load_stat(new_df, {'filename': f'{dset} : residue_100_output.h5 (0-{task_cnt})',\n",
    "                            'type': io,\n",
    "                            'size':new_df['Access_Size'].sum(),\n",
    "                            'task_name': 'sim_emulator.py'})\n",
    "            \n",
    "            # read in agg stats\n",
    "            new_df = dfagg[(dfagg['type'].str.match(io)) \n",
    "                            & (dfagg['Filename'].str.contains(sim_result)) \n",
    "                            & (dfagg['Dataset_Name'].str.contains(dset))]\n",
    "            sd.load_stat(new_df, {'filename': f'{dset} : residue_100_output.h5 (0-{task_cnt})',\n",
    "                            'type': io,\n",
    "                            'size':new_df['Access_Size'].sum(),\n",
    "                            'task_name': 'aggregate.py'})\n",
    "            \n",
    "            new_df = dfagg[(dfagg['type'].str.match(io)) \n",
    "                            & (dfagg['Filename'].str.contains(agg_result)) \n",
    "                            & (dfagg['Dataset_Name'].str.contains(dset))]\n",
    "            sd.load_stat(new_df, {'filename': f'{dset} : {agg_result}',\n",
    "                                'type': io,\n",
    "                                'size': new_df['Access_Size'].sum(),\n",
    "                                'task_name': 'aggregate.py'})"
   ]
  },
  {
   "cell_type": "code",
   "execution_count": 110,
   "metadata": {},
   "outputs": [],
   "source": [
    "\n",
    "dfsim = stat_to_df(fsim)\n",
    "dfagg = stat_to_df(fagg)\n",
    "# print(dfsim.head(5))"
   ]
  },
  {
   "cell_type": "code",
   "execution_count": 111,
   "metadata": {},
   "outputs": [
    {
     "name": "stdout",
     "output_type": "stream",
     "text": [
      "Output Name : sankey-diagram-plotly-hermesvfd-file.html\n"
     ]
    },
    {
     "data": {
      "application/vnd.plotly.v1+json": {
       "config": {
        "plotlyServerURL": "https://plot.ly"
       },
       "data": [
        {
         "link": {
          "label": [
           "read (approx 160.84 KB)",
           "read (approx 106.97 MB)",
           "read (approx 160.84 KB)",
           "read (approx 107.22 MB)",
           "read (approx 160.84 KB)",
           "read (approx 107.09 MB)",
           "read (approx 160.84 KB)",
           "read (approx 107.21 MB)",
           "read (approx 160.84 KB)",
           "read (approx 107.14 MB)",
           "read (approx 160.84 KB)",
           "read (approx 107.18 MB)",
           "read (approx 160.84 KB)",
           "read (approx 106.93 MB)",
           "read (approx 160.84 KB)",
           "read (approx 107.09 MB)",
           "read (approx 5.44 KB)",
           "write (approx 107.5 MB)",
           "write (approx 0 B)",
           "write (approx 108.01 MB)",
           "write (approx 0 B)",
           "write (approx 107.92 MB)",
           "write (approx 0 B)",
           "write (approx 107.85 MB)",
           "write (approx 0 B)",
           "write (approx 108.04 MB)",
           "write (approx 0 B)",
           "write (approx 107.74 MB)",
           "write (approx 0 B)",
           "write (approx 107.72 MB)",
           "write (approx 0 B)",
           "write (approx 108 MB)",
           "write (approx 0 B)",
           "write (approx 845.34 MB)"
          ],
          "source": [
           1,
           1,
           3,
           3,
           4,
           4,
           5,
           5,
           6,
           6,
           7,
           7,
           8,
           8,
           9,
           9,
           10,
           0,
           2,
           0,
           2,
           0,
           2,
           0,
           2,
           0,
           2,
           0,
           2,
           0,
           2,
           0,
           2,
           2
          ],
          "target": [
           0,
           2,
           0,
           2,
           0,
           2,
           0,
           2,
           0,
           2,
           0,
           2,
           0,
           2,
           0,
           2,
           2,
           1,
           1,
           3,
           3,
           4,
           4,
           5,
           5,
           6,
           6,
           7,
           7,
           8,
           8,
           9,
           9,
           10
          ],
          "value": [
           160840,
           106967680,
           160840,
           107221408,
           160840,
           107089696,
           160840,
           107209648,
           160840,
           107140608,
           160840,
           107176424,
           160840,
           106929952,
           160840,
           107091648,
           5440,
           107498360,
           0,
           108012952,
           0,
           107918600,
           0,
           107851944,
           0,
           108043192,
           0,
           107744848,
           0,
           107720760,
           0,
           107995096,
           0,
           845336758
          ]
         },
         "node": {
          "color": [
           "red",
           "blue",
           "red",
           "blue",
           "blue",
           "blue",
           "blue",
           "blue",
           "blue",
           "blue",
           "blue"
          ],
          "label": [
           "sim_emulator.py",
           "residue_100_output.h5 (0)",
           "aggregate.py",
           "residue_100_output.h5 (1)",
           "residue_100_output.h5 (2)",
           "residue_100_output.h5 (3)",
           "residue_100_output.h5 (4)",
           "residue_100_output.h5 (5)",
           "residue_100_output.h5 (6)",
           "residue_100_output.h5 (7)",
           "aggregate.h5"
          ]
         },
         "type": "sankey"
        }
       ],
       "layout": {
        "template": {
         "data": {
          "bar": [
           {
            "error_x": {
             "color": "#2a3f5f"
            },
            "error_y": {
             "color": "#2a3f5f"
            },
            "marker": {
             "line": {
              "color": "#E5ECF6",
              "width": 0.5
             },
             "pattern": {
              "fillmode": "overlay",
              "size": 10,
              "solidity": 0.2
             }
            },
            "type": "bar"
           }
          ],
          "barpolar": [
           {
            "marker": {
             "line": {
              "color": "#E5ECF6",
              "width": 0.5
             },
             "pattern": {
              "fillmode": "overlay",
              "size": 10,
              "solidity": 0.2
             }
            },
            "type": "barpolar"
           }
          ],
          "carpet": [
           {
            "aaxis": {
             "endlinecolor": "#2a3f5f",
             "gridcolor": "white",
             "linecolor": "white",
             "minorgridcolor": "white",
             "startlinecolor": "#2a3f5f"
            },
            "baxis": {
             "endlinecolor": "#2a3f5f",
             "gridcolor": "white",
             "linecolor": "white",
             "minorgridcolor": "white",
             "startlinecolor": "#2a3f5f"
            },
            "type": "carpet"
           }
          ],
          "choropleth": [
           {
            "colorbar": {
             "outlinewidth": 0,
             "ticks": ""
            },
            "type": "choropleth"
           }
          ],
          "contour": [
           {
            "colorbar": {
             "outlinewidth": 0,
             "ticks": ""
            },
            "colorscale": [
             [
              0,
              "#0d0887"
             ],
             [
              0.1111111111111111,
              "#46039f"
             ],
             [
              0.2222222222222222,
              "#7201a8"
             ],
             [
              0.3333333333333333,
              "#9c179e"
             ],
             [
              0.4444444444444444,
              "#bd3786"
             ],
             [
              0.5555555555555556,
              "#d8576b"
             ],
             [
              0.6666666666666666,
              "#ed7953"
             ],
             [
              0.7777777777777778,
              "#fb9f3a"
             ],
             [
              0.8888888888888888,
              "#fdca26"
             ],
             [
              1,
              "#f0f921"
             ]
            ],
            "type": "contour"
           }
          ],
          "contourcarpet": [
           {
            "colorbar": {
             "outlinewidth": 0,
             "ticks": ""
            },
            "type": "contourcarpet"
           }
          ],
          "heatmap": [
           {
            "colorbar": {
             "outlinewidth": 0,
             "ticks": ""
            },
            "colorscale": [
             [
              0,
              "#0d0887"
             ],
             [
              0.1111111111111111,
              "#46039f"
             ],
             [
              0.2222222222222222,
              "#7201a8"
             ],
             [
              0.3333333333333333,
              "#9c179e"
             ],
             [
              0.4444444444444444,
              "#bd3786"
             ],
             [
              0.5555555555555556,
              "#d8576b"
             ],
             [
              0.6666666666666666,
              "#ed7953"
             ],
             [
              0.7777777777777778,
              "#fb9f3a"
             ],
             [
              0.8888888888888888,
              "#fdca26"
             ],
             [
              1,
              "#f0f921"
             ]
            ],
            "type": "heatmap"
           }
          ],
          "heatmapgl": [
           {
            "colorbar": {
             "outlinewidth": 0,
             "ticks": ""
            },
            "colorscale": [
             [
              0,
              "#0d0887"
             ],
             [
              0.1111111111111111,
              "#46039f"
             ],
             [
              0.2222222222222222,
              "#7201a8"
             ],
             [
              0.3333333333333333,
              "#9c179e"
             ],
             [
              0.4444444444444444,
              "#bd3786"
             ],
             [
              0.5555555555555556,
              "#d8576b"
             ],
             [
              0.6666666666666666,
              "#ed7953"
             ],
             [
              0.7777777777777778,
              "#fb9f3a"
             ],
             [
              0.8888888888888888,
              "#fdca26"
             ],
             [
              1,
              "#f0f921"
             ]
            ],
            "type": "heatmapgl"
           }
          ],
          "histogram": [
           {
            "marker": {
             "pattern": {
              "fillmode": "overlay",
              "size": 10,
              "solidity": 0.2
             }
            },
            "type": "histogram"
           }
          ],
          "histogram2d": [
           {
            "colorbar": {
             "outlinewidth": 0,
             "ticks": ""
            },
            "colorscale": [
             [
              0,
              "#0d0887"
             ],
             [
              0.1111111111111111,
              "#46039f"
             ],
             [
              0.2222222222222222,
              "#7201a8"
             ],
             [
              0.3333333333333333,
              "#9c179e"
             ],
             [
              0.4444444444444444,
              "#bd3786"
             ],
             [
              0.5555555555555556,
              "#d8576b"
             ],
             [
              0.6666666666666666,
              "#ed7953"
             ],
             [
              0.7777777777777778,
              "#fb9f3a"
             ],
             [
              0.8888888888888888,
              "#fdca26"
             ],
             [
              1,
              "#f0f921"
             ]
            ],
            "type": "histogram2d"
           }
          ],
          "histogram2dcontour": [
           {
            "colorbar": {
             "outlinewidth": 0,
             "ticks": ""
            },
            "colorscale": [
             [
              0,
              "#0d0887"
             ],
             [
              0.1111111111111111,
              "#46039f"
             ],
             [
              0.2222222222222222,
              "#7201a8"
             ],
             [
              0.3333333333333333,
              "#9c179e"
             ],
             [
              0.4444444444444444,
              "#bd3786"
             ],
             [
              0.5555555555555556,
              "#d8576b"
             ],
             [
              0.6666666666666666,
              "#ed7953"
             ],
             [
              0.7777777777777778,
              "#fb9f3a"
             ],
             [
              0.8888888888888888,
              "#fdca26"
             ],
             [
              1,
              "#f0f921"
             ]
            ],
            "type": "histogram2dcontour"
           }
          ],
          "mesh3d": [
           {
            "colorbar": {
             "outlinewidth": 0,
             "ticks": ""
            },
            "type": "mesh3d"
           }
          ],
          "parcoords": [
           {
            "line": {
             "colorbar": {
              "outlinewidth": 0,
              "ticks": ""
             }
            },
            "type": "parcoords"
           }
          ],
          "pie": [
           {
            "automargin": true,
            "type": "pie"
           }
          ],
          "scatter": [
           {
            "fillpattern": {
             "fillmode": "overlay",
             "size": 10,
             "solidity": 0.2
            },
            "type": "scatter"
           }
          ],
          "scatter3d": [
           {
            "line": {
             "colorbar": {
              "outlinewidth": 0,
              "ticks": ""
             }
            },
            "marker": {
             "colorbar": {
              "outlinewidth": 0,
              "ticks": ""
             }
            },
            "type": "scatter3d"
           }
          ],
          "scattercarpet": [
           {
            "marker": {
             "colorbar": {
              "outlinewidth": 0,
              "ticks": ""
             }
            },
            "type": "scattercarpet"
           }
          ],
          "scattergeo": [
           {
            "marker": {
             "colorbar": {
              "outlinewidth": 0,
              "ticks": ""
             }
            },
            "type": "scattergeo"
           }
          ],
          "scattergl": [
           {
            "marker": {
             "colorbar": {
              "outlinewidth": 0,
              "ticks": ""
             }
            },
            "type": "scattergl"
           }
          ],
          "scattermapbox": [
           {
            "marker": {
             "colorbar": {
              "outlinewidth": 0,
              "ticks": ""
             }
            },
            "type": "scattermapbox"
           }
          ],
          "scatterpolar": [
           {
            "marker": {
             "colorbar": {
              "outlinewidth": 0,
              "ticks": ""
             }
            },
            "type": "scatterpolar"
           }
          ],
          "scatterpolargl": [
           {
            "marker": {
             "colorbar": {
              "outlinewidth": 0,
              "ticks": ""
             }
            },
            "type": "scatterpolargl"
           }
          ],
          "scatterternary": [
           {
            "marker": {
             "colorbar": {
              "outlinewidth": 0,
              "ticks": ""
             }
            },
            "type": "scatterternary"
           }
          ],
          "surface": [
           {
            "colorbar": {
             "outlinewidth": 0,
             "ticks": ""
            },
            "colorscale": [
             [
              0,
              "#0d0887"
             ],
             [
              0.1111111111111111,
              "#46039f"
             ],
             [
              0.2222222222222222,
              "#7201a8"
             ],
             [
              0.3333333333333333,
              "#9c179e"
             ],
             [
              0.4444444444444444,
              "#bd3786"
             ],
             [
              0.5555555555555556,
              "#d8576b"
             ],
             [
              0.6666666666666666,
              "#ed7953"
             ],
             [
              0.7777777777777778,
              "#fb9f3a"
             ],
             [
              0.8888888888888888,
              "#fdca26"
             ],
             [
              1,
              "#f0f921"
             ]
            ],
            "type": "surface"
           }
          ],
          "table": [
           {
            "cells": {
             "fill": {
              "color": "#EBF0F8"
             },
             "line": {
              "color": "white"
             }
            },
            "header": {
             "fill": {
              "color": "#C8D4E3"
             },
             "line": {
              "color": "white"
             }
            },
            "type": "table"
           }
          ]
         },
         "layout": {
          "annotationdefaults": {
           "arrowcolor": "#2a3f5f",
           "arrowhead": 0,
           "arrowwidth": 1
          },
          "autotypenumbers": "strict",
          "coloraxis": {
           "colorbar": {
            "outlinewidth": 0,
            "ticks": ""
           }
          },
          "colorscale": {
           "diverging": [
            [
             0,
             "#8e0152"
            ],
            [
             0.1,
             "#c51b7d"
            ],
            [
             0.2,
             "#de77ae"
            ],
            [
             0.3,
             "#f1b6da"
            ],
            [
             0.4,
             "#fde0ef"
            ],
            [
             0.5,
             "#f7f7f7"
            ],
            [
             0.6,
             "#e6f5d0"
            ],
            [
             0.7,
             "#b8e186"
            ],
            [
             0.8,
             "#7fbc41"
            ],
            [
             0.9,
             "#4d9221"
            ],
            [
             1,
             "#276419"
            ]
           ],
           "sequential": [
            [
             0,
             "#0d0887"
            ],
            [
             0.1111111111111111,
             "#46039f"
            ],
            [
             0.2222222222222222,
             "#7201a8"
            ],
            [
             0.3333333333333333,
             "#9c179e"
            ],
            [
             0.4444444444444444,
             "#bd3786"
            ],
            [
             0.5555555555555556,
             "#d8576b"
            ],
            [
             0.6666666666666666,
             "#ed7953"
            ],
            [
             0.7777777777777778,
             "#fb9f3a"
            ],
            [
             0.8888888888888888,
             "#fdca26"
            ],
            [
             1,
             "#f0f921"
            ]
           ],
           "sequentialminus": [
            [
             0,
             "#0d0887"
            ],
            [
             0.1111111111111111,
             "#46039f"
            ],
            [
             0.2222222222222222,
             "#7201a8"
            ],
            [
             0.3333333333333333,
             "#9c179e"
            ],
            [
             0.4444444444444444,
             "#bd3786"
            ],
            [
             0.5555555555555556,
             "#d8576b"
            ],
            [
             0.6666666666666666,
             "#ed7953"
            ],
            [
             0.7777777777777778,
             "#fb9f3a"
            ],
            [
             0.8888888888888888,
             "#fdca26"
            ],
            [
             1,
             "#f0f921"
            ]
           ]
          },
          "colorway": [
           "#636efa",
           "#EF553B",
           "#00cc96",
           "#ab63fa",
           "#FFA15A",
           "#19d3f3",
           "#FF6692",
           "#B6E880",
           "#FF97FF",
           "#FECB52"
          ],
          "font": {
           "color": "#2a3f5f"
          },
          "geo": {
           "bgcolor": "white",
           "lakecolor": "white",
           "landcolor": "#E5ECF6",
           "showlakes": true,
           "showland": true,
           "subunitcolor": "white"
          },
          "hoverlabel": {
           "align": "left"
          },
          "hovermode": "closest",
          "mapbox": {
           "style": "light"
          },
          "paper_bgcolor": "white",
          "plot_bgcolor": "#E5ECF6",
          "polar": {
           "angularaxis": {
            "gridcolor": "white",
            "linecolor": "white",
            "ticks": ""
           },
           "bgcolor": "#E5ECF6",
           "radialaxis": {
            "gridcolor": "white",
            "linecolor": "white",
            "ticks": ""
           }
          },
          "scene": {
           "xaxis": {
            "backgroundcolor": "#E5ECF6",
            "gridcolor": "white",
            "gridwidth": 2,
            "linecolor": "white",
            "showbackground": true,
            "ticks": "",
            "zerolinecolor": "white"
           },
           "yaxis": {
            "backgroundcolor": "#E5ECF6",
            "gridcolor": "white",
            "gridwidth": 2,
            "linecolor": "white",
            "showbackground": true,
            "ticks": "",
            "zerolinecolor": "white"
           },
           "zaxis": {
            "backgroundcolor": "#E5ECF6",
            "gridcolor": "white",
            "gridwidth": 2,
            "linecolor": "white",
            "showbackground": true,
            "ticks": "",
            "zerolinecolor": "white"
           }
          },
          "shapedefaults": {
           "line": {
            "color": "#2a3f5f"
           }
          },
          "ternary": {
           "aaxis": {
            "gridcolor": "white",
            "linecolor": "white",
            "ticks": ""
           },
           "baxis": {
            "gridcolor": "white",
            "linecolor": "white",
            "ticks": ""
           },
           "bgcolor": "#E5ECF6",
           "caxis": {
            "gridcolor": "white",
            "linecolor": "white",
            "ticks": ""
           }
          },
          "title": {
           "x": 0.05
          },
          "xaxis": {
           "automargin": true,
           "gridcolor": "white",
           "linecolor": "white",
           "ticks": "",
           "title": {
            "standoff": 15
           },
           "zerolinecolor": "white",
           "zerolinewidth": 2
          },
          "yaxis": {
           "automargin": true,
           "gridcolor": "white",
           "linecolor": "white",
           "ticks": "",
           "title": {
            "standoff": 15
           },
           "zerolinecolor": "white",
           "zerolinewidth": 2
          }
         }
        }
       }
      }
     },
     "metadata": {},
     "output_type": "display_data"
    }
   ],
   "source": [
    "sd = SankeyData()\n",
    "\n",
    "# sd_load_dset(dfsim,dfagg,sd,task_cnt)\n",
    "sd_load_file(dfsim,dfagg,sd,task_cnt)\n",
    "\n",
    "sd.set_block_size(65536)\n",
    "sd.build_links(key='access_idx')\n",
    "\n",
    "sd.set_output_suffix(\"hermesvfd-file\")\n",
    "sd.plot()"
   ]
  },
  {
   "cell_type": "code",
   "execution_count": 112,
   "metadata": {},
   "outputs": [
    {
     "data": {
      "text/html": [
       "<div>\n",
       "<style scoped>\n",
       "    .dataframe tbody tr th:only-of-type {\n",
       "        vertical-align: middle;\n",
       "    }\n",
       "\n",
       "    .dataframe tbody tr th {\n",
       "        vertical-align: top;\n",
       "    }\n",
       "\n",
       "    .dataframe thead th {\n",
       "        text-align: right;\n",
       "    }\n",
       "</style>\n",
       "<table border=\"1\" class=\"dataframe\">\n",
       "  <thead>\n",
       "    <tr style=\"text-align: right;\">\n",
       "      <th></th>\n",
       "      <th>label</th>\n",
       "      <th>color</th>\n",
       "    </tr>\n",
       "  </thead>\n",
       "  <tbody>\n",
       "    <tr>\n",
       "      <th>0</th>\n",
       "      <td>sim_emulator.py</td>\n",
       "      <td>red</td>\n",
       "    </tr>\n",
       "    <tr>\n",
       "      <th>1</th>\n",
       "      <td>residue_100_output.h5 (0)</td>\n",
       "      <td>blue</td>\n",
       "    </tr>\n",
       "    <tr>\n",
       "      <th>2</th>\n",
       "      <td>aggregate.py</td>\n",
       "      <td>red</td>\n",
       "    </tr>\n",
       "    <tr>\n",
       "      <th>3</th>\n",
       "      <td>residue_100_output.h5 (1)</td>\n",
       "      <td>blue</td>\n",
       "    </tr>\n",
       "    <tr>\n",
       "      <th>4</th>\n",
       "      <td>residue_100_output.h5 (2)</td>\n",
       "      <td>blue</td>\n",
       "    </tr>\n",
       "    <tr>\n",
       "      <th>5</th>\n",
       "      <td>residue_100_output.h5 (3)</td>\n",
       "      <td>blue</td>\n",
       "    </tr>\n",
       "    <tr>\n",
       "      <th>6</th>\n",
       "      <td>residue_100_output.h5 (4)</td>\n",
       "      <td>blue</td>\n",
       "    </tr>\n",
       "    <tr>\n",
       "      <th>7</th>\n",
       "      <td>residue_100_output.h5 (5)</td>\n",
       "      <td>blue</td>\n",
       "    </tr>\n",
       "    <tr>\n",
       "      <th>8</th>\n",
       "      <td>residue_100_output.h5 (6)</td>\n",
       "      <td>blue</td>\n",
       "    </tr>\n",
       "    <tr>\n",
       "      <th>9</th>\n",
       "      <td>residue_100_output.h5 (7)</td>\n",
       "      <td>blue</td>\n",
       "    </tr>\n",
       "    <tr>\n",
       "      <th>10</th>\n",
       "      <td>aggregate.h5</td>\n",
       "      <td>blue</td>\n",
       "    </tr>\n",
       "  </tbody>\n",
       "</table>\n",
       "</div>"
      ],
      "text/plain": [
       "                        label color\n",
       "0             sim_emulator.py   red\n",
       "1   residue_100_output.h5 (0)  blue\n",
       "2                aggregate.py   red\n",
       "3   residue_100_output.h5 (1)  blue\n",
       "4   residue_100_output.h5 (2)  blue\n",
       "5   residue_100_output.h5 (3)  blue\n",
       "6   residue_100_output.h5 (4)  blue\n",
       "7   residue_100_output.h5 (5)  blue\n",
       "8   residue_100_output.h5 (6)  blue\n",
       "9   residue_100_output.h5 (7)  blue\n",
       "10               aggregate.h5  blue"
      ]
     },
     "execution_count": 112,
     "metadata": {},
     "output_type": "execute_result"
    }
   ],
   "source": [
    "sd.nodes"
   ]
  },
  {
   "cell_type": "code",
   "execution_count": 113,
   "metadata": {},
   "outputs": [
    {
     "data": {
      "text/html": [
       "<div>\n",
       "<style scoped>\n",
       "    .dataframe tbody tr th:only-of-type {\n",
       "        vertical-align: middle;\n",
       "    }\n",
       "\n",
       "    .dataframe tbody tr th {\n",
       "        vertical-align: top;\n",
       "    }\n",
       "\n",
       "    .dataframe thead th {\n",
       "        text-align: right;\n",
       "    }\n",
       "</style>\n",
       "<table border=\"1\" class=\"dataframe\">\n",
       "  <thead>\n",
       "    <tr style=\"text-align: right;\">\n",
       "      <th></th>\n",
       "      <th>source</th>\n",
       "      <th>target</th>\n",
       "      <th>label</th>\n",
       "      <th>value</th>\n",
       "    </tr>\n",
       "  </thead>\n",
       "  <tbody>\n",
       "    <tr>\n",
       "      <th>0</th>\n",
       "      <td>1</td>\n",
       "      <td>0</td>\n",
       "      <td>read (approx 160.84 KB)</td>\n",
       "      <td>160840</td>\n",
       "    </tr>\n",
       "    <tr>\n",
       "      <th>1</th>\n",
       "      <td>1</td>\n",
       "      <td>2</td>\n",
       "      <td>read (approx 106.97 MB)</td>\n",
       "      <td>106967680</td>\n",
       "    </tr>\n",
       "    <tr>\n",
       "      <th>2</th>\n",
       "      <td>3</td>\n",
       "      <td>0</td>\n",
       "      <td>read (approx 160.84 KB)</td>\n",
       "      <td>160840</td>\n",
       "    </tr>\n",
       "    <tr>\n",
       "      <th>3</th>\n",
       "      <td>3</td>\n",
       "      <td>2</td>\n",
       "      <td>read (approx 107.22 MB)</td>\n",
       "      <td>107221408</td>\n",
       "    </tr>\n",
       "    <tr>\n",
       "      <th>4</th>\n",
       "      <td>4</td>\n",
       "      <td>0</td>\n",
       "      <td>read (approx 160.84 KB)</td>\n",
       "      <td>160840</td>\n",
       "    </tr>\n",
       "    <tr>\n",
       "      <th>5</th>\n",
       "      <td>4</td>\n",
       "      <td>2</td>\n",
       "      <td>read (approx 107.09 MB)</td>\n",
       "      <td>107089696</td>\n",
       "    </tr>\n",
       "    <tr>\n",
       "      <th>6</th>\n",
       "      <td>5</td>\n",
       "      <td>0</td>\n",
       "      <td>read (approx 160.84 KB)</td>\n",
       "      <td>160840</td>\n",
       "    </tr>\n",
       "    <tr>\n",
       "      <th>7</th>\n",
       "      <td>5</td>\n",
       "      <td>2</td>\n",
       "      <td>read (approx 107.21 MB)</td>\n",
       "      <td>107209648</td>\n",
       "    </tr>\n",
       "    <tr>\n",
       "      <th>8</th>\n",
       "      <td>6</td>\n",
       "      <td>0</td>\n",
       "      <td>read (approx 160.84 KB)</td>\n",
       "      <td>160840</td>\n",
       "    </tr>\n",
       "    <tr>\n",
       "      <th>9</th>\n",
       "      <td>6</td>\n",
       "      <td>2</td>\n",
       "      <td>read (approx 107.14 MB)</td>\n",
       "      <td>107140608</td>\n",
       "    </tr>\n",
       "    <tr>\n",
       "      <th>10</th>\n",
       "      <td>7</td>\n",
       "      <td>0</td>\n",
       "      <td>read (approx 160.84 KB)</td>\n",
       "      <td>160840</td>\n",
       "    </tr>\n",
       "    <tr>\n",
       "      <th>11</th>\n",
       "      <td>7</td>\n",
       "      <td>2</td>\n",
       "      <td>read (approx 107.18 MB)</td>\n",
       "      <td>107176424</td>\n",
       "    </tr>\n",
       "    <tr>\n",
       "      <th>12</th>\n",
       "      <td>8</td>\n",
       "      <td>0</td>\n",
       "      <td>read (approx 160.84 KB)</td>\n",
       "      <td>160840</td>\n",
       "    </tr>\n",
       "    <tr>\n",
       "      <th>13</th>\n",
       "      <td>8</td>\n",
       "      <td>2</td>\n",
       "      <td>read (approx 106.93 MB)</td>\n",
       "      <td>106929952</td>\n",
       "    </tr>\n",
       "    <tr>\n",
       "      <th>14</th>\n",
       "      <td>9</td>\n",
       "      <td>0</td>\n",
       "      <td>read (approx 160.84 KB)</td>\n",
       "      <td>160840</td>\n",
       "    </tr>\n",
       "    <tr>\n",
       "      <th>15</th>\n",
       "      <td>9</td>\n",
       "      <td>2</td>\n",
       "      <td>read (approx 107.09 MB)</td>\n",
       "      <td>107091648</td>\n",
       "    </tr>\n",
       "    <tr>\n",
       "      <th>16</th>\n",
       "      <td>10</td>\n",
       "      <td>2</td>\n",
       "      <td>read (approx 5.44 KB)</td>\n",
       "      <td>5440</td>\n",
       "    </tr>\n",
       "    <tr>\n",
       "      <th>17</th>\n",
       "      <td>0</td>\n",
       "      <td>1</td>\n",
       "      <td>write (approx 107.5 MB)</td>\n",
       "      <td>107498360</td>\n",
       "    </tr>\n",
       "    <tr>\n",
       "      <th>18</th>\n",
       "      <td>2</td>\n",
       "      <td>1</td>\n",
       "      <td>write (approx 0 B)</td>\n",
       "      <td>0</td>\n",
       "    </tr>\n",
       "    <tr>\n",
       "      <th>19</th>\n",
       "      <td>0</td>\n",
       "      <td>3</td>\n",
       "      <td>write (approx 108.01 MB)</td>\n",
       "      <td>108012952</td>\n",
       "    </tr>\n",
       "    <tr>\n",
       "      <th>20</th>\n",
       "      <td>2</td>\n",
       "      <td>3</td>\n",
       "      <td>write (approx 0 B)</td>\n",
       "      <td>0</td>\n",
       "    </tr>\n",
       "    <tr>\n",
       "      <th>21</th>\n",
       "      <td>0</td>\n",
       "      <td>4</td>\n",
       "      <td>write (approx 107.92 MB)</td>\n",
       "      <td>107918600</td>\n",
       "    </tr>\n",
       "    <tr>\n",
       "      <th>22</th>\n",
       "      <td>2</td>\n",
       "      <td>4</td>\n",
       "      <td>write (approx 0 B)</td>\n",
       "      <td>0</td>\n",
       "    </tr>\n",
       "    <tr>\n",
       "      <th>23</th>\n",
       "      <td>0</td>\n",
       "      <td>5</td>\n",
       "      <td>write (approx 107.85 MB)</td>\n",
       "      <td>107851944</td>\n",
       "    </tr>\n",
       "    <tr>\n",
       "      <th>24</th>\n",
       "      <td>2</td>\n",
       "      <td>5</td>\n",
       "      <td>write (approx 0 B)</td>\n",
       "      <td>0</td>\n",
       "    </tr>\n",
       "    <tr>\n",
       "      <th>25</th>\n",
       "      <td>0</td>\n",
       "      <td>6</td>\n",
       "      <td>write (approx 108.04 MB)</td>\n",
       "      <td>108043192</td>\n",
       "    </tr>\n",
       "    <tr>\n",
       "      <th>26</th>\n",
       "      <td>2</td>\n",
       "      <td>6</td>\n",
       "      <td>write (approx 0 B)</td>\n",
       "      <td>0</td>\n",
       "    </tr>\n",
       "    <tr>\n",
       "      <th>27</th>\n",
       "      <td>0</td>\n",
       "      <td>7</td>\n",
       "      <td>write (approx 107.74 MB)</td>\n",
       "      <td>107744848</td>\n",
       "    </tr>\n",
       "    <tr>\n",
       "      <th>28</th>\n",
       "      <td>2</td>\n",
       "      <td>7</td>\n",
       "      <td>write (approx 0 B)</td>\n",
       "      <td>0</td>\n",
       "    </tr>\n",
       "    <tr>\n",
       "      <th>29</th>\n",
       "      <td>0</td>\n",
       "      <td>8</td>\n",
       "      <td>write (approx 107.72 MB)</td>\n",
       "      <td>107720760</td>\n",
       "    </tr>\n",
       "    <tr>\n",
       "      <th>30</th>\n",
       "      <td>2</td>\n",
       "      <td>8</td>\n",
       "      <td>write (approx 0 B)</td>\n",
       "      <td>0</td>\n",
       "    </tr>\n",
       "    <tr>\n",
       "      <th>31</th>\n",
       "      <td>0</td>\n",
       "      <td>9</td>\n",
       "      <td>write (approx 108 MB)</td>\n",
       "      <td>107995096</td>\n",
       "    </tr>\n",
       "    <tr>\n",
       "      <th>32</th>\n",
       "      <td>2</td>\n",
       "      <td>9</td>\n",
       "      <td>write (approx 0 B)</td>\n",
       "      <td>0</td>\n",
       "    </tr>\n",
       "    <tr>\n",
       "      <th>33</th>\n",
       "      <td>2</td>\n",
       "      <td>10</td>\n",
       "      <td>write (approx 845.34 MB)</td>\n",
       "      <td>845336758</td>\n",
       "    </tr>\n",
       "  </tbody>\n",
       "</table>\n",
       "</div>"
      ],
      "text/plain": [
       "    source  target                     label      value\n",
       "0        1       0   read (approx 160.84 KB)     160840\n",
       "1        1       2   read (approx 106.97 MB)  106967680\n",
       "2        3       0   read (approx 160.84 KB)     160840\n",
       "3        3       2   read (approx 107.22 MB)  107221408\n",
       "4        4       0   read (approx 160.84 KB)     160840\n",
       "5        4       2   read (approx 107.09 MB)  107089696\n",
       "6        5       0   read (approx 160.84 KB)     160840\n",
       "7        5       2   read (approx 107.21 MB)  107209648\n",
       "8        6       0   read (approx 160.84 KB)     160840\n",
       "9        6       2   read (approx 107.14 MB)  107140608\n",
       "10       7       0   read (approx 160.84 KB)     160840\n",
       "11       7       2   read (approx 107.18 MB)  107176424\n",
       "12       8       0   read (approx 160.84 KB)     160840\n",
       "13       8       2   read (approx 106.93 MB)  106929952\n",
       "14       9       0   read (approx 160.84 KB)     160840\n",
       "15       9       2   read (approx 107.09 MB)  107091648\n",
       "16      10       2     read (approx 5.44 KB)       5440\n",
       "17       0       1   write (approx 107.5 MB)  107498360\n",
       "18       2       1        write (approx 0 B)          0\n",
       "19       0       3  write (approx 108.01 MB)  108012952\n",
       "20       2       3        write (approx 0 B)          0\n",
       "21       0       4  write (approx 107.92 MB)  107918600\n",
       "22       2       4        write (approx 0 B)          0\n",
       "23       0       5  write (approx 107.85 MB)  107851944\n",
       "24       2       5        write (approx 0 B)          0\n",
       "25       0       6  write (approx 108.04 MB)  108043192\n",
       "26       2       6        write (approx 0 B)          0\n",
       "27       0       7  write (approx 107.74 MB)  107744848\n",
       "28       2       7        write (approx 0 B)          0\n",
       "29       0       8  write (approx 107.72 MB)  107720760\n",
       "30       2       8        write (approx 0 B)          0\n",
       "31       0       9     write (approx 108 MB)  107995096\n",
       "32       2       9        write (approx 0 B)          0\n",
       "33       2      10  write (approx 845.34 MB)  845336758"
      ]
     },
     "execution_count": 113,
     "metadata": {},
     "output_type": "execute_result"
    }
   ],
   "source": [
    "sd.links"
   ]
  }
 ],
 "metadata": {
  "kernelspec": {
   "display_name": "Python 3.10.4 64-bit",
   "language": "python",
   "name": "python3"
  },
  "language_info": {
   "codemirror_mode": {
    "name": "ipython",
    "version": 3
   },
   "file_extension": ".py",
   "mimetype": "text/x-python",
   "name": "python",
   "nbconvert_exporter": "python",
   "pygments_lexer": "ipython3",
   "version": "3.10.4"
  },
  "orig_nbformat": 4,
  "vscode": {
   "interpreter": {
    "hash": "31f2aee4e71d21fbe5cf8b01ff0e069b9275f58929596ceb00d14d90e3e16cd6"
   }
  }
 },
 "nbformat": 4,
 "nbformat_minor": 2
}
